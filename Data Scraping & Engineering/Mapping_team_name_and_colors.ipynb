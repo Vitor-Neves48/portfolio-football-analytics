{
 "cells": [
  {
   "cell_type": "markdown",
   "id": "57510a09",
   "metadata": {},
   "source": [
    "# Mapping team names, IDs and colors"
   ]
  },
  {
   "cell_type": "markdown",
   "id": "fa300fd3",
   "metadata": {},
   "source": [
    "`Purpose of this Notebook`\n",
    "\n",
    "The goal of this notebook is to generate a CSV file containing essential information required for use in other projects. This CSV should include each team's name, primary colors, WhoScored ID, and FotMob ID. \n",
    "\n",
    "Additionally, it must capture contextual identifiers such as the league and season, since team participation can vary from season to season due to promotions and relegations.\n"
   ]
  },
  {
   "cell_type": "markdown",
   "id": "c7779f5f",
   "metadata": {},
   "source": [
    "## Imports"
   ]
  },
  {
   "cell_type": "code",
   "execution_count": null,
   "id": "08e1ff2b",
   "metadata": {},
   "outputs": [
    {
     "data": {
      "text/html": [
       "<pre style=\"white-space:pre;overflow-x:auto;line-height:normal;font-family:Menlo,'DejaVu Sans Mono',consolas,'Courier New',monospace\"><span style=\"color: #7fbfbf; text-decoration-color: #7fbfbf\">[04/11/25 18:26:54] </span><span style=\"color: #000080; text-decoration-color: #000080\">INFO    </span> Custom team name replacements loaded from                                <a href=\"file://c:\\Users\\Vitor\\anaconda3\\Lib\\site-packages\\soccerdata\\_config.py\" target=\"_blank\"><span style=\"color: #7f7f7f; text-decoration-color: #7f7f7f\">_config.py</span></a><span style=\"color: #7f7f7f; text-decoration-color: #7f7f7f\">:</span><a href=\"file://c:\\Users\\Vitor\\anaconda3\\Lib\\site-packages\\soccerdata\\_config.py#86\" target=\"_blank\"><span style=\"color: #7f7f7f; text-decoration-color: #7f7f7f\">86</span></a>\n",
       "<span style=\"color: #7fbfbf; text-decoration-color: #7fbfbf\">                    </span>         C:\\Users\\Vitor\\soccerdata\\config\\teamname_replacements.json.             <span style=\"color: #7f7f7f; text-decoration-color: #7f7f7f\">             </span>\n",
       "</pre>\n"
      ],
      "text/plain": [
       "\u001b[2;36m[04/11/25 18:26:54]\u001b[0m\u001b[2;36m \u001b[0m\u001b[34mINFO    \u001b[0m Custom team name replacements loaded from                                \u001b]8;id=430390;file://c:\\Users\\Vitor\\anaconda3\\Lib\\site-packages\\soccerdata\\_config.py\u001b\\\u001b[2m_config.py\u001b[0m\u001b]8;;\u001b\\\u001b[2m:\u001b[0m\u001b]8;id=648699;file://c:\\Users\\Vitor\\anaconda3\\Lib\\site-packages\\soccerdata\\_config.py#86\u001b\\\u001b[2m86\u001b[0m\u001b]8;;\u001b\\\n",
       "\u001b[2;36m                    \u001b[0m         C:\\Users\\Vitor\\soccerdata\\config\\teamname_replacements.json.             \u001b[2m             \u001b[0m\n"
      ]
     },
     "metadata": {},
     "output_type": "display_data"
    },
    {
     "data": {
      "text/html": [
       "<pre style=\"white-space:pre;overflow-x:auto;line-height:normal;font-family:Menlo,'DejaVu Sans Mono',consolas,'Courier New',monospace\"><span style=\"color: #7fbfbf; text-decoration-color: #7fbfbf\">                    </span><span style=\"color: #000080; text-decoration-color: #000080\">INFO    </span> Custom league dict loaded from                                          <a href=\"file://c:\\Users\\Vitor\\anaconda3\\Lib\\site-packages\\soccerdata\\_config.py\" target=\"_blank\"><span style=\"color: #7f7f7f; text-decoration-color: #7f7f7f\">_config.py</span></a><span style=\"color: #7f7f7f; text-decoration-color: #7f7f7f\">:</span><a href=\"file://c:\\Users\\Vitor\\anaconda3\\Lib\\site-packages\\soccerdata\\_config.py#195\" target=\"_blank\"><span style=\"color: #7f7f7f; text-decoration-color: #7f7f7f\">195</span></a>\n",
       "<span style=\"color: #7fbfbf; text-decoration-color: #7fbfbf\">                    </span>         C:\\Users\\Vitor\\soccerdata\\config\\league_dict.json.                      <span style=\"color: #7f7f7f; text-decoration-color: #7f7f7f\">              </span>\n",
       "</pre>\n"
      ],
      "text/plain": [
       "\u001b[2;36m                   \u001b[0m\u001b[2;36m \u001b[0m\u001b[34mINFO    \u001b[0m Custom league dict loaded from                                          \u001b]8;id=666521;file://c:\\Users\\Vitor\\anaconda3\\Lib\\site-packages\\soccerdata\\_config.py\u001b\\\u001b[2m_config.py\u001b[0m\u001b]8;;\u001b\\\u001b[2m:\u001b[0m\u001b]8;id=478458;file://c:\\Users\\Vitor\\anaconda3\\Lib\\site-packages\\soccerdata\\_config.py#195\u001b\\\u001b[2m195\u001b[0m\u001b]8;;\u001b\\\n",
       "\u001b[2;36m                    \u001b[0m         C:\\Users\\Vitor\\soccerdata\\config\\league_dict.json.                      \u001b[2m              \u001b[0m\n"
      ]
     },
     "metadata": {},
     "output_type": "display_data"
    }
   ],
   "source": [
    "import pandas as pd\n",
    "import LanusStats as ls\n",
    "import soccerdata as sd\n",
    "import locale\n",
    "import sys\n",
    "sys.path.append(r\"C:\\Users\\Vitor\\Desktop\\Football Data Analytics\\My_Projects\\Analysis Tools\")\n",
    "import function_town as ft "
   ]
  },
  {
   "cell_type": "markdown",
   "id": "efd11d55",
   "metadata": {},
   "source": [
    "## Data Scraping & Engineering"
   ]
  },
  {
   "cell_type": "markdown",
   "id": "ab42f465",
   "metadata": {},
   "source": [
    "First we'll use soccerdata's FotMob module, more specifically the read_schedule function to gather some more information on certain leagues and seasons: \n",
    "- League name;\n",
    "- Season;\n",
    "- Matchup ('game');\n",
    "- Game ID;\n",
    "- Matchday ('round');\n",
    "- Home Team name;\n",
    "- Away Team name;\n",
    "- url (that leads to the teams Fotmob page)."
   ]
  },
  {
   "cell_type": "code",
   "execution_count": null,
   "id": "17e0fc5f",
   "metadata": {},
   "outputs": [],
   "source": [
    "sd.FotMob.available_leagues()"
   ]
  },
  {
   "cell_type": "markdown",
   "id": "873cb873",
   "metadata": {},
   "source": [
    "The code above provides access to more leagues than the default configuration of the `soccerdata` package. This is possible because I customized the `league_dict.json` file, following the official documentation: [How to Add Custom Leagues](https://soccerdata.readthedocs.io/en/latest/howto/custom-leagues.html).\n",
    "\n",
    "The modified `league_dict.json` file is available in the **Analysis Tools** folder. Additionally, you’ll find a customized version of the `teamname_replacements.json` file, which I adapted from the original to better handle inconsistencies in team naming across different data sources."
   ]
  },
  {
   "cell_type": "code",
   "execution_count": null,
   "id": "d494feae",
   "metadata": {},
   "outputs": [],
   "source": [
    "locale.setlocale(locale.LC_TIME, \"en_US.UTF-8\")\n",
    "PRT_Liga_Portugal = sd.FotMob(\n",
    "    leagues=\"PRT-Liga Portugal\", seasons=\"2024/2025\", no_cache=False, no_store=False\n",
    ")\n",
    "print(PRT_Liga_Portugal.__doc__)\n",
    "\n",
    "locale.setlocale(locale.LC_TIME, \"en_US.UTF-8\")\n",
    "df_PRT_Liga_Portugal = PRT_Liga_Portugal.read_schedule()\n",
    "df_PRT_Liga_Portugal.reset_index(inplace=True)\n",
    "\n",
    "df_PRT_Liga_Portugal = df_PRT_Liga_Portugal[df_PRT_Liga_Portugal[\"round\"] == 1]\n",
    "df_PRT_Liga_Portugal = df_PRT_Liga_Portugal[\n",
    "    [\"league\", \"season\", \"game\", \"game_id\", \"round\", \"home_team\", \"away_team\", \"url\"]\n",
    "]\n",
    "df_PRT_Liga_Portugal"
   ]
  },
  {
   "cell_type": "code",
   "execution_count": null,
   "id": "f8eb0d2d",
   "metadata": {},
   "outputs": [],
   "source": [
    "locale.setlocale(locale.LC_TIME, \"en_US.UTF-8\")\n",
    "ENG_Premier_League = sd.FotMob(\n",
    "    leagues=\"ENG-Premier League\", seasons=\"2024/2025\", no_cache=False, no_store=False\n",
    ")\n",
    "print(ENG_Premier_League.__doc__)\n",
    "df_ENG_Premier_League = ENG_Premier_League.read_schedule()\n",
    "df_ENG_Premier_League.reset_index(inplace=True)\n",
    "df_ENG_Premier_League = df_ENG_Premier_League[df_ENG_Premier_League[\"round\"] == 1]\n",
    "df_ENG_Premier_League = df_ENG_Premier_League[\n",
    "    [\"league\", \"season\", \"game\", \"game_id\", \"round\", \"home_team\", \"away_team\", \"url\"]\n",
    "]\n",
    "df_ENG_Premier_League"
   ]
  },
  {
   "cell_type": "code",
   "execution_count": null,
   "id": "2789fb52",
   "metadata": {},
   "outputs": [],
   "source": [
    "locale.setlocale(locale.LC_TIME, \"en_US.UTF-8\")\n",
    "ESP_La_Liga = sd.FotMob(\n",
    "    leagues=\"ESP-La Liga\", seasons=\"2024/2025\", no_cache=False, no_store=False\n",
    ")\n",
    "print(ESP_La_Liga.__doc__)\n",
    "df_ESP_La_Liga = ESP_La_Liga.read_schedule()\n",
    "df_ESP_La_Liga.reset_index(inplace=True)\n",
    "df_ESP_La_Liga = df_ESP_La_Liga[df_ESP_La_Liga[\"round\"] == 1]\n",
    "df_ESP_La_Liga = df_ESP_La_Liga[\n",
    "    [\"league\", \"season\", \"game\", \"game_id\", \"round\", \"home_team\", \"away_team\", \"url\"]\n",
    "]\n",
    "df_ESP_La_Liga"
   ]
  },
  {
   "cell_type": "code",
   "execution_count": null,
   "id": "d2ce4f20",
   "metadata": {},
   "outputs": [],
   "source": [
    "locale.setlocale(locale.LC_TIME, \"en_US.UTF-8\")\n",
    "FRA_Ligue_1 = sd.FotMob(\n",
    "    leagues=\"FRA-Ligue 1\", seasons=\"2024/2025\", no_cache=False, no_store=False\n",
    ")\n",
    "print(FRA_Ligue_1.__doc__)\n",
    "df_FRA_Ligue_1 = FRA_Ligue_1.read_schedule()\n",
    "df_FRA_Ligue_1.reset_index(inplace=True)\n",
    "df_FRA_Ligue_1 = df_FRA_Ligue_1[df_FRA_Ligue_1[\"round\"] == 1]\n",
    "df_FRA_Ligue_1 = df_FRA_Ligue_1[\n",
    "    [\"league\", \"season\", \"game\", \"game_id\", \"round\", \"home_team\", \"away_team\", \"url\"]\n",
    "]\n",
    "df_FRA_Ligue_1"
   ]
  },
  {
   "cell_type": "code",
   "execution_count": null,
   "id": "4f849f71",
   "metadata": {},
   "outputs": [],
   "source": [
    "locale.setlocale(locale.LC_TIME, \"en_US.UTF-8\")\n",
    "GER_Bundesliga = sd.FotMob(\n",
    "    leagues=\"GER-Bundesliga\", seasons=\"2024/2025\", no_cache=False, no_store=False\n",
    ")\n",
    "print(GER_Bundesliga.__doc__)\n",
    "df_GER_Bundesliga = GER_Bundesliga.read_schedule()\n",
    "df_GER_Bundesliga.reset_index(inplace=True)\n",
    "df_GER_Bundesliga = df_GER_Bundesliga[df_GER_Bundesliga[\"round\"] == 1]\n",
    "df_GER_Bundesliga = df_GER_Bundesliga[\n",
    "    [\"league\", \"season\", \"game\", \"game_id\", \"round\", \"home_team\", \"away_team\", \"url\"]\n",
    "]\n",
    "df_GER_Bundesliga"
   ]
  },
  {
   "cell_type": "code",
   "execution_count": null,
   "id": "1129c261",
   "metadata": {},
   "outputs": [],
   "source": [
    "locale.setlocale(locale.LC_TIME, \"en_US.UTF-8\")\n",
    "ITA_Serie_A = sd.FotMob(\n",
    "    leagues=\"ITA-Serie A\", seasons=\"2024/2025\", no_cache=False, no_store=False\n",
    ")\n",
    "print(ITA_Serie_A.__doc__)\n",
    "df_ITA_Serie_A = ITA_Serie_A.read_schedule()\n",
    "df_ITA_Serie_A.reset_index(inplace=True)\n",
    "df_ITA_Serie_A = df_ITA_Serie_A[df_ITA_Serie_A[\"round\"] == 1]\n",
    "df_ITA_Serie_A = df_ITA_Serie_A[\n",
    "    [\"league\", \"season\", \"game\", \"game_id\", \"round\", \"home_team\", \"away_team\", \"url\"]\n",
    "]\n",
    "df_ITA_Serie_A"
   ]
  },
  {
   "cell_type": "code",
   "execution_count": null,
   "id": "14ab0776",
   "metadata": {},
   "outputs": [],
   "source": [
    "locale.setlocale(locale.LC_TIME, \"en_US.UTF-8\")\n",
    "NLD_Eredivisie = sd.FotMob(leagues=\"NLD-Eredivisie\", seasons=\"2024/2025\")\n",
    "print(NLD_Eredivisie.__doc__)\n",
    "df_NLD_Eredivisie = NLD_Eredivisie.read_schedule()\n",
    "df_NLD_Eredivisie.reset_index(inplace=True)\n",
    "df_NLD_Eredivisie = df_NLD_Eredivisie[df_NLD_Eredivisie[\"round\"] == 1]\n",
    "df_NLD_Eredivisie = df_NLD_Eredivisie[\n",
    "    [\"league\", \"season\", \"game\", \"game_id\", \"round\", \"home_team\", \"away_team\", \"url\"]\n",
    "]\n",
    "df_NLD_Eredivisie"
   ]
  },
  {
   "cell_type": "markdown",
   "id": "51d50a53",
   "metadata": {},
   "source": [
    "Now we bring the soccerdata FotMob data data all together."
   ]
  },
  {
   "cell_type": "code",
   "execution_count": null,
   "id": "fbf7463d",
   "metadata": {},
   "outputs": [],
   "source": [
    "concat_df = pd.concat(\n",
    "    [\n",
    "        df_PRT_Liga_Portugal,\n",
    "        df_ENG_Premier_League,\n",
    "        df_ESP_La_Liga,\n",
    "        df_FRA_Ligue_1,\n",
    "        df_GER_Bundesliga,\n",
    "        df_ITA_Serie_A,\n",
    "        df_NLD_Eredivisie,\n",
    "    ]\n",
    ").reset_index(drop=True)\n",
    "concat_df"
   ]
  },
  {
   "cell_type": "code",
   "execution_count": null,
   "id": "0692d95f",
   "metadata": {},
   "outputs": [],
   "source": [
    "ls_fotmob = ls.FotMob()\n",
    "\n",
    "match_id_list = list(concat_df[\"game_id\"].unique())\n",
    "\n",
    "df = ls_fotmob.get_team_colors_bulk(match_id_list)\n",
    "df"
   ]
  },
  {
   "cell_type": "code",
   "execution_count": null,
   "id": "8edfa897",
   "metadata": {},
   "outputs": [],
   "source": [
    "df.to_csv(\n",
    "    r\"C:\\Users\\Vitor\\Desktop\\Football Data Analytics\\My_Projects\\Analysis Tools\\Mapping_team_name_and_colors.csv\", # Change path as needed\n",
    "    index=False,\n",
    ")"
   ]
  },
  {
   "cell_type": "code",
   "execution_count": null,
   "id": "dbebc83b",
   "metadata": {},
   "outputs": [
    {
     "data": {
      "application/vnd.microsoft.datawrangler.viewer.v0+json": {
       "columns": [
        {
         "name": "index",
         "rawType": "int64",
         "type": "integer"
        },
        {
         "name": "league_name",
         "rawType": "object",
         "type": "string"
        },
        {
         "name": "league_id",
         "rawType": "int64",
         "type": "integer"
        },
        {
         "name": "season_name",
         "rawType": "object",
         "type": "string"
        },
        {
         "name": "season_id",
         "rawType": "int64",
         "type": "integer"
        },
        {
         "name": "match_id",
         "rawType": "int64",
         "type": "integer"
        },
        {
         "name": "team_name",
         "rawType": "object",
         "type": "string"
        },
        {
         "name": "team_id",
         "rawType": "int64",
         "type": "integer"
        },
        {
         "name": "team_color",
         "rawType": "object",
         "type": "string"
        }
       ],
       "conversionMethod": "pd.DataFrame",
       "ref": "b75fae45-dcb5-4efc-85b6-a487455292e2",
       "rows": [
        [
         "0",
         "Liga Portugal",
         "61",
         "2024/2025",
         "23826",
         "4539021",
         "Sporting CP",
         "9768",
         "#106840"
        ],
        [
         "1",
         "Liga Portugal",
         "61",
         "2024/2025",
         "23826",
         "4539018",
         "AVS Futebol SAD",
         "1889",
         "#AD1922"
        ],
        [
         "2",
         "Liga Portugal",
         "61",
         "2024/2025",
         "23826",
         "4539020",
         "Casa Pia AC",
         "212821",
         "#171717"
        ],
        [
         "3",
         "Liga Portugal",
         "61",
         "2024/2025",
         "23826",
         "4539022",
         "FC Porto",
         "9773",
         "#005898"
        ],
        [
         "4",
         "Liga Portugal",
         "61",
         "2024/2025",
         "23826",
         "4539015",
         "Braga",
         "10264",
         "#D9222A"
        ],
        [
         "5",
         "Liga Portugal",
         "61",
         "2024/2025",
         "23826",
         "4539023",
         "Estoril",
         "7842",
         "#E8D812"
        ],
        [
         "6",
         "Liga Portugal",
         "61",
         "2024/2025",
         "23826",
         "4539019",
         "Famalicao",
         "1634",
         "#232949"
        ],
        [
         "7",
         "Liga Portugal",
         "61",
         "2024/2025",
         "23826",
         "4539017",
         "Farense",
         "6004",
         "#000000"
        ],
        [
         "8",
         "Liga Portugal",
         "61",
         "2024/2025",
         "23826",
         "4539016",
         "Arouca",
         "158085",
         "#E5D302"
        ],
        [
         "9",
         "Premier League",
         "47",
         "2024/2025",
         "23685",
         "4506263",
         "Manchester United",
         "10260",
         "#C70101"
        ],
        [
         "10",
         "Premier League",
         "47",
         "2024/2025",
         "23685",
         "4506265",
         "Arsenal",
         "9825",
         "#bd0510"
        ],
        [
         "11",
         "Premier League",
         "47",
         "2024/2025",
         "23685",
         "4506266",
         "Everton",
         "8668",
         "#0051d6"
        ],
        [
         "12",
         "Premier League",
         "47",
         "2024/2025",
         "23685",
         "4506264",
         "Ipswich Town",
         "9902",
         "#004fc2"
        ],
        [
         "13",
         "Premier League",
         "47",
         "2024/2025",
         "23685",
         "4506267",
         "Newcastle United",
         "10261",
         "#141413"
        ],
        [
         "14",
         "Premier League",
         "47",
         "2024/2025",
         "23685",
         "4506268",
         "Nottingham Forest",
         "10203",
         "#C8102E"
        ],
        [
         "15",
         "Premier League",
         "47",
         "2024/2025",
         "23685",
         "4506269",
         "West Ham United",
         "8654",
         "#8B3249"
        ],
        [
         "16",
         "Premier League",
         "47",
         "2024/2025",
         "23685",
         "4506270",
         "Brentford",
         "9937",
         "#C00808"
        ],
        [
         "17",
         "Premier League",
         "47",
         "2024/2025",
         "23685",
         "4506271",
         "Chelsea",
         "8455",
         "#1E4492"
        ],
        [
         "18",
         "Premier League",
         "47",
         "2024/2025",
         "23685",
         "4506272",
         "Leicester City",
         "8197",
         "#0f55bd"
        ],
        [
         "19",
         "LaLiga",
         "87",
         "2024/2025",
         "23686",
         "4506745",
         "Athletic Club",
         "8315",
         "#E2001A"
        ],
        [
         "20",
         "LaLiga",
         "87",
         "2024/2025",
         "23686",
         "4506746",
         "Real Betis",
         "8603",
         "#009048"
        ],
        [
         "21",
         "LaLiga",
         "87",
         "2024/2025",
         "23686",
         "4506752",
         "Celta Vigo",
         "9910",
         "#6fb5e8"
        ],
        [
         "22",
         "LaLiga",
         "87",
         "2024/2025",
         "23686",
         "4506748",
         "Las Palmas",
         "8306",
         "#FFD700"
        ],
        [
         "23",
         "LaLiga",
         "87",
         "2024/2025",
         "23686",
         "4506753",
         "Osasuna",
         "8371",
         "#af1428"
        ],
        [
         "24",
         "LaLiga",
         "87",
         "2024/2025",
         "23686",
         "4506750",
         "Valencia",
         "10267",
         "#ff9238"
        ],
        [
         "25",
         "LaLiga",
         "87",
         "2024/2025",
         "23686",
         "4506747",
         "Mallorca",
         "8661",
         "#E20613"
        ],
        [
         "26",
         "LaLiga",
         "87",
         "2024/2025",
         "23686",
         "4506751",
         "Real Sociedad",
         "8560",
         "#0056B3"
        ],
        [
         "27",
         "LaLiga",
         "87",
         "2024/2025",
         "23686",
         "4506754",
         "Real Valladolid",
         "10281",
         "#6f3c9c"
        ],
        [
         "28",
         "LaLiga",
         "87",
         "2024/2025",
         "23686",
         "4506749",
         "Villarreal",
         "10205",
         "#FFE715"
        ],
        [
         "29",
         "Ligue 1",
         "53",
         "2024/2025",
         "23724",
         "4513014",
         "Le Havre",
         "9746",
         "#75b5de"
        ],
        [
         "30",
         "Ligue 1",
         "53",
         "2024/2025",
         "23724",
         "4513007",
         "Brest",
         "8521",
         "#ED1C24"
        ],
        [
         "31",
         "Ligue 1",
         "53",
         "2024/2025",
         "23724",
         "4513011",
         "Monaco",
         "9829",
         "#C80C13"
        ],
        [
         "32",
         "Ligue 1",
         "53",
         "2024/2025",
         "23724",
         "4513012",
         "Reims",
         "9837",
         "#FF4C4C"
        ],
        [
         "33",
         "Ligue 1",
         "53",
         "2024/2025",
         "23724",
         "4513010",
         "Angers",
         "8121",
         "#000000"
        ],
        [
         "34",
         "Ligue 1",
         "53",
         "2024/2025",
         "23724",
         "4513013",
         "Auxerre",
         "8583",
         "#055DC6"
        ],
        [
         "35",
         "Ligue 1",
         "53",
         "2024/2025",
         "23724",
         "4513008",
         "Montpellier",
         "10249",
         "#4967a6"
        ],
        [
         "36",
         "Ligue 1",
         "53",
         "2024/2025",
         "23724",
         "4513015",
         "Rennes",
         "9851",
         "#E13327"
        ],
        [
         "37",
         "Ligue 1",
         "53",
         "2024/2025",
         "23724",
         "4513009",
         "Toulouse",
         "9941",
         "#7b5f99"
        ],
        [
         "38",
         "Bundesliga",
         "54",
         "2024/2025",
         "23794",
         "4534540",
         "Borussia Mönchengladbach",
         "9788",
         "#FFFFFF"
        ],
        [
         "39",
         "Bundesliga",
         "54",
         "2024/2025",
         "23794",
         "4534545",
         "Augsburg",
         "8406",
         "#B93733"
        ],
        [
         "40",
         "Bundesliga",
         "54",
         "2024/2025",
         "23794",
         "4534541",
         "Borussia Dortmund",
         "9789",
         "#FFD900"
        ],
        [
         "41",
         "Bundesliga",
         "54",
         "2024/2025",
         "23794",
         "4534544",
         "Freiburg",
         "8358",
         "#BD1C2C"
        ],
        [
         "42",
         "Bundesliga",
         "54",
         "2024/2025",
         "23794",
         "4534543",
         "Hoffenheim",
         "8226",
         "#0057a3"
        ],
        [
         "43",
         "Bundesliga",
         "54",
         "2024/2025",
         "23794",
         "4534547",
         "Mainz 05",
         "9905",
         "#B8121C"
        ],
        [
         "44",
         "Bundesliga",
         "54",
         "2024/2025",
         "23794",
         "4534542",
         "RB Leipzig",
         "178475",
         "#FFFFFF"
        ],
        [
         "45",
         "Bundesliga",
         "54",
         "2024/2025",
         "23794",
         "4534548",
         "St. Pauli",
         "8152",
         "#804c37"
        ],
        [
         "46",
         "Bundesliga",
         "54",
         "2024/2025",
         "23794",
         "4534546",
         "Wolfsburg",
         "8721",
         "#51A600"
        ],
        [
         "47",
         "Serie A",
         "55",
         "2024/2025",
         "23819",
         "4535246",
         "Empoli",
         "8534",
         "#0767e5"
        ],
        [
         "48",
         "Serie A",
         "55",
         "2024/2025",
         "23819",
         "4535247",
         "Genoa",
         "10233",
         "#CB1111"
        ],
        [
         "49",
         "Serie A",
         "55",
         "2024/2025",
         "23819",
         "4535252",
         "Milan",
         "8564",
         "#CF2C27"
        ]
       ],
       "shape": {
        "columns": 8,
        "rows": 132
       }
      },
      "text/html": [
       "<div>\n",
       "<style scoped>\n",
       "    .dataframe tbody tr th:only-of-type {\n",
       "        vertical-align: middle;\n",
       "    }\n",
       "\n",
       "    .dataframe tbody tr th {\n",
       "        vertical-align: top;\n",
       "    }\n",
       "\n",
       "    .dataframe thead th {\n",
       "        text-align: right;\n",
       "    }\n",
       "</style>\n",
       "<table border=\"1\" class=\"dataframe\">\n",
       "  <thead>\n",
       "    <tr style=\"text-align: right;\">\n",
       "      <th></th>\n",
       "      <th>league_name</th>\n",
       "      <th>league_id</th>\n",
       "      <th>season_name</th>\n",
       "      <th>season_id</th>\n",
       "      <th>match_id</th>\n",
       "      <th>team_name</th>\n",
       "      <th>team_id</th>\n",
       "      <th>team_color</th>\n",
       "    </tr>\n",
       "  </thead>\n",
       "  <tbody>\n",
       "    <tr>\n",
       "      <th>0</th>\n",
       "      <td>Liga Portugal</td>\n",
       "      <td>61</td>\n",
       "      <td>2024/2025</td>\n",
       "      <td>23826</td>\n",
       "      <td>4539021</td>\n",
       "      <td>Sporting CP</td>\n",
       "      <td>9768</td>\n",
       "      <td>#106840</td>\n",
       "    </tr>\n",
       "    <tr>\n",
       "      <th>1</th>\n",
       "      <td>Liga Portugal</td>\n",
       "      <td>61</td>\n",
       "      <td>2024/2025</td>\n",
       "      <td>23826</td>\n",
       "      <td>4539018</td>\n",
       "      <td>AVS Futebol SAD</td>\n",
       "      <td>1889</td>\n",
       "      <td>#AD1922</td>\n",
       "    </tr>\n",
       "    <tr>\n",
       "      <th>2</th>\n",
       "      <td>Liga Portugal</td>\n",
       "      <td>61</td>\n",
       "      <td>2024/2025</td>\n",
       "      <td>23826</td>\n",
       "      <td>4539020</td>\n",
       "      <td>Casa Pia AC</td>\n",
       "      <td>212821</td>\n",
       "      <td>#171717</td>\n",
       "    </tr>\n",
       "    <tr>\n",
       "      <th>3</th>\n",
       "      <td>Liga Portugal</td>\n",
       "      <td>61</td>\n",
       "      <td>2024/2025</td>\n",
       "      <td>23826</td>\n",
       "      <td>4539022</td>\n",
       "      <td>FC Porto</td>\n",
       "      <td>9773</td>\n",
       "      <td>#005898</td>\n",
       "    </tr>\n",
       "    <tr>\n",
       "      <th>4</th>\n",
       "      <td>Liga Portugal</td>\n",
       "      <td>61</td>\n",
       "      <td>2024/2025</td>\n",
       "      <td>23826</td>\n",
       "      <td>4539015</td>\n",
       "      <td>Braga</td>\n",
       "      <td>10264</td>\n",
       "      <td>#D9222A</td>\n",
       "    </tr>\n",
       "    <tr>\n",
       "      <th>...</th>\n",
       "      <td>...</td>\n",
       "      <td>...</td>\n",
       "      <td>...</td>\n",
       "      <td>...</td>\n",
       "      <td>...</td>\n",
       "      <td>...</td>\n",
       "      <td>...</td>\n",
       "      <td>...</td>\n",
       "    </tr>\n",
       "    <tr>\n",
       "      <th>127</th>\n",
       "      <td>Eredivisie</td>\n",
       "      <td>892939</td>\n",
       "      <td>2024/2025</td>\n",
       "      <td>23691</td>\n",
       "      <td>4507643</td>\n",
       "      <td>RKC Waalwijk</td>\n",
       "      <td>10219</td>\n",
       "      <td>#FBE100</td>\n",
       "    </tr>\n",
       "    <tr>\n",
       "      <th>128</th>\n",
       "      <td>Eredivisie</td>\n",
       "      <td>892939</td>\n",
       "      <td>2024/2025</td>\n",
       "      <td>23691</td>\n",
       "      <td>4507647</td>\n",
       "      <td>SC Heerenveen</td>\n",
       "      <td>10228</td>\n",
       "      <td>#1053a4</td>\n",
       "    </tr>\n",
       "    <tr>\n",
       "      <th>129</th>\n",
       "      <td>Eredivisie</td>\n",
       "      <td>892939</td>\n",
       "      <td>2024/2025</td>\n",
       "      <td>23691</td>\n",
       "      <td>4507642</td>\n",
       "      <td>PEC Zwolle</td>\n",
       "      <td>6413</td>\n",
       "      <td>#0154A1</td>\n",
       "    </tr>\n",
       "    <tr>\n",
       "      <th>130</th>\n",
       "      <td>Eredivisie</td>\n",
       "      <td>892939</td>\n",
       "      <td>2024/2025</td>\n",
       "      <td>23691</td>\n",
       "      <td>4507646</td>\n",
       "      <td>Fortuna Sittard</td>\n",
       "      <td>6422</td>\n",
       "      <td>#FFE21C</td>\n",
       "    </tr>\n",
       "    <tr>\n",
       "      <th>131</th>\n",
       "      <td>Eredivisie</td>\n",
       "      <td>892939</td>\n",
       "      <td>2024/2025</td>\n",
       "      <td>23691</td>\n",
       "      <td>4507644</td>\n",
       "      <td>Heracles</td>\n",
       "      <td>9791</td>\n",
       "      <td>#000000</td>\n",
       "    </tr>\n",
       "  </tbody>\n",
       "</table>\n",
       "<p>132 rows × 8 columns</p>\n",
       "</div>"
      ],
      "text/plain": [
       "       league_name  league_id season_name  season_id  match_id  \\\n",
       "0    Liga Portugal         61   2024/2025      23826   4539021   \n",
       "1    Liga Portugal         61   2024/2025      23826   4539018   \n",
       "2    Liga Portugal         61   2024/2025      23826   4539020   \n",
       "3    Liga Portugal         61   2024/2025      23826   4539022   \n",
       "4    Liga Portugal         61   2024/2025      23826   4539015   \n",
       "..             ...        ...         ...        ...       ...   \n",
       "127     Eredivisie     892939   2024/2025      23691   4507643   \n",
       "128     Eredivisie     892939   2024/2025      23691   4507647   \n",
       "129     Eredivisie     892939   2024/2025      23691   4507642   \n",
       "130     Eredivisie     892939   2024/2025      23691   4507646   \n",
       "131     Eredivisie     892939   2024/2025      23691   4507644   \n",
       "\n",
       "           team_name  team_id team_color  \n",
       "0        Sporting CP     9768    #106840  \n",
       "1    AVS Futebol SAD     1889    #AD1922  \n",
       "2        Casa Pia AC   212821    #171717  \n",
       "3           FC Porto     9773    #005898  \n",
       "4              Braga    10264    #D9222A  \n",
       "..               ...      ...        ...  \n",
       "127     RKC Waalwijk    10219    #FBE100  \n",
       "128    SC Heerenveen    10228    #1053a4  \n",
       "129       PEC Zwolle     6413    #0154A1  \n",
       "130  Fortuna Sittard     6422    #FFE21C  \n",
       "131         Heracles     9791    #000000  \n",
       "\n",
       "[132 rows x 8 columns]"
      ]
     },
     "execution_count": 3,
     "metadata": {},
     "output_type": "execute_result"
    }
   ],
   "source": [
    "tmc = pd.read_csv(\n",
    "    r\"C:\\Users\\Vitor\\Desktop\\Football Data Analytics\\My_Projects\\Analysis Tools\\Mapping_team_name_and_colors.csv\" # Change path as needed\n",
    ")\n",
    "tmc"
   ]
  },
  {
   "cell_type": "markdown",
   "id": "91679731",
   "metadata": {},
   "source": [
    "-----"
   ]
  },
  {
   "cell_type": "markdown",
   "id": "4ee0d014",
   "metadata": {},
   "source": [
    "Now we'll use soccerdata's Whoscored module, more specifically the read_schedule function to gather some more information on certain leagues and seasons: \n",
    "- League name;\n",
    "- Season;\n",
    "- Start time;\n",
    "- Game ID;\n",
    "- Matchday ('round');\n",
    "- Home Team name;\n",
    "- Home Team ID (WhoScored ID);\n",
    "- Away Team name;\n",
    "- Away Team ID (WhoScored ID);"
   ]
  },
  {
   "cell_type": "code",
   "execution_count": null,
   "id": "327db828",
   "metadata": {},
   "outputs": [
    {
     "data": {
      "text/plain": [
       "['AE-Pro League',\n",
       " 'ALB-Kategoria Superiore',\n",
       " 'ALB-Kategoria Superiore qualification',\n",
       " 'ALB-Kupa e Shqipris',\n",
       " 'AND-Andorran Cup',\n",
       " 'AND-Primera Divisio',\n",
       " 'AND-Primera Divisio Qualification',\n",
       " 'ARG-Argentina 4',\n",
       " 'ARG-Copa de la Superliga',\n",
       " 'ARG-Cup',\n",
       " 'ARG-Liga Profesional',\n",
       " 'ARG-Primera B Metropolitana',\n",
       " 'ARG-Primera B Nacional',\n",
       " 'ARG-Super Cup',\n",
       " 'ARM-Cup',\n",
       " 'ARM-Premier League',\n",
       " 'ARM-Super Cup',\n",
       " 'AUS-A-League',\n",
       " 'AUS-Australia 2',\n",
       " 'AUS-Australia 4',\n",
       " 'AUS-Australia Cup',\n",
       " 'AUS-NPL',\n",
       " 'AUT-Bundesliga',\n",
       " 'AUT-Erste Liga',\n",
       " 'AUT-Regionalliga',\n",
       " 'AUT-Stiegl Cup',\n",
       " 'AZE-Azerbaijan Cup 1',\n",
       " 'AZE-Premier League',\n",
       " 'BA-1. Division',\n",
       " 'BA-Bosnia-Herzegovina Cup 1',\n",
       " 'BA-Premier League',\n",
       " 'BEL-3. Division',\n",
       " 'BEL-Cup',\n",
       " 'BEL-Jupiler Pro League',\n",
       " 'BEL-Play Off',\n",
       " 'BEL-Second Division',\n",
       " 'BEL-Super Cup',\n",
       " 'BGR-A PFG',\n",
       " 'BGR-B PFG',\n",
       " 'BGR-Cup',\n",
       " 'BGR-First Professional League Qualification',\n",
       " 'BGR-Super Cup',\n",
       " 'BHR-1. Division',\n",
       " 'BLR-Belarus Cup 1',\n",
       " 'BLR-Premier League',\n",
       " 'BLR-Premier League Qualification',\n",
       " 'BLR-Super Cup',\n",
       " 'BOL-Liga de Ftbol Profesional',\n",
       " 'BOL-Primera Division Qualification',\n",
       " 'BRA-Brasileiro',\n",
       " 'BRA-Cup',\n",
       " 'BRA-Cup Nordeste',\n",
       " 'BRA-Sao Paulo Youth Cup',\n",
       " 'BRA-Serie B',\n",
       " 'BRA-Serie C',\n",
       " 'BRA-Serie D',\n",
       " 'CAN-CSL',\n",
       " 'CAN-Championship',\n",
       " 'CAS-AFC Champions League',\n",
       " 'CAS-AFC Champions League Elite Qualification',\n",
       " 'CAS-AFC Cup',\n",
       " 'CAS-AFC U23 Asian Cup',\n",
       " 'CAS-AFF Championship',\n",
       " 'CAS-ASEAN Championship Qualification',\n",
       " 'CAS-Asian Cup Qualification',\n",
       " 'CAS-East Asian Championship',\n",
       " 'CAS-Gulf Cup',\n",
       " 'CAS-Premier League Asia Trophy',\n",
       " 'CEU-Champions League',\n",
       " 'CEU-Champions League Qualification',\n",
       " 'CEU-Conference League',\n",
       " 'CEU-Conference League Qualification',\n",
       " 'CEU-Europa League',\n",
       " 'CEU-Europa League Qualification',\n",
       " 'CEU-European Championship Qualification',\n",
       " 'CEU-The Atlantic Cup',\n",
       " 'CEU-UEFA Super Cup',\n",
       " 'CEU-UEFA Youth League',\n",
       " \"CEU-Women's Champions League\",\n",
       " 'CHE-1.Liga',\n",
       " 'CHE-Challenge League',\n",
       " 'CHE-Promotion League',\n",
       " 'CHE-Super League',\n",
       " 'CHE-Super League Qualification',\n",
       " 'CHE-Switzerland Cup',\n",
       " 'CHL-Clausura',\n",
       " 'CHL-Cup',\n",
       " 'CHL-Super Cup',\n",
       " 'CHN-Cup',\n",
       " 'CHN-Super Cup',\n",
       " 'CHN-Super League',\n",
       " 'CINT-African Nations Championship',\n",
       " 'CINT-Asian Cup',\n",
       " 'CINT-CONCACAF Nations League',\n",
       " 'CINT-Club Friendlies',\n",
       " 'CINT-Confederations Cup',\n",
       " 'CINT-Copa America',\n",
       " 'CINT-EURO U-17',\n",
       " 'CINT-EURO U-19',\n",
       " 'CINT-EURO U-21',\n",
       " 'CINT-EURO U21 Qualification',\n",
       " 'CINT-Friendly U-21',\n",
       " 'CINT-Int. Friendly',\n",
       " 'CINT-OFC U19 Championship',\n",
       " 'CINT-Summer Olympics',\n",
       " 'CINT-Toulon Tournament',\n",
       " 'CINT-UEFA Nations League A',\n",
       " 'CINT-UEFA Nations League A Qualification',\n",
       " 'CINT-UEFA Nations League B',\n",
       " 'CINT-UEFA Nations League B Qualification',\n",
       " 'CINT-UEFA Nations League C',\n",
       " 'CINT-UEFA Nations League D',\n",
       " 'CINT-World Championship U-17',\n",
       " 'CINT-World Championship U-20',\n",
       " 'CINT-World Cup Qualification AFC',\n",
       " 'CINT-World Cup Qualification CAF',\n",
       " 'CINT-World Cup Qualification CONCACAF',\n",
       " 'CINT-World Cup Qualification CONMEBOL',\n",
       " 'CINT-World Cup Qualification UEFA',\n",
       " 'CMR-1. Division',\n",
       " 'CNA-CFU Club Champions Cup',\n",
       " 'CNA-CONCACAF Champions Cup',\n",
       " 'CNA-CONCACAF Championship U20',\n",
       " 'CNA-CONCACAF Gold Cup',\n",
       " 'CNA-CONCACAF Gold Cup Qualification',\n",
       " 'CNA-CONCACAF League',\n",
       " 'CNA-CONCACAF Nations League Qualification',\n",
       " 'CNA-Leagues Cup',\n",
       " 'COL-Categoria Primera A',\n",
       " 'COL-Colombia Cup 1',\n",
       " 'CRI-Liga de Ascenso',\n",
       " 'CRI-Primera Division',\n",
       " 'CSA-Copa Libertadores',\n",
       " 'CSA-Copa Libertadores Qualification',\n",
       " 'CSA-Copa Sudamericana',\n",
       " 'CSA-Copa Sudamericana Qualification',\n",
       " 'CSA-Recopa Sudamericana',\n",
       " 'CYP-2. Division',\n",
       " 'CYP-Cup',\n",
       " 'CYP-First Division',\n",
       " 'CYP-Super Cup',\n",
       " 'CZE-Cup',\n",
       " 'CZE-Druha League',\n",
       " 'CZE-Gambrinus League',\n",
       " 'CZE-Super Cup',\n",
       " 'DEU-2. Bundesliga',\n",
       " 'DEU-2. Bundesliga Qualification',\n",
       " 'DEU-3. Liga',\n",
       " 'DEU-DFB-Pokal',\n",
       " 'DEU-Frauen-Bundesliga',\n",
       " 'DEU-German Super Cup',\n",
       " 'DEU-Regionalliga',\n",
       " 'DNK-1. Division',\n",
       " 'DNK-2. Division',\n",
       " 'DNK-Cup',\n",
       " 'DNK-Superliga',\n",
       " 'DZA-Ligue Professionnelle 1',\n",
       " 'ECU-Serie A',\n",
       " 'EGY-Premier League',\n",
       " 'ENG-Premier League',\n",
       " 'ESP-Copa del Rey',\n",
       " 'ESP-La Liga',\n",
       " 'ESP-Liga F',\n",
       " 'ESP-Primera Division RFEF',\n",
       " 'ESP-Segunda Divisin',\n",
       " 'ESP-Supercopa de Espana',\n",
       " 'EST-Cup',\n",
       " 'EST-Esiliiga',\n",
       " 'EST-Meistriliiga',\n",
       " 'EST-Super Cup',\n",
       " 'FIN-Cup',\n",
       " 'FIN-Kakkonen',\n",
       " 'FIN-Playoff',\n",
       " 'FIN-Veikkausliiga',\n",
       " 'FIN-Ykkonen',\n",
       " 'FRA-Coupe de France',\n",
       " 'FRA-Division 1 Feminine',\n",
       " 'FRA-Ligue 1',\n",
       " 'FRA-Ligue 1 Qualification',\n",
       " 'FRA-Ligue 2',\n",
       " 'FRA-Ligue 2 Qualification',\n",
       " 'FRA-National',\n",
       " 'FRA-National 2',\n",
       " 'FRA-Trophe des Champions',\n",
       " 'FRO-Cup',\n",
       " 'FRO-Formuladeildin',\n",
       " 'GB-NIR-Championship',\n",
       " 'GB-NIR-Irish Cup',\n",
       " 'GB-NIR-League Cup',\n",
       " 'GB-NIR-Premiership',\n",
       " 'GB-NIR-Premiership Qualification',\n",
       " 'GBR-Challenge Cup',\n",
       " 'GBR-Championship',\n",
       " 'GBR-Championship Qualification',\n",
       " 'GBR-Community Shield',\n",
       " 'GBR-FA Cup',\n",
       " 'GBR-FA Trophy',\n",
       " 'GBR-League Cup',\n",
       " 'GBR-League One',\n",
       " 'GBR-League One Qualification',\n",
       " 'GBR-League Two',\n",
       " 'GBR-League Two Qualification',\n",
       " 'GBR-National League',\n",
       " 'GBR-National League Premier',\n",
       " \"GBR-Papa John's Trophy\",\n",
       " 'GBR-Premier League',\n",
       " 'GBR-Premiership',\n",
       " 'GBR-Premiership Qualification',\n",
       " 'GBR-Professional Development League',\n",
       " 'GBR-Regional League',\n",
       " 'GBR-Scotland Highland/Lowland',\n",
       " 'GBR-Welsh Cup',\n",
       " \"GBR-Women's Super League\",\n",
       " 'GEO-Cup',\n",
       " 'GEO-Erovnuli Liga 2',\n",
       " 'GEO-Evronuli Liga',\n",
       " 'GEO-Evronuli Liga Qualification',\n",
       " 'GER-Bundesliga',\n",
       " 'GHA-Premier League',\n",
       " 'GIB-Gibraltar Cup',\n",
       " 'GIB-Gibraltar Premier League',\n",
       " 'GRC-Cup',\n",
       " 'GRC-Second Division',\n",
       " 'GRC-Super League',\n",
       " 'GTM-Liga Nacional',\n",
       " 'HKG-1. Division',\n",
       " 'HND-Liga Nacional',\n",
       " 'HRV-2. Division',\n",
       " 'HRV-Cup',\n",
       " 'HRV-Prva HNL',\n",
       " 'HRV-Super Cup',\n",
       " 'HUN-Cup',\n",
       " 'HUN-NB I',\n",
       " 'HUN-NB II',\n",
       " 'HUN-Super Cup',\n",
       " 'IDN-Super Liga',\n",
       " 'IND-I League',\n",
       " 'IND-Indian Super League',\n",
       " 'INT-European Championship',\n",
       " \"INT-Women's World Cup\",\n",
       " 'INT-World Cup',\n",
       " 'IRL-FAI Cup',\n",
       " 'IRL-First Division',\n",
       " 'IRL-League Cup',\n",
       " 'IRL-Premier Division',\n",
       " 'IRL-Premier Division Qualification',\n",
       " 'IRL-Super Cup',\n",
       " 'IRN-Azadegan League',\n",
       " 'IRN-Hazfi Cup',\n",
       " 'IRN-Persian Gulf Pro League',\n",
       " 'IRQ-Super League',\n",
       " 'ISL-1. Deild',\n",
       " 'ISL-Besta Deildin',\n",
       " 'ISL-Cup',\n",
       " 'ISR-Liga Leumit',\n",
       " \"ISR-Ligat ha'Al\",\n",
       " 'ISR-Toto Cup Ligat Al',\n",
       " 'ITA-Coppa Italia',\n",
       " 'ITA-Serie A',\n",
       " 'ITA-Serie A Femminile',\n",
       " 'ITA-Serie B',\n",
       " 'ITA-Serie C',\n",
       " 'ITA-Serie D',\n",
       " 'ITA-Supercoppa Italiana',\n",
       " 'JAM-Premier League',\n",
       " 'JOR-1. Division',\n",
       " 'JPN-Cup',\n",
       " 'JPN-Football League',\n",
       " 'JPN-J. League',\n",
       " 'JPN-J. League 2',\n",
       " 'JPN-League Cup',\n",
       " 'JPN-Super Cup',\n",
       " 'KAZ-Cup',\n",
       " 'KAZ-Premier League',\n",
       " 'KAZ-Premier League Qualification',\n",
       " 'KAZ-Super Cup',\n",
       " 'KEN-Premier League',\n",
       " 'KOR-Cup',\n",
       " 'KOR-K League 1',\n",
       " 'KOR-K League 2',\n",
       " 'KOR-K-League 1 Qualification',\n",
       " 'KOR-K3 League',\n",
       " 'KWT-1. Division',\n",
       " 'LTU-A Lyga',\n",
       " 'LTU-A Lyga Qualification',\n",
       " 'LTU-Cup',\n",
       " 'LTU-Super Cup',\n",
       " 'LUX-1. Division',\n",
       " 'LUX-1. Division Qualification',\n",
       " 'LUX-Luxembourg Cup 1',\n",
       " 'LVA-Super Cup',\n",
       " 'LVA-Virsliga',\n",
       " 'MAR-Botola Pro',\n",
       " 'MAR-Botola Pro 2',\n",
       " 'MDA-Cup',\n",
       " 'MDA-Super Liga',\n",
       " 'MEX-Copa MX',\n",
       " 'MEX-Liga MX',\n",
       " 'MEX-Liga Premier',\n",
       " 'MEX-Liga de Expansin MX',\n",
       " 'MKD-Cup',\n",
       " 'MKD-Prva Liga Qualification',\n",
       " 'MKD-Vtora Liga',\n",
       " 'MLT-1. Division',\n",
       " 'MLT-Cup',\n",
       " 'MLT-Premier League',\n",
       " 'MNE-1. Division',\n",
       " 'MNE-1. Division Playoff',\n",
       " 'MNE-2. Division',\n",
       " 'MNE-Montenegro Cup 1',\n",
       " 'MYS-Premier League',\n",
       " 'MYS-Super Liga',\n",
       " 'NGA-1. Division',\n",
       " 'NLD-Dutch Super Cup',\n",
       " 'NLD-Eerste Divisie',\n",
       " 'NLD-Eredivisie',\n",
       " 'NLD-Eredivisie Comeback',\n",
       " 'NLD-Eredivisie Promotion Playoff',\n",
       " 'NLD-KNVB Cup',\n",
       " 'NLD-Tweede Divisie',\n",
       " 'NOR-1. Division',\n",
       " 'NOR-1. Division Qualification',\n",
       " 'NOR-2. Division',\n",
       " 'NOR-Cup',\n",
       " 'NOR-Eliteserien',\n",
       " 'NOR-Eliteserien Qualification',\n",
       " 'NZL-Premier League',\n",
       " 'OMN-Professional League',\n",
       " 'PER-Copa Peru',\n",
       " 'PER-Primera Division',\n",
       " 'POL-Cup',\n",
       " 'POL-Ekstraklasa',\n",
       " 'POL-I Liga',\n",
       " 'POL-II Liga',\n",
       " 'POL-Super Cup',\n",
       " 'PRT-Liga 3',\n",
       " 'PRT-Liga Portugal',\n",
       " 'PRT-Liga Portugal 2',\n",
       " 'PRT-Super Cup',\n",
       " 'PRT-Taa da Liga',\n",
       " 'PRT-Taa de Portugal',\n",
       " 'PRY-Division Intermedia',\n",
       " 'PRY-Primera Division',\n",
       " 'QAT-Stars League',\n",
       " 'QAT-Stars League Qualification',\n",
       " 'ROU-Cup',\n",
       " 'ROU-Liga II',\n",
       " 'ROU-Super Cup',\n",
       " 'ROU-Superliga',\n",
       " 'ROU-Superliga Qualification',\n",
       " 'RUS-Cup',\n",
       " 'RUS-First League',\n",
       " 'RUS-Premier League',\n",
       " 'RUS-Premier League Qualification',\n",
       " 'RUS-Super Cup',\n",
       " 'SAU-Pro League',\n",
       " 'SGP-Cup',\n",
       " 'SGP-S.League',\n",
       " 'SLV-Primera Division',\n",
       " 'SMR-Campionato',\n",
       " 'SRB-Cup',\n",
       " 'SRB-Prva Liga',\n",
       " 'SRB-Super Liga',\n",
       " 'SVK-2. Liga',\n",
       " 'SVK-FA Cup',\n",
       " 'SVK-Super Cup',\n",
       " 'SVK-Super Liga',\n",
       " 'SVN-2. Division',\n",
       " 'SVN-Cup',\n",
       " 'SVN-Prva Liga',\n",
       " 'SVN-Prva Liga Qualification',\n",
       " 'SWE-1. Division',\n",
       " 'SWE-1. Division Qualification',\n",
       " 'SWE-2. Division',\n",
       " 'SWE-Allsvenskan',\n",
       " 'SWE-Allsvenskan qualification',\n",
       " 'SWE-Cup',\n",
       " 'SWE-Superettan',\n",
       " 'SWE-Superettan Qualification',\n",
       " 'SYR-1. Division',\n",
       " 'THA-Thai League',\n",
       " 'THA-Thai League 2',\n",
       " 'TR-1. Lig',\n",
       " 'TR-2. Lig',\n",
       " 'TR-3. Lig',\n",
       " 'TR-Cup',\n",
       " 'TR-Super Cup',\n",
       " 'TR-Super Lig',\n",
       " 'TUN-Ligue 1',\n",
       " 'TUN-Ligue I Qualification',\n",
       " 'TWN-Division A',\n",
       " 'TZA-Premier League',\n",
       " 'UGA-Super League',\n",
       " 'UKR-Cup',\n",
       " 'UKR-First League',\n",
       " 'UKR-Premier League',\n",
       " 'UKR-Super Cup',\n",
       " 'URY-Primera Division',\n",
       " 'URY-Segunda Division',\n",
       " 'USA-Major League Soccer',\n",
       " 'USA-NWSL',\n",
       " 'USA-US Open Cup',\n",
       " 'USA-USL Championship',\n",
       " 'USA-USL League One',\n",
       " 'UZB-Uzbek League',\n",
       " 'UZB-Uzbek League Qualification',\n",
       " 'VEN-Primera Division',\n",
       " 'VEN-Segunda Division',\n",
       " 'VNM-V.League 1',\n",
       " 'ZAF-Africa Cup of Nations Qualification',\n",
       " 'ZAF-African Nations Championship Qualification',\n",
       " 'ZAF-CAF Champions League',\n",
       " 'ZAF-CAF Champions League Qualification',\n",
       " 'ZAF-CAF Confederations Cup',\n",
       " 'ZAF-CAF Super Cup',\n",
       " 'ZAF-CECAFA Senior Challenge Cup',\n",
       " 'ZAF-Cup',\n",
       " 'ZAF-MTN 8 Cup',\n",
       " 'ZAF-National First Division',\n",
       " 'ZAF-Premier Soccer League',\n",
       " 'ZMB-1. Division',\n",
       " 'ZWE-1. Division']"
      ]
     },
     "execution_count": 4,
     "metadata": {},
     "output_type": "execute_result"
    }
   ],
   "source": [
    "sd.WhoScored.available_leagues() "
   ]
  },
  {
   "cell_type": "markdown",
   "id": "f036dc4f",
   "metadata": {},
   "source": [
    "The code above provides access to more leagues than the default configuration of the `soccerdata` package. This is possible because I customized the `league_dict.json` file, following the official documentation: [How to Add Custom Leagues](https://soccerdata.readthedocs.io/en/latest/howto/custom-leagues.html).\n",
    "\n",
    "The modified `league_dict.json` file is available in the **Analysis Tools** folder. Additionally, you’ll find a customized version of the `teamname_replacements.json` file, which I adapted from the original to better handle inconsistencies in team naming across different data sources."
   ]
  },
  {
   "cell_type": "code",
   "execution_count": 5,
   "id": "b3c66e4e",
   "metadata": {},
   "outputs": [],
   "source": [
    "def get_WhoScored_team_id_df(df):\n",
    "    df.reset_index(inplace=True)\n",
    "    df = df.drop_duplicates(subset=[\"home_team\"])\n",
    "    home_df = df[\n",
    "        [\"league\", \"season\", \"start_time\", \"game_id\", \"home_team_id\", \"home_team\"]\n",
    "    ]\n",
    "    away_df = df[\n",
    "        [\"league\", \"season\", \"start_time\", \"game_id\", \"away_team_id\", \"away_team\"]\n",
    "    ]\n",
    "    home_df = home_df.rename(\n",
    "        columns={\"home_team_id\": \"team_id\", \"home_team\": \"team_name\"}\n",
    "    )\n",
    "    away_df = away_df.rename(\n",
    "        columns={\"away_team_id\": \"team_id\", \"away_team\": \"team_name\"}\n",
    "    )\n",
    "    final_df = pd.concat([home_df, away_df])\n",
    "    final_df = final_df.drop_duplicates(subset=[\"team_id\"])\n",
    "\n",
    "    return final_df"
   ]
  },
  {
   "cell_type": "code",
   "execution_count": 6,
   "id": "45af1394",
   "metadata": {},
   "outputs": [
    {
     "data": {
      "text/html": [
       "<pre style=\"white-space:pre;overflow-x:auto;line-height:normal;font-family:Menlo,'DejaVu Sans Mono',consolas,'Courier New',monospace\"><span style=\"color: #7fbfbf; text-decoration-color: #7fbfbf\">[4/11/2025 6:27:18 PM] </span><span style=\"color: #000080; text-decoration-color: #000080\">INFO    </span> Saving cached data to C:\\Users\\Vitor\\soccerdata\\data\\WhoScored       <a href=\"file://c:\\Users\\Vitor\\anaconda3\\Lib\\site-packages\\soccerdata\\_common.py\" target=\"_blank\"><span style=\"color: #7f7f7f; text-decoration-color: #7f7f7f\">_common.py</span></a><span style=\"color: #7f7f7f; text-decoration-color: #7f7f7f\">:</span><a href=\"file://c:\\Users\\Vitor\\anaconda3\\Lib\\site-packages\\soccerdata\\_common.py#263\" target=\"_blank\"><span style=\"color: #7f7f7f; text-decoration-color: #7f7f7f\">263</span></a>\n",
       "</pre>\n"
      ],
      "text/plain": [
       "\u001b[2;36m[4/11/2025 6:27:18 PM]\u001b[0m\u001b[2;36m \u001b[0m\u001b[34mINFO    \u001b[0m Saving cached data to C:\\Users\\Vitor\\soccerdata\\data\\WhoScored       \u001b]8;id=765639;file://c:\\Users\\Vitor\\anaconda3\\Lib\\site-packages\\soccerdata\\_common.py\u001b\\\u001b[2m_common.py\u001b[0m\u001b]8;;\u001b\\\u001b[2m:\u001b[0m\u001b]8;id=644608;file://c:\\Users\\Vitor\\anaconda3\\Lib\\site-packages\\soccerdata\\_common.py#263\u001b\\\u001b[2m263\u001b[0m\u001b]8;;\u001b\\\n"
      ]
     },
     "metadata": {},
     "output_type": "display_data"
    },
    {
     "data": {
      "text/html": [
       "<pre style=\"white-space:pre;overflow-x:auto;line-height:normal;font-family:Menlo,'DejaVu Sans Mono',consolas,'Courier New',monospace\"><span style=\"color: #7fbfbf; text-decoration-color: #7fbfbf\">[4/11/2025 6:27:19 PM] </span><span style=\"color: #000080; text-decoration-color: #000080\">INFO    </span> patching driver executable                                           <a href=\"file://c:\\Users\\Vitor\\anaconda3\\Lib\\site-packages\\undetected_chromedriver\\patcher.py\" target=\"_blank\"><span style=\"color: #7f7f7f; text-decoration-color: #7f7f7f\">patcher.py</span></a><span style=\"color: #7f7f7f; text-decoration-color: #7f7f7f\">:</span><a href=\"file://c:\\Users\\Vitor\\anaconda3\\Lib\\site-packages\\undetected_chromedriver\\patcher.py#346\" target=\"_blank\"><span style=\"color: #7f7f7f; text-decoration-color: #7f7f7f\">346</span></a>\n",
       "<span style=\"color: #7fbfbf; text-decoration-color: #7fbfbf\">                       </span>         C:\\Users\\Vitor\\appdata\\roaming\\undetected_chromedriver\\undetected_ch <span style=\"color: #7f7f7f; text-decoration-color: #7f7f7f\">              </span>\n",
       "<span style=\"color: #7fbfbf; text-decoration-color: #7fbfbf\">                       </span>         romedriver.exe                                                       <span style=\"color: #7f7f7f; text-decoration-color: #7f7f7f\">              </span>\n",
       "</pre>\n"
      ],
      "text/plain": [
       "\u001b[2;36m[4/11/2025 6:27:19 PM]\u001b[0m\u001b[2;36m \u001b[0m\u001b[34mINFO    \u001b[0m patching driver executable                                           \u001b]8;id=450466;file://c:\\Users\\Vitor\\anaconda3\\Lib\\site-packages\\undetected_chromedriver\\patcher.py\u001b\\\u001b[2mpatcher.py\u001b[0m\u001b]8;;\u001b\\\u001b[2m:\u001b[0m\u001b]8;id=480420;file://c:\\Users\\Vitor\\anaconda3\\Lib\\site-packages\\undetected_chromedriver\\patcher.py#346\u001b\\\u001b[2m346\u001b[0m\u001b]8;;\u001b\\\n",
       "\u001b[2;36m                       \u001b[0m         C:\\Users\\Vitor\\appdata\\roaming\\undetected_chromedriver\\undetected_ch \u001b[2m              \u001b[0m\n",
       "\u001b[2;36m                       \u001b[0m         romedriver.exe                                                       \u001b[2m              \u001b[0m\n"
      ]
     },
     "metadata": {},
     "output_type": "display_data"
    },
    {
     "data": {
      "text/html": [
       "<pre style=\"white-space:pre;overflow-x:auto;line-height:normal;font-family:Menlo,'DejaVu Sans Mono',consolas,'Courier New',monospace\"><span style=\"color: #7fbfbf; text-decoration-color: #7fbfbf\">[4/11/2025 6:27:20 PM] </span><span style=\"color: #000080; text-decoration-color: #000080\">INFO    </span> Retrieving calendar for PRT-Liga Portugal <span style=\"color: #008080; text-decoration-color: #008080; font-weight: bold\">2425</span>                     <a href=\"file://c:\\Users\\Vitor\\anaconda3\\Lib\\site-packages\\soccerdata\\whoscored.py\" target=\"_blank\"><span style=\"color: #7f7f7f; text-decoration-color: #7f7f7f\">whoscored.py</span></a><span style=\"color: #7f7f7f; text-decoration-color: #7f7f7f\">:</span><a href=\"file://c:\\Users\\Vitor\\anaconda3\\Lib\\site-packages\\soccerdata\\whoscored.py#376\" target=\"_blank\"><span style=\"color: #7f7f7f; text-decoration-color: #7f7f7f\">376</span></a>\n",
       "</pre>\n"
      ],
      "text/plain": [
       "\u001b[2;36m[4/11/2025 6:27:20 PM]\u001b[0m\u001b[2;36m \u001b[0m\u001b[34mINFO    \u001b[0m Retrieving calendar for PRT-Liga Portugal \u001b[1;36m2425\u001b[0m                     \u001b]8;id=484133;file://c:\\Users\\Vitor\\anaconda3\\Lib\\site-packages\\soccerdata\\whoscored.py\u001b\\\u001b[2mwhoscored.py\u001b[0m\u001b]8;;\u001b\\\u001b[2m:\u001b[0m\u001b]8;id=872593;file://c:\\Users\\Vitor\\anaconda3\\Lib\\site-packages\\soccerdata\\whoscored.py#376\u001b\\\u001b[2m376\u001b[0m\u001b]8;;\u001b\\\n"
      ]
     },
     "metadata": {},
     "output_type": "display_data"
    },
    {
     "data": {
      "text/html": [
       "<pre style=\"white-space:pre;overflow-x:auto;line-height:normal;font-family:Menlo,'DejaVu Sans Mono',consolas,'Courier New',monospace\"><span style=\"color: #7fbfbf; text-decoration-color: #7fbfbf\">                       </span><span style=\"color: #000080; text-decoration-color: #000080\">INFO    </span> <span style=\"font-weight: bold\">[</span><span style=\"color: #008080; text-decoration-color: #008080; font-weight: bold\">1</span>/<span style=\"color: #008080; text-decoration-color: #008080; font-weight: bold\">10</span><span style=\"font-weight: bold\">]</span> Retrieving fixtures for PRT-Liga Portugal <span style=\"color: #008080; text-decoration-color: #008080; font-weight: bold\">2425</span>              <a href=\"file://c:\\Users\\Vitor\\anaconda3\\Lib\\site-packages\\soccerdata\\whoscored.py\" target=\"_blank\"><span style=\"color: #7f7f7f; text-decoration-color: #7f7f7f\">whoscored.py</span></a><span style=\"color: #7f7f7f; text-decoration-color: #7f7f7f\">:</span><a href=\"file://c:\\Users\\Vitor\\anaconda3\\Lib\\site-packages\\soccerdata\\whoscored.py#405\" target=\"_blank\"><span style=\"color: #7f7f7f; text-decoration-color: #7f7f7f\">405</span></a>\n",
       "</pre>\n"
      ],
      "text/plain": [
       "\u001b[2;36m                      \u001b[0m\u001b[2;36m \u001b[0m\u001b[34mINFO    \u001b[0m \u001b[1m[\u001b[0m\u001b[1;36m1\u001b[0m/\u001b[1;36m10\u001b[0m\u001b[1m]\u001b[0m Retrieving fixtures for PRT-Liga Portugal \u001b[1;36m2425\u001b[0m              \u001b]8;id=403418;file://c:\\Users\\Vitor\\anaconda3\\Lib\\site-packages\\soccerdata\\whoscored.py\u001b\\\u001b[2mwhoscored.py\u001b[0m\u001b]8;;\u001b\\\u001b[2m:\u001b[0m\u001b]8;id=255701;file://c:\\Users\\Vitor\\anaconda3\\Lib\\site-packages\\soccerdata\\whoscored.py#405\u001b\\\u001b[2m405\u001b[0m\u001b]8;;\u001b\\\n"
      ]
     },
     "metadata": {},
     "output_type": "display_data"
    },
    {
     "data": {
      "text/html": [
       "<pre style=\"white-space:pre;overflow-x:auto;line-height:normal;font-family:Menlo,'DejaVu Sans Mono',consolas,'Courier New',monospace\"><span style=\"color: #7fbfbf; text-decoration-color: #7fbfbf\">                       </span><span style=\"color: #000080; text-decoration-color: #000080\">INFO    </span> <span style=\"font-weight: bold\">[</span><span style=\"color: #008080; text-decoration-color: #008080; font-weight: bold\">2</span>/<span style=\"color: #008080; text-decoration-color: #008080; font-weight: bold\">10</span><span style=\"font-weight: bold\">]</span> Retrieving fixtures for PRT-Liga Portugal <span style=\"color: #008080; text-decoration-color: #008080; font-weight: bold\">2425</span>              <a href=\"file://c:\\Users\\Vitor\\anaconda3\\Lib\\site-packages\\soccerdata\\whoscored.py\" target=\"_blank\"><span style=\"color: #7f7f7f; text-decoration-color: #7f7f7f\">whoscored.py</span></a><span style=\"color: #7f7f7f; text-decoration-color: #7f7f7f\">:</span><a href=\"file://c:\\Users\\Vitor\\anaconda3\\Lib\\site-packages\\soccerdata\\whoscored.py#405\" target=\"_blank\"><span style=\"color: #7f7f7f; text-decoration-color: #7f7f7f\">405</span></a>\n",
       "</pre>\n"
      ],
      "text/plain": [
       "\u001b[2;36m                      \u001b[0m\u001b[2;36m \u001b[0m\u001b[34mINFO    \u001b[0m \u001b[1m[\u001b[0m\u001b[1;36m2\u001b[0m/\u001b[1;36m10\u001b[0m\u001b[1m]\u001b[0m Retrieving fixtures for PRT-Liga Portugal \u001b[1;36m2425\u001b[0m              \u001b]8;id=843299;file://c:\\Users\\Vitor\\anaconda3\\Lib\\site-packages\\soccerdata\\whoscored.py\u001b\\\u001b[2mwhoscored.py\u001b[0m\u001b]8;;\u001b\\\u001b[2m:\u001b[0m\u001b]8;id=432166;file://c:\\Users\\Vitor\\anaconda3\\Lib\\site-packages\\soccerdata\\whoscored.py#405\u001b\\\u001b[2m405\u001b[0m\u001b]8;;\u001b\\\n"
      ]
     },
     "metadata": {},
     "output_type": "display_data"
    },
    {
     "data": {
      "text/html": [
       "<pre style=\"white-space:pre;overflow-x:auto;line-height:normal;font-family:Menlo,'DejaVu Sans Mono',consolas,'Courier New',monospace\"><span style=\"color: #7fbfbf; text-decoration-color: #7fbfbf\">                       </span><span style=\"color: #000080; text-decoration-color: #000080\">INFO    </span> <span style=\"font-weight: bold\">[</span><span style=\"color: #008080; text-decoration-color: #008080; font-weight: bold\">3</span>/<span style=\"color: #008080; text-decoration-color: #008080; font-weight: bold\">10</span><span style=\"font-weight: bold\">]</span> Retrieving fixtures for PRT-Liga Portugal <span style=\"color: #008080; text-decoration-color: #008080; font-weight: bold\">2425</span>              <a href=\"file://c:\\Users\\Vitor\\anaconda3\\Lib\\site-packages\\soccerdata\\whoscored.py\" target=\"_blank\"><span style=\"color: #7f7f7f; text-decoration-color: #7f7f7f\">whoscored.py</span></a><span style=\"color: #7f7f7f; text-decoration-color: #7f7f7f\">:</span><a href=\"file://c:\\Users\\Vitor\\anaconda3\\Lib\\site-packages\\soccerdata\\whoscored.py#405\" target=\"_blank\"><span style=\"color: #7f7f7f; text-decoration-color: #7f7f7f\">405</span></a>\n",
       "</pre>\n"
      ],
      "text/plain": [
       "\u001b[2;36m                      \u001b[0m\u001b[2;36m \u001b[0m\u001b[34mINFO    \u001b[0m \u001b[1m[\u001b[0m\u001b[1;36m3\u001b[0m/\u001b[1;36m10\u001b[0m\u001b[1m]\u001b[0m Retrieving fixtures for PRT-Liga Portugal \u001b[1;36m2425\u001b[0m              \u001b]8;id=638129;file://c:\\Users\\Vitor\\anaconda3\\Lib\\site-packages\\soccerdata\\whoscored.py\u001b\\\u001b[2mwhoscored.py\u001b[0m\u001b]8;;\u001b\\\u001b[2m:\u001b[0m\u001b]8;id=624024;file://c:\\Users\\Vitor\\anaconda3\\Lib\\site-packages\\soccerdata\\whoscored.py#405\u001b\\\u001b[2m405\u001b[0m\u001b]8;;\u001b\\\n"
      ]
     },
     "metadata": {},
     "output_type": "display_data"
    },
    {
     "data": {
      "text/html": [
       "<pre style=\"white-space:pre;overflow-x:auto;line-height:normal;font-family:Menlo,'DejaVu Sans Mono',consolas,'Courier New',monospace\"><span style=\"color: #7fbfbf; text-decoration-color: #7fbfbf\">                       </span><span style=\"color: #000080; text-decoration-color: #000080\">INFO    </span> <span style=\"font-weight: bold\">[</span><span style=\"color: #008080; text-decoration-color: #008080; font-weight: bold\">4</span>/<span style=\"color: #008080; text-decoration-color: #008080; font-weight: bold\">10</span><span style=\"font-weight: bold\">]</span> Retrieving fixtures for PRT-Liga Portugal <span style=\"color: #008080; text-decoration-color: #008080; font-weight: bold\">2425</span>              <a href=\"file://c:\\Users\\Vitor\\anaconda3\\Lib\\site-packages\\soccerdata\\whoscored.py\" target=\"_blank\"><span style=\"color: #7f7f7f; text-decoration-color: #7f7f7f\">whoscored.py</span></a><span style=\"color: #7f7f7f; text-decoration-color: #7f7f7f\">:</span><a href=\"file://c:\\Users\\Vitor\\anaconda3\\Lib\\site-packages\\soccerdata\\whoscored.py#405\" target=\"_blank\"><span style=\"color: #7f7f7f; text-decoration-color: #7f7f7f\">405</span></a>\n",
       "</pre>\n"
      ],
      "text/plain": [
       "\u001b[2;36m                      \u001b[0m\u001b[2;36m \u001b[0m\u001b[34mINFO    \u001b[0m \u001b[1m[\u001b[0m\u001b[1;36m4\u001b[0m/\u001b[1;36m10\u001b[0m\u001b[1m]\u001b[0m Retrieving fixtures for PRT-Liga Portugal \u001b[1;36m2425\u001b[0m              \u001b]8;id=748294;file://c:\\Users\\Vitor\\anaconda3\\Lib\\site-packages\\soccerdata\\whoscored.py\u001b\\\u001b[2mwhoscored.py\u001b[0m\u001b]8;;\u001b\\\u001b[2m:\u001b[0m\u001b]8;id=254405;file://c:\\Users\\Vitor\\anaconda3\\Lib\\site-packages\\soccerdata\\whoscored.py#405\u001b\\\u001b[2m405\u001b[0m\u001b]8;;\u001b\\\n"
      ]
     },
     "metadata": {},
     "output_type": "display_data"
    },
    {
     "data": {
      "text/html": [
       "<pre style=\"white-space:pre;overflow-x:auto;line-height:normal;font-family:Menlo,'DejaVu Sans Mono',consolas,'Courier New',monospace\"><span style=\"color: #7fbfbf; text-decoration-color: #7fbfbf\">                       </span><span style=\"color: #000080; text-decoration-color: #000080\">INFO    </span> <span style=\"font-weight: bold\">[</span><span style=\"color: #008080; text-decoration-color: #008080; font-weight: bold\">5</span>/<span style=\"color: #008080; text-decoration-color: #008080; font-weight: bold\">10</span><span style=\"font-weight: bold\">]</span> Retrieving fixtures for PRT-Liga Portugal <span style=\"color: #008080; text-decoration-color: #008080; font-weight: bold\">2425</span>              <a href=\"file://c:\\Users\\Vitor\\anaconda3\\Lib\\site-packages\\soccerdata\\whoscored.py\" target=\"_blank\"><span style=\"color: #7f7f7f; text-decoration-color: #7f7f7f\">whoscored.py</span></a><span style=\"color: #7f7f7f; text-decoration-color: #7f7f7f\">:</span><a href=\"file://c:\\Users\\Vitor\\anaconda3\\Lib\\site-packages\\soccerdata\\whoscored.py#405\" target=\"_blank\"><span style=\"color: #7f7f7f; text-decoration-color: #7f7f7f\">405</span></a>\n",
       "</pre>\n"
      ],
      "text/plain": [
       "\u001b[2;36m                      \u001b[0m\u001b[2;36m \u001b[0m\u001b[34mINFO    \u001b[0m \u001b[1m[\u001b[0m\u001b[1;36m5\u001b[0m/\u001b[1;36m10\u001b[0m\u001b[1m]\u001b[0m Retrieving fixtures for PRT-Liga Portugal \u001b[1;36m2425\u001b[0m              \u001b]8;id=79442;file://c:\\Users\\Vitor\\anaconda3\\Lib\\site-packages\\soccerdata\\whoscored.py\u001b\\\u001b[2mwhoscored.py\u001b[0m\u001b]8;;\u001b\\\u001b[2m:\u001b[0m\u001b]8;id=364066;file://c:\\Users\\Vitor\\anaconda3\\Lib\\site-packages\\soccerdata\\whoscored.py#405\u001b\\\u001b[2m405\u001b[0m\u001b]8;;\u001b\\\n"
      ]
     },
     "metadata": {},
     "output_type": "display_data"
    },
    {
     "data": {
      "text/html": [
       "<pre style=\"white-space:pre;overflow-x:auto;line-height:normal;font-family:Menlo,'DejaVu Sans Mono',consolas,'Courier New',monospace\"><span style=\"color: #7fbfbf; text-decoration-color: #7fbfbf\">                       </span><span style=\"color: #000080; text-decoration-color: #000080\">INFO    </span> <span style=\"font-weight: bold\">[</span><span style=\"color: #008080; text-decoration-color: #008080; font-weight: bold\">6</span>/<span style=\"color: #008080; text-decoration-color: #008080; font-weight: bold\">10</span><span style=\"font-weight: bold\">]</span> Retrieving fixtures for PRT-Liga Portugal <span style=\"color: #008080; text-decoration-color: #008080; font-weight: bold\">2425</span>              <a href=\"file://c:\\Users\\Vitor\\anaconda3\\Lib\\site-packages\\soccerdata\\whoscored.py\" target=\"_blank\"><span style=\"color: #7f7f7f; text-decoration-color: #7f7f7f\">whoscored.py</span></a><span style=\"color: #7f7f7f; text-decoration-color: #7f7f7f\">:</span><a href=\"file://c:\\Users\\Vitor\\anaconda3\\Lib\\site-packages\\soccerdata\\whoscored.py#405\" target=\"_blank\"><span style=\"color: #7f7f7f; text-decoration-color: #7f7f7f\">405</span></a>\n",
       "</pre>\n"
      ],
      "text/plain": [
       "\u001b[2;36m                      \u001b[0m\u001b[2;36m \u001b[0m\u001b[34mINFO    \u001b[0m \u001b[1m[\u001b[0m\u001b[1;36m6\u001b[0m/\u001b[1;36m10\u001b[0m\u001b[1m]\u001b[0m Retrieving fixtures for PRT-Liga Portugal \u001b[1;36m2425\u001b[0m              \u001b]8;id=990096;file://c:\\Users\\Vitor\\anaconda3\\Lib\\site-packages\\soccerdata\\whoscored.py\u001b\\\u001b[2mwhoscored.py\u001b[0m\u001b]8;;\u001b\\\u001b[2m:\u001b[0m\u001b]8;id=888153;file://c:\\Users\\Vitor\\anaconda3\\Lib\\site-packages\\soccerdata\\whoscored.py#405\u001b\\\u001b[2m405\u001b[0m\u001b]8;;\u001b\\\n"
      ]
     },
     "metadata": {},
     "output_type": "display_data"
    },
    {
     "data": {
      "text/html": [
       "<pre style=\"white-space:pre;overflow-x:auto;line-height:normal;font-family:Menlo,'DejaVu Sans Mono',consolas,'Courier New',monospace\"><span style=\"color: #7fbfbf; text-decoration-color: #7fbfbf\">                       </span><span style=\"color: #000080; text-decoration-color: #000080\">INFO    </span> <span style=\"font-weight: bold\">[</span><span style=\"color: #008080; text-decoration-color: #008080; font-weight: bold\">7</span>/<span style=\"color: #008080; text-decoration-color: #008080; font-weight: bold\">10</span><span style=\"font-weight: bold\">]</span> Retrieving fixtures for PRT-Liga Portugal <span style=\"color: #008080; text-decoration-color: #008080; font-weight: bold\">2425</span>              <a href=\"file://c:\\Users\\Vitor\\anaconda3\\Lib\\site-packages\\soccerdata\\whoscored.py\" target=\"_blank\"><span style=\"color: #7f7f7f; text-decoration-color: #7f7f7f\">whoscored.py</span></a><span style=\"color: #7f7f7f; text-decoration-color: #7f7f7f\">:</span><a href=\"file://c:\\Users\\Vitor\\anaconda3\\Lib\\site-packages\\soccerdata\\whoscored.py#405\" target=\"_blank\"><span style=\"color: #7f7f7f; text-decoration-color: #7f7f7f\">405</span></a>\n",
       "</pre>\n"
      ],
      "text/plain": [
       "\u001b[2;36m                      \u001b[0m\u001b[2;36m \u001b[0m\u001b[34mINFO    \u001b[0m \u001b[1m[\u001b[0m\u001b[1;36m7\u001b[0m/\u001b[1;36m10\u001b[0m\u001b[1m]\u001b[0m Retrieving fixtures for PRT-Liga Portugal \u001b[1;36m2425\u001b[0m              \u001b]8;id=971384;file://c:\\Users\\Vitor\\anaconda3\\Lib\\site-packages\\soccerdata\\whoscored.py\u001b\\\u001b[2mwhoscored.py\u001b[0m\u001b]8;;\u001b\\\u001b[2m:\u001b[0m\u001b]8;id=526225;file://c:\\Users\\Vitor\\anaconda3\\Lib\\site-packages\\soccerdata\\whoscored.py#405\u001b\\\u001b[2m405\u001b[0m\u001b]8;;\u001b\\\n"
      ]
     },
     "metadata": {},
     "output_type": "display_data"
    },
    {
     "data": {
      "text/html": [
       "<pre style=\"white-space:pre;overflow-x:auto;line-height:normal;font-family:Menlo,'DejaVu Sans Mono',consolas,'Courier New',monospace\"><span style=\"color: #7fbfbf; text-decoration-color: #7fbfbf\">                       </span><span style=\"color: #000080; text-decoration-color: #000080\">INFO    </span> <span style=\"font-weight: bold\">[</span><span style=\"color: #008080; text-decoration-color: #008080; font-weight: bold\">8</span>/<span style=\"color: #008080; text-decoration-color: #008080; font-weight: bold\">10</span><span style=\"font-weight: bold\">]</span> Retrieving fixtures for PRT-Liga Portugal <span style=\"color: #008080; text-decoration-color: #008080; font-weight: bold\">2425</span>              <a href=\"file://c:\\Users\\Vitor\\anaconda3\\Lib\\site-packages\\soccerdata\\whoscored.py\" target=\"_blank\"><span style=\"color: #7f7f7f; text-decoration-color: #7f7f7f\">whoscored.py</span></a><span style=\"color: #7f7f7f; text-decoration-color: #7f7f7f\">:</span><a href=\"file://c:\\Users\\Vitor\\anaconda3\\Lib\\site-packages\\soccerdata\\whoscored.py#405\" target=\"_blank\"><span style=\"color: #7f7f7f; text-decoration-color: #7f7f7f\">405</span></a>\n",
       "</pre>\n"
      ],
      "text/plain": [
       "\u001b[2;36m                      \u001b[0m\u001b[2;36m \u001b[0m\u001b[34mINFO    \u001b[0m \u001b[1m[\u001b[0m\u001b[1;36m8\u001b[0m/\u001b[1;36m10\u001b[0m\u001b[1m]\u001b[0m Retrieving fixtures for PRT-Liga Portugal \u001b[1;36m2425\u001b[0m              \u001b]8;id=782196;file://c:\\Users\\Vitor\\anaconda3\\Lib\\site-packages\\soccerdata\\whoscored.py\u001b\\\u001b[2mwhoscored.py\u001b[0m\u001b]8;;\u001b\\\u001b[2m:\u001b[0m\u001b]8;id=522707;file://c:\\Users\\Vitor\\anaconda3\\Lib\\site-packages\\soccerdata\\whoscored.py#405\u001b\\\u001b[2m405\u001b[0m\u001b]8;;\u001b\\\n"
      ]
     },
     "metadata": {},
     "output_type": "display_data"
    },
    {
     "data": {
      "text/html": [
       "<pre style=\"white-space:pre;overflow-x:auto;line-height:normal;font-family:Menlo,'DejaVu Sans Mono',consolas,'Courier New',monospace\"><span style=\"color: #7fbfbf; text-decoration-color: #7fbfbf\">                       </span><span style=\"color: #000080; text-decoration-color: #000080\">INFO    </span> <span style=\"font-weight: bold\">[</span><span style=\"color: #008080; text-decoration-color: #008080; font-weight: bold\">9</span>/<span style=\"color: #008080; text-decoration-color: #008080; font-weight: bold\">10</span><span style=\"font-weight: bold\">]</span> Retrieving fixtures for PRT-Liga Portugal <span style=\"color: #008080; text-decoration-color: #008080; font-weight: bold\">2425</span>              <a href=\"file://c:\\Users\\Vitor\\anaconda3\\Lib\\site-packages\\soccerdata\\whoscored.py\" target=\"_blank\"><span style=\"color: #7f7f7f; text-decoration-color: #7f7f7f\">whoscored.py</span></a><span style=\"color: #7f7f7f; text-decoration-color: #7f7f7f\">:</span><a href=\"file://c:\\Users\\Vitor\\anaconda3\\Lib\\site-packages\\soccerdata\\whoscored.py#405\" target=\"_blank\"><span style=\"color: #7f7f7f; text-decoration-color: #7f7f7f\">405</span></a>\n",
       "</pre>\n"
      ],
      "text/plain": [
       "\u001b[2;36m                      \u001b[0m\u001b[2;36m \u001b[0m\u001b[34mINFO    \u001b[0m \u001b[1m[\u001b[0m\u001b[1;36m9\u001b[0m/\u001b[1;36m10\u001b[0m\u001b[1m]\u001b[0m Retrieving fixtures for PRT-Liga Portugal \u001b[1;36m2425\u001b[0m              \u001b]8;id=749885;file://c:\\Users\\Vitor\\anaconda3\\Lib\\site-packages\\soccerdata\\whoscored.py\u001b\\\u001b[2mwhoscored.py\u001b[0m\u001b]8;;\u001b\\\u001b[2m:\u001b[0m\u001b]8;id=729809;file://c:\\Users\\Vitor\\anaconda3\\Lib\\site-packages\\soccerdata\\whoscored.py#405\u001b\\\u001b[2m405\u001b[0m\u001b]8;;\u001b\\\n"
      ]
     },
     "metadata": {},
     "output_type": "display_data"
    },
    {
     "data": {
      "text/html": [
       "<pre style=\"white-space:pre;overflow-x:auto;line-height:normal;font-family:Menlo,'DejaVu Sans Mono',consolas,'Courier New',monospace\"><span style=\"color: #7fbfbf; text-decoration-color: #7fbfbf\">                       </span><span style=\"color: #000080; text-decoration-color: #000080\">INFO    </span> <span style=\"font-weight: bold\">[</span><span style=\"color: #008080; text-decoration-color: #008080; font-weight: bold\">10</span>/<span style=\"color: #008080; text-decoration-color: #008080; font-weight: bold\">10</span><span style=\"font-weight: bold\">]</span> Retrieving fixtures for PRT-Liga Portugal <span style=\"color: #008080; text-decoration-color: #008080; font-weight: bold\">2425</span>             <a href=\"file://c:\\Users\\Vitor\\anaconda3\\Lib\\site-packages\\soccerdata\\whoscored.py\" target=\"_blank\"><span style=\"color: #7f7f7f; text-decoration-color: #7f7f7f\">whoscored.py</span></a><span style=\"color: #7f7f7f; text-decoration-color: #7f7f7f\">:</span><a href=\"file://c:\\Users\\Vitor\\anaconda3\\Lib\\site-packages\\soccerdata\\whoscored.py#405\" target=\"_blank\"><span style=\"color: #7f7f7f; text-decoration-color: #7f7f7f\">405</span></a>\n",
       "</pre>\n"
      ],
      "text/plain": [
       "\u001b[2;36m                      \u001b[0m\u001b[2;36m \u001b[0m\u001b[34mINFO    \u001b[0m \u001b[1m[\u001b[0m\u001b[1;36m10\u001b[0m/\u001b[1;36m10\u001b[0m\u001b[1m]\u001b[0m Retrieving fixtures for PRT-Liga Portugal \u001b[1;36m2425\u001b[0m             \u001b]8;id=168972;file://c:\\Users\\Vitor\\anaconda3\\Lib\\site-packages\\soccerdata\\whoscored.py\u001b\\\u001b[2mwhoscored.py\u001b[0m\u001b]8;;\u001b\\\u001b[2m:\u001b[0m\u001b]8;id=970975;file://c:\\Users\\Vitor\\anaconda3\\Lib\\site-packages\\soccerdata\\whoscored.py#405\u001b\\\u001b[2m405\u001b[0m\u001b]8;;\u001b\\\n"
      ]
     },
     "metadata": {},
     "output_type": "display_data"
    },
    {
     "data": {
      "application/vnd.microsoft.datawrangler.viewer.v0+json": {
       "columns": [
        {
         "name": "index",
         "rawType": "int64",
         "type": "integer"
        },
        {
         "name": "league",
         "rawType": "object",
         "type": "string"
        },
        {
         "name": "season",
         "rawType": "object",
         "type": "string"
        },
        {
         "name": "start_time",
         "rawType": "object",
         "type": "string"
        },
        {
         "name": "game_id",
         "rawType": "int64",
         "type": "integer"
        },
        {
         "name": "team_id",
         "rawType": "int64",
         "type": "integer"
        },
        {
         "name": "team_name",
         "rawType": "object",
         "type": "string"
        }
       ],
       "conversionMethod": "pd.DataFrame",
       "ref": "600d3686-50e7-4964-80ef-e55c560874e5",
       "rows": [
        [
         "0",
         "PRT-Liga Portugal",
         "2425",
         "2024-08-09T20:15:00",
         "1836567",
         "296",
         "Sporting CP"
        ],
        [
         "1",
         "PRT-Liga Portugal",
         "2425",
         "2024-08-10T15:30:00",
         "1836564",
         "2343",
         "AVS Futebol SAD"
        ],
        [
         "2",
         "PRT-Liga Portugal",
         "2425",
         "2024-08-10T18:00:00",
         "1836565",
         "9509",
         "Casa Pia AC"
        ],
        [
         "3",
         "PRT-Liga Portugal",
         "2425",
         "2024-08-10T20:30:00",
         "1836568",
         "297",
         "FC Porto"
        ],
        [
         "4",
         "PRT-Liga Portugal",
         "2425",
         "2024-08-11T20:30:00",
         "1836561",
         "288",
         "Braga"
        ],
        [
         "5",
         "PRT-Liga Portugal",
         "2425",
         "2024-08-11T15:30:00",
         "1836569",
         "2188",
         "Estoril"
        ],
        [
         "6",
         "PRT-Liga Portugal",
         "2425",
         "2024-08-11T18:00:00",
         "1836566",
         "935",
         "Famalicao"
        ],
        [
         "7",
         "PRT-Liga Portugal",
         "2425",
         "2024-08-11T18:00:00",
         "1836563",
         "263",
         "Farense"
        ],
        [
         "8",
         "PRT-Liga Portugal",
         "2425",
         "2024-08-12T20:15:00",
         "1836562",
         "5948",
         "Arouca"
        ],
        [
         "9",
         "PRT-Liga Portugal",
         "2425",
         "2024-08-16T20:15:00",
         "1836632",
         "290",
         "Gil Vicente"
        ],
        [
         "10",
         "PRT-Liga Portugal",
         "2425",
         "2024-08-16T17:00:00",
         "1836628",
         "251",
         "Santa Clara"
        ],
        [
         "11",
         "PRT-Liga Portugal",
         "2425",
         "2024-08-17T20:30:00",
         "1836624",
         "299",
         "Benfica"
        ],
        [
         "12",
         "PRT-Liga Portugal",
         "2425",
         "2024-08-17T18:00:00",
         "1836627",
         "936",
         "Nacional"
        ],
        [
         "13",
         "PRT-Liga Portugal",
         "2425",
         "2024-08-17T15:30:00",
         "1836630",
         "121",
         "Rio Ave"
        ],
        [
         "14",
         "PRT-Liga Portugal",
         "2425",
         "2024-08-18T20:30:00",
         "1836625",
         "122",
         "Boavista"
        ],
        [
         "15",
         "PRT-Liga Portugal",
         "2425",
         "2024-08-18T15:30:00",
         "1836629",
         "108",
         "Moreirense"
        ],
        [
         "16",
         "PRT-Liga Portugal",
         "2425",
         "2024-08-18T18:00:00",
         "1836631",
         "107",
         "Vitoria de Guimaraes"
        ],
        [
         "17",
         "PRT-Liga Portugal",
         "2425",
         "2024-08-19T20:15:00",
         "1836626",
         "28635",
         "Estrela da Amadora"
        ]
       ],
       "shape": {
        "columns": 6,
        "rows": 18
       }
      },
      "text/html": [
       "<div>\n",
       "<style scoped>\n",
       "    .dataframe tbody tr th:only-of-type {\n",
       "        vertical-align: middle;\n",
       "    }\n",
       "\n",
       "    .dataframe tbody tr th {\n",
       "        vertical-align: top;\n",
       "    }\n",
       "\n",
       "    .dataframe thead th {\n",
       "        text-align: right;\n",
       "    }\n",
       "</style>\n",
       "<table border=\"1\" class=\"dataframe\">\n",
       "  <thead>\n",
       "    <tr style=\"text-align: right;\">\n",
       "      <th></th>\n",
       "      <th>league</th>\n",
       "      <th>season</th>\n",
       "      <th>start_time</th>\n",
       "      <th>game_id</th>\n",
       "      <th>team_id</th>\n",
       "      <th>team_name</th>\n",
       "    </tr>\n",
       "  </thead>\n",
       "  <tbody>\n",
       "    <tr>\n",
       "      <th>0</th>\n",
       "      <td>PRT-Liga Portugal</td>\n",
       "      <td>2425</td>\n",
       "      <td>2024-08-09T20:15:00</td>\n",
       "      <td>1836567</td>\n",
       "      <td>296</td>\n",
       "      <td>Sporting CP</td>\n",
       "    </tr>\n",
       "    <tr>\n",
       "      <th>1</th>\n",
       "      <td>PRT-Liga Portugal</td>\n",
       "      <td>2425</td>\n",
       "      <td>2024-08-10T15:30:00</td>\n",
       "      <td>1836564</td>\n",
       "      <td>2343</td>\n",
       "      <td>AVS Futebol SAD</td>\n",
       "    </tr>\n",
       "    <tr>\n",
       "      <th>2</th>\n",
       "      <td>PRT-Liga Portugal</td>\n",
       "      <td>2425</td>\n",
       "      <td>2024-08-10T18:00:00</td>\n",
       "      <td>1836565</td>\n",
       "      <td>9509</td>\n",
       "      <td>Casa Pia AC</td>\n",
       "    </tr>\n",
       "    <tr>\n",
       "      <th>3</th>\n",
       "      <td>PRT-Liga Portugal</td>\n",
       "      <td>2425</td>\n",
       "      <td>2024-08-10T20:30:00</td>\n",
       "      <td>1836568</td>\n",
       "      <td>297</td>\n",
       "      <td>FC Porto</td>\n",
       "    </tr>\n",
       "    <tr>\n",
       "      <th>4</th>\n",
       "      <td>PRT-Liga Portugal</td>\n",
       "      <td>2425</td>\n",
       "      <td>2024-08-11T20:30:00</td>\n",
       "      <td>1836561</td>\n",
       "      <td>288</td>\n",
       "      <td>Braga</td>\n",
       "    </tr>\n",
       "    <tr>\n",
       "      <th>5</th>\n",
       "      <td>PRT-Liga Portugal</td>\n",
       "      <td>2425</td>\n",
       "      <td>2024-08-11T15:30:00</td>\n",
       "      <td>1836569</td>\n",
       "      <td>2188</td>\n",
       "      <td>Estoril</td>\n",
       "    </tr>\n",
       "    <tr>\n",
       "      <th>6</th>\n",
       "      <td>PRT-Liga Portugal</td>\n",
       "      <td>2425</td>\n",
       "      <td>2024-08-11T18:00:00</td>\n",
       "      <td>1836566</td>\n",
       "      <td>935</td>\n",
       "      <td>Famalicao</td>\n",
       "    </tr>\n",
       "    <tr>\n",
       "      <th>7</th>\n",
       "      <td>PRT-Liga Portugal</td>\n",
       "      <td>2425</td>\n",
       "      <td>2024-08-11T18:00:00</td>\n",
       "      <td>1836563</td>\n",
       "      <td>263</td>\n",
       "      <td>Farense</td>\n",
       "    </tr>\n",
       "    <tr>\n",
       "      <th>8</th>\n",
       "      <td>PRT-Liga Portugal</td>\n",
       "      <td>2425</td>\n",
       "      <td>2024-08-12T20:15:00</td>\n",
       "      <td>1836562</td>\n",
       "      <td>5948</td>\n",
       "      <td>Arouca</td>\n",
       "    </tr>\n",
       "    <tr>\n",
       "      <th>9</th>\n",
       "      <td>PRT-Liga Portugal</td>\n",
       "      <td>2425</td>\n",
       "      <td>2024-08-16T20:15:00</td>\n",
       "      <td>1836632</td>\n",
       "      <td>290</td>\n",
       "      <td>Gil Vicente</td>\n",
       "    </tr>\n",
       "    <tr>\n",
       "      <th>10</th>\n",
       "      <td>PRT-Liga Portugal</td>\n",
       "      <td>2425</td>\n",
       "      <td>2024-08-16T17:00:00</td>\n",
       "      <td>1836628</td>\n",
       "      <td>251</td>\n",
       "      <td>Santa Clara</td>\n",
       "    </tr>\n",
       "    <tr>\n",
       "      <th>11</th>\n",
       "      <td>PRT-Liga Portugal</td>\n",
       "      <td>2425</td>\n",
       "      <td>2024-08-17T20:30:00</td>\n",
       "      <td>1836624</td>\n",
       "      <td>299</td>\n",
       "      <td>Benfica</td>\n",
       "    </tr>\n",
       "    <tr>\n",
       "      <th>12</th>\n",
       "      <td>PRT-Liga Portugal</td>\n",
       "      <td>2425</td>\n",
       "      <td>2024-08-17T18:00:00</td>\n",
       "      <td>1836627</td>\n",
       "      <td>936</td>\n",
       "      <td>Nacional</td>\n",
       "    </tr>\n",
       "    <tr>\n",
       "      <th>13</th>\n",
       "      <td>PRT-Liga Portugal</td>\n",
       "      <td>2425</td>\n",
       "      <td>2024-08-17T15:30:00</td>\n",
       "      <td>1836630</td>\n",
       "      <td>121</td>\n",
       "      <td>Rio Ave</td>\n",
       "    </tr>\n",
       "    <tr>\n",
       "      <th>14</th>\n",
       "      <td>PRT-Liga Portugal</td>\n",
       "      <td>2425</td>\n",
       "      <td>2024-08-18T20:30:00</td>\n",
       "      <td>1836625</td>\n",
       "      <td>122</td>\n",
       "      <td>Boavista</td>\n",
       "    </tr>\n",
       "    <tr>\n",
       "      <th>15</th>\n",
       "      <td>PRT-Liga Portugal</td>\n",
       "      <td>2425</td>\n",
       "      <td>2024-08-18T15:30:00</td>\n",
       "      <td>1836629</td>\n",
       "      <td>108</td>\n",
       "      <td>Moreirense</td>\n",
       "    </tr>\n",
       "    <tr>\n",
       "      <th>16</th>\n",
       "      <td>PRT-Liga Portugal</td>\n",
       "      <td>2425</td>\n",
       "      <td>2024-08-18T18:00:00</td>\n",
       "      <td>1836631</td>\n",
       "      <td>107</td>\n",
       "      <td>Vitoria de Guimaraes</td>\n",
       "    </tr>\n",
       "    <tr>\n",
       "      <th>17</th>\n",
       "      <td>PRT-Liga Portugal</td>\n",
       "      <td>2425</td>\n",
       "      <td>2024-08-19T20:15:00</td>\n",
       "      <td>1836626</td>\n",
       "      <td>28635</td>\n",
       "      <td>Estrela da Amadora</td>\n",
       "    </tr>\n",
       "  </tbody>\n",
       "</table>\n",
       "</div>"
      ],
      "text/plain": [
       "               league season           start_time  game_id  team_id  \\\n",
       "0   PRT-Liga Portugal   2425  2024-08-09T20:15:00  1836567      296   \n",
       "1   PRT-Liga Portugal   2425  2024-08-10T15:30:00  1836564     2343   \n",
       "2   PRT-Liga Portugal   2425  2024-08-10T18:00:00  1836565     9509   \n",
       "3   PRT-Liga Portugal   2425  2024-08-10T20:30:00  1836568      297   \n",
       "4   PRT-Liga Portugal   2425  2024-08-11T20:30:00  1836561      288   \n",
       "5   PRT-Liga Portugal   2425  2024-08-11T15:30:00  1836569     2188   \n",
       "6   PRT-Liga Portugal   2425  2024-08-11T18:00:00  1836566      935   \n",
       "7   PRT-Liga Portugal   2425  2024-08-11T18:00:00  1836563      263   \n",
       "8   PRT-Liga Portugal   2425  2024-08-12T20:15:00  1836562     5948   \n",
       "9   PRT-Liga Portugal   2425  2024-08-16T20:15:00  1836632      290   \n",
       "10  PRT-Liga Portugal   2425  2024-08-16T17:00:00  1836628      251   \n",
       "11  PRT-Liga Portugal   2425  2024-08-17T20:30:00  1836624      299   \n",
       "12  PRT-Liga Portugal   2425  2024-08-17T18:00:00  1836627      936   \n",
       "13  PRT-Liga Portugal   2425  2024-08-17T15:30:00  1836630      121   \n",
       "14  PRT-Liga Portugal   2425  2024-08-18T20:30:00  1836625      122   \n",
       "15  PRT-Liga Portugal   2425  2024-08-18T15:30:00  1836629      108   \n",
       "16  PRT-Liga Portugal   2425  2024-08-18T18:00:00  1836631      107   \n",
       "17  PRT-Liga Portugal   2425  2024-08-19T20:15:00  1836626    28635   \n",
       "\n",
       "               team_name  \n",
       "0            Sporting CP  \n",
       "1        AVS Futebol SAD  \n",
       "2            Casa Pia AC  \n",
       "3               FC Porto  \n",
       "4                  Braga  \n",
       "5                Estoril  \n",
       "6              Famalicao  \n",
       "7                Farense  \n",
       "8                 Arouca  \n",
       "9            Gil Vicente  \n",
       "10           Santa Clara  \n",
       "11               Benfica  \n",
       "12              Nacional  \n",
       "13               Rio Ave  \n",
       "14              Boavista  \n",
       "15            Moreirense  \n",
       "16  Vitoria de Guimaraes  \n",
       "17    Estrela da Amadora  "
      ]
     },
     "execution_count": 6,
     "metadata": {},
     "output_type": "execute_result"
    }
   ],
   "source": [
    "locale.setlocale(locale.LC_TIME, \"en_US.UTF-8\")\n",
    "ws_PRT_Liga_Portugal = sd.WhoScored(\n",
    "    leagues=\"PRT-Liga Portugal\", seasons=\"2024/2025\", no_cache=False, no_store=False\n",
    ")\n",
    "ws_Liga_Portugal = ws_PRT_Liga_Portugal.read_schedule(force_cache=True)\n",
    "ws_Liga_Portugal = get_WhoScored_team_id_df(ws_Liga_Portugal)\n",
    "ws_Liga_Portugal"
   ]
  },
  {
   "cell_type": "code",
   "execution_count": 7,
   "id": "b8b57adb",
   "metadata": {},
   "outputs": [
    {
     "data": {
      "text/html": [
       "<pre style=\"white-space:pre;overflow-x:auto;line-height:normal;font-family:Menlo,'DejaVu Sans Mono',consolas,'Courier New',monospace\"><span style=\"color: #7fbfbf; text-decoration-color: #7fbfbf\">[4/11/2025 6:27:25 PM] </span><span style=\"color: #000080; text-decoration-color: #000080\">INFO    </span> Saving cached data to C:\\Users\\Vitor\\soccerdata\\data\\WhoScored       <a href=\"file://c:\\Users\\Vitor\\anaconda3\\Lib\\site-packages\\soccerdata\\_common.py\" target=\"_blank\"><span style=\"color: #7f7f7f; text-decoration-color: #7f7f7f\">_common.py</span></a><span style=\"color: #7f7f7f; text-decoration-color: #7f7f7f\">:</span><a href=\"file://c:\\Users\\Vitor\\anaconda3\\Lib\\site-packages\\soccerdata\\_common.py#263\" target=\"_blank\"><span style=\"color: #7f7f7f; text-decoration-color: #7f7f7f\">263</span></a>\n",
       "</pre>\n"
      ],
      "text/plain": [
       "\u001b[2;36m[4/11/2025 6:27:25 PM]\u001b[0m\u001b[2;36m \u001b[0m\u001b[34mINFO    \u001b[0m Saving cached data to C:\\Users\\Vitor\\soccerdata\\data\\WhoScored       \u001b]8;id=85977;file://c:\\Users\\Vitor\\anaconda3\\Lib\\site-packages\\soccerdata\\_common.py\u001b\\\u001b[2m_common.py\u001b[0m\u001b]8;;\u001b\\\u001b[2m:\u001b[0m\u001b]8;id=458906;file://c:\\Users\\Vitor\\anaconda3\\Lib\\site-packages\\soccerdata\\_common.py#263\u001b\\\u001b[2m263\u001b[0m\u001b]8;;\u001b\\\n"
      ]
     },
     "metadata": {},
     "output_type": "display_data"
    },
    {
     "data": {
      "text/html": [
       "<pre style=\"white-space:pre;overflow-x:auto;line-height:normal;font-family:Menlo,'DejaVu Sans Mono',consolas,'Courier New',monospace\"><span style=\"color: #7fbfbf; text-decoration-color: #7fbfbf\">[4/11/2025 6:27:26 PM] </span><span style=\"color: #000080; text-decoration-color: #000080\">INFO    </span> Retrieving calendar for NLD-Eredivisie <span style=\"color: #008080; text-decoration-color: #008080; font-weight: bold\">2425</span>                        <a href=\"file://c:\\Users\\Vitor\\anaconda3\\Lib\\site-packages\\soccerdata\\whoscored.py\" target=\"_blank\"><span style=\"color: #7f7f7f; text-decoration-color: #7f7f7f\">whoscored.py</span></a><span style=\"color: #7f7f7f; text-decoration-color: #7f7f7f\">:</span><a href=\"file://c:\\Users\\Vitor\\anaconda3\\Lib\\site-packages\\soccerdata\\whoscored.py#376\" target=\"_blank\"><span style=\"color: #7f7f7f; text-decoration-color: #7f7f7f\">376</span></a>\n",
       "</pre>\n"
      ],
      "text/plain": [
       "\u001b[2;36m[4/11/2025 6:27:26 PM]\u001b[0m\u001b[2;36m \u001b[0m\u001b[34mINFO    \u001b[0m Retrieving calendar for NLD-Eredivisie \u001b[1;36m2425\u001b[0m                        \u001b]8;id=206725;file://c:\\Users\\Vitor\\anaconda3\\Lib\\site-packages\\soccerdata\\whoscored.py\u001b\\\u001b[2mwhoscored.py\u001b[0m\u001b]8;;\u001b\\\u001b[2m:\u001b[0m\u001b]8;id=373;file://c:\\Users\\Vitor\\anaconda3\\Lib\\site-packages\\soccerdata\\whoscored.py#376\u001b\\\u001b[2m376\u001b[0m\u001b]8;;\u001b\\\n"
      ]
     },
     "metadata": {},
     "output_type": "display_data"
    },
    {
     "data": {
      "text/html": [
       "<pre style=\"white-space:pre;overflow-x:auto;line-height:normal;font-family:Menlo,'DejaVu Sans Mono',consolas,'Courier New',monospace\"><span style=\"color: #7fbfbf; text-decoration-color: #7fbfbf\">                       </span><span style=\"color: #000080; text-decoration-color: #000080\">INFO    </span> <span style=\"font-weight: bold\">[</span><span style=\"color: #008080; text-decoration-color: #008080; font-weight: bold\">1</span>/<span style=\"color: #008080; text-decoration-color: #008080; font-weight: bold\">10</span><span style=\"font-weight: bold\">]</span> Retrieving fixtures for NLD-Eredivisie <span style=\"color: #008080; text-decoration-color: #008080; font-weight: bold\">2425</span>                 <a href=\"file://c:\\Users\\Vitor\\anaconda3\\Lib\\site-packages\\soccerdata\\whoscored.py\" target=\"_blank\"><span style=\"color: #7f7f7f; text-decoration-color: #7f7f7f\">whoscored.py</span></a><span style=\"color: #7f7f7f; text-decoration-color: #7f7f7f\">:</span><a href=\"file://c:\\Users\\Vitor\\anaconda3\\Lib\\site-packages\\soccerdata\\whoscored.py#405\" target=\"_blank\"><span style=\"color: #7f7f7f; text-decoration-color: #7f7f7f\">405</span></a>\n",
       "</pre>\n"
      ],
      "text/plain": [
       "\u001b[2;36m                      \u001b[0m\u001b[2;36m \u001b[0m\u001b[34mINFO    \u001b[0m \u001b[1m[\u001b[0m\u001b[1;36m1\u001b[0m/\u001b[1;36m10\u001b[0m\u001b[1m]\u001b[0m Retrieving fixtures for NLD-Eredivisie \u001b[1;36m2425\u001b[0m                 \u001b]8;id=771927;file://c:\\Users\\Vitor\\anaconda3\\Lib\\site-packages\\soccerdata\\whoscored.py\u001b\\\u001b[2mwhoscored.py\u001b[0m\u001b]8;;\u001b\\\u001b[2m:\u001b[0m\u001b]8;id=736286;file://c:\\Users\\Vitor\\anaconda3\\Lib\\site-packages\\soccerdata\\whoscored.py#405\u001b\\\u001b[2m405\u001b[0m\u001b]8;;\u001b\\\n"
      ]
     },
     "metadata": {},
     "output_type": "display_data"
    },
    {
     "data": {
      "text/html": [
       "<pre style=\"white-space:pre;overflow-x:auto;line-height:normal;font-family:Menlo,'DejaVu Sans Mono',consolas,'Courier New',monospace\"><span style=\"color: #7fbfbf; text-decoration-color: #7fbfbf\">                       </span><span style=\"color: #000080; text-decoration-color: #000080\">INFO    </span> <span style=\"font-weight: bold\">[</span><span style=\"color: #008080; text-decoration-color: #008080; font-weight: bold\">2</span>/<span style=\"color: #008080; text-decoration-color: #008080; font-weight: bold\">10</span><span style=\"font-weight: bold\">]</span> Retrieving fixtures for NLD-Eredivisie <span style=\"color: #008080; text-decoration-color: #008080; font-weight: bold\">2425</span>                 <a href=\"file://c:\\Users\\Vitor\\anaconda3\\Lib\\site-packages\\soccerdata\\whoscored.py\" target=\"_blank\"><span style=\"color: #7f7f7f; text-decoration-color: #7f7f7f\">whoscored.py</span></a><span style=\"color: #7f7f7f; text-decoration-color: #7f7f7f\">:</span><a href=\"file://c:\\Users\\Vitor\\anaconda3\\Lib\\site-packages\\soccerdata\\whoscored.py#405\" target=\"_blank\"><span style=\"color: #7f7f7f; text-decoration-color: #7f7f7f\">405</span></a>\n",
       "</pre>\n"
      ],
      "text/plain": [
       "\u001b[2;36m                      \u001b[0m\u001b[2;36m \u001b[0m\u001b[34mINFO    \u001b[0m \u001b[1m[\u001b[0m\u001b[1;36m2\u001b[0m/\u001b[1;36m10\u001b[0m\u001b[1m]\u001b[0m Retrieving fixtures for NLD-Eredivisie \u001b[1;36m2425\u001b[0m                 \u001b]8;id=516571;file://c:\\Users\\Vitor\\anaconda3\\Lib\\site-packages\\soccerdata\\whoscored.py\u001b\\\u001b[2mwhoscored.py\u001b[0m\u001b]8;;\u001b\\\u001b[2m:\u001b[0m\u001b]8;id=983512;file://c:\\Users\\Vitor\\anaconda3\\Lib\\site-packages\\soccerdata\\whoscored.py#405\u001b\\\u001b[2m405\u001b[0m\u001b]8;;\u001b\\\n"
      ]
     },
     "metadata": {},
     "output_type": "display_data"
    },
    {
     "data": {
      "text/html": [
       "<pre style=\"white-space:pre;overflow-x:auto;line-height:normal;font-family:Menlo,'DejaVu Sans Mono',consolas,'Courier New',monospace\"><span style=\"color: #7fbfbf; text-decoration-color: #7fbfbf\">                       </span><span style=\"color: #000080; text-decoration-color: #000080\">INFO    </span> <span style=\"font-weight: bold\">[</span><span style=\"color: #008080; text-decoration-color: #008080; font-weight: bold\">3</span>/<span style=\"color: #008080; text-decoration-color: #008080; font-weight: bold\">10</span><span style=\"font-weight: bold\">]</span> Retrieving fixtures for NLD-Eredivisie <span style=\"color: #008080; text-decoration-color: #008080; font-weight: bold\">2425</span>                 <a href=\"file://c:\\Users\\Vitor\\anaconda3\\Lib\\site-packages\\soccerdata\\whoscored.py\" target=\"_blank\"><span style=\"color: #7f7f7f; text-decoration-color: #7f7f7f\">whoscored.py</span></a><span style=\"color: #7f7f7f; text-decoration-color: #7f7f7f\">:</span><a href=\"file://c:\\Users\\Vitor\\anaconda3\\Lib\\site-packages\\soccerdata\\whoscored.py#405\" target=\"_blank\"><span style=\"color: #7f7f7f; text-decoration-color: #7f7f7f\">405</span></a>\n",
       "</pre>\n"
      ],
      "text/plain": [
       "\u001b[2;36m                      \u001b[0m\u001b[2;36m \u001b[0m\u001b[34mINFO    \u001b[0m \u001b[1m[\u001b[0m\u001b[1;36m3\u001b[0m/\u001b[1;36m10\u001b[0m\u001b[1m]\u001b[0m Retrieving fixtures for NLD-Eredivisie \u001b[1;36m2425\u001b[0m                 \u001b]8;id=329352;file://c:\\Users\\Vitor\\anaconda3\\Lib\\site-packages\\soccerdata\\whoscored.py\u001b\\\u001b[2mwhoscored.py\u001b[0m\u001b]8;;\u001b\\\u001b[2m:\u001b[0m\u001b]8;id=383556;file://c:\\Users\\Vitor\\anaconda3\\Lib\\site-packages\\soccerdata\\whoscored.py#405\u001b\\\u001b[2m405\u001b[0m\u001b]8;;\u001b\\\n"
      ]
     },
     "metadata": {},
     "output_type": "display_data"
    },
    {
     "data": {
      "text/html": [
       "<pre style=\"white-space:pre;overflow-x:auto;line-height:normal;font-family:Menlo,'DejaVu Sans Mono',consolas,'Courier New',monospace\"><span style=\"color: #7fbfbf; text-decoration-color: #7fbfbf\">                       </span><span style=\"color: #000080; text-decoration-color: #000080\">INFO    </span> <span style=\"font-weight: bold\">[</span><span style=\"color: #008080; text-decoration-color: #008080; font-weight: bold\">4</span>/<span style=\"color: #008080; text-decoration-color: #008080; font-weight: bold\">10</span><span style=\"font-weight: bold\">]</span> Retrieving fixtures for NLD-Eredivisie <span style=\"color: #008080; text-decoration-color: #008080; font-weight: bold\">2425</span>                 <a href=\"file://c:\\Users\\Vitor\\anaconda3\\Lib\\site-packages\\soccerdata\\whoscored.py\" target=\"_blank\"><span style=\"color: #7f7f7f; text-decoration-color: #7f7f7f\">whoscored.py</span></a><span style=\"color: #7f7f7f; text-decoration-color: #7f7f7f\">:</span><a href=\"file://c:\\Users\\Vitor\\anaconda3\\Lib\\site-packages\\soccerdata\\whoscored.py#405\" target=\"_blank\"><span style=\"color: #7f7f7f; text-decoration-color: #7f7f7f\">405</span></a>\n",
       "</pre>\n"
      ],
      "text/plain": [
       "\u001b[2;36m                      \u001b[0m\u001b[2;36m \u001b[0m\u001b[34mINFO    \u001b[0m \u001b[1m[\u001b[0m\u001b[1;36m4\u001b[0m/\u001b[1;36m10\u001b[0m\u001b[1m]\u001b[0m Retrieving fixtures for NLD-Eredivisie \u001b[1;36m2425\u001b[0m                 \u001b]8;id=582405;file://c:\\Users\\Vitor\\anaconda3\\Lib\\site-packages\\soccerdata\\whoscored.py\u001b\\\u001b[2mwhoscored.py\u001b[0m\u001b]8;;\u001b\\\u001b[2m:\u001b[0m\u001b]8;id=61745;file://c:\\Users\\Vitor\\anaconda3\\Lib\\site-packages\\soccerdata\\whoscored.py#405\u001b\\\u001b[2m405\u001b[0m\u001b]8;;\u001b\\\n"
      ]
     },
     "metadata": {},
     "output_type": "display_data"
    },
    {
     "data": {
      "text/html": [
       "<pre style=\"white-space:pre;overflow-x:auto;line-height:normal;font-family:Menlo,'DejaVu Sans Mono',consolas,'Courier New',monospace\"><span style=\"color: #7fbfbf; text-decoration-color: #7fbfbf\">                       </span><span style=\"color: #000080; text-decoration-color: #000080\">INFO    </span> <span style=\"font-weight: bold\">[</span><span style=\"color: #008080; text-decoration-color: #008080; font-weight: bold\">5</span>/<span style=\"color: #008080; text-decoration-color: #008080; font-weight: bold\">10</span><span style=\"font-weight: bold\">]</span> Retrieving fixtures for NLD-Eredivisie <span style=\"color: #008080; text-decoration-color: #008080; font-weight: bold\">2425</span>                 <a href=\"file://c:\\Users\\Vitor\\anaconda3\\Lib\\site-packages\\soccerdata\\whoscored.py\" target=\"_blank\"><span style=\"color: #7f7f7f; text-decoration-color: #7f7f7f\">whoscored.py</span></a><span style=\"color: #7f7f7f; text-decoration-color: #7f7f7f\">:</span><a href=\"file://c:\\Users\\Vitor\\anaconda3\\Lib\\site-packages\\soccerdata\\whoscored.py#405\" target=\"_blank\"><span style=\"color: #7f7f7f; text-decoration-color: #7f7f7f\">405</span></a>\n",
       "</pre>\n"
      ],
      "text/plain": [
       "\u001b[2;36m                      \u001b[0m\u001b[2;36m \u001b[0m\u001b[34mINFO    \u001b[0m \u001b[1m[\u001b[0m\u001b[1;36m5\u001b[0m/\u001b[1;36m10\u001b[0m\u001b[1m]\u001b[0m Retrieving fixtures for NLD-Eredivisie \u001b[1;36m2425\u001b[0m                 \u001b]8;id=271494;file://c:\\Users\\Vitor\\anaconda3\\Lib\\site-packages\\soccerdata\\whoscored.py\u001b\\\u001b[2mwhoscored.py\u001b[0m\u001b]8;;\u001b\\\u001b[2m:\u001b[0m\u001b]8;id=83829;file://c:\\Users\\Vitor\\anaconda3\\Lib\\site-packages\\soccerdata\\whoscored.py#405\u001b\\\u001b[2m405\u001b[0m\u001b]8;;\u001b\\\n"
      ]
     },
     "metadata": {},
     "output_type": "display_data"
    },
    {
     "data": {
      "text/html": [
       "<pre style=\"white-space:pre;overflow-x:auto;line-height:normal;font-family:Menlo,'DejaVu Sans Mono',consolas,'Courier New',monospace\"><span style=\"color: #7fbfbf; text-decoration-color: #7fbfbf\">                       </span><span style=\"color: #000080; text-decoration-color: #000080\">INFO    </span> <span style=\"font-weight: bold\">[</span><span style=\"color: #008080; text-decoration-color: #008080; font-weight: bold\">6</span>/<span style=\"color: #008080; text-decoration-color: #008080; font-weight: bold\">10</span><span style=\"font-weight: bold\">]</span> Retrieving fixtures for NLD-Eredivisie <span style=\"color: #008080; text-decoration-color: #008080; font-weight: bold\">2425</span>                 <a href=\"file://c:\\Users\\Vitor\\anaconda3\\Lib\\site-packages\\soccerdata\\whoscored.py\" target=\"_blank\"><span style=\"color: #7f7f7f; text-decoration-color: #7f7f7f\">whoscored.py</span></a><span style=\"color: #7f7f7f; text-decoration-color: #7f7f7f\">:</span><a href=\"file://c:\\Users\\Vitor\\anaconda3\\Lib\\site-packages\\soccerdata\\whoscored.py#405\" target=\"_blank\"><span style=\"color: #7f7f7f; text-decoration-color: #7f7f7f\">405</span></a>\n",
       "</pre>\n"
      ],
      "text/plain": [
       "\u001b[2;36m                      \u001b[0m\u001b[2;36m \u001b[0m\u001b[34mINFO    \u001b[0m \u001b[1m[\u001b[0m\u001b[1;36m6\u001b[0m/\u001b[1;36m10\u001b[0m\u001b[1m]\u001b[0m Retrieving fixtures for NLD-Eredivisie \u001b[1;36m2425\u001b[0m                 \u001b]8;id=315951;file://c:\\Users\\Vitor\\anaconda3\\Lib\\site-packages\\soccerdata\\whoscored.py\u001b\\\u001b[2mwhoscored.py\u001b[0m\u001b]8;;\u001b\\\u001b[2m:\u001b[0m\u001b]8;id=511987;file://c:\\Users\\Vitor\\anaconda3\\Lib\\site-packages\\soccerdata\\whoscored.py#405\u001b\\\u001b[2m405\u001b[0m\u001b]8;;\u001b\\\n"
      ]
     },
     "metadata": {},
     "output_type": "display_data"
    },
    {
     "data": {
      "text/html": [
       "<pre style=\"white-space:pre;overflow-x:auto;line-height:normal;font-family:Menlo,'DejaVu Sans Mono',consolas,'Courier New',monospace\"><span style=\"color: #7fbfbf; text-decoration-color: #7fbfbf\">                       </span><span style=\"color: #000080; text-decoration-color: #000080\">INFO    </span> <span style=\"font-weight: bold\">[</span><span style=\"color: #008080; text-decoration-color: #008080; font-weight: bold\">7</span>/<span style=\"color: #008080; text-decoration-color: #008080; font-weight: bold\">10</span><span style=\"font-weight: bold\">]</span> Retrieving fixtures for NLD-Eredivisie <span style=\"color: #008080; text-decoration-color: #008080; font-weight: bold\">2425</span>                 <a href=\"file://c:\\Users\\Vitor\\anaconda3\\Lib\\site-packages\\soccerdata\\whoscored.py\" target=\"_blank\"><span style=\"color: #7f7f7f; text-decoration-color: #7f7f7f\">whoscored.py</span></a><span style=\"color: #7f7f7f; text-decoration-color: #7f7f7f\">:</span><a href=\"file://c:\\Users\\Vitor\\anaconda3\\Lib\\site-packages\\soccerdata\\whoscored.py#405\" target=\"_blank\"><span style=\"color: #7f7f7f; text-decoration-color: #7f7f7f\">405</span></a>\n",
       "</pre>\n"
      ],
      "text/plain": [
       "\u001b[2;36m                      \u001b[0m\u001b[2;36m \u001b[0m\u001b[34mINFO    \u001b[0m \u001b[1m[\u001b[0m\u001b[1;36m7\u001b[0m/\u001b[1;36m10\u001b[0m\u001b[1m]\u001b[0m Retrieving fixtures for NLD-Eredivisie \u001b[1;36m2425\u001b[0m                 \u001b]8;id=55623;file://c:\\Users\\Vitor\\anaconda3\\Lib\\site-packages\\soccerdata\\whoscored.py\u001b\\\u001b[2mwhoscored.py\u001b[0m\u001b]8;;\u001b\\\u001b[2m:\u001b[0m\u001b]8;id=561196;file://c:\\Users\\Vitor\\anaconda3\\Lib\\site-packages\\soccerdata\\whoscored.py#405\u001b\\\u001b[2m405\u001b[0m\u001b]8;;\u001b\\\n"
      ]
     },
     "metadata": {},
     "output_type": "display_data"
    },
    {
     "data": {
      "text/html": [
       "<pre style=\"white-space:pre;overflow-x:auto;line-height:normal;font-family:Menlo,'DejaVu Sans Mono',consolas,'Courier New',monospace\"><span style=\"color: #7fbfbf; text-decoration-color: #7fbfbf\">                       </span><span style=\"color: #000080; text-decoration-color: #000080\">INFO    </span> <span style=\"font-weight: bold\">[</span><span style=\"color: #008080; text-decoration-color: #008080; font-weight: bold\">8</span>/<span style=\"color: #008080; text-decoration-color: #008080; font-weight: bold\">10</span><span style=\"font-weight: bold\">]</span> Retrieving fixtures for NLD-Eredivisie <span style=\"color: #008080; text-decoration-color: #008080; font-weight: bold\">2425</span>                 <a href=\"file://c:\\Users\\Vitor\\anaconda3\\Lib\\site-packages\\soccerdata\\whoscored.py\" target=\"_blank\"><span style=\"color: #7f7f7f; text-decoration-color: #7f7f7f\">whoscored.py</span></a><span style=\"color: #7f7f7f; text-decoration-color: #7f7f7f\">:</span><a href=\"file://c:\\Users\\Vitor\\anaconda3\\Lib\\site-packages\\soccerdata\\whoscored.py#405\" target=\"_blank\"><span style=\"color: #7f7f7f; text-decoration-color: #7f7f7f\">405</span></a>\n",
       "</pre>\n"
      ],
      "text/plain": [
       "\u001b[2;36m                      \u001b[0m\u001b[2;36m \u001b[0m\u001b[34mINFO    \u001b[0m \u001b[1m[\u001b[0m\u001b[1;36m8\u001b[0m/\u001b[1;36m10\u001b[0m\u001b[1m]\u001b[0m Retrieving fixtures for NLD-Eredivisie \u001b[1;36m2425\u001b[0m                 \u001b]8;id=757386;file://c:\\Users\\Vitor\\anaconda3\\Lib\\site-packages\\soccerdata\\whoscored.py\u001b\\\u001b[2mwhoscored.py\u001b[0m\u001b]8;;\u001b\\\u001b[2m:\u001b[0m\u001b]8;id=836470;file://c:\\Users\\Vitor\\anaconda3\\Lib\\site-packages\\soccerdata\\whoscored.py#405\u001b\\\u001b[2m405\u001b[0m\u001b]8;;\u001b\\\n"
      ]
     },
     "metadata": {},
     "output_type": "display_data"
    },
    {
     "data": {
      "text/html": [
       "<pre style=\"white-space:pre;overflow-x:auto;line-height:normal;font-family:Menlo,'DejaVu Sans Mono',consolas,'Courier New',monospace\"><span style=\"color: #7fbfbf; text-decoration-color: #7fbfbf\">                       </span><span style=\"color: #000080; text-decoration-color: #000080\">INFO    </span> <span style=\"font-weight: bold\">[</span><span style=\"color: #008080; text-decoration-color: #008080; font-weight: bold\">9</span>/<span style=\"color: #008080; text-decoration-color: #008080; font-weight: bold\">10</span><span style=\"font-weight: bold\">]</span> Retrieving fixtures for NLD-Eredivisie <span style=\"color: #008080; text-decoration-color: #008080; font-weight: bold\">2425</span>                 <a href=\"file://c:\\Users\\Vitor\\anaconda3\\Lib\\site-packages\\soccerdata\\whoscored.py\" target=\"_blank\"><span style=\"color: #7f7f7f; text-decoration-color: #7f7f7f\">whoscored.py</span></a><span style=\"color: #7f7f7f; text-decoration-color: #7f7f7f\">:</span><a href=\"file://c:\\Users\\Vitor\\anaconda3\\Lib\\site-packages\\soccerdata\\whoscored.py#405\" target=\"_blank\"><span style=\"color: #7f7f7f; text-decoration-color: #7f7f7f\">405</span></a>\n",
       "</pre>\n"
      ],
      "text/plain": [
       "\u001b[2;36m                      \u001b[0m\u001b[2;36m \u001b[0m\u001b[34mINFO    \u001b[0m \u001b[1m[\u001b[0m\u001b[1;36m9\u001b[0m/\u001b[1;36m10\u001b[0m\u001b[1m]\u001b[0m Retrieving fixtures for NLD-Eredivisie \u001b[1;36m2425\u001b[0m                 \u001b]8;id=383312;file://c:\\Users\\Vitor\\anaconda3\\Lib\\site-packages\\soccerdata\\whoscored.py\u001b\\\u001b[2mwhoscored.py\u001b[0m\u001b]8;;\u001b\\\u001b[2m:\u001b[0m\u001b]8;id=421738;file://c:\\Users\\Vitor\\anaconda3\\Lib\\site-packages\\soccerdata\\whoscored.py#405\u001b\\\u001b[2m405\u001b[0m\u001b]8;;\u001b\\\n"
      ]
     },
     "metadata": {},
     "output_type": "display_data"
    },
    {
     "data": {
      "text/html": [
       "<pre style=\"white-space:pre;overflow-x:auto;line-height:normal;font-family:Menlo,'DejaVu Sans Mono',consolas,'Courier New',monospace\"><span style=\"color: #7fbfbf; text-decoration-color: #7fbfbf\">                       </span><span style=\"color: #000080; text-decoration-color: #000080\">INFO    </span> <span style=\"font-weight: bold\">[</span><span style=\"color: #008080; text-decoration-color: #008080; font-weight: bold\">10</span>/<span style=\"color: #008080; text-decoration-color: #008080; font-weight: bold\">10</span><span style=\"font-weight: bold\">]</span> Retrieving fixtures for NLD-Eredivisie <span style=\"color: #008080; text-decoration-color: #008080; font-weight: bold\">2425</span>                <a href=\"file://c:\\Users\\Vitor\\anaconda3\\Lib\\site-packages\\soccerdata\\whoscored.py\" target=\"_blank\"><span style=\"color: #7f7f7f; text-decoration-color: #7f7f7f\">whoscored.py</span></a><span style=\"color: #7f7f7f; text-decoration-color: #7f7f7f\">:</span><a href=\"file://c:\\Users\\Vitor\\anaconda3\\Lib\\site-packages\\soccerdata\\whoscored.py#405\" target=\"_blank\"><span style=\"color: #7f7f7f; text-decoration-color: #7f7f7f\">405</span></a>\n",
       "</pre>\n"
      ],
      "text/plain": [
       "\u001b[2;36m                      \u001b[0m\u001b[2;36m \u001b[0m\u001b[34mINFO    \u001b[0m \u001b[1m[\u001b[0m\u001b[1;36m10\u001b[0m/\u001b[1;36m10\u001b[0m\u001b[1m]\u001b[0m Retrieving fixtures for NLD-Eredivisie \u001b[1;36m2425\u001b[0m                \u001b]8;id=531295;file://c:\\Users\\Vitor\\anaconda3\\Lib\\site-packages\\soccerdata\\whoscored.py\u001b\\\u001b[2mwhoscored.py\u001b[0m\u001b]8;;\u001b\\\u001b[2m:\u001b[0m\u001b]8;id=169663;file://c:\\Users\\Vitor\\anaconda3\\Lib\\site-packages\\soccerdata\\whoscored.py#405\u001b\\\u001b[2m405\u001b[0m\u001b]8;;\u001b\\\n"
      ]
     },
     "metadata": {},
     "output_type": "display_data"
    },
    {
     "data": {
      "application/vnd.microsoft.datawrangler.viewer.v0+json": {
       "columns": [
        {
         "name": "index",
         "rawType": "int64",
         "type": "integer"
        },
        {
         "name": "league",
         "rawType": "object",
         "type": "string"
        },
        {
         "name": "season",
         "rawType": "object",
         "type": "string"
        },
        {
         "name": "start_time",
         "rawType": "object",
         "type": "string"
        },
        {
         "name": "game_id",
         "rawType": "int64",
         "type": "integer"
        },
        {
         "name": "team_id",
         "rawType": "int64",
         "type": "integer"
        },
        {
         "name": "team_name",
         "rawType": "object",
         "type": "string"
        }
       ],
       "conversionMethod": "pd.DataFrame",
       "ref": "e25d3356-5cae-44fe-899f-58441fee86a9",
       "rows": [
        [
         "0",
         "NLD-Eredivisie",
         "2425",
         "2024-08-09T19:00:00",
         "1822174",
         "758",
         "FC Groningen"
        ],
        [
         "1",
         "NLD-Eredivisie",
         "2425",
         "2024-08-10T19:00:00",
         "1822180",
         "1347",
         "Almere City FC"
        ],
        [
         "2",
         "NLD-Eredivisie",
         "2425",
         "2024-08-10T15:30:00",
         "1822175",
         "256",
         "Feyenoord"
        ],
        [
         "3",
         "NLD-Eredivisie",
         "2425",
         "2024-08-10T17:45:00",
         "1822176",
         "116",
         "NEC Nijmegen"
        ],
        [
         "4",
         "NLD-Eredivisie",
         "2425",
         "2024-08-10T20:00:00",
         "1822178",
         "129",
         "PSV Eindhoven"
        ],
        [
         "5",
         "NLD-Eredivisie",
         "2425",
         "2024-08-11T15:45:00",
         "1822182",
         "130",
         "Ajax"
        ],
        [
         "6",
         "NLD-Eredivisie",
         "2425",
         "2024-08-11T13:30:00",
         "1822177",
         "128",
         "FC Utrecht"
        ],
        [
         "7",
         "NLD-Eredivisie",
         "2425",
         "2024-08-11T13:30:00",
         "1822181",
         "874",
         "Go Ahead Eagles"
        ],
        [
         "8",
         "NLD-Eredivisie",
         "2425",
         "2024-08-11T11:15:00",
         "1822179",
         "303",
         "Sparta Rotterdam"
        ],
        [
         "9",
         "NLD-Eredivisie",
         "2425",
         "2024-08-16T19:00:00",
         "1822502",
         "242",
         "Fortuna Sittard"
        ],
        [
         "10",
         "NLD-Eredivisie",
         "2425",
         "2024-08-17T19:00:00",
         "1822506",
         "243",
         "AZ Alkmaar"
        ],
        [
         "11",
         "NLD-Eredivisie",
         "2425",
         "2024-08-17T17:45:00",
         "1822505",
         "113",
         "FC Twente"
        ],
        [
         "12",
         "NLD-Eredivisie",
         "2425",
         "2024-08-17T20:00:00",
         "1822508",
         "114",
         "RKC Waalwijk"
        ],
        [
         "13",
         "NLD-Eredivisie",
         "2425",
         "2024-08-17T15:30:00",
         "1822504",
         "287",
         "SC Heerenveen"
        ],
        [
         "14",
         "NLD-Eredivisie",
         "2425",
         "2024-08-18T11:15:00",
         "1822510",
         "870",
         "Heracles"
        ],
        [
         "15",
         "NLD-Eredivisie",
         "2425",
         "2024-08-18T15:45:00",
         "1822518",
         "783",
         "NAC Breda"
        ],
        [
         "16",
         "NLD-Eredivisie",
         "2425",
         "2024-08-18T13:30:00",
         "1822512",
         "868",
         "PEC Zwolle"
        ],
        [
         "17",
         "NLD-Eredivisie",
         "2425",
         "2024-08-18T13:30:00",
         "1822515",
         "115",
         "Willem II"
        ]
       ],
       "shape": {
        "columns": 6,
        "rows": 18
       }
      },
      "text/html": [
       "<div>\n",
       "<style scoped>\n",
       "    .dataframe tbody tr th:only-of-type {\n",
       "        vertical-align: middle;\n",
       "    }\n",
       "\n",
       "    .dataframe tbody tr th {\n",
       "        vertical-align: top;\n",
       "    }\n",
       "\n",
       "    .dataframe thead th {\n",
       "        text-align: right;\n",
       "    }\n",
       "</style>\n",
       "<table border=\"1\" class=\"dataframe\">\n",
       "  <thead>\n",
       "    <tr style=\"text-align: right;\">\n",
       "      <th></th>\n",
       "      <th>league</th>\n",
       "      <th>season</th>\n",
       "      <th>start_time</th>\n",
       "      <th>game_id</th>\n",
       "      <th>team_id</th>\n",
       "      <th>team_name</th>\n",
       "    </tr>\n",
       "  </thead>\n",
       "  <tbody>\n",
       "    <tr>\n",
       "      <th>0</th>\n",
       "      <td>NLD-Eredivisie</td>\n",
       "      <td>2425</td>\n",
       "      <td>2024-08-09T19:00:00</td>\n",
       "      <td>1822174</td>\n",
       "      <td>758</td>\n",
       "      <td>FC Groningen</td>\n",
       "    </tr>\n",
       "    <tr>\n",
       "      <th>1</th>\n",
       "      <td>NLD-Eredivisie</td>\n",
       "      <td>2425</td>\n",
       "      <td>2024-08-10T19:00:00</td>\n",
       "      <td>1822180</td>\n",
       "      <td>1347</td>\n",
       "      <td>Almere City FC</td>\n",
       "    </tr>\n",
       "    <tr>\n",
       "      <th>2</th>\n",
       "      <td>NLD-Eredivisie</td>\n",
       "      <td>2425</td>\n",
       "      <td>2024-08-10T15:30:00</td>\n",
       "      <td>1822175</td>\n",
       "      <td>256</td>\n",
       "      <td>Feyenoord</td>\n",
       "    </tr>\n",
       "    <tr>\n",
       "      <th>3</th>\n",
       "      <td>NLD-Eredivisie</td>\n",
       "      <td>2425</td>\n",
       "      <td>2024-08-10T17:45:00</td>\n",
       "      <td>1822176</td>\n",
       "      <td>116</td>\n",
       "      <td>NEC Nijmegen</td>\n",
       "    </tr>\n",
       "    <tr>\n",
       "      <th>4</th>\n",
       "      <td>NLD-Eredivisie</td>\n",
       "      <td>2425</td>\n",
       "      <td>2024-08-10T20:00:00</td>\n",
       "      <td>1822178</td>\n",
       "      <td>129</td>\n",
       "      <td>PSV Eindhoven</td>\n",
       "    </tr>\n",
       "    <tr>\n",
       "      <th>5</th>\n",
       "      <td>NLD-Eredivisie</td>\n",
       "      <td>2425</td>\n",
       "      <td>2024-08-11T15:45:00</td>\n",
       "      <td>1822182</td>\n",
       "      <td>130</td>\n",
       "      <td>Ajax</td>\n",
       "    </tr>\n",
       "    <tr>\n",
       "      <th>6</th>\n",
       "      <td>NLD-Eredivisie</td>\n",
       "      <td>2425</td>\n",
       "      <td>2024-08-11T13:30:00</td>\n",
       "      <td>1822177</td>\n",
       "      <td>128</td>\n",
       "      <td>FC Utrecht</td>\n",
       "    </tr>\n",
       "    <tr>\n",
       "      <th>7</th>\n",
       "      <td>NLD-Eredivisie</td>\n",
       "      <td>2425</td>\n",
       "      <td>2024-08-11T13:30:00</td>\n",
       "      <td>1822181</td>\n",
       "      <td>874</td>\n",
       "      <td>Go Ahead Eagles</td>\n",
       "    </tr>\n",
       "    <tr>\n",
       "      <th>8</th>\n",
       "      <td>NLD-Eredivisie</td>\n",
       "      <td>2425</td>\n",
       "      <td>2024-08-11T11:15:00</td>\n",
       "      <td>1822179</td>\n",
       "      <td>303</td>\n",
       "      <td>Sparta Rotterdam</td>\n",
       "    </tr>\n",
       "    <tr>\n",
       "      <th>9</th>\n",
       "      <td>NLD-Eredivisie</td>\n",
       "      <td>2425</td>\n",
       "      <td>2024-08-16T19:00:00</td>\n",
       "      <td>1822502</td>\n",
       "      <td>242</td>\n",
       "      <td>Fortuna Sittard</td>\n",
       "    </tr>\n",
       "    <tr>\n",
       "      <th>10</th>\n",
       "      <td>NLD-Eredivisie</td>\n",
       "      <td>2425</td>\n",
       "      <td>2024-08-17T19:00:00</td>\n",
       "      <td>1822506</td>\n",
       "      <td>243</td>\n",
       "      <td>AZ Alkmaar</td>\n",
       "    </tr>\n",
       "    <tr>\n",
       "      <th>11</th>\n",
       "      <td>NLD-Eredivisie</td>\n",
       "      <td>2425</td>\n",
       "      <td>2024-08-17T17:45:00</td>\n",
       "      <td>1822505</td>\n",
       "      <td>113</td>\n",
       "      <td>FC Twente</td>\n",
       "    </tr>\n",
       "    <tr>\n",
       "      <th>12</th>\n",
       "      <td>NLD-Eredivisie</td>\n",
       "      <td>2425</td>\n",
       "      <td>2024-08-17T20:00:00</td>\n",
       "      <td>1822508</td>\n",
       "      <td>114</td>\n",
       "      <td>RKC Waalwijk</td>\n",
       "    </tr>\n",
       "    <tr>\n",
       "      <th>13</th>\n",
       "      <td>NLD-Eredivisie</td>\n",
       "      <td>2425</td>\n",
       "      <td>2024-08-17T15:30:00</td>\n",
       "      <td>1822504</td>\n",
       "      <td>287</td>\n",
       "      <td>SC Heerenveen</td>\n",
       "    </tr>\n",
       "    <tr>\n",
       "      <th>14</th>\n",
       "      <td>NLD-Eredivisie</td>\n",
       "      <td>2425</td>\n",
       "      <td>2024-08-18T11:15:00</td>\n",
       "      <td>1822510</td>\n",
       "      <td>870</td>\n",
       "      <td>Heracles</td>\n",
       "    </tr>\n",
       "    <tr>\n",
       "      <th>15</th>\n",
       "      <td>NLD-Eredivisie</td>\n",
       "      <td>2425</td>\n",
       "      <td>2024-08-18T15:45:00</td>\n",
       "      <td>1822518</td>\n",
       "      <td>783</td>\n",
       "      <td>NAC Breda</td>\n",
       "    </tr>\n",
       "    <tr>\n",
       "      <th>16</th>\n",
       "      <td>NLD-Eredivisie</td>\n",
       "      <td>2425</td>\n",
       "      <td>2024-08-18T13:30:00</td>\n",
       "      <td>1822512</td>\n",
       "      <td>868</td>\n",
       "      <td>PEC Zwolle</td>\n",
       "    </tr>\n",
       "    <tr>\n",
       "      <th>17</th>\n",
       "      <td>NLD-Eredivisie</td>\n",
       "      <td>2425</td>\n",
       "      <td>2024-08-18T13:30:00</td>\n",
       "      <td>1822515</td>\n",
       "      <td>115</td>\n",
       "      <td>Willem II</td>\n",
       "    </tr>\n",
       "  </tbody>\n",
       "</table>\n",
       "</div>"
      ],
      "text/plain": [
       "            league season           start_time  game_id  team_id  \\\n",
       "0   NLD-Eredivisie   2425  2024-08-09T19:00:00  1822174      758   \n",
       "1   NLD-Eredivisie   2425  2024-08-10T19:00:00  1822180     1347   \n",
       "2   NLD-Eredivisie   2425  2024-08-10T15:30:00  1822175      256   \n",
       "3   NLD-Eredivisie   2425  2024-08-10T17:45:00  1822176      116   \n",
       "4   NLD-Eredivisie   2425  2024-08-10T20:00:00  1822178      129   \n",
       "5   NLD-Eredivisie   2425  2024-08-11T15:45:00  1822182      130   \n",
       "6   NLD-Eredivisie   2425  2024-08-11T13:30:00  1822177      128   \n",
       "7   NLD-Eredivisie   2425  2024-08-11T13:30:00  1822181      874   \n",
       "8   NLD-Eredivisie   2425  2024-08-11T11:15:00  1822179      303   \n",
       "9   NLD-Eredivisie   2425  2024-08-16T19:00:00  1822502      242   \n",
       "10  NLD-Eredivisie   2425  2024-08-17T19:00:00  1822506      243   \n",
       "11  NLD-Eredivisie   2425  2024-08-17T17:45:00  1822505      113   \n",
       "12  NLD-Eredivisie   2425  2024-08-17T20:00:00  1822508      114   \n",
       "13  NLD-Eredivisie   2425  2024-08-17T15:30:00  1822504      287   \n",
       "14  NLD-Eredivisie   2425  2024-08-18T11:15:00  1822510      870   \n",
       "15  NLD-Eredivisie   2425  2024-08-18T15:45:00  1822518      783   \n",
       "16  NLD-Eredivisie   2425  2024-08-18T13:30:00  1822512      868   \n",
       "17  NLD-Eredivisie   2425  2024-08-18T13:30:00  1822515      115   \n",
       "\n",
       "           team_name  \n",
       "0       FC Groningen  \n",
       "1     Almere City FC  \n",
       "2          Feyenoord  \n",
       "3       NEC Nijmegen  \n",
       "4      PSV Eindhoven  \n",
       "5               Ajax  \n",
       "6         FC Utrecht  \n",
       "7    Go Ahead Eagles  \n",
       "8   Sparta Rotterdam  \n",
       "9    Fortuna Sittard  \n",
       "10        AZ Alkmaar  \n",
       "11         FC Twente  \n",
       "12      RKC Waalwijk  \n",
       "13     SC Heerenveen  \n",
       "14          Heracles  \n",
       "15         NAC Breda  \n",
       "16        PEC Zwolle  \n",
       "17         Willem II  "
      ]
     },
     "execution_count": 7,
     "metadata": {},
     "output_type": "execute_result"
    }
   ],
   "source": [
    "locale.setlocale(locale.LC_TIME, \"en_US.UTF-8\")\n",
    "ws_NLD_Eredivisie = sd.WhoScored(\n",
    "    leagues=\"NLD-Eredivisie\", seasons=\"2024/2025\", no_cache=False, no_store=False\n",
    ")\n",
    "df_ws_NLD_Eredivisie = ws_NLD_Eredivisie.read_schedule(force_cache=True)\n",
    "df_ws_NLD_Eredivisie = get_WhoScored_team_id_df(df_ws_NLD_Eredivisie)\n",
    "df_ws_NLD_Eredivisie"
   ]
  },
  {
   "cell_type": "code",
   "execution_count": 8,
   "id": "343544ee",
   "metadata": {},
   "outputs": [
    {
     "data": {
      "text/html": [
       "<pre style=\"white-space:pre;overflow-x:auto;line-height:normal;font-family:Menlo,'DejaVu Sans Mono',consolas,'Courier New',monospace\"><span style=\"color: #7fbfbf; text-decoration-color: #7fbfbf\">[4/11/2025 6:27:28 PM] </span><span style=\"color: #000080; text-decoration-color: #000080\">INFO    </span> Saving cached data to C:\\Users\\Vitor\\soccerdata\\data\\WhoScored       <a href=\"file://c:\\Users\\Vitor\\anaconda3\\Lib\\site-packages\\soccerdata\\_common.py\" target=\"_blank\"><span style=\"color: #7f7f7f; text-decoration-color: #7f7f7f\">_common.py</span></a><span style=\"color: #7f7f7f; text-decoration-color: #7f7f7f\">:</span><a href=\"file://c:\\Users\\Vitor\\anaconda3\\Lib\\site-packages\\soccerdata\\_common.py#263\" target=\"_blank\"><span style=\"color: #7f7f7f; text-decoration-color: #7f7f7f\">263</span></a>\n",
       "</pre>\n"
      ],
      "text/plain": [
       "\u001b[2;36m[4/11/2025 6:27:28 PM]\u001b[0m\u001b[2;36m \u001b[0m\u001b[34mINFO    \u001b[0m Saving cached data to C:\\Users\\Vitor\\soccerdata\\data\\WhoScored       \u001b]8;id=582886;file://c:\\Users\\Vitor\\anaconda3\\Lib\\site-packages\\soccerdata\\_common.py\u001b\\\u001b[2m_common.py\u001b[0m\u001b]8;;\u001b\\\u001b[2m:\u001b[0m\u001b]8;id=983584;file://c:\\Users\\Vitor\\anaconda3\\Lib\\site-packages\\soccerdata\\_common.py#263\u001b\\\u001b[2m263\u001b[0m\u001b]8;;\u001b\\\n"
      ]
     },
     "metadata": {},
     "output_type": "display_data"
    },
    {
     "data": {
      "text/html": [
       "<pre style=\"white-space:pre;overflow-x:auto;line-height:normal;font-family:Menlo,'DejaVu Sans Mono',consolas,'Courier New',monospace\"><span style=\"color: #7fbfbf; text-decoration-color: #7fbfbf\">[4/11/2025 6:27:29 PM] </span><span style=\"color: #000080; text-decoration-color: #000080\">INFO    </span> Retrieving calendar for ENG-Premier League <span style=\"color: #008080; text-decoration-color: #008080; font-weight: bold\">2425</span>                    <a href=\"file://c:\\Users\\Vitor\\anaconda3\\Lib\\site-packages\\soccerdata\\whoscored.py\" target=\"_blank\"><span style=\"color: #7f7f7f; text-decoration-color: #7f7f7f\">whoscored.py</span></a><span style=\"color: #7f7f7f; text-decoration-color: #7f7f7f\">:</span><a href=\"file://c:\\Users\\Vitor\\anaconda3\\Lib\\site-packages\\soccerdata\\whoscored.py#376\" target=\"_blank\"><span style=\"color: #7f7f7f; text-decoration-color: #7f7f7f\">376</span></a>\n",
       "</pre>\n"
      ],
      "text/plain": [
       "\u001b[2;36m[4/11/2025 6:27:29 PM]\u001b[0m\u001b[2;36m \u001b[0m\u001b[34mINFO    \u001b[0m Retrieving calendar for ENG-Premier League \u001b[1;36m2425\u001b[0m                    \u001b]8;id=407389;file://c:\\Users\\Vitor\\anaconda3\\Lib\\site-packages\\soccerdata\\whoscored.py\u001b\\\u001b[2mwhoscored.py\u001b[0m\u001b]8;;\u001b\\\u001b[2m:\u001b[0m\u001b]8;id=572171;file://c:\\Users\\Vitor\\anaconda3\\Lib\\site-packages\\soccerdata\\whoscored.py#376\u001b\\\u001b[2m376\u001b[0m\u001b]8;;\u001b\\\n"
      ]
     },
     "metadata": {},
     "output_type": "display_data"
    },
    {
     "data": {
      "text/html": [
       "<pre style=\"white-space:pre;overflow-x:auto;line-height:normal;font-family:Menlo,'DejaVu Sans Mono',consolas,'Courier New',monospace\"><span style=\"color: #7fbfbf; text-decoration-color: #7fbfbf\">                       </span><span style=\"color: #000080; text-decoration-color: #000080\">INFO    </span> <span style=\"font-weight: bold\">[</span><span style=\"color: #008080; text-decoration-color: #008080; font-weight: bold\">1</span>/<span style=\"color: #008080; text-decoration-color: #008080; font-weight: bold\">10</span><span style=\"font-weight: bold\">]</span> Retrieving fixtures for ENG-Premier League <span style=\"color: #008080; text-decoration-color: #008080; font-weight: bold\">2425</span>             <a href=\"file://c:\\Users\\Vitor\\anaconda3\\Lib\\site-packages\\soccerdata\\whoscored.py\" target=\"_blank\"><span style=\"color: #7f7f7f; text-decoration-color: #7f7f7f\">whoscored.py</span></a><span style=\"color: #7f7f7f; text-decoration-color: #7f7f7f\">:</span><a href=\"file://c:\\Users\\Vitor\\anaconda3\\Lib\\site-packages\\soccerdata\\whoscored.py#405\" target=\"_blank\"><span style=\"color: #7f7f7f; text-decoration-color: #7f7f7f\">405</span></a>\n",
       "</pre>\n"
      ],
      "text/plain": [
       "\u001b[2;36m                      \u001b[0m\u001b[2;36m \u001b[0m\u001b[34mINFO    \u001b[0m \u001b[1m[\u001b[0m\u001b[1;36m1\u001b[0m/\u001b[1;36m10\u001b[0m\u001b[1m]\u001b[0m Retrieving fixtures for ENG-Premier League \u001b[1;36m2425\u001b[0m             \u001b]8;id=207552;file://c:\\Users\\Vitor\\anaconda3\\Lib\\site-packages\\soccerdata\\whoscored.py\u001b\\\u001b[2mwhoscored.py\u001b[0m\u001b]8;;\u001b\\\u001b[2m:\u001b[0m\u001b]8;id=251552;file://c:\\Users\\Vitor\\anaconda3\\Lib\\site-packages\\soccerdata\\whoscored.py#405\u001b\\\u001b[2m405\u001b[0m\u001b]8;;\u001b\\\n"
      ]
     },
     "metadata": {},
     "output_type": "display_data"
    },
    {
     "data": {
      "text/html": [
       "<pre style=\"white-space:pre;overflow-x:auto;line-height:normal;font-family:Menlo,'DejaVu Sans Mono',consolas,'Courier New',monospace\"><span style=\"color: #7fbfbf; text-decoration-color: #7fbfbf\">                       </span><span style=\"color: #000080; text-decoration-color: #000080\">INFO    </span> <span style=\"font-weight: bold\">[</span><span style=\"color: #008080; text-decoration-color: #008080; font-weight: bold\">2</span>/<span style=\"color: #008080; text-decoration-color: #008080; font-weight: bold\">10</span><span style=\"font-weight: bold\">]</span> Retrieving fixtures for ENG-Premier League <span style=\"color: #008080; text-decoration-color: #008080; font-weight: bold\">2425</span>             <a href=\"file://c:\\Users\\Vitor\\anaconda3\\Lib\\site-packages\\soccerdata\\whoscored.py\" target=\"_blank\"><span style=\"color: #7f7f7f; text-decoration-color: #7f7f7f\">whoscored.py</span></a><span style=\"color: #7f7f7f; text-decoration-color: #7f7f7f\">:</span><a href=\"file://c:\\Users\\Vitor\\anaconda3\\Lib\\site-packages\\soccerdata\\whoscored.py#405\" target=\"_blank\"><span style=\"color: #7f7f7f; text-decoration-color: #7f7f7f\">405</span></a>\n",
       "</pre>\n"
      ],
      "text/plain": [
       "\u001b[2;36m                      \u001b[0m\u001b[2;36m \u001b[0m\u001b[34mINFO    \u001b[0m \u001b[1m[\u001b[0m\u001b[1;36m2\u001b[0m/\u001b[1;36m10\u001b[0m\u001b[1m]\u001b[0m Retrieving fixtures for ENG-Premier League \u001b[1;36m2425\u001b[0m             \u001b]8;id=703446;file://c:\\Users\\Vitor\\anaconda3\\Lib\\site-packages\\soccerdata\\whoscored.py\u001b\\\u001b[2mwhoscored.py\u001b[0m\u001b]8;;\u001b\\\u001b[2m:\u001b[0m\u001b]8;id=370657;file://c:\\Users\\Vitor\\anaconda3\\Lib\\site-packages\\soccerdata\\whoscored.py#405\u001b\\\u001b[2m405\u001b[0m\u001b]8;;\u001b\\\n"
      ]
     },
     "metadata": {},
     "output_type": "display_data"
    },
    {
     "data": {
      "text/html": [
       "<pre style=\"white-space:pre;overflow-x:auto;line-height:normal;font-family:Menlo,'DejaVu Sans Mono',consolas,'Courier New',monospace\"><span style=\"color: #7fbfbf; text-decoration-color: #7fbfbf\">                       </span><span style=\"color: #000080; text-decoration-color: #000080\">INFO    </span> <span style=\"font-weight: bold\">[</span><span style=\"color: #008080; text-decoration-color: #008080; font-weight: bold\">3</span>/<span style=\"color: #008080; text-decoration-color: #008080; font-weight: bold\">10</span><span style=\"font-weight: bold\">]</span> Retrieving fixtures for ENG-Premier League <span style=\"color: #008080; text-decoration-color: #008080; font-weight: bold\">2425</span>             <a href=\"file://c:\\Users\\Vitor\\anaconda3\\Lib\\site-packages\\soccerdata\\whoscored.py\" target=\"_blank\"><span style=\"color: #7f7f7f; text-decoration-color: #7f7f7f\">whoscored.py</span></a><span style=\"color: #7f7f7f; text-decoration-color: #7f7f7f\">:</span><a href=\"file://c:\\Users\\Vitor\\anaconda3\\Lib\\site-packages\\soccerdata\\whoscored.py#405\" target=\"_blank\"><span style=\"color: #7f7f7f; text-decoration-color: #7f7f7f\">405</span></a>\n",
       "</pre>\n"
      ],
      "text/plain": [
       "\u001b[2;36m                      \u001b[0m\u001b[2;36m \u001b[0m\u001b[34mINFO    \u001b[0m \u001b[1m[\u001b[0m\u001b[1;36m3\u001b[0m/\u001b[1;36m10\u001b[0m\u001b[1m]\u001b[0m Retrieving fixtures for ENG-Premier League \u001b[1;36m2425\u001b[0m             \u001b]8;id=746881;file://c:\\Users\\Vitor\\anaconda3\\Lib\\site-packages\\soccerdata\\whoscored.py\u001b\\\u001b[2mwhoscored.py\u001b[0m\u001b]8;;\u001b\\\u001b[2m:\u001b[0m\u001b]8;id=553818;file://c:\\Users\\Vitor\\anaconda3\\Lib\\site-packages\\soccerdata\\whoscored.py#405\u001b\\\u001b[2m405\u001b[0m\u001b]8;;\u001b\\\n"
      ]
     },
     "metadata": {},
     "output_type": "display_data"
    },
    {
     "data": {
      "text/html": [
       "<pre style=\"white-space:pre;overflow-x:auto;line-height:normal;font-family:Menlo,'DejaVu Sans Mono',consolas,'Courier New',monospace\"><span style=\"color: #7fbfbf; text-decoration-color: #7fbfbf\">                       </span><span style=\"color: #000080; text-decoration-color: #000080\">INFO    </span> <span style=\"font-weight: bold\">[</span><span style=\"color: #008080; text-decoration-color: #008080; font-weight: bold\">4</span>/<span style=\"color: #008080; text-decoration-color: #008080; font-weight: bold\">10</span><span style=\"font-weight: bold\">]</span> Retrieving fixtures for ENG-Premier League <span style=\"color: #008080; text-decoration-color: #008080; font-weight: bold\">2425</span>             <a href=\"file://c:\\Users\\Vitor\\anaconda3\\Lib\\site-packages\\soccerdata\\whoscored.py\" target=\"_blank\"><span style=\"color: #7f7f7f; text-decoration-color: #7f7f7f\">whoscored.py</span></a><span style=\"color: #7f7f7f; text-decoration-color: #7f7f7f\">:</span><a href=\"file://c:\\Users\\Vitor\\anaconda3\\Lib\\site-packages\\soccerdata\\whoscored.py#405\" target=\"_blank\"><span style=\"color: #7f7f7f; text-decoration-color: #7f7f7f\">405</span></a>\n",
       "</pre>\n"
      ],
      "text/plain": [
       "\u001b[2;36m                      \u001b[0m\u001b[2;36m \u001b[0m\u001b[34mINFO    \u001b[0m \u001b[1m[\u001b[0m\u001b[1;36m4\u001b[0m/\u001b[1;36m10\u001b[0m\u001b[1m]\u001b[0m Retrieving fixtures for ENG-Premier League \u001b[1;36m2425\u001b[0m             \u001b]8;id=41927;file://c:\\Users\\Vitor\\anaconda3\\Lib\\site-packages\\soccerdata\\whoscored.py\u001b\\\u001b[2mwhoscored.py\u001b[0m\u001b]8;;\u001b\\\u001b[2m:\u001b[0m\u001b]8;id=52530;file://c:\\Users\\Vitor\\anaconda3\\Lib\\site-packages\\soccerdata\\whoscored.py#405\u001b\\\u001b[2m405\u001b[0m\u001b]8;;\u001b\\\n"
      ]
     },
     "metadata": {},
     "output_type": "display_data"
    },
    {
     "data": {
      "text/html": [
       "<pre style=\"white-space:pre;overflow-x:auto;line-height:normal;font-family:Menlo,'DejaVu Sans Mono',consolas,'Courier New',monospace\"><span style=\"color: #7fbfbf; text-decoration-color: #7fbfbf\">                       </span><span style=\"color: #000080; text-decoration-color: #000080\">INFO    </span> <span style=\"font-weight: bold\">[</span><span style=\"color: #008080; text-decoration-color: #008080; font-weight: bold\">5</span>/<span style=\"color: #008080; text-decoration-color: #008080; font-weight: bold\">10</span><span style=\"font-weight: bold\">]</span> Retrieving fixtures for ENG-Premier League <span style=\"color: #008080; text-decoration-color: #008080; font-weight: bold\">2425</span>             <a href=\"file://c:\\Users\\Vitor\\anaconda3\\Lib\\site-packages\\soccerdata\\whoscored.py\" target=\"_blank\"><span style=\"color: #7f7f7f; text-decoration-color: #7f7f7f\">whoscored.py</span></a><span style=\"color: #7f7f7f; text-decoration-color: #7f7f7f\">:</span><a href=\"file://c:\\Users\\Vitor\\anaconda3\\Lib\\site-packages\\soccerdata\\whoscored.py#405\" target=\"_blank\"><span style=\"color: #7f7f7f; text-decoration-color: #7f7f7f\">405</span></a>\n",
       "</pre>\n"
      ],
      "text/plain": [
       "\u001b[2;36m                      \u001b[0m\u001b[2;36m \u001b[0m\u001b[34mINFO    \u001b[0m \u001b[1m[\u001b[0m\u001b[1;36m5\u001b[0m/\u001b[1;36m10\u001b[0m\u001b[1m]\u001b[0m Retrieving fixtures for ENG-Premier League \u001b[1;36m2425\u001b[0m             \u001b]8;id=184793;file://c:\\Users\\Vitor\\anaconda3\\Lib\\site-packages\\soccerdata\\whoscored.py\u001b\\\u001b[2mwhoscored.py\u001b[0m\u001b]8;;\u001b\\\u001b[2m:\u001b[0m\u001b]8;id=8721;file://c:\\Users\\Vitor\\anaconda3\\Lib\\site-packages\\soccerdata\\whoscored.py#405\u001b\\\u001b[2m405\u001b[0m\u001b]8;;\u001b\\\n"
      ]
     },
     "metadata": {},
     "output_type": "display_data"
    },
    {
     "data": {
      "text/html": [
       "<pre style=\"white-space:pre;overflow-x:auto;line-height:normal;font-family:Menlo,'DejaVu Sans Mono',consolas,'Courier New',monospace\"><span style=\"color: #7fbfbf; text-decoration-color: #7fbfbf\">                       </span><span style=\"color: #000080; text-decoration-color: #000080\">INFO    </span> <span style=\"font-weight: bold\">[</span><span style=\"color: #008080; text-decoration-color: #008080; font-weight: bold\">6</span>/<span style=\"color: #008080; text-decoration-color: #008080; font-weight: bold\">10</span><span style=\"font-weight: bold\">]</span> Retrieving fixtures for ENG-Premier League <span style=\"color: #008080; text-decoration-color: #008080; font-weight: bold\">2425</span>             <a href=\"file://c:\\Users\\Vitor\\anaconda3\\Lib\\site-packages\\soccerdata\\whoscored.py\" target=\"_blank\"><span style=\"color: #7f7f7f; text-decoration-color: #7f7f7f\">whoscored.py</span></a><span style=\"color: #7f7f7f; text-decoration-color: #7f7f7f\">:</span><a href=\"file://c:\\Users\\Vitor\\anaconda3\\Lib\\site-packages\\soccerdata\\whoscored.py#405\" target=\"_blank\"><span style=\"color: #7f7f7f; text-decoration-color: #7f7f7f\">405</span></a>\n",
       "</pre>\n"
      ],
      "text/plain": [
       "\u001b[2;36m                      \u001b[0m\u001b[2;36m \u001b[0m\u001b[34mINFO    \u001b[0m \u001b[1m[\u001b[0m\u001b[1;36m6\u001b[0m/\u001b[1;36m10\u001b[0m\u001b[1m]\u001b[0m Retrieving fixtures for ENG-Premier League \u001b[1;36m2425\u001b[0m             \u001b]8;id=71036;file://c:\\Users\\Vitor\\anaconda3\\Lib\\site-packages\\soccerdata\\whoscored.py\u001b\\\u001b[2mwhoscored.py\u001b[0m\u001b]8;;\u001b\\\u001b[2m:\u001b[0m\u001b]8;id=357343;file://c:\\Users\\Vitor\\anaconda3\\Lib\\site-packages\\soccerdata\\whoscored.py#405\u001b\\\u001b[2m405\u001b[0m\u001b]8;;\u001b\\\n"
      ]
     },
     "metadata": {},
     "output_type": "display_data"
    },
    {
     "data": {
      "text/html": [
       "<pre style=\"white-space:pre;overflow-x:auto;line-height:normal;font-family:Menlo,'DejaVu Sans Mono',consolas,'Courier New',monospace\"><span style=\"color: #7fbfbf; text-decoration-color: #7fbfbf\">                       </span><span style=\"color: #000080; text-decoration-color: #000080\">INFO    </span> <span style=\"font-weight: bold\">[</span><span style=\"color: #008080; text-decoration-color: #008080; font-weight: bold\">7</span>/<span style=\"color: #008080; text-decoration-color: #008080; font-weight: bold\">10</span><span style=\"font-weight: bold\">]</span> Retrieving fixtures for ENG-Premier League <span style=\"color: #008080; text-decoration-color: #008080; font-weight: bold\">2425</span>             <a href=\"file://c:\\Users\\Vitor\\anaconda3\\Lib\\site-packages\\soccerdata\\whoscored.py\" target=\"_blank\"><span style=\"color: #7f7f7f; text-decoration-color: #7f7f7f\">whoscored.py</span></a><span style=\"color: #7f7f7f; text-decoration-color: #7f7f7f\">:</span><a href=\"file://c:\\Users\\Vitor\\anaconda3\\Lib\\site-packages\\soccerdata\\whoscored.py#405\" target=\"_blank\"><span style=\"color: #7f7f7f; text-decoration-color: #7f7f7f\">405</span></a>\n",
       "</pre>\n"
      ],
      "text/plain": [
       "\u001b[2;36m                      \u001b[0m\u001b[2;36m \u001b[0m\u001b[34mINFO    \u001b[0m \u001b[1m[\u001b[0m\u001b[1;36m7\u001b[0m/\u001b[1;36m10\u001b[0m\u001b[1m]\u001b[0m Retrieving fixtures for ENG-Premier League \u001b[1;36m2425\u001b[0m             \u001b]8;id=443232;file://c:\\Users\\Vitor\\anaconda3\\Lib\\site-packages\\soccerdata\\whoscored.py\u001b\\\u001b[2mwhoscored.py\u001b[0m\u001b]8;;\u001b\\\u001b[2m:\u001b[0m\u001b]8;id=34901;file://c:\\Users\\Vitor\\anaconda3\\Lib\\site-packages\\soccerdata\\whoscored.py#405\u001b\\\u001b[2m405\u001b[0m\u001b]8;;\u001b\\\n"
      ]
     },
     "metadata": {},
     "output_type": "display_data"
    },
    {
     "data": {
      "text/html": [
       "<pre style=\"white-space:pre;overflow-x:auto;line-height:normal;font-family:Menlo,'DejaVu Sans Mono',consolas,'Courier New',monospace\"><span style=\"color: #7fbfbf; text-decoration-color: #7fbfbf\">                       </span><span style=\"color: #000080; text-decoration-color: #000080\">INFO    </span> <span style=\"font-weight: bold\">[</span><span style=\"color: #008080; text-decoration-color: #008080; font-weight: bold\">8</span>/<span style=\"color: #008080; text-decoration-color: #008080; font-weight: bold\">10</span><span style=\"font-weight: bold\">]</span> Retrieving fixtures for ENG-Premier League <span style=\"color: #008080; text-decoration-color: #008080; font-weight: bold\">2425</span>             <a href=\"file://c:\\Users\\Vitor\\anaconda3\\Lib\\site-packages\\soccerdata\\whoscored.py\" target=\"_blank\"><span style=\"color: #7f7f7f; text-decoration-color: #7f7f7f\">whoscored.py</span></a><span style=\"color: #7f7f7f; text-decoration-color: #7f7f7f\">:</span><a href=\"file://c:\\Users\\Vitor\\anaconda3\\Lib\\site-packages\\soccerdata\\whoscored.py#405\" target=\"_blank\"><span style=\"color: #7f7f7f; text-decoration-color: #7f7f7f\">405</span></a>\n",
       "</pre>\n"
      ],
      "text/plain": [
       "\u001b[2;36m                      \u001b[0m\u001b[2;36m \u001b[0m\u001b[34mINFO    \u001b[0m \u001b[1m[\u001b[0m\u001b[1;36m8\u001b[0m/\u001b[1;36m10\u001b[0m\u001b[1m]\u001b[0m Retrieving fixtures for ENG-Premier League \u001b[1;36m2425\u001b[0m             \u001b]8;id=800716;file://c:\\Users\\Vitor\\anaconda3\\Lib\\site-packages\\soccerdata\\whoscored.py\u001b\\\u001b[2mwhoscored.py\u001b[0m\u001b]8;;\u001b\\\u001b[2m:\u001b[0m\u001b]8;id=386304;file://c:\\Users\\Vitor\\anaconda3\\Lib\\site-packages\\soccerdata\\whoscored.py#405\u001b\\\u001b[2m405\u001b[0m\u001b]8;;\u001b\\\n"
      ]
     },
     "metadata": {},
     "output_type": "display_data"
    },
    {
     "data": {
      "text/html": [
       "<pre style=\"white-space:pre;overflow-x:auto;line-height:normal;font-family:Menlo,'DejaVu Sans Mono',consolas,'Courier New',monospace\"><span style=\"color: #7fbfbf; text-decoration-color: #7fbfbf\">                       </span><span style=\"color: #000080; text-decoration-color: #000080\">INFO    </span> <span style=\"font-weight: bold\">[</span><span style=\"color: #008080; text-decoration-color: #008080; font-weight: bold\">9</span>/<span style=\"color: #008080; text-decoration-color: #008080; font-weight: bold\">10</span><span style=\"font-weight: bold\">]</span> Retrieving fixtures for ENG-Premier League <span style=\"color: #008080; text-decoration-color: #008080; font-weight: bold\">2425</span>             <a href=\"file://c:\\Users\\Vitor\\anaconda3\\Lib\\site-packages\\soccerdata\\whoscored.py\" target=\"_blank\"><span style=\"color: #7f7f7f; text-decoration-color: #7f7f7f\">whoscored.py</span></a><span style=\"color: #7f7f7f; text-decoration-color: #7f7f7f\">:</span><a href=\"file://c:\\Users\\Vitor\\anaconda3\\Lib\\site-packages\\soccerdata\\whoscored.py#405\" target=\"_blank\"><span style=\"color: #7f7f7f; text-decoration-color: #7f7f7f\">405</span></a>\n",
       "</pre>\n"
      ],
      "text/plain": [
       "\u001b[2;36m                      \u001b[0m\u001b[2;36m \u001b[0m\u001b[34mINFO    \u001b[0m \u001b[1m[\u001b[0m\u001b[1;36m9\u001b[0m/\u001b[1;36m10\u001b[0m\u001b[1m]\u001b[0m Retrieving fixtures for ENG-Premier League \u001b[1;36m2425\u001b[0m             \u001b]8;id=603786;file://c:\\Users\\Vitor\\anaconda3\\Lib\\site-packages\\soccerdata\\whoscored.py\u001b\\\u001b[2mwhoscored.py\u001b[0m\u001b]8;;\u001b\\\u001b[2m:\u001b[0m\u001b]8;id=447499;file://c:\\Users\\Vitor\\anaconda3\\Lib\\site-packages\\soccerdata\\whoscored.py#405\u001b\\\u001b[2m405\u001b[0m\u001b]8;;\u001b\\\n"
      ]
     },
     "metadata": {},
     "output_type": "display_data"
    },
    {
     "data": {
      "text/html": [
       "<pre style=\"white-space:pre;overflow-x:auto;line-height:normal;font-family:Menlo,'DejaVu Sans Mono',consolas,'Courier New',monospace\"><span style=\"color: #7fbfbf; text-decoration-color: #7fbfbf\">                       </span><span style=\"color: #000080; text-decoration-color: #000080\">INFO    </span> <span style=\"font-weight: bold\">[</span><span style=\"color: #008080; text-decoration-color: #008080; font-weight: bold\">10</span>/<span style=\"color: #008080; text-decoration-color: #008080; font-weight: bold\">10</span><span style=\"font-weight: bold\">]</span> Retrieving fixtures for ENG-Premier League <span style=\"color: #008080; text-decoration-color: #008080; font-weight: bold\">2425</span>            <a href=\"file://c:\\Users\\Vitor\\anaconda3\\Lib\\site-packages\\soccerdata\\whoscored.py\" target=\"_blank\"><span style=\"color: #7f7f7f; text-decoration-color: #7f7f7f\">whoscored.py</span></a><span style=\"color: #7f7f7f; text-decoration-color: #7f7f7f\">:</span><a href=\"file://c:\\Users\\Vitor\\anaconda3\\Lib\\site-packages\\soccerdata\\whoscored.py#405\" target=\"_blank\"><span style=\"color: #7f7f7f; text-decoration-color: #7f7f7f\">405</span></a>\n",
       "</pre>\n"
      ],
      "text/plain": [
       "\u001b[2;36m                      \u001b[0m\u001b[2;36m \u001b[0m\u001b[34mINFO    \u001b[0m \u001b[1m[\u001b[0m\u001b[1;36m10\u001b[0m/\u001b[1;36m10\u001b[0m\u001b[1m]\u001b[0m Retrieving fixtures for ENG-Premier League \u001b[1;36m2425\u001b[0m            \u001b]8;id=536241;file://c:\\Users\\Vitor\\anaconda3\\Lib\\site-packages\\soccerdata\\whoscored.py\u001b\\\u001b[2mwhoscored.py\u001b[0m\u001b]8;;\u001b\\\u001b[2m:\u001b[0m\u001b]8;id=613703;file://c:\\Users\\Vitor\\anaconda3\\Lib\\site-packages\\soccerdata\\whoscored.py#405\u001b\\\u001b[2m405\u001b[0m\u001b]8;;\u001b\\\n"
      ]
     },
     "metadata": {},
     "output_type": "display_data"
    },
    {
     "data": {
      "application/vnd.microsoft.datawrangler.viewer.v0+json": {
       "columns": [
        {
         "name": "index",
         "rawType": "int64",
         "type": "integer"
        },
        {
         "name": "league",
         "rawType": "object",
         "type": "string"
        },
        {
         "name": "season",
         "rawType": "object",
         "type": "string"
        },
        {
         "name": "start_time",
         "rawType": "object",
         "type": "string"
        },
        {
         "name": "game_id",
         "rawType": "int64",
         "type": "integer"
        },
        {
         "name": "team_id",
         "rawType": "int64",
         "type": "integer"
        },
        {
         "name": "team_name",
         "rawType": "object",
         "type": "string"
        }
       ],
       "conversionMethod": "pd.DataFrame",
       "ref": "a66eecc8-d7e1-4e25-8de6-f899a78de977",
       "rows": [
        [
         "0",
         "ENG-Premier League",
         "2425",
         "2024-08-16T20:00:00",
         "1821049",
         "32",
         "Manchester United"
        ],
        [
         "1",
         "ENG-Premier League",
         "2425",
         "2024-08-17T15:00:00",
         "1821052",
         "13",
         "Arsenal"
        ],
        [
         "2",
         "ENG-Premier League",
         "2425",
         "2024-08-17T15:00:00",
         "1821054",
         "31",
         "Everton"
        ],
        [
         "3",
         "ENG-Premier League",
         "2425",
         "2024-08-17T12:30:00",
         "1821050",
         "165",
         "Ipswich Town"
        ],
        [
         "4",
         "ENG-Premier League",
         "2425",
         "2024-08-17T15:00:00",
         "1821055",
         "23",
         "Newcastle United"
        ],
        [
         "5",
         "ENG-Premier League",
         "2425",
         "2024-08-17T15:00:00",
         "1821056",
         "174",
         "Nottingham Forest"
        ],
        [
         "6",
         "ENG-Premier League",
         "2425",
         "2024-08-17T17:30:00",
         "1821057",
         "29",
         "West Ham United"
        ],
        [
         "7",
         "ENG-Premier League",
         "2425",
         "2024-08-18T14:00:00",
         "1821058",
         "189",
         "Brentford"
        ],
        [
         "8",
         "ENG-Premier League",
         "2425",
         "2024-08-18T16:30:00",
         "1821051",
         "15",
         "Chelsea"
        ],
        [
         "9",
         "ENG-Premier League",
         "2425",
         "2024-08-19T20:00:00",
         "1821053",
         "14",
         "Leicester City"
        ],
        [
         "10",
         "ENG-Premier League",
         "2425",
         "2024-08-24T17:30:00",
         "1821060",
         "24",
         "Aston Villa"
        ],
        [
         "11",
         "ENG-Premier League",
         "2425",
         "2024-08-24T12:30:00",
         "1821061",
         "211",
         "Brighton & Hove Albion"
        ],
        [
         "12",
         "ENG-Premier League",
         "2425",
         "2024-08-24T15:00:00",
         "1821062",
         "162",
         "Crystal Palace"
        ],
        [
         "13",
         "ENG-Premier League",
         "2425",
         "2024-08-24T15:00:00",
         "1821063",
         "170",
         "Fulham"
        ],
        [
         "14",
         "ENG-Premier League",
         "2425",
         "2024-08-24T15:00:00",
         "1821065",
         "167",
         "Manchester City"
        ],
        [
         "15",
         "ENG-Premier League",
         "2425",
         "2024-08-24T15:00:00",
         "1821066",
         "18",
         "Southampton"
        ],
        [
         "16",
         "ENG-Premier League",
         "2425",
         "2024-08-24T15:00:00",
         "1821067",
         "30",
         "Tottenham Hotspur"
        ],
        [
         "17",
         "ENG-Premier League",
         "2425",
         "2024-08-25T14:00:00",
         "1821059",
         "183",
         "AFC Bournemouth"
        ],
        [
         "18",
         "ENG-Premier League",
         "2425",
         "2024-08-25T16:30:00",
         "1821064",
         "26",
         "Liverpool"
        ],
        [
         "19",
         "ENG-Premier League",
         "2425",
         "2024-08-25T14:00:00",
         "1821068",
         "161",
         "Wolverhampton Wanderers"
        ]
       ],
       "shape": {
        "columns": 6,
        "rows": 20
       }
      },
      "text/html": [
       "<div>\n",
       "<style scoped>\n",
       "    .dataframe tbody tr th:only-of-type {\n",
       "        vertical-align: middle;\n",
       "    }\n",
       "\n",
       "    .dataframe tbody tr th {\n",
       "        vertical-align: top;\n",
       "    }\n",
       "\n",
       "    .dataframe thead th {\n",
       "        text-align: right;\n",
       "    }\n",
       "</style>\n",
       "<table border=\"1\" class=\"dataframe\">\n",
       "  <thead>\n",
       "    <tr style=\"text-align: right;\">\n",
       "      <th></th>\n",
       "      <th>league</th>\n",
       "      <th>season</th>\n",
       "      <th>start_time</th>\n",
       "      <th>game_id</th>\n",
       "      <th>team_id</th>\n",
       "      <th>team_name</th>\n",
       "    </tr>\n",
       "  </thead>\n",
       "  <tbody>\n",
       "    <tr>\n",
       "      <th>0</th>\n",
       "      <td>ENG-Premier League</td>\n",
       "      <td>2425</td>\n",
       "      <td>2024-08-16T20:00:00</td>\n",
       "      <td>1821049</td>\n",
       "      <td>32</td>\n",
       "      <td>Manchester United</td>\n",
       "    </tr>\n",
       "    <tr>\n",
       "      <th>1</th>\n",
       "      <td>ENG-Premier League</td>\n",
       "      <td>2425</td>\n",
       "      <td>2024-08-17T15:00:00</td>\n",
       "      <td>1821052</td>\n",
       "      <td>13</td>\n",
       "      <td>Arsenal</td>\n",
       "    </tr>\n",
       "    <tr>\n",
       "      <th>2</th>\n",
       "      <td>ENG-Premier League</td>\n",
       "      <td>2425</td>\n",
       "      <td>2024-08-17T15:00:00</td>\n",
       "      <td>1821054</td>\n",
       "      <td>31</td>\n",
       "      <td>Everton</td>\n",
       "    </tr>\n",
       "    <tr>\n",
       "      <th>3</th>\n",
       "      <td>ENG-Premier League</td>\n",
       "      <td>2425</td>\n",
       "      <td>2024-08-17T12:30:00</td>\n",
       "      <td>1821050</td>\n",
       "      <td>165</td>\n",
       "      <td>Ipswich Town</td>\n",
       "    </tr>\n",
       "    <tr>\n",
       "      <th>4</th>\n",
       "      <td>ENG-Premier League</td>\n",
       "      <td>2425</td>\n",
       "      <td>2024-08-17T15:00:00</td>\n",
       "      <td>1821055</td>\n",
       "      <td>23</td>\n",
       "      <td>Newcastle United</td>\n",
       "    </tr>\n",
       "    <tr>\n",
       "      <th>5</th>\n",
       "      <td>ENG-Premier League</td>\n",
       "      <td>2425</td>\n",
       "      <td>2024-08-17T15:00:00</td>\n",
       "      <td>1821056</td>\n",
       "      <td>174</td>\n",
       "      <td>Nottingham Forest</td>\n",
       "    </tr>\n",
       "    <tr>\n",
       "      <th>6</th>\n",
       "      <td>ENG-Premier League</td>\n",
       "      <td>2425</td>\n",
       "      <td>2024-08-17T17:30:00</td>\n",
       "      <td>1821057</td>\n",
       "      <td>29</td>\n",
       "      <td>West Ham United</td>\n",
       "    </tr>\n",
       "    <tr>\n",
       "      <th>7</th>\n",
       "      <td>ENG-Premier League</td>\n",
       "      <td>2425</td>\n",
       "      <td>2024-08-18T14:00:00</td>\n",
       "      <td>1821058</td>\n",
       "      <td>189</td>\n",
       "      <td>Brentford</td>\n",
       "    </tr>\n",
       "    <tr>\n",
       "      <th>8</th>\n",
       "      <td>ENG-Premier League</td>\n",
       "      <td>2425</td>\n",
       "      <td>2024-08-18T16:30:00</td>\n",
       "      <td>1821051</td>\n",
       "      <td>15</td>\n",
       "      <td>Chelsea</td>\n",
       "    </tr>\n",
       "    <tr>\n",
       "      <th>9</th>\n",
       "      <td>ENG-Premier League</td>\n",
       "      <td>2425</td>\n",
       "      <td>2024-08-19T20:00:00</td>\n",
       "      <td>1821053</td>\n",
       "      <td>14</td>\n",
       "      <td>Leicester City</td>\n",
       "    </tr>\n",
       "    <tr>\n",
       "      <th>10</th>\n",
       "      <td>ENG-Premier League</td>\n",
       "      <td>2425</td>\n",
       "      <td>2024-08-24T17:30:00</td>\n",
       "      <td>1821060</td>\n",
       "      <td>24</td>\n",
       "      <td>Aston Villa</td>\n",
       "    </tr>\n",
       "    <tr>\n",
       "      <th>11</th>\n",
       "      <td>ENG-Premier League</td>\n",
       "      <td>2425</td>\n",
       "      <td>2024-08-24T12:30:00</td>\n",
       "      <td>1821061</td>\n",
       "      <td>211</td>\n",
       "      <td>Brighton &amp; Hove Albion</td>\n",
       "    </tr>\n",
       "    <tr>\n",
       "      <th>12</th>\n",
       "      <td>ENG-Premier League</td>\n",
       "      <td>2425</td>\n",
       "      <td>2024-08-24T15:00:00</td>\n",
       "      <td>1821062</td>\n",
       "      <td>162</td>\n",
       "      <td>Crystal Palace</td>\n",
       "    </tr>\n",
       "    <tr>\n",
       "      <th>13</th>\n",
       "      <td>ENG-Premier League</td>\n",
       "      <td>2425</td>\n",
       "      <td>2024-08-24T15:00:00</td>\n",
       "      <td>1821063</td>\n",
       "      <td>170</td>\n",
       "      <td>Fulham</td>\n",
       "    </tr>\n",
       "    <tr>\n",
       "      <th>14</th>\n",
       "      <td>ENG-Premier League</td>\n",
       "      <td>2425</td>\n",
       "      <td>2024-08-24T15:00:00</td>\n",
       "      <td>1821065</td>\n",
       "      <td>167</td>\n",
       "      <td>Manchester City</td>\n",
       "    </tr>\n",
       "    <tr>\n",
       "      <th>15</th>\n",
       "      <td>ENG-Premier League</td>\n",
       "      <td>2425</td>\n",
       "      <td>2024-08-24T15:00:00</td>\n",
       "      <td>1821066</td>\n",
       "      <td>18</td>\n",
       "      <td>Southampton</td>\n",
       "    </tr>\n",
       "    <tr>\n",
       "      <th>16</th>\n",
       "      <td>ENG-Premier League</td>\n",
       "      <td>2425</td>\n",
       "      <td>2024-08-24T15:00:00</td>\n",
       "      <td>1821067</td>\n",
       "      <td>30</td>\n",
       "      <td>Tottenham Hotspur</td>\n",
       "    </tr>\n",
       "    <tr>\n",
       "      <th>17</th>\n",
       "      <td>ENG-Premier League</td>\n",
       "      <td>2425</td>\n",
       "      <td>2024-08-25T14:00:00</td>\n",
       "      <td>1821059</td>\n",
       "      <td>183</td>\n",
       "      <td>AFC Bournemouth</td>\n",
       "    </tr>\n",
       "    <tr>\n",
       "      <th>18</th>\n",
       "      <td>ENG-Premier League</td>\n",
       "      <td>2425</td>\n",
       "      <td>2024-08-25T16:30:00</td>\n",
       "      <td>1821064</td>\n",
       "      <td>26</td>\n",
       "      <td>Liverpool</td>\n",
       "    </tr>\n",
       "    <tr>\n",
       "      <th>19</th>\n",
       "      <td>ENG-Premier League</td>\n",
       "      <td>2425</td>\n",
       "      <td>2024-08-25T14:00:00</td>\n",
       "      <td>1821068</td>\n",
       "      <td>161</td>\n",
       "      <td>Wolverhampton Wanderers</td>\n",
       "    </tr>\n",
       "  </tbody>\n",
       "</table>\n",
       "</div>"
      ],
      "text/plain": [
       "                league season           start_time  game_id  team_id  \\\n",
       "0   ENG-Premier League   2425  2024-08-16T20:00:00  1821049       32   \n",
       "1   ENG-Premier League   2425  2024-08-17T15:00:00  1821052       13   \n",
       "2   ENG-Premier League   2425  2024-08-17T15:00:00  1821054       31   \n",
       "3   ENG-Premier League   2425  2024-08-17T12:30:00  1821050      165   \n",
       "4   ENG-Premier League   2425  2024-08-17T15:00:00  1821055       23   \n",
       "5   ENG-Premier League   2425  2024-08-17T15:00:00  1821056      174   \n",
       "6   ENG-Premier League   2425  2024-08-17T17:30:00  1821057       29   \n",
       "7   ENG-Premier League   2425  2024-08-18T14:00:00  1821058      189   \n",
       "8   ENG-Premier League   2425  2024-08-18T16:30:00  1821051       15   \n",
       "9   ENG-Premier League   2425  2024-08-19T20:00:00  1821053       14   \n",
       "10  ENG-Premier League   2425  2024-08-24T17:30:00  1821060       24   \n",
       "11  ENG-Premier League   2425  2024-08-24T12:30:00  1821061      211   \n",
       "12  ENG-Premier League   2425  2024-08-24T15:00:00  1821062      162   \n",
       "13  ENG-Premier League   2425  2024-08-24T15:00:00  1821063      170   \n",
       "14  ENG-Premier League   2425  2024-08-24T15:00:00  1821065      167   \n",
       "15  ENG-Premier League   2425  2024-08-24T15:00:00  1821066       18   \n",
       "16  ENG-Premier League   2425  2024-08-24T15:00:00  1821067       30   \n",
       "17  ENG-Premier League   2425  2024-08-25T14:00:00  1821059      183   \n",
       "18  ENG-Premier League   2425  2024-08-25T16:30:00  1821064       26   \n",
       "19  ENG-Premier League   2425  2024-08-25T14:00:00  1821068      161   \n",
       "\n",
       "                  team_name  \n",
       "0         Manchester United  \n",
       "1                   Arsenal  \n",
       "2                   Everton  \n",
       "3              Ipswich Town  \n",
       "4          Newcastle United  \n",
       "5         Nottingham Forest  \n",
       "6           West Ham United  \n",
       "7                 Brentford  \n",
       "8                   Chelsea  \n",
       "9            Leicester City  \n",
       "10              Aston Villa  \n",
       "11   Brighton & Hove Albion  \n",
       "12           Crystal Palace  \n",
       "13                   Fulham  \n",
       "14          Manchester City  \n",
       "15              Southampton  \n",
       "16        Tottenham Hotspur  \n",
       "17          AFC Bournemouth  \n",
       "18                Liverpool  \n",
       "19  Wolverhampton Wanderers  "
      ]
     },
     "execution_count": 8,
     "metadata": {},
     "output_type": "execute_result"
    }
   ],
   "source": [
    "locale.setlocale(locale.LC_TIME, \"en_US.UTF-8\")\n",
    "ws_ENG_Premier_League = sd.WhoScored(\n",
    "    leagues=\"ENG-Premier League\", seasons=\"2024/2025\", no_cache=False, no_store=False\n",
    ")\n",
    "df_ws_ENG_Premier_League = ws_ENG_Premier_League.read_schedule(force_cache=True)\n",
    "df_ws_ENG_Premier_League = get_WhoScored_team_id_df(df_ws_ENG_Premier_League)\n",
    "df_ws_ENG_Premier_League"
   ]
  },
  {
   "cell_type": "code",
   "execution_count": 9,
   "id": "b3a5608e",
   "metadata": {},
   "outputs": [
    {
     "data": {
      "text/html": [
       "<pre style=\"white-space:pre;overflow-x:auto;line-height:normal;font-family:Menlo,'DejaVu Sans Mono',consolas,'Courier New',monospace\"><span style=\"color: #7fbfbf; text-decoration-color: #7fbfbf\">[4/11/2025 6:27:32 PM] </span><span style=\"color: #000080; text-decoration-color: #000080\">INFO    </span> Saving cached data to C:\\Users\\Vitor\\soccerdata\\data\\WhoScored       <a href=\"file://c:\\Users\\Vitor\\anaconda3\\Lib\\site-packages\\soccerdata\\_common.py\" target=\"_blank\"><span style=\"color: #7f7f7f; text-decoration-color: #7f7f7f\">_common.py</span></a><span style=\"color: #7f7f7f; text-decoration-color: #7f7f7f\">:</span><a href=\"file://c:\\Users\\Vitor\\anaconda3\\Lib\\site-packages\\soccerdata\\_common.py#263\" target=\"_blank\"><span style=\"color: #7f7f7f; text-decoration-color: #7f7f7f\">263</span></a>\n",
       "</pre>\n"
      ],
      "text/plain": [
       "\u001b[2;36m[4/11/2025 6:27:32 PM]\u001b[0m\u001b[2;36m \u001b[0m\u001b[34mINFO    \u001b[0m Saving cached data to C:\\Users\\Vitor\\soccerdata\\data\\WhoScored       \u001b]8;id=856421;file://c:\\Users\\Vitor\\anaconda3\\Lib\\site-packages\\soccerdata\\_common.py\u001b\\\u001b[2m_common.py\u001b[0m\u001b]8;;\u001b\\\u001b[2m:\u001b[0m\u001b]8;id=774749;file://c:\\Users\\Vitor\\anaconda3\\Lib\\site-packages\\soccerdata\\_common.py#263\u001b\\\u001b[2m263\u001b[0m\u001b]8;;\u001b\\\n"
      ]
     },
     "metadata": {},
     "output_type": "display_data"
    },
    {
     "data": {
      "text/html": [
       "<pre style=\"white-space:pre;overflow-x:auto;line-height:normal;font-family:Menlo,'DejaVu Sans Mono',consolas,'Courier New',monospace\"><span style=\"color: #7fbfbf; text-decoration-color: #7fbfbf\">[4/11/2025 6:27:33 PM] </span><span style=\"color: #000080; text-decoration-color: #000080\">INFO    </span> Retrieving calendar for ESP-La Liga <span style=\"color: #008080; text-decoration-color: #008080; font-weight: bold\">2425</span>                           <a href=\"file://c:\\Users\\Vitor\\anaconda3\\Lib\\site-packages\\soccerdata\\whoscored.py\" target=\"_blank\"><span style=\"color: #7f7f7f; text-decoration-color: #7f7f7f\">whoscored.py</span></a><span style=\"color: #7f7f7f; text-decoration-color: #7f7f7f\">:</span><a href=\"file://c:\\Users\\Vitor\\anaconda3\\Lib\\site-packages\\soccerdata\\whoscored.py#376\" target=\"_blank\"><span style=\"color: #7f7f7f; text-decoration-color: #7f7f7f\">376</span></a>\n",
       "</pre>\n"
      ],
      "text/plain": [
       "\u001b[2;36m[4/11/2025 6:27:33 PM]\u001b[0m\u001b[2;36m \u001b[0m\u001b[34mINFO    \u001b[0m Retrieving calendar for ESP-La Liga \u001b[1;36m2425\u001b[0m                           \u001b]8;id=626571;file://c:\\Users\\Vitor\\anaconda3\\Lib\\site-packages\\soccerdata\\whoscored.py\u001b\\\u001b[2mwhoscored.py\u001b[0m\u001b]8;;\u001b\\\u001b[2m:\u001b[0m\u001b]8;id=388733;file://c:\\Users\\Vitor\\anaconda3\\Lib\\site-packages\\soccerdata\\whoscored.py#376\u001b\\\u001b[2m376\u001b[0m\u001b]8;;\u001b\\\n"
      ]
     },
     "metadata": {},
     "output_type": "display_data"
    },
    {
     "data": {
      "text/html": [
       "<pre style=\"white-space:pre;overflow-x:auto;line-height:normal;font-family:Menlo,'DejaVu Sans Mono',consolas,'Courier New',monospace\"><span style=\"color: #7fbfbf; text-decoration-color: #7fbfbf\">                       </span><span style=\"color: #000080; text-decoration-color: #000080\">INFO    </span> <span style=\"font-weight: bold\">[</span><span style=\"color: #008080; text-decoration-color: #008080; font-weight: bold\">1</span>/<span style=\"color: #008080; text-decoration-color: #008080; font-weight: bold\">10</span><span style=\"font-weight: bold\">]</span> Retrieving fixtures for ESP-La Liga <span style=\"color: #008080; text-decoration-color: #008080; font-weight: bold\">2425</span>                    <a href=\"file://c:\\Users\\Vitor\\anaconda3\\Lib\\site-packages\\soccerdata\\whoscored.py\" target=\"_blank\"><span style=\"color: #7f7f7f; text-decoration-color: #7f7f7f\">whoscored.py</span></a><span style=\"color: #7f7f7f; text-decoration-color: #7f7f7f\">:</span><a href=\"file://c:\\Users\\Vitor\\anaconda3\\Lib\\site-packages\\soccerdata\\whoscored.py#405\" target=\"_blank\"><span style=\"color: #7f7f7f; text-decoration-color: #7f7f7f\">405</span></a>\n",
       "</pre>\n"
      ],
      "text/plain": [
       "\u001b[2;36m                      \u001b[0m\u001b[2;36m \u001b[0m\u001b[34mINFO    \u001b[0m \u001b[1m[\u001b[0m\u001b[1;36m1\u001b[0m/\u001b[1;36m10\u001b[0m\u001b[1m]\u001b[0m Retrieving fixtures for ESP-La Liga \u001b[1;36m2425\u001b[0m                    \u001b]8;id=98436;file://c:\\Users\\Vitor\\anaconda3\\Lib\\site-packages\\soccerdata\\whoscored.py\u001b\\\u001b[2mwhoscored.py\u001b[0m\u001b]8;;\u001b\\\u001b[2m:\u001b[0m\u001b]8;id=806442;file://c:\\Users\\Vitor\\anaconda3\\Lib\\site-packages\\soccerdata\\whoscored.py#405\u001b\\\u001b[2m405\u001b[0m\u001b]8;;\u001b\\\n"
      ]
     },
     "metadata": {},
     "output_type": "display_data"
    },
    {
     "data": {
      "text/html": [
       "<pre style=\"white-space:pre;overflow-x:auto;line-height:normal;font-family:Menlo,'DejaVu Sans Mono',consolas,'Courier New',monospace\"><span style=\"color: #7fbfbf; text-decoration-color: #7fbfbf\">                       </span><span style=\"color: #000080; text-decoration-color: #000080\">INFO    </span> <span style=\"font-weight: bold\">[</span><span style=\"color: #008080; text-decoration-color: #008080; font-weight: bold\">2</span>/<span style=\"color: #008080; text-decoration-color: #008080; font-weight: bold\">10</span><span style=\"font-weight: bold\">]</span> Retrieving fixtures for ESP-La Liga <span style=\"color: #008080; text-decoration-color: #008080; font-weight: bold\">2425</span>                    <a href=\"file://c:\\Users\\Vitor\\anaconda3\\Lib\\site-packages\\soccerdata\\whoscored.py\" target=\"_blank\"><span style=\"color: #7f7f7f; text-decoration-color: #7f7f7f\">whoscored.py</span></a><span style=\"color: #7f7f7f; text-decoration-color: #7f7f7f\">:</span><a href=\"file://c:\\Users\\Vitor\\anaconda3\\Lib\\site-packages\\soccerdata\\whoscored.py#405\" target=\"_blank\"><span style=\"color: #7f7f7f; text-decoration-color: #7f7f7f\">405</span></a>\n",
       "</pre>\n"
      ],
      "text/plain": [
       "\u001b[2;36m                      \u001b[0m\u001b[2;36m \u001b[0m\u001b[34mINFO    \u001b[0m \u001b[1m[\u001b[0m\u001b[1;36m2\u001b[0m/\u001b[1;36m10\u001b[0m\u001b[1m]\u001b[0m Retrieving fixtures for ESP-La Liga \u001b[1;36m2425\u001b[0m                    \u001b]8;id=24008;file://c:\\Users\\Vitor\\anaconda3\\Lib\\site-packages\\soccerdata\\whoscored.py\u001b\\\u001b[2mwhoscored.py\u001b[0m\u001b]8;;\u001b\\\u001b[2m:\u001b[0m\u001b]8;id=337143;file://c:\\Users\\Vitor\\anaconda3\\Lib\\site-packages\\soccerdata\\whoscored.py#405\u001b\\\u001b[2m405\u001b[0m\u001b]8;;\u001b\\\n"
      ]
     },
     "metadata": {},
     "output_type": "display_data"
    },
    {
     "data": {
      "text/html": [
       "<pre style=\"white-space:pre;overflow-x:auto;line-height:normal;font-family:Menlo,'DejaVu Sans Mono',consolas,'Courier New',monospace\"><span style=\"color: #7fbfbf; text-decoration-color: #7fbfbf\">                       </span><span style=\"color: #000080; text-decoration-color: #000080\">INFO    </span> <span style=\"font-weight: bold\">[</span><span style=\"color: #008080; text-decoration-color: #008080; font-weight: bold\">3</span>/<span style=\"color: #008080; text-decoration-color: #008080; font-weight: bold\">10</span><span style=\"font-weight: bold\">]</span> Retrieving fixtures for ESP-La Liga <span style=\"color: #008080; text-decoration-color: #008080; font-weight: bold\">2425</span>                    <a href=\"file://c:\\Users\\Vitor\\anaconda3\\Lib\\site-packages\\soccerdata\\whoscored.py\" target=\"_blank\"><span style=\"color: #7f7f7f; text-decoration-color: #7f7f7f\">whoscored.py</span></a><span style=\"color: #7f7f7f; text-decoration-color: #7f7f7f\">:</span><a href=\"file://c:\\Users\\Vitor\\anaconda3\\Lib\\site-packages\\soccerdata\\whoscored.py#405\" target=\"_blank\"><span style=\"color: #7f7f7f; text-decoration-color: #7f7f7f\">405</span></a>\n",
       "</pre>\n"
      ],
      "text/plain": [
       "\u001b[2;36m                      \u001b[0m\u001b[2;36m \u001b[0m\u001b[34mINFO    \u001b[0m \u001b[1m[\u001b[0m\u001b[1;36m3\u001b[0m/\u001b[1;36m10\u001b[0m\u001b[1m]\u001b[0m Retrieving fixtures for ESP-La Liga \u001b[1;36m2425\u001b[0m                    \u001b]8;id=293053;file://c:\\Users\\Vitor\\anaconda3\\Lib\\site-packages\\soccerdata\\whoscored.py\u001b\\\u001b[2mwhoscored.py\u001b[0m\u001b]8;;\u001b\\\u001b[2m:\u001b[0m\u001b]8;id=686053;file://c:\\Users\\Vitor\\anaconda3\\Lib\\site-packages\\soccerdata\\whoscored.py#405\u001b\\\u001b[2m405\u001b[0m\u001b]8;;\u001b\\\n"
      ]
     },
     "metadata": {},
     "output_type": "display_data"
    },
    {
     "data": {
      "text/html": [
       "<pre style=\"white-space:pre;overflow-x:auto;line-height:normal;font-family:Menlo,'DejaVu Sans Mono',consolas,'Courier New',monospace\"><span style=\"color: #7fbfbf; text-decoration-color: #7fbfbf\">                       </span><span style=\"color: #000080; text-decoration-color: #000080\">INFO    </span> <span style=\"font-weight: bold\">[</span><span style=\"color: #008080; text-decoration-color: #008080; font-weight: bold\">4</span>/<span style=\"color: #008080; text-decoration-color: #008080; font-weight: bold\">10</span><span style=\"font-weight: bold\">]</span> Retrieving fixtures for ESP-La Liga <span style=\"color: #008080; text-decoration-color: #008080; font-weight: bold\">2425</span>                    <a href=\"file://c:\\Users\\Vitor\\anaconda3\\Lib\\site-packages\\soccerdata\\whoscored.py\" target=\"_blank\"><span style=\"color: #7f7f7f; text-decoration-color: #7f7f7f\">whoscored.py</span></a><span style=\"color: #7f7f7f; text-decoration-color: #7f7f7f\">:</span><a href=\"file://c:\\Users\\Vitor\\anaconda3\\Lib\\site-packages\\soccerdata\\whoscored.py#405\" target=\"_blank\"><span style=\"color: #7f7f7f; text-decoration-color: #7f7f7f\">405</span></a>\n",
       "</pre>\n"
      ],
      "text/plain": [
       "\u001b[2;36m                      \u001b[0m\u001b[2;36m \u001b[0m\u001b[34mINFO    \u001b[0m \u001b[1m[\u001b[0m\u001b[1;36m4\u001b[0m/\u001b[1;36m10\u001b[0m\u001b[1m]\u001b[0m Retrieving fixtures for ESP-La Liga \u001b[1;36m2425\u001b[0m                    \u001b]8;id=541410;file://c:\\Users\\Vitor\\anaconda3\\Lib\\site-packages\\soccerdata\\whoscored.py\u001b\\\u001b[2mwhoscored.py\u001b[0m\u001b]8;;\u001b\\\u001b[2m:\u001b[0m\u001b]8;id=510192;file://c:\\Users\\Vitor\\anaconda3\\Lib\\site-packages\\soccerdata\\whoscored.py#405\u001b\\\u001b[2m405\u001b[0m\u001b]8;;\u001b\\\n"
      ]
     },
     "metadata": {},
     "output_type": "display_data"
    },
    {
     "data": {
      "text/html": [
       "<pre style=\"white-space:pre;overflow-x:auto;line-height:normal;font-family:Menlo,'DejaVu Sans Mono',consolas,'Courier New',monospace\"><span style=\"color: #7fbfbf; text-decoration-color: #7fbfbf\">                       </span><span style=\"color: #000080; text-decoration-color: #000080\">INFO    </span> <span style=\"font-weight: bold\">[</span><span style=\"color: #008080; text-decoration-color: #008080; font-weight: bold\">5</span>/<span style=\"color: #008080; text-decoration-color: #008080; font-weight: bold\">10</span><span style=\"font-weight: bold\">]</span> Retrieving fixtures for ESP-La Liga <span style=\"color: #008080; text-decoration-color: #008080; font-weight: bold\">2425</span>                    <a href=\"file://c:\\Users\\Vitor\\anaconda3\\Lib\\site-packages\\soccerdata\\whoscored.py\" target=\"_blank\"><span style=\"color: #7f7f7f; text-decoration-color: #7f7f7f\">whoscored.py</span></a><span style=\"color: #7f7f7f; text-decoration-color: #7f7f7f\">:</span><a href=\"file://c:\\Users\\Vitor\\anaconda3\\Lib\\site-packages\\soccerdata\\whoscored.py#405\" target=\"_blank\"><span style=\"color: #7f7f7f; text-decoration-color: #7f7f7f\">405</span></a>\n",
       "</pre>\n"
      ],
      "text/plain": [
       "\u001b[2;36m                      \u001b[0m\u001b[2;36m \u001b[0m\u001b[34mINFO    \u001b[0m \u001b[1m[\u001b[0m\u001b[1;36m5\u001b[0m/\u001b[1;36m10\u001b[0m\u001b[1m]\u001b[0m Retrieving fixtures for ESP-La Liga \u001b[1;36m2425\u001b[0m                    \u001b]8;id=209646;file://c:\\Users\\Vitor\\anaconda3\\Lib\\site-packages\\soccerdata\\whoscored.py\u001b\\\u001b[2mwhoscored.py\u001b[0m\u001b]8;;\u001b\\\u001b[2m:\u001b[0m\u001b]8;id=880179;file://c:\\Users\\Vitor\\anaconda3\\Lib\\site-packages\\soccerdata\\whoscored.py#405\u001b\\\u001b[2m405\u001b[0m\u001b]8;;\u001b\\\n"
      ]
     },
     "metadata": {},
     "output_type": "display_data"
    },
    {
     "data": {
      "text/html": [
       "<pre style=\"white-space:pre;overflow-x:auto;line-height:normal;font-family:Menlo,'DejaVu Sans Mono',consolas,'Courier New',monospace\"><span style=\"color: #7fbfbf; text-decoration-color: #7fbfbf\">                       </span><span style=\"color: #000080; text-decoration-color: #000080\">INFO    </span> <span style=\"font-weight: bold\">[</span><span style=\"color: #008080; text-decoration-color: #008080; font-weight: bold\">6</span>/<span style=\"color: #008080; text-decoration-color: #008080; font-weight: bold\">10</span><span style=\"font-weight: bold\">]</span> Retrieving fixtures for ESP-La Liga <span style=\"color: #008080; text-decoration-color: #008080; font-weight: bold\">2425</span>                    <a href=\"file://c:\\Users\\Vitor\\anaconda3\\Lib\\site-packages\\soccerdata\\whoscored.py\" target=\"_blank\"><span style=\"color: #7f7f7f; text-decoration-color: #7f7f7f\">whoscored.py</span></a><span style=\"color: #7f7f7f; text-decoration-color: #7f7f7f\">:</span><a href=\"file://c:\\Users\\Vitor\\anaconda3\\Lib\\site-packages\\soccerdata\\whoscored.py#405\" target=\"_blank\"><span style=\"color: #7f7f7f; text-decoration-color: #7f7f7f\">405</span></a>\n",
       "</pre>\n"
      ],
      "text/plain": [
       "\u001b[2;36m                      \u001b[0m\u001b[2;36m \u001b[0m\u001b[34mINFO    \u001b[0m \u001b[1m[\u001b[0m\u001b[1;36m6\u001b[0m/\u001b[1;36m10\u001b[0m\u001b[1m]\u001b[0m Retrieving fixtures for ESP-La Liga \u001b[1;36m2425\u001b[0m                    \u001b]8;id=374568;file://c:\\Users\\Vitor\\anaconda3\\Lib\\site-packages\\soccerdata\\whoscored.py\u001b\\\u001b[2mwhoscored.py\u001b[0m\u001b]8;;\u001b\\\u001b[2m:\u001b[0m\u001b]8;id=842002;file://c:\\Users\\Vitor\\anaconda3\\Lib\\site-packages\\soccerdata\\whoscored.py#405\u001b\\\u001b[2m405\u001b[0m\u001b]8;;\u001b\\\n"
      ]
     },
     "metadata": {},
     "output_type": "display_data"
    },
    {
     "data": {
      "text/html": [
       "<pre style=\"white-space:pre;overflow-x:auto;line-height:normal;font-family:Menlo,'DejaVu Sans Mono',consolas,'Courier New',monospace\"><span style=\"color: #7fbfbf; text-decoration-color: #7fbfbf\">                       </span><span style=\"color: #000080; text-decoration-color: #000080\">INFO    </span> <span style=\"font-weight: bold\">[</span><span style=\"color: #008080; text-decoration-color: #008080; font-weight: bold\">7</span>/<span style=\"color: #008080; text-decoration-color: #008080; font-weight: bold\">10</span><span style=\"font-weight: bold\">]</span> Retrieving fixtures for ESP-La Liga <span style=\"color: #008080; text-decoration-color: #008080; font-weight: bold\">2425</span>                    <a href=\"file://c:\\Users\\Vitor\\anaconda3\\Lib\\site-packages\\soccerdata\\whoscored.py\" target=\"_blank\"><span style=\"color: #7f7f7f; text-decoration-color: #7f7f7f\">whoscored.py</span></a><span style=\"color: #7f7f7f; text-decoration-color: #7f7f7f\">:</span><a href=\"file://c:\\Users\\Vitor\\anaconda3\\Lib\\site-packages\\soccerdata\\whoscored.py#405\" target=\"_blank\"><span style=\"color: #7f7f7f; text-decoration-color: #7f7f7f\">405</span></a>\n",
       "</pre>\n"
      ],
      "text/plain": [
       "\u001b[2;36m                      \u001b[0m\u001b[2;36m \u001b[0m\u001b[34mINFO    \u001b[0m \u001b[1m[\u001b[0m\u001b[1;36m7\u001b[0m/\u001b[1;36m10\u001b[0m\u001b[1m]\u001b[0m Retrieving fixtures for ESP-La Liga \u001b[1;36m2425\u001b[0m                    \u001b]8;id=101122;file://c:\\Users\\Vitor\\anaconda3\\Lib\\site-packages\\soccerdata\\whoscored.py\u001b\\\u001b[2mwhoscored.py\u001b[0m\u001b]8;;\u001b\\\u001b[2m:\u001b[0m\u001b]8;id=700391;file://c:\\Users\\Vitor\\anaconda3\\Lib\\site-packages\\soccerdata\\whoscored.py#405\u001b\\\u001b[2m405\u001b[0m\u001b]8;;\u001b\\\n"
      ]
     },
     "metadata": {},
     "output_type": "display_data"
    },
    {
     "data": {
      "text/html": [
       "<pre style=\"white-space:pre;overflow-x:auto;line-height:normal;font-family:Menlo,'DejaVu Sans Mono',consolas,'Courier New',monospace\"><span style=\"color: #7fbfbf; text-decoration-color: #7fbfbf\">                       </span><span style=\"color: #000080; text-decoration-color: #000080\">INFO    </span> <span style=\"font-weight: bold\">[</span><span style=\"color: #008080; text-decoration-color: #008080; font-weight: bold\">8</span>/<span style=\"color: #008080; text-decoration-color: #008080; font-weight: bold\">10</span><span style=\"font-weight: bold\">]</span> Retrieving fixtures for ESP-La Liga <span style=\"color: #008080; text-decoration-color: #008080; font-weight: bold\">2425</span>                    <a href=\"file://c:\\Users\\Vitor\\anaconda3\\Lib\\site-packages\\soccerdata\\whoscored.py\" target=\"_blank\"><span style=\"color: #7f7f7f; text-decoration-color: #7f7f7f\">whoscored.py</span></a><span style=\"color: #7f7f7f; text-decoration-color: #7f7f7f\">:</span><a href=\"file://c:\\Users\\Vitor\\anaconda3\\Lib\\site-packages\\soccerdata\\whoscored.py#405\" target=\"_blank\"><span style=\"color: #7f7f7f; text-decoration-color: #7f7f7f\">405</span></a>\n",
       "</pre>\n"
      ],
      "text/plain": [
       "\u001b[2;36m                      \u001b[0m\u001b[2;36m \u001b[0m\u001b[34mINFO    \u001b[0m \u001b[1m[\u001b[0m\u001b[1;36m8\u001b[0m/\u001b[1;36m10\u001b[0m\u001b[1m]\u001b[0m Retrieving fixtures for ESP-La Liga \u001b[1;36m2425\u001b[0m                    \u001b]8;id=17819;file://c:\\Users\\Vitor\\anaconda3\\Lib\\site-packages\\soccerdata\\whoscored.py\u001b\\\u001b[2mwhoscored.py\u001b[0m\u001b]8;;\u001b\\\u001b[2m:\u001b[0m\u001b]8;id=941274;file://c:\\Users\\Vitor\\anaconda3\\Lib\\site-packages\\soccerdata\\whoscored.py#405\u001b\\\u001b[2m405\u001b[0m\u001b]8;;\u001b\\\n"
      ]
     },
     "metadata": {},
     "output_type": "display_data"
    },
    {
     "data": {
      "text/html": [
       "<pre style=\"white-space:pre;overflow-x:auto;line-height:normal;font-family:Menlo,'DejaVu Sans Mono',consolas,'Courier New',monospace\"><span style=\"color: #7fbfbf; text-decoration-color: #7fbfbf\">                       </span><span style=\"color: #000080; text-decoration-color: #000080\">INFO    </span> <span style=\"font-weight: bold\">[</span><span style=\"color: #008080; text-decoration-color: #008080; font-weight: bold\">9</span>/<span style=\"color: #008080; text-decoration-color: #008080; font-weight: bold\">10</span><span style=\"font-weight: bold\">]</span> Retrieving fixtures for ESP-La Liga <span style=\"color: #008080; text-decoration-color: #008080; font-weight: bold\">2425</span>                    <a href=\"file://c:\\Users\\Vitor\\anaconda3\\Lib\\site-packages\\soccerdata\\whoscored.py\" target=\"_blank\"><span style=\"color: #7f7f7f; text-decoration-color: #7f7f7f\">whoscored.py</span></a><span style=\"color: #7f7f7f; text-decoration-color: #7f7f7f\">:</span><a href=\"file://c:\\Users\\Vitor\\anaconda3\\Lib\\site-packages\\soccerdata\\whoscored.py#405\" target=\"_blank\"><span style=\"color: #7f7f7f; text-decoration-color: #7f7f7f\">405</span></a>\n",
       "</pre>\n"
      ],
      "text/plain": [
       "\u001b[2;36m                      \u001b[0m\u001b[2;36m \u001b[0m\u001b[34mINFO    \u001b[0m \u001b[1m[\u001b[0m\u001b[1;36m9\u001b[0m/\u001b[1;36m10\u001b[0m\u001b[1m]\u001b[0m Retrieving fixtures for ESP-La Liga \u001b[1;36m2425\u001b[0m                    \u001b]8;id=335878;file://c:\\Users\\Vitor\\anaconda3\\Lib\\site-packages\\soccerdata\\whoscored.py\u001b\\\u001b[2mwhoscored.py\u001b[0m\u001b]8;;\u001b\\\u001b[2m:\u001b[0m\u001b]8;id=816449;file://c:\\Users\\Vitor\\anaconda3\\Lib\\site-packages\\soccerdata\\whoscored.py#405\u001b\\\u001b[2m405\u001b[0m\u001b]8;;\u001b\\\n"
      ]
     },
     "metadata": {},
     "output_type": "display_data"
    },
    {
     "data": {
      "text/html": [
       "<pre style=\"white-space:pre;overflow-x:auto;line-height:normal;font-family:Menlo,'DejaVu Sans Mono',consolas,'Courier New',monospace\"><span style=\"color: #7fbfbf; text-decoration-color: #7fbfbf\">                       </span><span style=\"color: #000080; text-decoration-color: #000080\">INFO    </span> <span style=\"font-weight: bold\">[</span><span style=\"color: #008080; text-decoration-color: #008080; font-weight: bold\">10</span>/<span style=\"color: #008080; text-decoration-color: #008080; font-weight: bold\">10</span><span style=\"font-weight: bold\">]</span> Retrieving fixtures for ESP-La Liga <span style=\"color: #008080; text-decoration-color: #008080; font-weight: bold\">2425</span>                   <a href=\"file://c:\\Users\\Vitor\\anaconda3\\Lib\\site-packages\\soccerdata\\whoscored.py\" target=\"_blank\"><span style=\"color: #7f7f7f; text-decoration-color: #7f7f7f\">whoscored.py</span></a><span style=\"color: #7f7f7f; text-decoration-color: #7f7f7f\">:</span><a href=\"file://c:\\Users\\Vitor\\anaconda3\\Lib\\site-packages\\soccerdata\\whoscored.py#405\" target=\"_blank\"><span style=\"color: #7f7f7f; text-decoration-color: #7f7f7f\">405</span></a>\n",
       "</pre>\n"
      ],
      "text/plain": [
       "\u001b[2;36m                      \u001b[0m\u001b[2;36m \u001b[0m\u001b[34mINFO    \u001b[0m \u001b[1m[\u001b[0m\u001b[1;36m10\u001b[0m/\u001b[1;36m10\u001b[0m\u001b[1m]\u001b[0m Retrieving fixtures for ESP-La Liga \u001b[1;36m2425\u001b[0m                   \u001b]8;id=291839;file://c:\\Users\\Vitor\\anaconda3\\Lib\\site-packages\\soccerdata\\whoscored.py\u001b\\\u001b[2mwhoscored.py\u001b[0m\u001b]8;;\u001b\\\u001b[2m:\u001b[0m\u001b]8;id=980854;file://c:\\Users\\Vitor\\anaconda3\\Lib\\site-packages\\soccerdata\\whoscored.py#405\u001b\\\u001b[2m405\u001b[0m\u001b]8;;\u001b\\\n"
      ]
     },
     "metadata": {},
     "output_type": "display_data"
    },
    {
     "data": {
      "application/vnd.microsoft.datawrangler.viewer.v0+json": {
       "columns": [
        {
         "name": "index",
         "rawType": "int64",
         "type": "integer"
        },
        {
         "name": "league",
         "rawType": "object",
         "type": "string"
        },
        {
         "name": "season",
         "rawType": "object",
         "type": "string"
        },
        {
         "name": "start_time",
         "rawType": "object",
         "type": "string"
        },
        {
         "name": "game_id",
         "rawType": "int64",
         "type": "integer"
        },
        {
         "name": "team_id",
         "rawType": "int64",
         "type": "integer"
        },
        {
         "name": "team_name",
         "rawType": "object",
         "type": "string"
        }
       ],
       "conversionMethod": "pd.DataFrame",
       "ref": "638060cb-a949-4f2e-bd92-9997f0e31e76",
       "rows": [
        [
         "0",
         "ESP-La Liga",
         "2425",
         "2024-08-15T18:00:00",
         "1821429",
         "53",
         "Athletic Club"
        ],
        [
         "1",
         "ESP-La Liga",
         "2425",
         "2024-08-15T20:30:00",
         "1821430",
         "54",
         "Real Betis"
        ],
        [
         "2",
         "ESP-La Liga",
         "2425",
         "2024-08-16T18:00:00",
         "1821436",
         "62",
         "Celta Vigo"
        ],
        [
         "3",
         "ESP-La Liga",
         "2425",
         "2024-08-16T20:30:00",
         "1821432",
         "838",
         "Las Palmas"
        ],
        [
         "4",
         "ESP-La Liga",
         "2425",
         "2024-08-17T18:00:00",
         "1821437",
         "131",
         "Osasuna"
        ],
        [
         "5",
         "ESP-La Liga",
         "2425",
         "2024-08-17T20:30:00",
         "1821434",
         "55",
         "Valencia"
        ],
        [
         "6",
         "ESP-La Liga",
         "2425",
         "2024-08-18T20:30:00",
         "1821431",
         "51",
         "Mallorca"
        ],
        [
         "7",
         "ESP-La Liga",
         "2425",
         "2024-08-18T18:00:00",
         "1821435",
         "68",
         "Real Sociedad"
        ],
        [
         "8",
         "ESP-La Liga",
         "2425",
         "2024-08-19T18:00:00",
         "1825691",
         "58",
         "Real Valladolid"
        ],
        [
         "9",
         "ESP-La Liga",
         "2425",
         "2024-08-19T20:30:00",
         "1821433",
         "839",
         "Villarreal"
        ],
        [
         "11",
         "ESP-La Liga",
         "2425",
         "2024-08-23T20:30:00",
         "1821442",
         "67",
         "Sevilla"
        ],
        [
         "12",
         "ESP-La Liga",
         "2425",
         "2024-08-24T18:00:00",
         "1821445",
         "65",
         "Barcelona"
        ],
        [
         "13",
         "ESP-La Liga",
         "2425",
         "2024-08-24T20:30:00",
         "1825694",
         "70",
         "Espanyol"
        ],
        [
         "14",
         "ESP-La Liga",
         "2425",
         "2024-08-24T20:30:00",
         "1821440",
         "819",
         "Getafe"
        ],
        [
         "16",
         "ESP-La Liga",
         "2425",
         "2024-08-25T20:30:00",
         "1821438",
         "63",
         "Atletico Madrid"
        ],
        [
         "17",
         "ESP-La Liga",
         "2425",
         "2024-08-25T18:15:00",
         "1821443",
         "60",
         "Deportivo Alaves"
        ],
        [
         "18",
         "ESP-La Liga",
         "2425",
         "2024-08-25T18:00:00",
         "1821444",
         "825",
         "Leganes"
        ],
        [
         "19",
         "ESP-La Liga",
         "2425",
         "2024-08-25T16:00:00",
         "1821441",
         "52",
         "Real Madrid"
        ],
        [
         "22",
         "ESP-La Liga",
         "2425",
         "2024-08-27T20:30:00",
         "1821452",
         "64",
         "Rayo Vallecano"
        ],
        [
         "27",
         "ESP-La Liga",
         "2425",
         "2024-08-29T18:00:00",
         "1821449",
         "2783",
         "Girona"
        ]
       ],
       "shape": {
        "columns": 6,
        "rows": 20
       }
      },
      "text/html": [
       "<div>\n",
       "<style scoped>\n",
       "    .dataframe tbody tr th:only-of-type {\n",
       "        vertical-align: middle;\n",
       "    }\n",
       "\n",
       "    .dataframe tbody tr th {\n",
       "        vertical-align: top;\n",
       "    }\n",
       "\n",
       "    .dataframe thead th {\n",
       "        text-align: right;\n",
       "    }\n",
       "</style>\n",
       "<table border=\"1\" class=\"dataframe\">\n",
       "  <thead>\n",
       "    <tr style=\"text-align: right;\">\n",
       "      <th></th>\n",
       "      <th>league</th>\n",
       "      <th>season</th>\n",
       "      <th>start_time</th>\n",
       "      <th>game_id</th>\n",
       "      <th>team_id</th>\n",
       "      <th>team_name</th>\n",
       "    </tr>\n",
       "  </thead>\n",
       "  <tbody>\n",
       "    <tr>\n",
       "      <th>0</th>\n",
       "      <td>ESP-La Liga</td>\n",
       "      <td>2425</td>\n",
       "      <td>2024-08-15T18:00:00</td>\n",
       "      <td>1821429</td>\n",
       "      <td>53</td>\n",
       "      <td>Athletic Club</td>\n",
       "    </tr>\n",
       "    <tr>\n",
       "      <th>1</th>\n",
       "      <td>ESP-La Liga</td>\n",
       "      <td>2425</td>\n",
       "      <td>2024-08-15T20:30:00</td>\n",
       "      <td>1821430</td>\n",
       "      <td>54</td>\n",
       "      <td>Real Betis</td>\n",
       "    </tr>\n",
       "    <tr>\n",
       "      <th>2</th>\n",
       "      <td>ESP-La Liga</td>\n",
       "      <td>2425</td>\n",
       "      <td>2024-08-16T18:00:00</td>\n",
       "      <td>1821436</td>\n",
       "      <td>62</td>\n",
       "      <td>Celta Vigo</td>\n",
       "    </tr>\n",
       "    <tr>\n",
       "      <th>3</th>\n",
       "      <td>ESP-La Liga</td>\n",
       "      <td>2425</td>\n",
       "      <td>2024-08-16T20:30:00</td>\n",
       "      <td>1821432</td>\n",
       "      <td>838</td>\n",
       "      <td>Las Palmas</td>\n",
       "    </tr>\n",
       "    <tr>\n",
       "      <th>4</th>\n",
       "      <td>ESP-La Liga</td>\n",
       "      <td>2425</td>\n",
       "      <td>2024-08-17T18:00:00</td>\n",
       "      <td>1821437</td>\n",
       "      <td>131</td>\n",
       "      <td>Osasuna</td>\n",
       "    </tr>\n",
       "    <tr>\n",
       "      <th>5</th>\n",
       "      <td>ESP-La Liga</td>\n",
       "      <td>2425</td>\n",
       "      <td>2024-08-17T20:30:00</td>\n",
       "      <td>1821434</td>\n",
       "      <td>55</td>\n",
       "      <td>Valencia</td>\n",
       "    </tr>\n",
       "    <tr>\n",
       "      <th>6</th>\n",
       "      <td>ESP-La Liga</td>\n",
       "      <td>2425</td>\n",
       "      <td>2024-08-18T20:30:00</td>\n",
       "      <td>1821431</td>\n",
       "      <td>51</td>\n",
       "      <td>Mallorca</td>\n",
       "    </tr>\n",
       "    <tr>\n",
       "      <th>7</th>\n",
       "      <td>ESP-La Liga</td>\n",
       "      <td>2425</td>\n",
       "      <td>2024-08-18T18:00:00</td>\n",
       "      <td>1821435</td>\n",
       "      <td>68</td>\n",
       "      <td>Real Sociedad</td>\n",
       "    </tr>\n",
       "    <tr>\n",
       "      <th>8</th>\n",
       "      <td>ESP-La Liga</td>\n",
       "      <td>2425</td>\n",
       "      <td>2024-08-19T18:00:00</td>\n",
       "      <td>1825691</td>\n",
       "      <td>58</td>\n",
       "      <td>Real Valladolid</td>\n",
       "    </tr>\n",
       "    <tr>\n",
       "      <th>9</th>\n",
       "      <td>ESP-La Liga</td>\n",
       "      <td>2425</td>\n",
       "      <td>2024-08-19T20:30:00</td>\n",
       "      <td>1821433</td>\n",
       "      <td>839</td>\n",
       "      <td>Villarreal</td>\n",
       "    </tr>\n",
       "    <tr>\n",
       "      <th>11</th>\n",
       "      <td>ESP-La Liga</td>\n",
       "      <td>2425</td>\n",
       "      <td>2024-08-23T20:30:00</td>\n",
       "      <td>1821442</td>\n",
       "      <td>67</td>\n",
       "      <td>Sevilla</td>\n",
       "    </tr>\n",
       "    <tr>\n",
       "      <th>12</th>\n",
       "      <td>ESP-La Liga</td>\n",
       "      <td>2425</td>\n",
       "      <td>2024-08-24T18:00:00</td>\n",
       "      <td>1821445</td>\n",
       "      <td>65</td>\n",
       "      <td>Barcelona</td>\n",
       "    </tr>\n",
       "    <tr>\n",
       "      <th>13</th>\n",
       "      <td>ESP-La Liga</td>\n",
       "      <td>2425</td>\n",
       "      <td>2024-08-24T20:30:00</td>\n",
       "      <td>1825694</td>\n",
       "      <td>70</td>\n",
       "      <td>Espanyol</td>\n",
       "    </tr>\n",
       "    <tr>\n",
       "      <th>14</th>\n",
       "      <td>ESP-La Liga</td>\n",
       "      <td>2425</td>\n",
       "      <td>2024-08-24T20:30:00</td>\n",
       "      <td>1821440</td>\n",
       "      <td>819</td>\n",
       "      <td>Getafe</td>\n",
       "    </tr>\n",
       "    <tr>\n",
       "      <th>16</th>\n",
       "      <td>ESP-La Liga</td>\n",
       "      <td>2425</td>\n",
       "      <td>2024-08-25T20:30:00</td>\n",
       "      <td>1821438</td>\n",
       "      <td>63</td>\n",
       "      <td>Atletico Madrid</td>\n",
       "    </tr>\n",
       "    <tr>\n",
       "      <th>17</th>\n",
       "      <td>ESP-La Liga</td>\n",
       "      <td>2425</td>\n",
       "      <td>2024-08-25T18:15:00</td>\n",
       "      <td>1821443</td>\n",
       "      <td>60</td>\n",
       "      <td>Deportivo Alaves</td>\n",
       "    </tr>\n",
       "    <tr>\n",
       "      <th>18</th>\n",
       "      <td>ESP-La Liga</td>\n",
       "      <td>2425</td>\n",
       "      <td>2024-08-25T18:00:00</td>\n",
       "      <td>1821444</td>\n",
       "      <td>825</td>\n",
       "      <td>Leganes</td>\n",
       "    </tr>\n",
       "    <tr>\n",
       "      <th>19</th>\n",
       "      <td>ESP-La Liga</td>\n",
       "      <td>2425</td>\n",
       "      <td>2024-08-25T16:00:00</td>\n",
       "      <td>1821441</td>\n",
       "      <td>52</td>\n",
       "      <td>Real Madrid</td>\n",
       "    </tr>\n",
       "    <tr>\n",
       "      <th>22</th>\n",
       "      <td>ESP-La Liga</td>\n",
       "      <td>2425</td>\n",
       "      <td>2024-08-27T20:30:00</td>\n",
       "      <td>1821452</td>\n",
       "      <td>64</td>\n",
       "      <td>Rayo Vallecano</td>\n",
       "    </tr>\n",
       "    <tr>\n",
       "      <th>27</th>\n",
       "      <td>ESP-La Liga</td>\n",
       "      <td>2425</td>\n",
       "      <td>2024-08-29T18:00:00</td>\n",
       "      <td>1821449</td>\n",
       "      <td>2783</td>\n",
       "      <td>Girona</td>\n",
       "    </tr>\n",
       "  </tbody>\n",
       "</table>\n",
       "</div>"
      ],
      "text/plain": [
       "         league season           start_time  game_id  team_id  \\\n",
       "0   ESP-La Liga   2425  2024-08-15T18:00:00  1821429       53   \n",
       "1   ESP-La Liga   2425  2024-08-15T20:30:00  1821430       54   \n",
       "2   ESP-La Liga   2425  2024-08-16T18:00:00  1821436       62   \n",
       "3   ESP-La Liga   2425  2024-08-16T20:30:00  1821432      838   \n",
       "4   ESP-La Liga   2425  2024-08-17T18:00:00  1821437      131   \n",
       "5   ESP-La Liga   2425  2024-08-17T20:30:00  1821434       55   \n",
       "6   ESP-La Liga   2425  2024-08-18T20:30:00  1821431       51   \n",
       "7   ESP-La Liga   2425  2024-08-18T18:00:00  1821435       68   \n",
       "8   ESP-La Liga   2425  2024-08-19T18:00:00  1825691       58   \n",
       "9   ESP-La Liga   2425  2024-08-19T20:30:00  1821433      839   \n",
       "11  ESP-La Liga   2425  2024-08-23T20:30:00  1821442       67   \n",
       "12  ESP-La Liga   2425  2024-08-24T18:00:00  1821445       65   \n",
       "13  ESP-La Liga   2425  2024-08-24T20:30:00  1825694       70   \n",
       "14  ESP-La Liga   2425  2024-08-24T20:30:00  1821440      819   \n",
       "16  ESP-La Liga   2425  2024-08-25T20:30:00  1821438       63   \n",
       "17  ESP-La Liga   2425  2024-08-25T18:15:00  1821443       60   \n",
       "18  ESP-La Liga   2425  2024-08-25T18:00:00  1821444      825   \n",
       "19  ESP-La Liga   2425  2024-08-25T16:00:00  1821441       52   \n",
       "22  ESP-La Liga   2425  2024-08-27T20:30:00  1821452       64   \n",
       "27  ESP-La Liga   2425  2024-08-29T18:00:00  1821449     2783   \n",
       "\n",
       "           team_name  \n",
       "0      Athletic Club  \n",
       "1         Real Betis  \n",
       "2         Celta Vigo  \n",
       "3         Las Palmas  \n",
       "4            Osasuna  \n",
       "5           Valencia  \n",
       "6           Mallorca  \n",
       "7      Real Sociedad  \n",
       "8    Real Valladolid  \n",
       "9         Villarreal  \n",
       "11           Sevilla  \n",
       "12         Barcelona  \n",
       "13          Espanyol  \n",
       "14            Getafe  \n",
       "16   Atletico Madrid  \n",
       "17  Deportivo Alaves  \n",
       "18           Leganes  \n",
       "19       Real Madrid  \n",
       "22    Rayo Vallecano  \n",
       "27            Girona  "
      ]
     },
     "execution_count": 9,
     "metadata": {},
     "output_type": "execute_result"
    }
   ],
   "source": [
    "locale.setlocale(locale.LC_TIME, \"en_US.UTF-8\")\n",
    "ws_ESP_La_Liga = sd.WhoScored(\n",
    "    leagues=\"ESP-La Liga\", seasons=\"2024/2025\", no_cache=False, no_store=False\n",
    ")\n",
    "df_ws_ESP_La_Liga = ws_ESP_La_Liga.read_schedule(force_cache=True)\n",
    "df_ws_ESP_La_Liga = get_WhoScored_team_id_df(df_ws_ESP_La_Liga)\n",
    "df_ws_ESP_La_Liga"
   ]
  },
  {
   "cell_type": "code",
   "execution_count": 10,
   "id": "e4fd0169",
   "metadata": {},
   "outputs": [
    {
     "data": {
      "text/html": [
       "<pre style=\"white-space:pre;overflow-x:auto;line-height:normal;font-family:Menlo,'DejaVu Sans Mono',consolas,'Courier New',monospace\"><span style=\"color: #7fbfbf; text-decoration-color: #7fbfbf\">[4/11/2025 6:27:35 PM] </span><span style=\"color: #000080; text-decoration-color: #000080\">INFO    </span> Saving cached data to C:\\Users\\Vitor\\soccerdata\\data\\WhoScored       <a href=\"file://c:\\Users\\Vitor\\anaconda3\\Lib\\site-packages\\soccerdata\\_common.py\" target=\"_blank\"><span style=\"color: #7f7f7f; text-decoration-color: #7f7f7f\">_common.py</span></a><span style=\"color: #7f7f7f; text-decoration-color: #7f7f7f\">:</span><a href=\"file://c:\\Users\\Vitor\\anaconda3\\Lib\\site-packages\\soccerdata\\_common.py#263\" target=\"_blank\"><span style=\"color: #7f7f7f; text-decoration-color: #7f7f7f\">263</span></a>\n",
       "</pre>\n"
      ],
      "text/plain": [
       "\u001b[2;36m[4/11/2025 6:27:35 PM]\u001b[0m\u001b[2;36m \u001b[0m\u001b[34mINFO    \u001b[0m Saving cached data to C:\\Users\\Vitor\\soccerdata\\data\\WhoScored       \u001b]8;id=853187;file://c:\\Users\\Vitor\\anaconda3\\Lib\\site-packages\\soccerdata\\_common.py\u001b\\\u001b[2m_common.py\u001b[0m\u001b]8;;\u001b\\\u001b[2m:\u001b[0m\u001b]8;id=603960;file://c:\\Users\\Vitor\\anaconda3\\Lib\\site-packages\\soccerdata\\_common.py#263\u001b\\\u001b[2m263\u001b[0m\u001b]8;;\u001b\\\n"
      ]
     },
     "metadata": {},
     "output_type": "display_data"
    },
    {
     "data": {
      "text/html": [
       "<pre style=\"white-space:pre;overflow-x:auto;line-height:normal;font-family:Menlo,'DejaVu Sans Mono',consolas,'Courier New',monospace\"><span style=\"color: #7fbfbf; text-decoration-color: #7fbfbf\">[4/11/2025 6:27:36 PM] </span><span style=\"color: #000080; text-decoration-color: #000080\">INFO    </span> Retrieving calendar for FRA-Ligue <span style=\"color: #008080; text-decoration-color: #008080; font-weight: bold\">1</span> <span style=\"color: #008080; text-decoration-color: #008080; font-weight: bold\">2425</span>                           <a href=\"file://c:\\Users\\Vitor\\anaconda3\\Lib\\site-packages\\soccerdata\\whoscored.py\" target=\"_blank\"><span style=\"color: #7f7f7f; text-decoration-color: #7f7f7f\">whoscored.py</span></a><span style=\"color: #7f7f7f; text-decoration-color: #7f7f7f\">:</span><a href=\"file://c:\\Users\\Vitor\\anaconda3\\Lib\\site-packages\\soccerdata\\whoscored.py#376\" target=\"_blank\"><span style=\"color: #7f7f7f; text-decoration-color: #7f7f7f\">376</span></a>\n",
       "</pre>\n"
      ],
      "text/plain": [
       "\u001b[2;36m[4/11/2025 6:27:36 PM]\u001b[0m\u001b[2;36m \u001b[0m\u001b[34mINFO    \u001b[0m Retrieving calendar for FRA-Ligue \u001b[1;36m1\u001b[0m \u001b[1;36m2425\u001b[0m                           \u001b]8;id=822805;file://c:\\Users\\Vitor\\anaconda3\\Lib\\site-packages\\soccerdata\\whoscored.py\u001b\\\u001b[2mwhoscored.py\u001b[0m\u001b]8;;\u001b\\\u001b[2m:\u001b[0m\u001b]8;id=806821;file://c:\\Users\\Vitor\\anaconda3\\Lib\\site-packages\\soccerdata\\whoscored.py#376\u001b\\\u001b[2m376\u001b[0m\u001b]8;;\u001b\\\n"
      ]
     },
     "metadata": {},
     "output_type": "display_data"
    },
    {
     "data": {
      "text/html": [
       "<pre style=\"white-space:pre;overflow-x:auto;line-height:normal;font-family:Menlo,'DejaVu Sans Mono',consolas,'Courier New',monospace\"><span style=\"color: #7fbfbf; text-decoration-color: #7fbfbf\">                       </span><span style=\"color: #000080; text-decoration-color: #000080\">INFO    </span> <span style=\"font-weight: bold\">[</span><span style=\"color: #008080; text-decoration-color: #008080; font-weight: bold\">1</span>/<span style=\"color: #008080; text-decoration-color: #008080; font-weight: bold\">10</span><span style=\"font-weight: bold\">]</span> Retrieving fixtures for FRA-Ligue <span style=\"color: #008080; text-decoration-color: #008080; font-weight: bold\">1</span> <span style=\"color: #008080; text-decoration-color: #008080; font-weight: bold\">2425</span>                    <a href=\"file://c:\\Users\\Vitor\\anaconda3\\Lib\\site-packages\\soccerdata\\whoscored.py\" target=\"_blank\"><span style=\"color: #7f7f7f; text-decoration-color: #7f7f7f\">whoscored.py</span></a><span style=\"color: #7f7f7f; text-decoration-color: #7f7f7f\">:</span><a href=\"file://c:\\Users\\Vitor\\anaconda3\\Lib\\site-packages\\soccerdata\\whoscored.py#405\" target=\"_blank\"><span style=\"color: #7f7f7f; text-decoration-color: #7f7f7f\">405</span></a>\n",
       "</pre>\n"
      ],
      "text/plain": [
       "\u001b[2;36m                      \u001b[0m\u001b[2;36m \u001b[0m\u001b[34mINFO    \u001b[0m \u001b[1m[\u001b[0m\u001b[1;36m1\u001b[0m/\u001b[1;36m10\u001b[0m\u001b[1m]\u001b[0m Retrieving fixtures for FRA-Ligue \u001b[1;36m1\u001b[0m \u001b[1;36m2425\u001b[0m                    \u001b]8;id=5555;file://c:\\Users\\Vitor\\anaconda3\\Lib\\site-packages\\soccerdata\\whoscored.py\u001b\\\u001b[2mwhoscored.py\u001b[0m\u001b]8;;\u001b\\\u001b[2m:\u001b[0m\u001b]8;id=675373;file://c:\\Users\\Vitor\\anaconda3\\Lib\\site-packages\\soccerdata\\whoscored.py#405\u001b\\\u001b[2m405\u001b[0m\u001b]8;;\u001b\\\n"
      ]
     },
     "metadata": {},
     "output_type": "display_data"
    },
    {
     "data": {
      "text/html": [
       "<pre style=\"white-space:pre;overflow-x:auto;line-height:normal;font-family:Menlo,'DejaVu Sans Mono',consolas,'Courier New',monospace\"><span style=\"color: #7fbfbf; text-decoration-color: #7fbfbf\">                       </span><span style=\"color: #000080; text-decoration-color: #000080\">INFO    </span> <span style=\"font-weight: bold\">[</span><span style=\"color: #008080; text-decoration-color: #008080; font-weight: bold\">2</span>/<span style=\"color: #008080; text-decoration-color: #008080; font-weight: bold\">10</span><span style=\"font-weight: bold\">]</span> Retrieving fixtures for FRA-Ligue <span style=\"color: #008080; text-decoration-color: #008080; font-weight: bold\">1</span> <span style=\"color: #008080; text-decoration-color: #008080; font-weight: bold\">2425</span>                    <a href=\"file://c:\\Users\\Vitor\\anaconda3\\Lib\\site-packages\\soccerdata\\whoscored.py\" target=\"_blank\"><span style=\"color: #7f7f7f; text-decoration-color: #7f7f7f\">whoscored.py</span></a><span style=\"color: #7f7f7f; text-decoration-color: #7f7f7f\">:</span><a href=\"file://c:\\Users\\Vitor\\anaconda3\\Lib\\site-packages\\soccerdata\\whoscored.py#405\" target=\"_blank\"><span style=\"color: #7f7f7f; text-decoration-color: #7f7f7f\">405</span></a>\n",
       "</pre>\n"
      ],
      "text/plain": [
       "\u001b[2;36m                      \u001b[0m\u001b[2;36m \u001b[0m\u001b[34mINFO    \u001b[0m \u001b[1m[\u001b[0m\u001b[1;36m2\u001b[0m/\u001b[1;36m10\u001b[0m\u001b[1m]\u001b[0m Retrieving fixtures for FRA-Ligue \u001b[1;36m1\u001b[0m \u001b[1;36m2425\u001b[0m                    \u001b]8;id=105201;file://c:\\Users\\Vitor\\anaconda3\\Lib\\site-packages\\soccerdata\\whoscored.py\u001b\\\u001b[2mwhoscored.py\u001b[0m\u001b]8;;\u001b\\\u001b[2m:\u001b[0m\u001b]8;id=402646;file://c:\\Users\\Vitor\\anaconda3\\Lib\\site-packages\\soccerdata\\whoscored.py#405\u001b\\\u001b[2m405\u001b[0m\u001b]8;;\u001b\\\n"
      ]
     },
     "metadata": {},
     "output_type": "display_data"
    },
    {
     "data": {
      "text/html": [
       "<pre style=\"white-space:pre;overflow-x:auto;line-height:normal;font-family:Menlo,'DejaVu Sans Mono',consolas,'Courier New',monospace\"><span style=\"color: #7fbfbf; text-decoration-color: #7fbfbf\">                       </span><span style=\"color: #000080; text-decoration-color: #000080\">INFO    </span> <span style=\"font-weight: bold\">[</span><span style=\"color: #008080; text-decoration-color: #008080; font-weight: bold\">3</span>/<span style=\"color: #008080; text-decoration-color: #008080; font-weight: bold\">10</span><span style=\"font-weight: bold\">]</span> Retrieving fixtures for FRA-Ligue <span style=\"color: #008080; text-decoration-color: #008080; font-weight: bold\">1</span> <span style=\"color: #008080; text-decoration-color: #008080; font-weight: bold\">2425</span>                    <a href=\"file://c:\\Users\\Vitor\\anaconda3\\Lib\\site-packages\\soccerdata\\whoscored.py\" target=\"_blank\"><span style=\"color: #7f7f7f; text-decoration-color: #7f7f7f\">whoscored.py</span></a><span style=\"color: #7f7f7f; text-decoration-color: #7f7f7f\">:</span><a href=\"file://c:\\Users\\Vitor\\anaconda3\\Lib\\site-packages\\soccerdata\\whoscored.py#405\" target=\"_blank\"><span style=\"color: #7f7f7f; text-decoration-color: #7f7f7f\">405</span></a>\n",
       "</pre>\n"
      ],
      "text/plain": [
       "\u001b[2;36m                      \u001b[0m\u001b[2;36m \u001b[0m\u001b[34mINFO    \u001b[0m \u001b[1m[\u001b[0m\u001b[1;36m3\u001b[0m/\u001b[1;36m10\u001b[0m\u001b[1m]\u001b[0m Retrieving fixtures for FRA-Ligue \u001b[1;36m1\u001b[0m \u001b[1;36m2425\u001b[0m                    \u001b]8;id=582346;file://c:\\Users\\Vitor\\anaconda3\\Lib\\site-packages\\soccerdata\\whoscored.py\u001b\\\u001b[2mwhoscored.py\u001b[0m\u001b]8;;\u001b\\\u001b[2m:\u001b[0m\u001b]8;id=500851;file://c:\\Users\\Vitor\\anaconda3\\Lib\\site-packages\\soccerdata\\whoscored.py#405\u001b\\\u001b[2m405\u001b[0m\u001b]8;;\u001b\\\n"
      ]
     },
     "metadata": {},
     "output_type": "display_data"
    },
    {
     "data": {
      "text/html": [
       "<pre style=\"white-space:pre;overflow-x:auto;line-height:normal;font-family:Menlo,'DejaVu Sans Mono',consolas,'Courier New',monospace\"><span style=\"color: #7fbfbf; text-decoration-color: #7fbfbf\">                       </span><span style=\"color: #000080; text-decoration-color: #000080\">INFO    </span> <span style=\"font-weight: bold\">[</span><span style=\"color: #008080; text-decoration-color: #008080; font-weight: bold\">4</span>/<span style=\"color: #008080; text-decoration-color: #008080; font-weight: bold\">10</span><span style=\"font-weight: bold\">]</span> Retrieving fixtures for FRA-Ligue <span style=\"color: #008080; text-decoration-color: #008080; font-weight: bold\">1</span> <span style=\"color: #008080; text-decoration-color: #008080; font-weight: bold\">2425</span>                    <a href=\"file://c:\\Users\\Vitor\\anaconda3\\Lib\\site-packages\\soccerdata\\whoscored.py\" target=\"_blank\"><span style=\"color: #7f7f7f; text-decoration-color: #7f7f7f\">whoscored.py</span></a><span style=\"color: #7f7f7f; text-decoration-color: #7f7f7f\">:</span><a href=\"file://c:\\Users\\Vitor\\anaconda3\\Lib\\site-packages\\soccerdata\\whoscored.py#405\" target=\"_blank\"><span style=\"color: #7f7f7f; text-decoration-color: #7f7f7f\">405</span></a>\n",
       "</pre>\n"
      ],
      "text/plain": [
       "\u001b[2;36m                      \u001b[0m\u001b[2;36m \u001b[0m\u001b[34mINFO    \u001b[0m \u001b[1m[\u001b[0m\u001b[1;36m4\u001b[0m/\u001b[1;36m10\u001b[0m\u001b[1m]\u001b[0m Retrieving fixtures for FRA-Ligue \u001b[1;36m1\u001b[0m \u001b[1;36m2425\u001b[0m                    \u001b]8;id=613197;file://c:\\Users\\Vitor\\anaconda3\\Lib\\site-packages\\soccerdata\\whoscored.py\u001b\\\u001b[2mwhoscored.py\u001b[0m\u001b]8;;\u001b\\\u001b[2m:\u001b[0m\u001b]8;id=472425;file://c:\\Users\\Vitor\\anaconda3\\Lib\\site-packages\\soccerdata\\whoscored.py#405\u001b\\\u001b[2m405\u001b[0m\u001b]8;;\u001b\\\n"
      ]
     },
     "metadata": {},
     "output_type": "display_data"
    },
    {
     "data": {
      "text/html": [
       "<pre style=\"white-space:pre;overflow-x:auto;line-height:normal;font-family:Menlo,'DejaVu Sans Mono',consolas,'Courier New',monospace\"><span style=\"color: #7fbfbf; text-decoration-color: #7fbfbf\">                       </span><span style=\"color: #000080; text-decoration-color: #000080\">INFO    </span> <span style=\"font-weight: bold\">[</span><span style=\"color: #008080; text-decoration-color: #008080; font-weight: bold\">5</span>/<span style=\"color: #008080; text-decoration-color: #008080; font-weight: bold\">10</span><span style=\"font-weight: bold\">]</span> Retrieving fixtures for FRA-Ligue <span style=\"color: #008080; text-decoration-color: #008080; font-weight: bold\">1</span> <span style=\"color: #008080; text-decoration-color: #008080; font-weight: bold\">2425</span>                    <a href=\"file://c:\\Users\\Vitor\\anaconda3\\Lib\\site-packages\\soccerdata\\whoscored.py\" target=\"_blank\"><span style=\"color: #7f7f7f; text-decoration-color: #7f7f7f\">whoscored.py</span></a><span style=\"color: #7f7f7f; text-decoration-color: #7f7f7f\">:</span><a href=\"file://c:\\Users\\Vitor\\anaconda3\\Lib\\site-packages\\soccerdata\\whoscored.py#405\" target=\"_blank\"><span style=\"color: #7f7f7f; text-decoration-color: #7f7f7f\">405</span></a>\n",
       "</pre>\n"
      ],
      "text/plain": [
       "\u001b[2;36m                      \u001b[0m\u001b[2;36m \u001b[0m\u001b[34mINFO    \u001b[0m \u001b[1m[\u001b[0m\u001b[1;36m5\u001b[0m/\u001b[1;36m10\u001b[0m\u001b[1m]\u001b[0m Retrieving fixtures for FRA-Ligue \u001b[1;36m1\u001b[0m \u001b[1;36m2425\u001b[0m                    \u001b]8;id=379835;file://c:\\Users\\Vitor\\anaconda3\\Lib\\site-packages\\soccerdata\\whoscored.py\u001b\\\u001b[2mwhoscored.py\u001b[0m\u001b]8;;\u001b\\\u001b[2m:\u001b[0m\u001b]8;id=29215;file://c:\\Users\\Vitor\\anaconda3\\Lib\\site-packages\\soccerdata\\whoscored.py#405\u001b\\\u001b[2m405\u001b[0m\u001b]8;;\u001b\\\n"
      ]
     },
     "metadata": {},
     "output_type": "display_data"
    },
    {
     "data": {
      "text/html": [
       "<pre style=\"white-space:pre;overflow-x:auto;line-height:normal;font-family:Menlo,'DejaVu Sans Mono',consolas,'Courier New',monospace\"><span style=\"color: #7fbfbf; text-decoration-color: #7fbfbf\">                       </span><span style=\"color: #000080; text-decoration-color: #000080\">INFO    </span> <span style=\"font-weight: bold\">[</span><span style=\"color: #008080; text-decoration-color: #008080; font-weight: bold\">6</span>/<span style=\"color: #008080; text-decoration-color: #008080; font-weight: bold\">10</span><span style=\"font-weight: bold\">]</span> Retrieving fixtures for FRA-Ligue <span style=\"color: #008080; text-decoration-color: #008080; font-weight: bold\">1</span> <span style=\"color: #008080; text-decoration-color: #008080; font-weight: bold\">2425</span>                    <a href=\"file://c:\\Users\\Vitor\\anaconda3\\Lib\\site-packages\\soccerdata\\whoscored.py\" target=\"_blank\"><span style=\"color: #7f7f7f; text-decoration-color: #7f7f7f\">whoscored.py</span></a><span style=\"color: #7f7f7f; text-decoration-color: #7f7f7f\">:</span><a href=\"file://c:\\Users\\Vitor\\anaconda3\\Lib\\site-packages\\soccerdata\\whoscored.py#405\" target=\"_blank\"><span style=\"color: #7f7f7f; text-decoration-color: #7f7f7f\">405</span></a>\n",
       "</pre>\n"
      ],
      "text/plain": [
       "\u001b[2;36m                      \u001b[0m\u001b[2;36m \u001b[0m\u001b[34mINFO    \u001b[0m \u001b[1m[\u001b[0m\u001b[1;36m6\u001b[0m/\u001b[1;36m10\u001b[0m\u001b[1m]\u001b[0m Retrieving fixtures for FRA-Ligue \u001b[1;36m1\u001b[0m \u001b[1;36m2425\u001b[0m                    \u001b]8;id=898991;file://c:\\Users\\Vitor\\anaconda3\\Lib\\site-packages\\soccerdata\\whoscored.py\u001b\\\u001b[2mwhoscored.py\u001b[0m\u001b]8;;\u001b\\\u001b[2m:\u001b[0m\u001b]8;id=515823;file://c:\\Users\\Vitor\\anaconda3\\Lib\\site-packages\\soccerdata\\whoscored.py#405\u001b\\\u001b[2m405\u001b[0m\u001b]8;;\u001b\\\n"
      ]
     },
     "metadata": {},
     "output_type": "display_data"
    },
    {
     "data": {
      "text/html": [
       "<pre style=\"white-space:pre;overflow-x:auto;line-height:normal;font-family:Menlo,'DejaVu Sans Mono',consolas,'Courier New',monospace\"><span style=\"color: #7fbfbf; text-decoration-color: #7fbfbf\">                       </span><span style=\"color: #000080; text-decoration-color: #000080\">INFO    </span> <span style=\"font-weight: bold\">[</span><span style=\"color: #008080; text-decoration-color: #008080; font-weight: bold\">7</span>/<span style=\"color: #008080; text-decoration-color: #008080; font-weight: bold\">10</span><span style=\"font-weight: bold\">]</span> Retrieving fixtures for FRA-Ligue <span style=\"color: #008080; text-decoration-color: #008080; font-weight: bold\">1</span> <span style=\"color: #008080; text-decoration-color: #008080; font-weight: bold\">2425</span>                    <a href=\"file://c:\\Users\\Vitor\\anaconda3\\Lib\\site-packages\\soccerdata\\whoscored.py\" target=\"_blank\"><span style=\"color: #7f7f7f; text-decoration-color: #7f7f7f\">whoscored.py</span></a><span style=\"color: #7f7f7f; text-decoration-color: #7f7f7f\">:</span><a href=\"file://c:\\Users\\Vitor\\anaconda3\\Lib\\site-packages\\soccerdata\\whoscored.py#405\" target=\"_blank\"><span style=\"color: #7f7f7f; text-decoration-color: #7f7f7f\">405</span></a>\n",
       "</pre>\n"
      ],
      "text/plain": [
       "\u001b[2;36m                      \u001b[0m\u001b[2;36m \u001b[0m\u001b[34mINFO    \u001b[0m \u001b[1m[\u001b[0m\u001b[1;36m7\u001b[0m/\u001b[1;36m10\u001b[0m\u001b[1m]\u001b[0m Retrieving fixtures for FRA-Ligue \u001b[1;36m1\u001b[0m \u001b[1;36m2425\u001b[0m                    \u001b]8;id=528440;file://c:\\Users\\Vitor\\anaconda3\\Lib\\site-packages\\soccerdata\\whoscored.py\u001b\\\u001b[2mwhoscored.py\u001b[0m\u001b]8;;\u001b\\\u001b[2m:\u001b[0m\u001b]8;id=330147;file://c:\\Users\\Vitor\\anaconda3\\Lib\\site-packages\\soccerdata\\whoscored.py#405\u001b\\\u001b[2m405\u001b[0m\u001b]8;;\u001b\\\n"
      ]
     },
     "metadata": {},
     "output_type": "display_data"
    },
    {
     "data": {
      "text/html": [
       "<pre style=\"white-space:pre;overflow-x:auto;line-height:normal;font-family:Menlo,'DejaVu Sans Mono',consolas,'Courier New',monospace\"><span style=\"color: #7fbfbf; text-decoration-color: #7fbfbf\">                       </span><span style=\"color: #000080; text-decoration-color: #000080\">INFO    </span> <span style=\"font-weight: bold\">[</span><span style=\"color: #008080; text-decoration-color: #008080; font-weight: bold\">8</span>/<span style=\"color: #008080; text-decoration-color: #008080; font-weight: bold\">10</span><span style=\"font-weight: bold\">]</span> Retrieving fixtures for FRA-Ligue <span style=\"color: #008080; text-decoration-color: #008080; font-weight: bold\">1</span> <span style=\"color: #008080; text-decoration-color: #008080; font-weight: bold\">2425</span>                    <a href=\"file://c:\\Users\\Vitor\\anaconda3\\Lib\\site-packages\\soccerdata\\whoscored.py\" target=\"_blank\"><span style=\"color: #7f7f7f; text-decoration-color: #7f7f7f\">whoscored.py</span></a><span style=\"color: #7f7f7f; text-decoration-color: #7f7f7f\">:</span><a href=\"file://c:\\Users\\Vitor\\anaconda3\\Lib\\site-packages\\soccerdata\\whoscored.py#405\" target=\"_blank\"><span style=\"color: #7f7f7f; text-decoration-color: #7f7f7f\">405</span></a>\n",
       "</pre>\n"
      ],
      "text/plain": [
       "\u001b[2;36m                      \u001b[0m\u001b[2;36m \u001b[0m\u001b[34mINFO    \u001b[0m \u001b[1m[\u001b[0m\u001b[1;36m8\u001b[0m/\u001b[1;36m10\u001b[0m\u001b[1m]\u001b[0m Retrieving fixtures for FRA-Ligue \u001b[1;36m1\u001b[0m \u001b[1;36m2425\u001b[0m                    \u001b]8;id=711111;file://c:\\Users\\Vitor\\anaconda3\\Lib\\site-packages\\soccerdata\\whoscored.py\u001b\\\u001b[2mwhoscored.py\u001b[0m\u001b]8;;\u001b\\\u001b[2m:\u001b[0m\u001b]8;id=614735;file://c:\\Users\\Vitor\\anaconda3\\Lib\\site-packages\\soccerdata\\whoscored.py#405\u001b\\\u001b[2m405\u001b[0m\u001b]8;;\u001b\\\n"
      ]
     },
     "metadata": {},
     "output_type": "display_data"
    },
    {
     "data": {
      "text/html": [
       "<pre style=\"white-space:pre;overflow-x:auto;line-height:normal;font-family:Menlo,'DejaVu Sans Mono',consolas,'Courier New',monospace\"><span style=\"color: #7fbfbf; text-decoration-color: #7fbfbf\">                       </span><span style=\"color: #000080; text-decoration-color: #000080\">INFO    </span> <span style=\"font-weight: bold\">[</span><span style=\"color: #008080; text-decoration-color: #008080; font-weight: bold\">9</span>/<span style=\"color: #008080; text-decoration-color: #008080; font-weight: bold\">10</span><span style=\"font-weight: bold\">]</span> Retrieving fixtures for FRA-Ligue <span style=\"color: #008080; text-decoration-color: #008080; font-weight: bold\">1</span> <span style=\"color: #008080; text-decoration-color: #008080; font-weight: bold\">2425</span>                    <a href=\"file://c:\\Users\\Vitor\\anaconda3\\Lib\\site-packages\\soccerdata\\whoscored.py\" target=\"_blank\"><span style=\"color: #7f7f7f; text-decoration-color: #7f7f7f\">whoscored.py</span></a><span style=\"color: #7f7f7f; text-decoration-color: #7f7f7f\">:</span><a href=\"file://c:\\Users\\Vitor\\anaconda3\\Lib\\site-packages\\soccerdata\\whoscored.py#405\" target=\"_blank\"><span style=\"color: #7f7f7f; text-decoration-color: #7f7f7f\">405</span></a>\n",
       "</pre>\n"
      ],
      "text/plain": [
       "\u001b[2;36m                      \u001b[0m\u001b[2;36m \u001b[0m\u001b[34mINFO    \u001b[0m \u001b[1m[\u001b[0m\u001b[1;36m9\u001b[0m/\u001b[1;36m10\u001b[0m\u001b[1m]\u001b[0m Retrieving fixtures for FRA-Ligue \u001b[1;36m1\u001b[0m \u001b[1;36m2425\u001b[0m                    \u001b]8;id=135263;file://c:\\Users\\Vitor\\anaconda3\\Lib\\site-packages\\soccerdata\\whoscored.py\u001b\\\u001b[2mwhoscored.py\u001b[0m\u001b]8;;\u001b\\\u001b[2m:\u001b[0m\u001b]8;id=393677;file://c:\\Users\\Vitor\\anaconda3\\Lib\\site-packages\\soccerdata\\whoscored.py#405\u001b\\\u001b[2m405\u001b[0m\u001b]8;;\u001b\\\n"
      ]
     },
     "metadata": {},
     "output_type": "display_data"
    },
    {
     "data": {
      "text/html": [
       "<pre style=\"white-space:pre;overflow-x:auto;line-height:normal;font-family:Menlo,'DejaVu Sans Mono',consolas,'Courier New',monospace\"><span style=\"color: #7fbfbf; text-decoration-color: #7fbfbf\">                       </span><span style=\"color: #000080; text-decoration-color: #000080\">INFO    </span> <span style=\"font-weight: bold\">[</span><span style=\"color: #008080; text-decoration-color: #008080; font-weight: bold\">10</span>/<span style=\"color: #008080; text-decoration-color: #008080; font-weight: bold\">10</span><span style=\"font-weight: bold\">]</span> Retrieving fixtures for FRA-Ligue <span style=\"color: #008080; text-decoration-color: #008080; font-weight: bold\">1</span> <span style=\"color: #008080; text-decoration-color: #008080; font-weight: bold\">2425</span>                   <a href=\"file://c:\\Users\\Vitor\\anaconda3\\Lib\\site-packages\\soccerdata\\whoscored.py\" target=\"_blank\"><span style=\"color: #7f7f7f; text-decoration-color: #7f7f7f\">whoscored.py</span></a><span style=\"color: #7f7f7f; text-decoration-color: #7f7f7f\">:</span><a href=\"file://c:\\Users\\Vitor\\anaconda3\\Lib\\site-packages\\soccerdata\\whoscored.py#405\" target=\"_blank\"><span style=\"color: #7f7f7f; text-decoration-color: #7f7f7f\">405</span></a>\n",
       "</pre>\n"
      ],
      "text/plain": [
       "\u001b[2;36m                      \u001b[0m\u001b[2;36m \u001b[0m\u001b[34mINFO    \u001b[0m \u001b[1m[\u001b[0m\u001b[1;36m10\u001b[0m/\u001b[1;36m10\u001b[0m\u001b[1m]\u001b[0m Retrieving fixtures for FRA-Ligue \u001b[1;36m1\u001b[0m \u001b[1;36m2425\u001b[0m                   \u001b]8;id=68302;file://c:\\Users\\Vitor\\anaconda3\\Lib\\site-packages\\soccerdata\\whoscored.py\u001b\\\u001b[2mwhoscored.py\u001b[0m\u001b]8;;\u001b\\\u001b[2m:\u001b[0m\u001b]8;id=855967;file://c:\\Users\\Vitor\\anaconda3\\Lib\\site-packages\\soccerdata\\whoscored.py#405\u001b\\\u001b[2m405\u001b[0m\u001b]8;;\u001b\\\n"
      ]
     },
     "metadata": {},
     "output_type": "display_data"
    },
    {
     "data": {
      "application/vnd.microsoft.datawrangler.viewer.v0+json": {
       "columns": [
        {
         "name": "index",
         "rawType": "int64",
         "type": "integer"
        },
        {
         "name": "league",
         "rawType": "object",
         "type": "string"
        },
        {
         "name": "season",
         "rawType": "object",
         "type": "string"
        },
        {
         "name": "start_time",
         "rawType": "object",
         "type": "string"
        },
        {
         "name": "game_id",
         "rawType": "int64",
         "type": "integer"
        },
        {
         "name": "team_id",
         "rawType": "int64",
         "type": "integer"
        },
        {
         "name": "team_name",
         "rawType": "object",
         "type": "string"
        }
       ],
       "conversionMethod": "pd.DataFrame",
       "ref": "c567ae80-7ba5-4532-88c2-76836dc8efef",
       "rows": [
        [
         "0",
         "FRA-Ligue 1",
         "2425",
         "2024-08-16T19:45:00",
         "1823999",
         "217",
         "Le Havre"
        ],
        [
         "1",
         "FRA-Ligue 1",
         "2425",
         "2024-08-17T16:00:00",
         "1823998",
         "2332",
         "Brest"
        ],
        [
         "2",
         "FRA-Ligue 1",
         "2425",
         "2024-08-17T20:00:00",
         "1824003",
         "248",
         "Monaco"
        ],
        [
         "3",
         "FRA-Ligue 1",
         "2425",
         "2024-08-17T18:00:00",
         "1823997",
         "950",
         "Reims"
        ],
        [
         "4",
         "FRA-Ligue 1",
         "2425",
         "2024-08-18T16:00:00",
         "1824002",
         "614",
         "Angers"
        ],
        [
         "5",
         "FRA-Ligue 1",
         "2425",
         "2024-08-18T14:00:00",
         "1824004",
         "308",
         "Auxerre"
        ],
        [
         "6",
         "FRA-Ligue 1",
         "2425",
         "2024-08-18T16:00:00",
         "1824000",
         "311",
         "Montpellier"
        ],
        [
         "7",
         "FRA-Ligue 1",
         "2425",
         "2024-08-18T19:45:00",
         "1824005",
         "313",
         "Rennes"
        ],
        [
         "8",
         "FRA-Ligue 1",
         "2425",
         "2024-08-18T16:00:00",
         "1824001",
         "246",
         "Toulouse"
        ],
        [
         "9",
         "FRA-Ligue 1",
         "2425",
         "2024-08-23T19:45:00",
         "1824778",
         "304",
         "Paris Saint-Germain"
        ],
        [
         "10",
         "FRA-Ligue 1",
         "2425",
         "2024-08-24T18:00:00",
         "1824785",
         "607",
         "Lille"
        ],
        [
         "11",
         "FRA-Ligue 1",
         "2425",
         "2024-08-24T16:00:00",
         "1824792",
         "228",
         "Lyon"
        ],
        [
         "12",
         "FRA-Ligue 1",
         "2425",
         "2024-08-24T20:00:00",
         "1824781",
         "145",
         "Saint-Etienne"
        ],
        [
         "13",
         "FRA-Ligue 1",
         "2425",
         "2024-08-25T14:00:00",
         "1824789",
         "309",
         "Lens"
        ],
        [
         "14",
         "FRA-Ligue 1",
         "2425",
         "2024-08-25T19:45:00",
         "1824794",
         "249",
         "Marseille"
        ],
        [
         "15",
         "FRA-Ligue 1",
         "2425",
         "2024-08-25T16:00:00",
         "1824780",
         "302",
         "Nantes"
        ],
        [
         "16",
         "FRA-Ligue 1",
         "2425",
         "2024-08-25T16:00:00",
         "1824788",
         "613",
         "Nice"
        ],
        [
         "17",
         "FRA-Ligue 1",
         "2425",
         "2024-08-25T16:00:00",
         "1824779",
         "148",
         "Strasbourg"
        ]
       ],
       "shape": {
        "columns": 6,
        "rows": 18
       }
      },
      "text/html": [
       "<div>\n",
       "<style scoped>\n",
       "    .dataframe tbody tr th:only-of-type {\n",
       "        vertical-align: middle;\n",
       "    }\n",
       "\n",
       "    .dataframe tbody tr th {\n",
       "        vertical-align: top;\n",
       "    }\n",
       "\n",
       "    .dataframe thead th {\n",
       "        text-align: right;\n",
       "    }\n",
       "</style>\n",
       "<table border=\"1\" class=\"dataframe\">\n",
       "  <thead>\n",
       "    <tr style=\"text-align: right;\">\n",
       "      <th></th>\n",
       "      <th>league</th>\n",
       "      <th>season</th>\n",
       "      <th>start_time</th>\n",
       "      <th>game_id</th>\n",
       "      <th>team_id</th>\n",
       "      <th>team_name</th>\n",
       "    </tr>\n",
       "  </thead>\n",
       "  <tbody>\n",
       "    <tr>\n",
       "      <th>0</th>\n",
       "      <td>FRA-Ligue 1</td>\n",
       "      <td>2425</td>\n",
       "      <td>2024-08-16T19:45:00</td>\n",
       "      <td>1823999</td>\n",
       "      <td>217</td>\n",
       "      <td>Le Havre</td>\n",
       "    </tr>\n",
       "    <tr>\n",
       "      <th>1</th>\n",
       "      <td>FRA-Ligue 1</td>\n",
       "      <td>2425</td>\n",
       "      <td>2024-08-17T16:00:00</td>\n",
       "      <td>1823998</td>\n",
       "      <td>2332</td>\n",
       "      <td>Brest</td>\n",
       "    </tr>\n",
       "    <tr>\n",
       "      <th>2</th>\n",
       "      <td>FRA-Ligue 1</td>\n",
       "      <td>2425</td>\n",
       "      <td>2024-08-17T20:00:00</td>\n",
       "      <td>1824003</td>\n",
       "      <td>248</td>\n",
       "      <td>Monaco</td>\n",
       "    </tr>\n",
       "    <tr>\n",
       "      <th>3</th>\n",
       "      <td>FRA-Ligue 1</td>\n",
       "      <td>2425</td>\n",
       "      <td>2024-08-17T18:00:00</td>\n",
       "      <td>1823997</td>\n",
       "      <td>950</td>\n",
       "      <td>Reims</td>\n",
       "    </tr>\n",
       "    <tr>\n",
       "      <th>4</th>\n",
       "      <td>FRA-Ligue 1</td>\n",
       "      <td>2425</td>\n",
       "      <td>2024-08-18T16:00:00</td>\n",
       "      <td>1824002</td>\n",
       "      <td>614</td>\n",
       "      <td>Angers</td>\n",
       "    </tr>\n",
       "    <tr>\n",
       "      <th>5</th>\n",
       "      <td>FRA-Ligue 1</td>\n",
       "      <td>2425</td>\n",
       "      <td>2024-08-18T14:00:00</td>\n",
       "      <td>1824004</td>\n",
       "      <td>308</td>\n",
       "      <td>Auxerre</td>\n",
       "    </tr>\n",
       "    <tr>\n",
       "      <th>6</th>\n",
       "      <td>FRA-Ligue 1</td>\n",
       "      <td>2425</td>\n",
       "      <td>2024-08-18T16:00:00</td>\n",
       "      <td>1824000</td>\n",
       "      <td>311</td>\n",
       "      <td>Montpellier</td>\n",
       "    </tr>\n",
       "    <tr>\n",
       "      <th>7</th>\n",
       "      <td>FRA-Ligue 1</td>\n",
       "      <td>2425</td>\n",
       "      <td>2024-08-18T19:45:00</td>\n",
       "      <td>1824005</td>\n",
       "      <td>313</td>\n",
       "      <td>Rennes</td>\n",
       "    </tr>\n",
       "    <tr>\n",
       "      <th>8</th>\n",
       "      <td>FRA-Ligue 1</td>\n",
       "      <td>2425</td>\n",
       "      <td>2024-08-18T16:00:00</td>\n",
       "      <td>1824001</td>\n",
       "      <td>246</td>\n",
       "      <td>Toulouse</td>\n",
       "    </tr>\n",
       "    <tr>\n",
       "      <th>9</th>\n",
       "      <td>FRA-Ligue 1</td>\n",
       "      <td>2425</td>\n",
       "      <td>2024-08-23T19:45:00</td>\n",
       "      <td>1824778</td>\n",
       "      <td>304</td>\n",
       "      <td>Paris Saint-Germain</td>\n",
       "    </tr>\n",
       "    <tr>\n",
       "      <th>10</th>\n",
       "      <td>FRA-Ligue 1</td>\n",
       "      <td>2425</td>\n",
       "      <td>2024-08-24T18:00:00</td>\n",
       "      <td>1824785</td>\n",
       "      <td>607</td>\n",
       "      <td>Lille</td>\n",
       "    </tr>\n",
       "    <tr>\n",
       "      <th>11</th>\n",
       "      <td>FRA-Ligue 1</td>\n",
       "      <td>2425</td>\n",
       "      <td>2024-08-24T16:00:00</td>\n",
       "      <td>1824792</td>\n",
       "      <td>228</td>\n",
       "      <td>Lyon</td>\n",
       "    </tr>\n",
       "    <tr>\n",
       "      <th>12</th>\n",
       "      <td>FRA-Ligue 1</td>\n",
       "      <td>2425</td>\n",
       "      <td>2024-08-24T20:00:00</td>\n",
       "      <td>1824781</td>\n",
       "      <td>145</td>\n",
       "      <td>Saint-Etienne</td>\n",
       "    </tr>\n",
       "    <tr>\n",
       "      <th>13</th>\n",
       "      <td>FRA-Ligue 1</td>\n",
       "      <td>2425</td>\n",
       "      <td>2024-08-25T14:00:00</td>\n",
       "      <td>1824789</td>\n",
       "      <td>309</td>\n",
       "      <td>Lens</td>\n",
       "    </tr>\n",
       "    <tr>\n",
       "      <th>14</th>\n",
       "      <td>FRA-Ligue 1</td>\n",
       "      <td>2425</td>\n",
       "      <td>2024-08-25T19:45:00</td>\n",
       "      <td>1824794</td>\n",
       "      <td>249</td>\n",
       "      <td>Marseille</td>\n",
       "    </tr>\n",
       "    <tr>\n",
       "      <th>15</th>\n",
       "      <td>FRA-Ligue 1</td>\n",
       "      <td>2425</td>\n",
       "      <td>2024-08-25T16:00:00</td>\n",
       "      <td>1824780</td>\n",
       "      <td>302</td>\n",
       "      <td>Nantes</td>\n",
       "    </tr>\n",
       "    <tr>\n",
       "      <th>16</th>\n",
       "      <td>FRA-Ligue 1</td>\n",
       "      <td>2425</td>\n",
       "      <td>2024-08-25T16:00:00</td>\n",
       "      <td>1824788</td>\n",
       "      <td>613</td>\n",
       "      <td>Nice</td>\n",
       "    </tr>\n",
       "    <tr>\n",
       "      <th>17</th>\n",
       "      <td>FRA-Ligue 1</td>\n",
       "      <td>2425</td>\n",
       "      <td>2024-08-25T16:00:00</td>\n",
       "      <td>1824779</td>\n",
       "      <td>148</td>\n",
       "      <td>Strasbourg</td>\n",
       "    </tr>\n",
       "  </tbody>\n",
       "</table>\n",
       "</div>"
      ],
      "text/plain": [
       "         league season           start_time  game_id  team_id  \\\n",
       "0   FRA-Ligue 1   2425  2024-08-16T19:45:00  1823999      217   \n",
       "1   FRA-Ligue 1   2425  2024-08-17T16:00:00  1823998     2332   \n",
       "2   FRA-Ligue 1   2425  2024-08-17T20:00:00  1824003      248   \n",
       "3   FRA-Ligue 1   2425  2024-08-17T18:00:00  1823997      950   \n",
       "4   FRA-Ligue 1   2425  2024-08-18T16:00:00  1824002      614   \n",
       "5   FRA-Ligue 1   2425  2024-08-18T14:00:00  1824004      308   \n",
       "6   FRA-Ligue 1   2425  2024-08-18T16:00:00  1824000      311   \n",
       "7   FRA-Ligue 1   2425  2024-08-18T19:45:00  1824005      313   \n",
       "8   FRA-Ligue 1   2425  2024-08-18T16:00:00  1824001      246   \n",
       "9   FRA-Ligue 1   2425  2024-08-23T19:45:00  1824778      304   \n",
       "10  FRA-Ligue 1   2425  2024-08-24T18:00:00  1824785      607   \n",
       "11  FRA-Ligue 1   2425  2024-08-24T16:00:00  1824792      228   \n",
       "12  FRA-Ligue 1   2425  2024-08-24T20:00:00  1824781      145   \n",
       "13  FRA-Ligue 1   2425  2024-08-25T14:00:00  1824789      309   \n",
       "14  FRA-Ligue 1   2425  2024-08-25T19:45:00  1824794      249   \n",
       "15  FRA-Ligue 1   2425  2024-08-25T16:00:00  1824780      302   \n",
       "16  FRA-Ligue 1   2425  2024-08-25T16:00:00  1824788      613   \n",
       "17  FRA-Ligue 1   2425  2024-08-25T16:00:00  1824779      148   \n",
       "\n",
       "              team_name  \n",
       "0              Le Havre  \n",
       "1                 Brest  \n",
       "2                Monaco  \n",
       "3                 Reims  \n",
       "4                Angers  \n",
       "5               Auxerre  \n",
       "6           Montpellier  \n",
       "7                Rennes  \n",
       "8              Toulouse  \n",
       "9   Paris Saint-Germain  \n",
       "10                Lille  \n",
       "11                 Lyon  \n",
       "12        Saint-Etienne  \n",
       "13                 Lens  \n",
       "14            Marseille  \n",
       "15               Nantes  \n",
       "16                 Nice  \n",
       "17           Strasbourg  "
      ]
     },
     "execution_count": 10,
     "metadata": {},
     "output_type": "execute_result"
    }
   ],
   "source": [
    "locale.setlocale(locale.LC_TIME, \"en_US.UTF-8\")\n",
    "ws_FRA_Ligue_1 = sd.WhoScored(\n",
    "    leagues=\"FRA-Ligue 1\", seasons=\"2024/2025\", no_cache=False, no_store=False\n",
    ")\n",
    "df_ws_FRA_Ligue_1 = ws_FRA_Ligue_1.read_schedule(force_cache=True)\n",
    "df_ws_FRA_Ligue_1 = get_WhoScored_team_id_df(df_ws_FRA_Ligue_1)\n",
    "df_ws_FRA_Ligue_1"
   ]
  },
  {
   "cell_type": "code",
   "execution_count": 11,
   "id": "41952e7e",
   "metadata": {},
   "outputs": [
    {
     "data": {
      "text/html": [
       "<pre style=\"white-space:pre;overflow-x:auto;line-height:normal;font-family:Menlo,'DejaVu Sans Mono',consolas,'Courier New',monospace\"><span style=\"color: #7fbfbf; text-decoration-color: #7fbfbf\">[4/11/2025 6:27:38 PM] </span><span style=\"color: #000080; text-decoration-color: #000080\">INFO    </span> Saving cached data to C:\\Users\\Vitor\\soccerdata\\data\\WhoScored       <a href=\"file://c:\\Users\\Vitor\\anaconda3\\Lib\\site-packages\\soccerdata\\_common.py\" target=\"_blank\"><span style=\"color: #7f7f7f; text-decoration-color: #7f7f7f\">_common.py</span></a><span style=\"color: #7f7f7f; text-decoration-color: #7f7f7f\">:</span><a href=\"file://c:\\Users\\Vitor\\anaconda3\\Lib\\site-packages\\soccerdata\\_common.py#263\" target=\"_blank\"><span style=\"color: #7f7f7f; text-decoration-color: #7f7f7f\">263</span></a>\n",
       "</pre>\n"
      ],
      "text/plain": [
       "\u001b[2;36m[4/11/2025 6:27:38 PM]\u001b[0m\u001b[2;36m \u001b[0m\u001b[34mINFO    \u001b[0m Saving cached data to C:\\Users\\Vitor\\soccerdata\\data\\WhoScored       \u001b]8;id=800949;file://c:\\Users\\Vitor\\anaconda3\\Lib\\site-packages\\soccerdata\\_common.py\u001b\\\u001b[2m_common.py\u001b[0m\u001b]8;;\u001b\\\u001b[2m:\u001b[0m\u001b]8;id=843555;file://c:\\Users\\Vitor\\anaconda3\\Lib\\site-packages\\soccerdata\\_common.py#263\u001b\\\u001b[2m263\u001b[0m\u001b]8;;\u001b\\\n"
      ]
     },
     "metadata": {},
     "output_type": "display_data"
    },
    {
     "data": {
      "text/html": [
       "<pre style=\"white-space:pre;overflow-x:auto;line-height:normal;font-family:Menlo,'DejaVu Sans Mono',consolas,'Courier New',monospace\"><span style=\"color: #7fbfbf; text-decoration-color: #7fbfbf\">[4/11/2025 6:27:39 PM] </span><span style=\"color: #000080; text-decoration-color: #000080\">INFO    </span> Retrieving calendar for GER-Bundesliga <span style=\"color: #008080; text-decoration-color: #008080; font-weight: bold\">2425</span>                        <a href=\"file://c:\\Users\\Vitor\\anaconda3\\Lib\\site-packages\\soccerdata\\whoscored.py\" target=\"_blank\"><span style=\"color: #7f7f7f; text-decoration-color: #7f7f7f\">whoscored.py</span></a><span style=\"color: #7f7f7f; text-decoration-color: #7f7f7f\">:</span><a href=\"file://c:\\Users\\Vitor\\anaconda3\\Lib\\site-packages\\soccerdata\\whoscored.py#376\" target=\"_blank\"><span style=\"color: #7f7f7f; text-decoration-color: #7f7f7f\">376</span></a>\n",
       "</pre>\n"
      ],
      "text/plain": [
       "\u001b[2;36m[4/11/2025 6:27:39 PM]\u001b[0m\u001b[2;36m \u001b[0m\u001b[34mINFO    \u001b[0m Retrieving calendar for GER-Bundesliga \u001b[1;36m2425\u001b[0m                        \u001b]8;id=966901;file://c:\\Users\\Vitor\\anaconda3\\Lib\\site-packages\\soccerdata\\whoscored.py\u001b\\\u001b[2mwhoscored.py\u001b[0m\u001b]8;;\u001b\\\u001b[2m:\u001b[0m\u001b]8;id=681655;file://c:\\Users\\Vitor\\anaconda3\\Lib\\site-packages\\soccerdata\\whoscored.py#376\u001b\\\u001b[2m376\u001b[0m\u001b]8;;\u001b\\\n"
      ]
     },
     "metadata": {},
     "output_type": "display_data"
    },
    {
     "data": {
      "text/html": [
       "<pre style=\"white-space:pre;overflow-x:auto;line-height:normal;font-family:Menlo,'DejaVu Sans Mono',consolas,'Courier New',monospace\"><span style=\"color: #7fbfbf; text-decoration-color: #7fbfbf\">                       </span><span style=\"color: #000080; text-decoration-color: #000080\">INFO    </span> <span style=\"font-weight: bold\">[</span><span style=\"color: #008080; text-decoration-color: #008080; font-weight: bold\">1</span>/<span style=\"color: #008080; text-decoration-color: #008080; font-weight: bold\">10</span><span style=\"font-weight: bold\">]</span> Retrieving fixtures for GER-Bundesliga <span style=\"color: #008080; text-decoration-color: #008080; font-weight: bold\">2425</span>                 <a href=\"file://c:\\Users\\Vitor\\anaconda3\\Lib\\site-packages\\soccerdata\\whoscored.py\" target=\"_blank\"><span style=\"color: #7f7f7f; text-decoration-color: #7f7f7f\">whoscored.py</span></a><span style=\"color: #7f7f7f; text-decoration-color: #7f7f7f\">:</span><a href=\"file://c:\\Users\\Vitor\\anaconda3\\Lib\\site-packages\\soccerdata\\whoscored.py#405\" target=\"_blank\"><span style=\"color: #7f7f7f; text-decoration-color: #7f7f7f\">405</span></a>\n",
       "</pre>\n"
      ],
      "text/plain": [
       "\u001b[2;36m                      \u001b[0m\u001b[2;36m \u001b[0m\u001b[34mINFO    \u001b[0m \u001b[1m[\u001b[0m\u001b[1;36m1\u001b[0m/\u001b[1;36m10\u001b[0m\u001b[1m]\u001b[0m Retrieving fixtures for GER-Bundesliga \u001b[1;36m2425\u001b[0m                 \u001b]8;id=173166;file://c:\\Users\\Vitor\\anaconda3\\Lib\\site-packages\\soccerdata\\whoscored.py\u001b\\\u001b[2mwhoscored.py\u001b[0m\u001b]8;;\u001b\\\u001b[2m:\u001b[0m\u001b]8;id=603514;file://c:\\Users\\Vitor\\anaconda3\\Lib\\site-packages\\soccerdata\\whoscored.py#405\u001b\\\u001b[2m405\u001b[0m\u001b]8;;\u001b\\\n"
      ]
     },
     "metadata": {},
     "output_type": "display_data"
    },
    {
     "data": {
      "text/html": [
       "<pre style=\"white-space:pre;overflow-x:auto;line-height:normal;font-family:Menlo,'DejaVu Sans Mono',consolas,'Courier New',monospace\"><span style=\"color: #7fbfbf; text-decoration-color: #7fbfbf\">                       </span><span style=\"color: #000080; text-decoration-color: #000080\">INFO    </span> <span style=\"font-weight: bold\">[</span><span style=\"color: #008080; text-decoration-color: #008080; font-weight: bold\">2</span>/<span style=\"color: #008080; text-decoration-color: #008080; font-weight: bold\">10</span><span style=\"font-weight: bold\">]</span> Retrieving fixtures for GER-Bundesliga <span style=\"color: #008080; text-decoration-color: #008080; font-weight: bold\">2425</span>                 <a href=\"file://c:\\Users\\Vitor\\anaconda3\\Lib\\site-packages\\soccerdata\\whoscored.py\" target=\"_blank\"><span style=\"color: #7f7f7f; text-decoration-color: #7f7f7f\">whoscored.py</span></a><span style=\"color: #7f7f7f; text-decoration-color: #7f7f7f\">:</span><a href=\"file://c:\\Users\\Vitor\\anaconda3\\Lib\\site-packages\\soccerdata\\whoscored.py#405\" target=\"_blank\"><span style=\"color: #7f7f7f; text-decoration-color: #7f7f7f\">405</span></a>\n",
       "</pre>\n"
      ],
      "text/plain": [
       "\u001b[2;36m                      \u001b[0m\u001b[2;36m \u001b[0m\u001b[34mINFO    \u001b[0m \u001b[1m[\u001b[0m\u001b[1;36m2\u001b[0m/\u001b[1;36m10\u001b[0m\u001b[1m]\u001b[0m Retrieving fixtures for GER-Bundesliga \u001b[1;36m2425\u001b[0m                 \u001b]8;id=163863;file://c:\\Users\\Vitor\\anaconda3\\Lib\\site-packages\\soccerdata\\whoscored.py\u001b\\\u001b[2mwhoscored.py\u001b[0m\u001b]8;;\u001b\\\u001b[2m:\u001b[0m\u001b]8;id=586481;file://c:\\Users\\Vitor\\anaconda3\\Lib\\site-packages\\soccerdata\\whoscored.py#405\u001b\\\u001b[2m405\u001b[0m\u001b]8;;\u001b\\\n"
      ]
     },
     "metadata": {},
     "output_type": "display_data"
    },
    {
     "data": {
      "text/html": [
       "<pre style=\"white-space:pre;overflow-x:auto;line-height:normal;font-family:Menlo,'DejaVu Sans Mono',consolas,'Courier New',monospace\"><span style=\"color: #7fbfbf; text-decoration-color: #7fbfbf\">                       </span><span style=\"color: #000080; text-decoration-color: #000080\">INFO    </span> <span style=\"font-weight: bold\">[</span><span style=\"color: #008080; text-decoration-color: #008080; font-weight: bold\">3</span>/<span style=\"color: #008080; text-decoration-color: #008080; font-weight: bold\">10</span><span style=\"font-weight: bold\">]</span> Retrieving fixtures for GER-Bundesliga <span style=\"color: #008080; text-decoration-color: #008080; font-weight: bold\">2425</span>                 <a href=\"file://c:\\Users\\Vitor\\anaconda3\\Lib\\site-packages\\soccerdata\\whoscored.py\" target=\"_blank\"><span style=\"color: #7f7f7f; text-decoration-color: #7f7f7f\">whoscored.py</span></a><span style=\"color: #7f7f7f; text-decoration-color: #7f7f7f\">:</span><a href=\"file://c:\\Users\\Vitor\\anaconda3\\Lib\\site-packages\\soccerdata\\whoscored.py#405\" target=\"_blank\"><span style=\"color: #7f7f7f; text-decoration-color: #7f7f7f\">405</span></a>\n",
       "</pre>\n"
      ],
      "text/plain": [
       "\u001b[2;36m                      \u001b[0m\u001b[2;36m \u001b[0m\u001b[34mINFO    \u001b[0m \u001b[1m[\u001b[0m\u001b[1;36m3\u001b[0m/\u001b[1;36m10\u001b[0m\u001b[1m]\u001b[0m Retrieving fixtures for GER-Bundesliga \u001b[1;36m2425\u001b[0m                 \u001b]8;id=769560;file://c:\\Users\\Vitor\\anaconda3\\Lib\\site-packages\\soccerdata\\whoscored.py\u001b\\\u001b[2mwhoscored.py\u001b[0m\u001b]8;;\u001b\\\u001b[2m:\u001b[0m\u001b]8;id=102138;file://c:\\Users\\Vitor\\anaconda3\\Lib\\site-packages\\soccerdata\\whoscored.py#405\u001b\\\u001b[2m405\u001b[0m\u001b]8;;\u001b\\\n"
      ]
     },
     "metadata": {},
     "output_type": "display_data"
    },
    {
     "data": {
      "text/html": [
       "<pre style=\"white-space:pre;overflow-x:auto;line-height:normal;font-family:Menlo,'DejaVu Sans Mono',consolas,'Courier New',monospace\"><span style=\"color: #7fbfbf; text-decoration-color: #7fbfbf\">                       </span><span style=\"color: #000080; text-decoration-color: #000080\">INFO    </span> <span style=\"font-weight: bold\">[</span><span style=\"color: #008080; text-decoration-color: #008080; font-weight: bold\">4</span>/<span style=\"color: #008080; text-decoration-color: #008080; font-weight: bold\">10</span><span style=\"font-weight: bold\">]</span> Retrieving fixtures for GER-Bundesliga <span style=\"color: #008080; text-decoration-color: #008080; font-weight: bold\">2425</span>                 <a href=\"file://c:\\Users\\Vitor\\anaconda3\\Lib\\site-packages\\soccerdata\\whoscored.py\" target=\"_blank\"><span style=\"color: #7f7f7f; text-decoration-color: #7f7f7f\">whoscored.py</span></a><span style=\"color: #7f7f7f; text-decoration-color: #7f7f7f\">:</span><a href=\"file://c:\\Users\\Vitor\\anaconda3\\Lib\\site-packages\\soccerdata\\whoscored.py#405\" target=\"_blank\"><span style=\"color: #7f7f7f; text-decoration-color: #7f7f7f\">405</span></a>\n",
       "</pre>\n"
      ],
      "text/plain": [
       "\u001b[2;36m                      \u001b[0m\u001b[2;36m \u001b[0m\u001b[34mINFO    \u001b[0m \u001b[1m[\u001b[0m\u001b[1;36m4\u001b[0m/\u001b[1;36m10\u001b[0m\u001b[1m]\u001b[0m Retrieving fixtures for GER-Bundesliga \u001b[1;36m2425\u001b[0m                 \u001b]8;id=307537;file://c:\\Users\\Vitor\\anaconda3\\Lib\\site-packages\\soccerdata\\whoscored.py\u001b\\\u001b[2mwhoscored.py\u001b[0m\u001b]8;;\u001b\\\u001b[2m:\u001b[0m\u001b]8;id=935578;file://c:\\Users\\Vitor\\anaconda3\\Lib\\site-packages\\soccerdata\\whoscored.py#405\u001b\\\u001b[2m405\u001b[0m\u001b]8;;\u001b\\\n"
      ]
     },
     "metadata": {},
     "output_type": "display_data"
    },
    {
     "data": {
      "text/html": [
       "<pre style=\"white-space:pre;overflow-x:auto;line-height:normal;font-family:Menlo,'DejaVu Sans Mono',consolas,'Courier New',monospace\"><span style=\"color: #7fbfbf; text-decoration-color: #7fbfbf\">                       </span><span style=\"color: #000080; text-decoration-color: #000080\">INFO    </span> <span style=\"font-weight: bold\">[</span><span style=\"color: #008080; text-decoration-color: #008080; font-weight: bold\">5</span>/<span style=\"color: #008080; text-decoration-color: #008080; font-weight: bold\">10</span><span style=\"font-weight: bold\">]</span> Retrieving fixtures for GER-Bundesliga <span style=\"color: #008080; text-decoration-color: #008080; font-weight: bold\">2425</span>                 <a href=\"file://c:\\Users\\Vitor\\anaconda3\\Lib\\site-packages\\soccerdata\\whoscored.py\" target=\"_blank\"><span style=\"color: #7f7f7f; text-decoration-color: #7f7f7f\">whoscored.py</span></a><span style=\"color: #7f7f7f; text-decoration-color: #7f7f7f\">:</span><a href=\"file://c:\\Users\\Vitor\\anaconda3\\Lib\\site-packages\\soccerdata\\whoscored.py#405\" target=\"_blank\"><span style=\"color: #7f7f7f; text-decoration-color: #7f7f7f\">405</span></a>\n",
       "</pre>\n"
      ],
      "text/plain": [
       "\u001b[2;36m                      \u001b[0m\u001b[2;36m \u001b[0m\u001b[34mINFO    \u001b[0m \u001b[1m[\u001b[0m\u001b[1;36m5\u001b[0m/\u001b[1;36m10\u001b[0m\u001b[1m]\u001b[0m Retrieving fixtures for GER-Bundesliga \u001b[1;36m2425\u001b[0m                 \u001b]8;id=74344;file://c:\\Users\\Vitor\\anaconda3\\Lib\\site-packages\\soccerdata\\whoscored.py\u001b\\\u001b[2mwhoscored.py\u001b[0m\u001b]8;;\u001b\\\u001b[2m:\u001b[0m\u001b]8;id=952877;file://c:\\Users\\Vitor\\anaconda3\\Lib\\site-packages\\soccerdata\\whoscored.py#405\u001b\\\u001b[2m405\u001b[0m\u001b]8;;\u001b\\\n"
      ]
     },
     "metadata": {},
     "output_type": "display_data"
    },
    {
     "data": {
      "text/html": [
       "<pre style=\"white-space:pre;overflow-x:auto;line-height:normal;font-family:Menlo,'DejaVu Sans Mono',consolas,'Courier New',monospace\"><span style=\"color: #7fbfbf; text-decoration-color: #7fbfbf\">                       </span><span style=\"color: #000080; text-decoration-color: #000080\">INFO    </span> <span style=\"font-weight: bold\">[</span><span style=\"color: #008080; text-decoration-color: #008080; font-weight: bold\">6</span>/<span style=\"color: #008080; text-decoration-color: #008080; font-weight: bold\">10</span><span style=\"font-weight: bold\">]</span> Retrieving fixtures for GER-Bundesliga <span style=\"color: #008080; text-decoration-color: #008080; font-weight: bold\">2425</span>                 <a href=\"file://c:\\Users\\Vitor\\anaconda3\\Lib\\site-packages\\soccerdata\\whoscored.py\" target=\"_blank\"><span style=\"color: #7f7f7f; text-decoration-color: #7f7f7f\">whoscored.py</span></a><span style=\"color: #7f7f7f; text-decoration-color: #7f7f7f\">:</span><a href=\"file://c:\\Users\\Vitor\\anaconda3\\Lib\\site-packages\\soccerdata\\whoscored.py#405\" target=\"_blank\"><span style=\"color: #7f7f7f; text-decoration-color: #7f7f7f\">405</span></a>\n",
       "</pre>\n"
      ],
      "text/plain": [
       "\u001b[2;36m                      \u001b[0m\u001b[2;36m \u001b[0m\u001b[34mINFO    \u001b[0m \u001b[1m[\u001b[0m\u001b[1;36m6\u001b[0m/\u001b[1;36m10\u001b[0m\u001b[1m]\u001b[0m Retrieving fixtures for GER-Bundesliga \u001b[1;36m2425\u001b[0m                 \u001b]8;id=524380;file://c:\\Users\\Vitor\\anaconda3\\Lib\\site-packages\\soccerdata\\whoscored.py\u001b\\\u001b[2mwhoscored.py\u001b[0m\u001b]8;;\u001b\\\u001b[2m:\u001b[0m\u001b]8;id=530335;file://c:\\Users\\Vitor\\anaconda3\\Lib\\site-packages\\soccerdata\\whoscored.py#405\u001b\\\u001b[2m405\u001b[0m\u001b]8;;\u001b\\\n"
      ]
     },
     "metadata": {},
     "output_type": "display_data"
    },
    {
     "data": {
      "text/html": [
       "<pre style=\"white-space:pre;overflow-x:auto;line-height:normal;font-family:Menlo,'DejaVu Sans Mono',consolas,'Courier New',monospace\"><span style=\"color: #7fbfbf; text-decoration-color: #7fbfbf\">                       </span><span style=\"color: #000080; text-decoration-color: #000080\">INFO    </span> <span style=\"font-weight: bold\">[</span><span style=\"color: #008080; text-decoration-color: #008080; font-weight: bold\">7</span>/<span style=\"color: #008080; text-decoration-color: #008080; font-weight: bold\">10</span><span style=\"font-weight: bold\">]</span> Retrieving fixtures for GER-Bundesliga <span style=\"color: #008080; text-decoration-color: #008080; font-weight: bold\">2425</span>                 <a href=\"file://c:\\Users\\Vitor\\anaconda3\\Lib\\site-packages\\soccerdata\\whoscored.py\" target=\"_blank\"><span style=\"color: #7f7f7f; text-decoration-color: #7f7f7f\">whoscored.py</span></a><span style=\"color: #7f7f7f; text-decoration-color: #7f7f7f\">:</span><a href=\"file://c:\\Users\\Vitor\\anaconda3\\Lib\\site-packages\\soccerdata\\whoscored.py#405\" target=\"_blank\"><span style=\"color: #7f7f7f; text-decoration-color: #7f7f7f\">405</span></a>\n",
       "</pre>\n"
      ],
      "text/plain": [
       "\u001b[2;36m                      \u001b[0m\u001b[2;36m \u001b[0m\u001b[34mINFO    \u001b[0m \u001b[1m[\u001b[0m\u001b[1;36m7\u001b[0m/\u001b[1;36m10\u001b[0m\u001b[1m]\u001b[0m Retrieving fixtures for GER-Bundesliga \u001b[1;36m2425\u001b[0m                 \u001b]8;id=753977;file://c:\\Users\\Vitor\\anaconda3\\Lib\\site-packages\\soccerdata\\whoscored.py\u001b\\\u001b[2mwhoscored.py\u001b[0m\u001b]8;;\u001b\\\u001b[2m:\u001b[0m\u001b]8;id=411437;file://c:\\Users\\Vitor\\anaconda3\\Lib\\site-packages\\soccerdata\\whoscored.py#405\u001b\\\u001b[2m405\u001b[0m\u001b]8;;\u001b\\\n"
      ]
     },
     "metadata": {},
     "output_type": "display_data"
    },
    {
     "data": {
      "text/html": [
       "<pre style=\"white-space:pre;overflow-x:auto;line-height:normal;font-family:Menlo,'DejaVu Sans Mono',consolas,'Courier New',monospace\"><span style=\"color: #7fbfbf; text-decoration-color: #7fbfbf\">                       </span><span style=\"color: #000080; text-decoration-color: #000080\">INFO    </span> <span style=\"font-weight: bold\">[</span><span style=\"color: #008080; text-decoration-color: #008080; font-weight: bold\">8</span>/<span style=\"color: #008080; text-decoration-color: #008080; font-weight: bold\">10</span><span style=\"font-weight: bold\">]</span> Retrieving fixtures for GER-Bundesliga <span style=\"color: #008080; text-decoration-color: #008080; font-weight: bold\">2425</span>                 <a href=\"file://c:\\Users\\Vitor\\anaconda3\\Lib\\site-packages\\soccerdata\\whoscored.py\" target=\"_blank\"><span style=\"color: #7f7f7f; text-decoration-color: #7f7f7f\">whoscored.py</span></a><span style=\"color: #7f7f7f; text-decoration-color: #7f7f7f\">:</span><a href=\"file://c:\\Users\\Vitor\\anaconda3\\Lib\\site-packages\\soccerdata\\whoscored.py#405\" target=\"_blank\"><span style=\"color: #7f7f7f; text-decoration-color: #7f7f7f\">405</span></a>\n",
       "</pre>\n"
      ],
      "text/plain": [
       "\u001b[2;36m                      \u001b[0m\u001b[2;36m \u001b[0m\u001b[34mINFO    \u001b[0m \u001b[1m[\u001b[0m\u001b[1;36m8\u001b[0m/\u001b[1;36m10\u001b[0m\u001b[1m]\u001b[0m Retrieving fixtures for GER-Bundesliga \u001b[1;36m2425\u001b[0m                 \u001b]8;id=905359;file://c:\\Users\\Vitor\\anaconda3\\Lib\\site-packages\\soccerdata\\whoscored.py\u001b\\\u001b[2mwhoscored.py\u001b[0m\u001b]8;;\u001b\\\u001b[2m:\u001b[0m\u001b]8;id=88538;file://c:\\Users\\Vitor\\anaconda3\\Lib\\site-packages\\soccerdata\\whoscored.py#405\u001b\\\u001b[2m405\u001b[0m\u001b]8;;\u001b\\\n"
      ]
     },
     "metadata": {},
     "output_type": "display_data"
    },
    {
     "data": {
      "text/html": [
       "<pre style=\"white-space:pre;overflow-x:auto;line-height:normal;font-family:Menlo,'DejaVu Sans Mono',consolas,'Courier New',monospace\"><span style=\"color: #7fbfbf; text-decoration-color: #7fbfbf\">                       </span><span style=\"color: #000080; text-decoration-color: #000080\">INFO    </span> <span style=\"font-weight: bold\">[</span><span style=\"color: #008080; text-decoration-color: #008080; font-weight: bold\">9</span>/<span style=\"color: #008080; text-decoration-color: #008080; font-weight: bold\">10</span><span style=\"font-weight: bold\">]</span> Retrieving fixtures for GER-Bundesliga <span style=\"color: #008080; text-decoration-color: #008080; font-weight: bold\">2425</span>                 <a href=\"file://c:\\Users\\Vitor\\anaconda3\\Lib\\site-packages\\soccerdata\\whoscored.py\" target=\"_blank\"><span style=\"color: #7f7f7f; text-decoration-color: #7f7f7f\">whoscored.py</span></a><span style=\"color: #7f7f7f; text-decoration-color: #7f7f7f\">:</span><a href=\"file://c:\\Users\\Vitor\\anaconda3\\Lib\\site-packages\\soccerdata\\whoscored.py#405\" target=\"_blank\"><span style=\"color: #7f7f7f; text-decoration-color: #7f7f7f\">405</span></a>\n",
       "</pre>\n"
      ],
      "text/plain": [
       "\u001b[2;36m                      \u001b[0m\u001b[2;36m \u001b[0m\u001b[34mINFO    \u001b[0m \u001b[1m[\u001b[0m\u001b[1;36m9\u001b[0m/\u001b[1;36m10\u001b[0m\u001b[1m]\u001b[0m Retrieving fixtures for GER-Bundesliga \u001b[1;36m2425\u001b[0m                 \u001b]8;id=435123;file://c:\\Users\\Vitor\\anaconda3\\Lib\\site-packages\\soccerdata\\whoscored.py\u001b\\\u001b[2mwhoscored.py\u001b[0m\u001b]8;;\u001b\\\u001b[2m:\u001b[0m\u001b]8;id=158924;file://c:\\Users\\Vitor\\anaconda3\\Lib\\site-packages\\soccerdata\\whoscored.py#405\u001b\\\u001b[2m405\u001b[0m\u001b]8;;\u001b\\\n"
      ]
     },
     "metadata": {},
     "output_type": "display_data"
    },
    {
     "data": {
      "text/html": [
       "<pre style=\"white-space:pre;overflow-x:auto;line-height:normal;font-family:Menlo,'DejaVu Sans Mono',consolas,'Courier New',monospace\"><span style=\"color: #7fbfbf; text-decoration-color: #7fbfbf\">                       </span><span style=\"color: #000080; text-decoration-color: #000080\">INFO    </span> <span style=\"font-weight: bold\">[</span><span style=\"color: #008080; text-decoration-color: #008080; font-weight: bold\">10</span>/<span style=\"color: #008080; text-decoration-color: #008080; font-weight: bold\">10</span><span style=\"font-weight: bold\">]</span> Retrieving fixtures for GER-Bundesliga <span style=\"color: #008080; text-decoration-color: #008080; font-weight: bold\">2425</span>                <a href=\"file://c:\\Users\\Vitor\\anaconda3\\Lib\\site-packages\\soccerdata\\whoscored.py\" target=\"_blank\"><span style=\"color: #7f7f7f; text-decoration-color: #7f7f7f\">whoscored.py</span></a><span style=\"color: #7f7f7f; text-decoration-color: #7f7f7f\">:</span><a href=\"file://c:\\Users\\Vitor\\anaconda3\\Lib\\site-packages\\soccerdata\\whoscored.py#405\" target=\"_blank\"><span style=\"color: #7f7f7f; text-decoration-color: #7f7f7f\">405</span></a>\n",
       "</pre>\n"
      ],
      "text/plain": [
       "\u001b[2;36m                      \u001b[0m\u001b[2;36m \u001b[0m\u001b[34mINFO    \u001b[0m \u001b[1m[\u001b[0m\u001b[1;36m10\u001b[0m/\u001b[1;36m10\u001b[0m\u001b[1m]\u001b[0m Retrieving fixtures for GER-Bundesliga \u001b[1;36m2425\u001b[0m                \u001b]8;id=249436;file://c:\\Users\\Vitor\\anaconda3\\Lib\\site-packages\\soccerdata\\whoscored.py\u001b\\\u001b[2mwhoscored.py\u001b[0m\u001b]8;;\u001b\\\u001b[2m:\u001b[0m\u001b]8;id=335409;file://c:\\Users\\Vitor\\anaconda3\\Lib\\site-packages\\soccerdata\\whoscored.py#405\u001b\\\u001b[2m405\u001b[0m\u001b]8;;\u001b\\\n"
      ]
     },
     "metadata": {},
     "output_type": "display_data"
    },
    {
     "data": {
      "application/vnd.microsoft.datawrangler.viewer.v0+json": {
       "columns": [
        {
         "name": "index",
         "rawType": "int64",
         "type": "integer"
        },
        {
         "name": "league",
         "rawType": "object",
         "type": "string"
        },
        {
         "name": "season",
         "rawType": "object",
         "type": "string"
        },
        {
         "name": "start_time",
         "rawType": "object",
         "type": "string"
        },
        {
         "name": "game_id",
         "rawType": "int64",
         "type": "integer"
        },
        {
         "name": "team_id",
         "rawType": "int64",
         "type": "integer"
        },
        {
         "name": "team_name",
         "rawType": "object",
         "type": "string"
        }
       ],
       "conversionMethod": "pd.DataFrame",
       "ref": "fc98c718-2a37-4c18-bf2b-64ad0aa97d87",
       "rows": [
        [
         "0",
         "GER-Bundesliga",
         "2425",
         "2024-08-23T19:30:00",
         "1834247",
         "134",
         "Borussia Mönchengladbach"
        ],
        [
         "1",
         "GER-Bundesliga",
         "2425",
         "2024-08-24T14:30:00",
         "1834258",
         "1730",
         "Augsburg"
        ],
        [
         "2",
         "GER-Bundesliga",
         "2425",
         "2024-08-24T17:30:00",
         "1834248",
         "44",
         "Borussia Dortmund"
        ],
        [
         "3",
         "GER-Bundesliga",
         "2425",
         "2024-08-24T14:30:00",
         "1834255",
         "50",
         "Freiburg"
        ],
        [
         "4",
         "GER-Bundesliga",
         "2425",
         "2024-08-24T14:30:00",
         "1834252",
         "1211",
         "Hoffenheim"
        ],
        [
         "5",
         "GER-Bundesliga",
         "2425",
         "2024-08-24T14:30:00",
         "1834264",
         "219",
         "Mainz 05"
        ],
        [
         "6",
         "GER-Bundesliga",
         "2425",
         "2024-08-24T14:30:00",
         "1834249",
         "7614",
         "RB Leipzig"
        ],
        [
         "7",
         "GER-Bundesliga",
         "2425",
         "2024-08-25T16:30:00",
         "1834267",
         "283",
         "St. Pauli"
        ],
        [
         "8",
         "GER-Bundesliga",
         "2425",
         "2024-08-25T14:30:00",
         "1834261",
         "33",
         "Wolfsburg"
        ],
        [
         "9",
         "GER-Bundesliga",
         "2425",
         "2024-08-30T19:30:00",
         "1834254",
         "796",
         "Union Berlin"
        ],
        [
         "10",
         "GER-Bundesliga",
         "2425",
         "2024-08-31T17:30:00",
         "1834270",
         "36",
         "Bayer Leverkusen"
        ],
        [
         "11",
         "GER-Bundesliga",
         "2425",
         "2024-08-31T14:30:00",
         "1834257",
         "109",
         "Bochum"
        ],
        [
         "12",
         "GER-Bundesliga",
         "2425",
         "2024-08-31T14:30:00",
         "1834278",
         "45",
         "Eintracht Frankfurt"
        ],
        [
         "13",
         "GER-Bundesliga",
         "2425",
         "2024-08-31T14:30:00",
         "1834260",
         "1206",
         "Holstein Kiel"
        ],
        [
         "14",
         "GER-Bundesliga",
         "2425",
         "2024-08-31T14:30:00",
         "1834273",
         "41",
         "VfB Stuttgart"
        ],
        [
         "15",
         "GER-Bundesliga",
         "2425",
         "2024-08-31T14:30:00",
         "1834251",
         "42",
         "Werder Bremen"
        ],
        [
         "16",
         "GER-Bundesliga",
         "2425",
         "2024-09-01T16:30:00",
         "1834276",
         "37",
         "Bayern München"
        ],
        [
         "17",
         "GER-Bundesliga",
         "2425",
         "2024-09-01T14:30:00",
         "1834281",
         "4852",
         "FC Heidenheim"
        ]
       ],
       "shape": {
        "columns": 6,
        "rows": 18
       }
      },
      "text/html": [
       "<div>\n",
       "<style scoped>\n",
       "    .dataframe tbody tr th:only-of-type {\n",
       "        vertical-align: middle;\n",
       "    }\n",
       "\n",
       "    .dataframe tbody tr th {\n",
       "        vertical-align: top;\n",
       "    }\n",
       "\n",
       "    .dataframe thead th {\n",
       "        text-align: right;\n",
       "    }\n",
       "</style>\n",
       "<table border=\"1\" class=\"dataframe\">\n",
       "  <thead>\n",
       "    <tr style=\"text-align: right;\">\n",
       "      <th></th>\n",
       "      <th>league</th>\n",
       "      <th>season</th>\n",
       "      <th>start_time</th>\n",
       "      <th>game_id</th>\n",
       "      <th>team_id</th>\n",
       "      <th>team_name</th>\n",
       "    </tr>\n",
       "  </thead>\n",
       "  <tbody>\n",
       "    <tr>\n",
       "      <th>0</th>\n",
       "      <td>GER-Bundesliga</td>\n",
       "      <td>2425</td>\n",
       "      <td>2024-08-23T19:30:00</td>\n",
       "      <td>1834247</td>\n",
       "      <td>134</td>\n",
       "      <td>Borussia Mönchengladbach</td>\n",
       "    </tr>\n",
       "    <tr>\n",
       "      <th>1</th>\n",
       "      <td>GER-Bundesliga</td>\n",
       "      <td>2425</td>\n",
       "      <td>2024-08-24T14:30:00</td>\n",
       "      <td>1834258</td>\n",
       "      <td>1730</td>\n",
       "      <td>Augsburg</td>\n",
       "    </tr>\n",
       "    <tr>\n",
       "      <th>2</th>\n",
       "      <td>GER-Bundesliga</td>\n",
       "      <td>2425</td>\n",
       "      <td>2024-08-24T17:30:00</td>\n",
       "      <td>1834248</td>\n",
       "      <td>44</td>\n",
       "      <td>Borussia Dortmund</td>\n",
       "    </tr>\n",
       "    <tr>\n",
       "      <th>3</th>\n",
       "      <td>GER-Bundesliga</td>\n",
       "      <td>2425</td>\n",
       "      <td>2024-08-24T14:30:00</td>\n",
       "      <td>1834255</td>\n",
       "      <td>50</td>\n",
       "      <td>Freiburg</td>\n",
       "    </tr>\n",
       "    <tr>\n",
       "      <th>4</th>\n",
       "      <td>GER-Bundesliga</td>\n",
       "      <td>2425</td>\n",
       "      <td>2024-08-24T14:30:00</td>\n",
       "      <td>1834252</td>\n",
       "      <td>1211</td>\n",
       "      <td>Hoffenheim</td>\n",
       "    </tr>\n",
       "    <tr>\n",
       "      <th>5</th>\n",
       "      <td>GER-Bundesliga</td>\n",
       "      <td>2425</td>\n",
       "      <td>2024-08-24T14:30:00</td>\n",
       "      <td>1834264</td>\n",
       "      <td>219</td>\n",
       "      <td>Mainz 05</td>\n",
       "    </tr>\n",
       "    <tr>\n",
       "      <th>6</th>\n",
       "      <td>GER-Bundesliga</td>\n",
       "      <td>2425</td>\n",
       "      <td>2024-08-24T14:30:00</td>\n",
       "      <td>1834249</td>\n",
       "      <td>7614</td>\n",
       "      <td>RB Leipzig</td>\n",
       "    </tr>\n",
       "    <tr>\n",
       "      <th>7</th>\n",
       "      <td>GER-Bundesliga</td>\n",
       "      <td>2425</td>\n",
       "      <td>2024-08-25T16:30:00</td>\n",
       "      <td>1834267</td>\n",
       "      <td>283</td>\n",
       "      <td>St. Pauli</td>\n",
       "    </tr>\n",
       "    <tr>\n",
       "      <th>8</th>\n",
       "      <td>GER-Bundesliga</td>\n",
       "      <td>2425</td>\n",
       "      <td>2024-08-25T14:30:00</td>\n",
       "      <td>1834261</td>\n",
       "      <td>33</td>\n",
       "      <td>Wolfsburg</td>\n",
       "    </tr>\n",
       "    <tr>\n",
       "      <th>9</th>\n",
       "      <td>GER-Bundesliga</td>\n",
       "      <td>2425</td>\n",
       "      <td>2024-08-30T19:30:00</td>\n",
       "      <td>1834254</td>\n",
       "      <td>796</td>\n",
       "      <td>Union Berlin</td>\n",
       "    </tr>\n",
       "    <tr>\n",
       "      <th>10</th>\n",
       "      <td>GER-Bundesliga</td>\n",
       "      <td>2425</td>\n",
       "      <td>2024-08-31T17:30:00</td>\n",
       "      <td>1834270</td>\n",
       "      <td>36</td>\n",
       "      <td>Bayer Leverkusen</td>\n",
       "    </tr>\n",
       "    <tr>\n",
       "      <th>11</th>\n",
       "      <td>GER-Bundesliga</td>\n",
       "      <td>2425</td>\n",
       "      <td>2024-08-31T14:30:00</td>\n",
       "      <td>1834257</td>\n",
       "      <td>109</td>\n",
       "      <td>Bochum</td>\n",
       "    </tr>\n",
       "    <tr>\n",
       "      <th>12</th>\n",
       "      <td>GER-Bundesliga</td>\n",
       "      <td>2425</td>\n",
       "      <td>2024-08-31T14:30:00</td>\n",
       "      <td>1834278</td>\n",
       "      <td>45</td>\n",
       "      <td>Eintracht Frankfurt</td>\n",
       "    </tr>\n",
       "    <tr>\n",
       "      <th>13</th>\n",
       "      <td>GER-Bundesliga</td>\n",
       "      <td>2425</td>\n",
       "      <td>2024-08-31T14:30:00</td>\n",
       "      <td>1834260</td>\n",
       "      <td>1206</td>\n",
       "      <td>Holstein Kiel</td>\n",
       "    </tr>\n",
       "    <tr>\n",
       "      <th>14</th>\n",
       "      <td>GER-Bundesliga</td>\n",
       "      <td>2425</td>\n",
       "      <td>2024-08-31T14:30:00</td>\n",
       "      <td>1834273</td>\n",
       "      <td>41</td>\n",
       "      <td>VfB Stuttgart</td>\n",
       "    </tr>\n",
       "    <tr>\n",
       "      <th>15</th>\n",
       "      <td>GER-Bundesliga</td>\n",
       "      <td>2425</td>\n",
       "      <td>2024-08-31T14:30:00</td>\n",
       "      <td>1834251</td>\n",
       "      <td>42</td>\n",
       "      <td>Werder Bremen</td>\n",
       "    </tr>\n",
       "    <tr>\n",
       "      <th>16</th>\n",
       "      <td>GER-Bundesliga</td>\n",
       "      <td>2425</td>\n",
       "      <td>2024-09-01T16:30:00</td>\n",
       "      <td>1834276</td>\n",
       "      <td>37</td>\n",
       "      <td>Bayern München</td>\n",
       "    </tr>\n",
       "    <tr>\n",
       "      <th>17</th>\n",
       "      <td>GER-Bundesliga</td>\n",
       "      <td>2425</td>\n",
       "      <td>2024-09-01T14:30:00</td>\n",
       "      <td>1834281</td>\n",
       "      <td>4852</td>\n",
       "      <td>FC Heidenheim</td>\n",
       "    </tr>\n",
       "  </tbody>\n",
       "</table>\n",
       "</div>"
      ],
      "text/plain": [
       "            league season           start_time  game_id  team_id  \\\n",
       "0   GER-Bundesliga   2425  2024-08-23T19:30:00  1834247      134   \n",
       "1   GER-Bundesliga   2425  2024-08-24T14:30:00  1834258     1730   \n",
       "2   GER-Bundesliga   2425  2024-08-24T17:30:00  1834248       44   \n",
       "3   GER-Bundesliga   2425  2024-08-24T14:30:00  1834255       50   \n",
       "4   GER-Bundesliga   2425  2024-08-24T14:30:00  1834252     1211   \n",
       "5   GER-Bundesliga   2425  2024-08-24T14:30:00  1834264      219   \n",
       "6   GER-Bundesliga   2425  2024-08-24T14:30:00  1834249     7614   \n",
       "7   GER-Bundesliga   2425  2024-08-25T16:30:00  1834267      283   \n",
       "8   GER-Bundesliga   2425  2024-08-25T14:30:00  1834261       33   \n",
       "9   GER-Bundesliga   2425  2024-08-30T19:30:00  1834254      796   \n",
       "10  GER-Bundesliga   2425  2024-08-31T17:30:00  1834270       36   \n",
       "11  GER-Bundesliga   2425  2024-08-31T14:30:00  1834257      109   \n",
       "12  GER-Bundesliga   2425  2024-08-31T14:30:00  1834278       45   \n",
       "13  GER-Bundesliga   2425  2024-08-31T14:30:00  1834260     1206   \n",
       "14  GER-Bundesliga   2425  2024-08-31T14:30:00  1834273       41   \n",
       "15  GER-Bundesliga   2425  2024-08-31T14:30:00  1834251       42   \n",
       "16  GER-Bundesliga   2425  2024-09-01T16:30:00  1834276       37   \n",
       "17  GER-Bundesliga   2425  2024-09-01T14:30:00  1834281     4852   \n",
       "\n",
       "                   team_name  \n",
       "0   Borussia Mönchengladbach  \n",
       "1                   Augsburg  \n",
       "2          Borussia Dortmund  \n",
       "3                   Freiburg  \n",
       "4                 Hoffenheim  \n",
       "5                   Mainz 05  \n",
       "6                 RB Leipzig  \n",
       "7                  St. Pauli  \n",
       "8                  Wolfsburg  \n",
       "9               Union Berlin  \n",
       "10          Bayer Leverkusen  \n",
       "11                    Bochum  \n",
       "12       Eintracht Frankfurt  \n",
       "13             Holstein Kiel  \n",
       "14             VfB Stuttgart  \n",
       "15             Werder Bremen  \n",
       "16            Bayern München  \n",
       "17             FC Heidenheim  "
      ]
     },
     "execution_count": 11,
     "metadata": {},
     "output_type": "execute_result"
    }
   ],
   "source": [
    "locale.setlocale(locale.LC_TIME, \"en_US.UTF-8\")\n",
    "ws_GER_Bundesliga = sd.WhoScored(\n",
    "    leagues=\"GER-Bundesliga\", seasons=\"2024/2025\", no_cache=False, no_store=False\n",
    ")\n",
    "df_ws_GER_Bundesliga = ws_GER_Bundesliga.read_schedule(force_cache=True)\n",
    "df_ws_GER_Bundesliga = get_WhoScored_team_id_df(df_ws_GER_Bundesliga)\n",
    "df_ws_GER_Bundesliga"
   ]
  },
  {
   "cell_type": "code",
   "execution_count": 12,
   "id": "b4cdefe2",
   "metadata": {},
   "outputs": [
    {
     "data": {
      "text/html": [
       "<pre style=\"white-space:pre;overflow-x:auto;line-height:normal;font-family:Menlo,'DejaVu Sans Mono',consolas,'Courier New',monospace\"><span style=\"color: #7fbfbf; text-decoration-color: #7fbfbf\">[4/11/2025 6:27:42 PM] </span><span style=\"color: #000080; text-decoration-color: #000080\">INFO    </span> Saving cached data to C:\\Users\\Vitor\\soccerdata\\data\\WhoScored       <a href=\"file://c:\\Users\\Vitor\\anaconda3\\Lib\\site-packages\\soccerdata\\_common.py\" target=\"_blank\"><span style=\"color: #7f7f7f; text-decoration-color: #7f7f7f\">_common.py</span></a><span style=\"color: #7f7f7f; text-decoration-color: #7f7f7f\">:</span><a href=\"file://c:\\Users\\Vitor\\anaconda3\\Lib\\site-packages\\soccerdata\\_common.py#263\" target=\"_blank\"><span style=\"color: #7f7f7f; text-decoration-color: #7f7f7f\">263</span></a>\n",
       "</pre>\n"
      ],
      "text/plain": [
       "\u001b[2;36m[4/11/2025 6:27:42 PM]\u001b[0m\u001b[2;36m \u001b[0m\u001b[34mINFO    \u001b[0m Saving cached data to C:\\Users\\Vitor\\soccerdata\\data\\WhoScored       \u001b]8;id=487253;file://c:\\Users\\Vitor\\anaconda3\\Lib\\site-packages\\soccerdata\\_common.py\u001b\\\u001b[2m_common.py\u001b[0m\u001b]8;;\u001b\\\u001b[2m:\u001b[0m\u001b]8;id=13303;file://c:\\Users\\Vitor\\anaconda3\\Lib\\site-packages\\soccerdata\\_common.py#263\u001b\\\u001b[2m263\u001b[0m\u001b]8;;\u001b\\\n"
      ]
     },
     "metadata": {},
     "output_type": "display_data"
    },
    {
     "data": {
      "text/html": [
       "<pre style=\"white-space:pre;overflow-x:auto;line-height:normal;font-family:Menlo,'DejaVu Sans Mono',consolas,'Courier New',monospace\"><span style=\"color: #7fbfbf; text-decoration-color: #7fbfbf\">[4/11/2025 6:27:43 PM] </span><span style=\"color: #000080; text-decoration-color: #000080\">INFO    </span> Retrieving calendar for ITA-Serie A <span style=\"color: #008080; text-decoration-color: #008080; font-weight: bold\">2425</span>                           <a href=\"file://c:\\Users\\Vitor\\anaconda3\\Lib\\site-packages\\soccerdata\\whoscored.py\" target=\"_blank\"><span style=\"color: #7f7f7f; text-decoration-color: #7f7f7f\">whoscored.py</span></a><span style=\"color: #7f7f7f; text-decoration-color: #7f7f7f\">:</span><a href=\"file://c:\\Users\\Vitor\\anaconda3\\Lib\\site-packages\\soccerdata\\whoscored.py#376\" target=\"_blank\"><span style=\"color: #7f7f7f; text-decoration-color: #7f7f7f\">376</span></a>\n",
       "</pre>\n"
      ],
      "text/plain": [
       "\u001b[2;36m[4/11/2025 6:27:43 PM]\u001b[0m\u001b[2;36m \u001b[0m\u001b[34mINFO    \u001b[0m Retrieving calendar for ITA-Serie A \u001b[1;36m2425\u001b[0m                           \u001b]8;id=963331;file://c:\\Users\\Vitor\\anaconda3\\Lib\\site-packages\\soccerdata\\whoscored.py\u001b\\\u001b[2mwhoscored.py\u001b[0m\u001b]8;;\u001b\\\u001b[2m:\u001b[0m\u001b]8;id=596608;file://c:\\Users\\Vitor\\anaconda3\\Lib\\site-packages\\soccerdata\\whoscored.py#376\u001b\\\u001b[2m376\u001b[0m\u001b]8;;\u001b\\\n"
      ]
     },
     "metadata": {},
     "output_type": "display_data"
    },
    {
     "data": {
      "text/html": [
       "<pre style=\"white-space:pre;overflow-x:auto;line-height:normal;font-family:Menlo,'DejaVu Sans Mono',consolas,'Courier New',monospace\"><span style=\"color: #7fbfbf; text-decoration-color: #7fbfbf\">                       </span><span style=\"color: #000080; text-decoration-color: #000080\">INFO    </span> <span style=\"font-weight: bold\">[</span><span style=\"color: #008080; text-decoration-color: #008080; font-weight: bold\">1</span>/<span style=\"color: #008080; text-decoration-color: #008080; font-weight: bold\">10</span><span style=\"font-weight: bold\">]</span> Retrieving fixtures for ITA-Serie A <span style=\"color: #008080; text-decoration-color: #008080; font-weight: bold\">2425</span>                    <a href=\"file://c:\\Users\\Vitor\\anaconda3\\Lib\\site-packages\\soccerdata\\whoscored.py\" target=\"_blank\"><span style=\"color: #7f7f7f; text-decoration-color: #7f7f7f\">whoscored.py</span></a><span style=\"color: #7f7f7f; text-decoration-color: #7f7f7f\">:</span><a href=\"file://c:\\Users\\Vitor\\anaconda3\\Lib\\site-packages\\soccerdata\\whoscored.py#405\" target=\"_blank\"><span style=\"color: #7f7f7f; text-decoration-color: #7f7f7f\">405</span></a>\n",
       "</pre>\n"
      ],
      "text/plain": [
       "\u001b[2;36m                      \u001b[0m\u001b[2;36m \u001b[0m\u001b[34mINFO    \u001b[0m \u001b[1m[\u001b[0m\u001b[1;36m1\u001b[0m/\u001b[1;36m10\u001b[0m\u001b[1m]\u001b[0m Retrieving fixtures for ITA-Serie A \u001b[1;36m2425\u001b[0m                    \u001b]8;id=351290;file://c:\\Users\\Vitor\\anaconda3\\Lib\\site-packages\\soccerdata\\whoscored.py\u001b\\\u001b[2mwhoscored.py\u001b[0m\u001b]8;;\u001b\\\u001b[2m:\u001b[0m\u001b]8;id=891414;file://c:\\Users\\Vitor\\anaconda3\\Lib\\site-packages\\soccerdata\\whoscored.py#405\u001b\\\u001b[2m405\u001b[0m\u001b]8;;\u001b\\\n"
      ]
     },
     "metadata": {},
     "output_type": "display_data"
    },
    {
     "data": {
      "text/html": [
       "<pre style=\"white-space:pre;overflow-x:auto;line-height:normal;font-family:Menlo,'DejaVu Sans Mono',consolas,'Courier New',monospace\"><span style=\"color: #7fbfbf; text-decoration-color: #7fbfbf\">                       </span><span style=\"color: #000080; text-decoration-color: #000080\">INFO    </span> <span style=\"font-weight: bold\">[</span><span style=\"color: #008080; text-decoration-color: #008080; font-weight: bold\">2</span>/<span style=\"color: #008080; text-decoration-color: #008080; font-weight: bold\">10</span><span style=\"font-weight: bold\">]</span> Retrieving fixtures for ITA-Serie A <span style=\"color: #008080; text-decoration-color: #008080; font-weight: bold\">2425</span>                    <a href=\"file://c:\\Users\\Vitor\\anaconda3\\Lib\\site-packages\\soccerdata\\whoscored.py\" target=\"_blank\"><span style=\"color: #7f7f7f; text-decoration-color: #7f7f7f\">whoscored.py</span></a><span style=\"color: #7f7f7f; text-decoration-color: #7f7f7f\">:</span><a href=\"file://c:\\Users\\Vitor\\anaconda3\\Lib\\site-packages\\soccerdata\\whoscored.py#405\" target=\"_blank\"><span style=\"color: #7f7f7f; text-decoration-color: #7f7f7f\">405</span></a>\n",
       "</pre>\n"
      ],
      "text/plain": [
       "\u001b[2;36m                      \u001b[0m\u001b[2;36m \u001b[0m\u001b[34mINFO    \u001b[0m \u001b[1m[\u001b[0m\u001b[1;36m2\u001b[0m/\u001b[1;36m10\u001b[0m\u001b[1m]\u001b[0m Retrieving fixtures for ITA-Serie A \u001b[1;36m2425\u001b[0m                    \u001b]8;id=357945;file://c:\\Users\\Vitor\\anaconda3\\Lib\\site-packages\\soccerdata\\whoscored.py\u001b\\\u001b[2mwhoscored.py\u001b[0m\u001b]8;;\u001b\\\u001b[2m:\u001b[0m\u001b]8;id=530582;file://c:\\Users\\Vitor\\anaconda3\\Lib\\site-packages\\soccerdata\\whoscored.py#405\u001b\\\u001b[2m405\u001b[0m\u001b]8;;\u001b\\\n"
      ]
     },
     "metadata": {},
     "output_type": "display_data"
    },
    {
     "data": {
      "text/html": [
       "<pre style=\"white-space:pre;overflow-x:auto;line-height:normal;font-family:Menlo,'DejaVu Sans Mono',consolas,'Courier New',monospace\"><span style=\"color: #7fbfbf; text-decoration-color: #7fbfbf\">                       </span><span style=\"color: #000080; text-decoration-color: #000080\">INFO    </span> <span style=\"font-weight: bold\">[</span><span style=\"color: #008080; text-decoration-color: #008080; font-weight: bold\">3</span>/<span style=\"color: #008080; text-decoration-color: #008080; font-weight: bold\">10</span><span style=\"font-weight: bold\">]</span> Retrieving fixtures for ITA-Serie A <span style=\"color: #008080; text-decoration-color: #008080; font-weight: bold\">2425</span>                    <a href=\"file://c:\\Users\\Vitor\\anaconda3\\Lib\\site-packages\\soccerdata\\whoscored.py\" target=\"_blank\"><span style=\"color: #7f7f7f; text-decoration-color: #7f7f7f\">whoscored.py</span></a><span style=\"color: #7f7f7f; text-decoration-color: #7f7f7f\">:</span><a href=\"file://c:\\Users\\Vitor\\anaconda3\\Lib\\site-packages\\soccerdata\\whoscored.py#405\" target=\"_blank\"><span style=\"color: #7f7f7f; text-decoration-color: #7f7f7f\">405</span></a>\n",
       "</pre>\n"
      ],
      "text/plain": [
       "\u001b[2;36m                      \u001b[0m\u001b[2;36m \u001b[0m\u001b[34mINFO    \u001b[0m \u001b[1m[\u001b[0m\u001b[1;36m3\u001b[0m/\u001b[1;36m10\u001b[0m\u001b[1m]\u001b[0m Retrieving fixtures for ITA-Serie A \u001b[1;36m2425\u001b[0m                    \u001b]8;id=409122;file://c:\\Users\\Vitor\\anaconda3\\Lib\\site-packages\\soccerdata\\whoscored.py\u001b\\\u001b[2mwhoscored.py\u001b[0m\u001b]8;;\u001b\\\u001b[2m:\u001b[0m\u001b]8;id=438445;file://c:\\Users\\Vitor\\anaconda3\\Lib\\site-packages\\soccerdata\\whoscored.py#405\u001b\\\u001b[2m405\u001b[0m\u001b]8;;\u001b\\\n"
      ]
     },
     "metadata": {},
     "output_type": "display_data"
    },
    {
     "data": {
      "text/html": [
       "<pre style=\"white-space:pre;overflow-x:auto;line-height:normal;font-family:Menlo,'DejaVu Sans Mono',consolas,'Courier New',monospace\"><span style=\"color: #7fbfbf; text-decoration-color: #7fbfbf\">                       </span><span style=\"color: #000080; text-decoration-color: #000080\">INFO    </span> <span style=\"font-weight: bold\">[</span><span style=\"color: #008080; text-decoration-color: #008080; font-weight: bold\">4</span>/<span style=\"color: #008080; text-decoration-color: #008080; font-weight: bold\">10</span><span style=\"font-weight: bold\">]</span> Retrieving fixtures for ITA-Serie A <span style=\"color: #008080; text-decoration-color: #008080; font-weight: bold\">2425</span>                    <a href=\"file://c:\\Users\\Vitor\\anaconda3\\Lib\\site-packages\\soccerdata\\whoscored.py\" target=\"_blank\"><span style=\"color: #7f7f7f; text-decoration-color: #7f7f7f\">whoscored.py</span></a><span style=\"color: #7f7f7f; text-decoration-color: #7f7f7f\">:</span><a href=\"file://c:\\Users\\Vitor\\anaconda3\\Lib\\site-packages\\soccerdata\\whoscored.py#405\" target=\"_blank\"><span style=\"color: #7f7f7f; text-decoration-color: #7f7f7f\">405</span></a>\n",
       "</pre>\n"
      ],
      "text/plain": [
       "\u001b[2;36m                      \u001b[0m\u001b[2;36m \u001b[0m\u001b[34mINFO    \u001b[0m \u001b[1m[\u001b[0m\u001b[1;36m4\u001b[0m/\u001b[1;36m10\u001b[0m\u001b[1m]\u001b[0m Retrieving fixtures for ITA-Serie A \u001b[1;36m2425\u001b[0m                    \u001b]8;id=295083;file://c:\\Users\\Vitor\\anaconda3\\Lib\\site-packages\\soccerdata\\whoscored.py\u001b\\\u001b[2mwhoscored.py\u001b[0m\u001b]8;;\u001b\\\u001b[2m:\u001b[0m\u001b]8;id=417007;file://c:\\Users\\Vitor\\anaconda3\\Lib\\site-packages\\soccerdata\\whoscored.py#405\u001b\\\u001b[2m405\u001b[0m\u001b]8;;\u001b\\\n"
      ]
     },
     "metadata": {},
     "output_type": "display_data"
    },
    {
     "data": {
      "text/html": [
       "<pre style=\"white-space:pre;overflow-x:auto;line-height:normal;font-family:Menlo,'DejaVu Sans Mono',consolas,'Courier New',monospace\"><span style=\"color: #7fbfbf; text-decoration-color: #7fbfbf\">                       </span><span style=\"color: #000080; text-decoration-color: #000080\">INFO    </span> <span style=\"font-weight: bold\">[</span><span style=\"color: #008080; text-decoration-color: #008080; font-weight: bold\">5</span>/<span style=\"color: #008080; text-decoration-color: #008080; font-weight: bold\">10</span><span style=\"font-weight: bold\">]</span> Retrieving fixtures for ITA-Serie A <span style=\"color: #008080; text-decoration-color: #008080; font-weight: bold\">2425</span>                    <a href=\"file://c:\\Users\\Vitor\\anaconda3\\Lib\\site-packages\\soccerdata\\whoscored.py\" target=\"_blank\"><span style=\"color: #7f7f7f; text-decoration-color: #7f7f7f\">whoscored.py</span></a><span style=\"color: #7f7f7f; text-decoration-color: #7f7f7f\">:</span><a href=\"file://c:\\Users\\Vitor\\anaconda3\\Lib\\site-packages\\soccerdata\\whoscored.py#405\" target=\"_blank\"><span style=\"color: #7f7f7f; text-decoration-color: #7f7f7f\">405</span></a>\n",
       "</pre>\n"
      ],
      "text/plain": [
       "\u001b[2;36m                      \u001b[0m\u001b[2;36m \u001b[0m\u001b[34mINFO    \u001b[0m \u001b[1m[\u001b[0m\u001b[1;36m5\u001b[0m/\u001b[1;36m10\u001b[0m\u001b[1m]\u001b[0m Retrieving fixtures for ITA-Serie A \u001b[1;36m2425\u001b[0m                    \u001b]8;id=962913;file://c:\\Users\\Vitor\\anaconda3\\Lib\\site-packages\\soccerdata\\whoscored.py\u001b\\\u001b[2mwhoscored.py\u001b[0m\u001b]8;;\u001b\\\u001b[2m:\u001b[0m\u001b]8;id=955265;file://c:\\Users\\Vitor\\anaconda3\\Lib\\site-packages\\soccerdata\\whoscored.py#405\u001b\\\u001b[2m405\u001b[0m\u001b]8;;\u001b\\\n"
      ]
     },
     "metadata": {},
     "output_type": "display_data"
    },
    {
     "data": {
      "text/html": [
       "<pre style=\"white-space:pre;overflow-x:auto;line-height:normal;font-family:Menlo,'DejaVu Sans Mono',consolas,'Courier New',monospace\"><span style=\"color: #7fbfbf; text-decoration-color: #7fbfbf\">                       </span><span style=\"color: #000080; text-decoration-color: #000080\">INFO    </span> <span style=\"font-weight: bold\">[</span><span style=\"color: #008080; text-decoration-color: #008080; font-weight: bold\">6</span>/<span style=\"color: #008080; text-decoration-color: #008080; font-weight: bold\">10</span><span style=\"font-weight: bold\">]</span> Retrieving fixtures for ITA-Serie A <span style=\"color: #008080; text-decoration-color: #008080; font-weight: bold\">2425</span>                    <a href=\"file://c:\\Users\\Vitor\\anaconda3\\Lib\\site-packages\\soccerdata\\whoscored.py\" target=\"_blank\"><span style=\"color: #7f7f7f; text-decoration-color: #7f7f7f\">whoscored.py</span></a><span style=\"color: #7f7f7f; text-decoration-color: #7f7f7f\">:</span><a href=\"file://c:\\Users\\Vitor\\anaconda3\\Lib\\site-packages\\soccerdata\\whoscored.py#405\" target=\"_blank\"><span style=\"color: #7f7f7f; text-decoration-color: #7f7f7f\">405</span></a>\n",
       "</pre>\n"
      ],
      "text/plain": [
       "\u001b[2;36m                      \u001b[0m\u001b[2;36m \u001b[0m\u001b[34mINFO    \u001b[0m \u001b[1m[\u001b[0m\u001b[1;36m6\u001b[0m/\u001b[1;36m10\u001b[0m\u001b[1m]\u001b[0m Retrieving fixtures for ITA-Serie A \u001b[1;36m2425\u001b[0m                    \u001b]8;id=592599;file://c:\\Users\\Vitor\\anaconda3\\Lib\\site-packages\\soccerdata\\whoscored.py\u001b\\\u001b[2mwhoscored.py\u001b[0m\u001b]8;;\u001b\\\u001b[2m:\u001b[0m\u001b]8;id=605050;file://c:\\Users\\Vitor\\anaconda3\\Lib\\site-packages\\soccerdata\\whoscored.py#405\u001b\\\u001b[2m405\u001b[0m\u001b]8;;\u001b\\\n"
      ]
     },
     "metadata": {},
     "output_type": "display_data"
    },
    {
     "data": {
      "text/html": [
       "<pre style=\"white-space:pre;overflow-x:auto;line-height:normal;font-family:Menlo,'DejaVu Sans Mono',consolas,'Courier New',monospace\"><span style=\"color: #7fbfbf; text-decoration-color: #7fbfbf\">                       </span><span style=\"color: #000080; text-decoration-color: #000080\">INFO    </span> <span style=\"font-weight: bold\">[</span><span style=\"color: #008080; text-decoration-color: #008080; font-weight: bold\">7</span>/<span style=\"color: #008080; text-decoration-color: #008080; font-weight: bold\">10</span><span style=\"font-weight: bold\">]</span> Retrieving fixtures for ITA-Serie A <span style=\"color: #008080; text-decoration-color: #008080; font-weight: bold\">2425</span>                    <a href=\"file://c:\\Users\\Vitor\\anaconda3\\Lib\\site-packages\\soccerdata\\whoscored.py\" target=\"_blank\"><span style=\"color: #7f7f7f; text-decoration-color: #7f7f7f\">whoscored.py</span></a><span style=\"color: #7f7f7f; text-decoration-color: #7f7f7f\">:</span><a href=\"file://c:\\Users\\Vitor\\anaconda3\\Lib\\site-packages\\soccerdata\\whoscored.py#405\" target=\"_blank\"><span style=\"color: #7f7f7f; text-decoration-color: #7f7f7f\">405</span></a>\n",
       "</pre>\n"
      ],
      "text/plain": [
       "\u001b[2;36m                      \u001b[0m\u001b[2;36m \u001b[0m\u001b[34mINFO    \u001b[0m \u001b[1m[\u001b[0m\u001b[1;36m7\u001b[0m/\u001b[1;36m10\u001b[0m\u001b[1m]\u001b[0m Retrieving fixtures for ITA-Serie A \u001b[1;36m2425\u001b[0m                    \u001b]8;id=702320;file://c:\\Users\\Vitor\\anaconda3\\Lib\\site-packages\\soccerdata\\whoscored.py\u001b\\\u001b[2mwhoscored.py\u001b[0m\u001b]8;;\u001b\\\u001b[2m:\u001b[0m\u001b]8;id=471302;file://c:\\Users\\Vitor\\anaconda3\\Lib\\site-packages\\soccerdata\\whoscored.py#405\u001b\\\u001b[2m405\u001b[0m\u001b]8;;\u001b\\\n"
      ]
     },
     "metadata": {},
     "output_type": "display_data"
    },
    {
     "data": {
      "text/html": [
       "<pre style=\"white-space:pre;overflow-x:auto;line-height:normal;font-family:Menlo,'DejaVu Sans Mono',consolas,'Courier New',monospace\"><span style=\"color: #7fbfbf; text-decoration-color: #7fbfbf\">                       </span><span style=\"color: #000080; text-decoration-color: #000080\">INFO    </span> <span style=\"font-weight: bold\">[</span><span style=\"color: #008080; text-decoration-color: #008080; font-weight: bold\">8</span>/<span style=\"color: #008080; text-decoration-color: #008080; font-weight: bold\">10</span><span style=\"font-weight: bold\">]</span> Retrieving fixtures for ITA-Serie A <span style=\"color: #008080; text-decoration-color: #008080; font-weight: bold\">2425</span>                    <a href=\"file://c:\\Users\\Vitor\\anaconda3\\Lib\\site-packages\\soccerdata\\whoscored.py\" target=\"_blank\"><span style=\"color: #7f7f7f; text-decoration-color: #7f7f7f\">whoscored.py</span></a><span style=\"color: #7f7f7f; text-decoration-color: #7f7f7f\">:</span><a href=\"file://c:\\Users\\Vitor\\anaconda3\\Lib\\site-packages\\soccerdata\\whoscored.py#405\" target=\"_blank\"><span style=\"color: #7f7f7f; text-decoration-color: #7f7f7f\">405</span></a>\n",
       "</pre>\n"
      ],
      "text/plain": [
       "\u001b[2;36m                      \u001b[0m\u001b[2;36m \u001b[0m\u001b[34mINFO    \u001b[0m \u001b[1m[\u001b[0m\u001b[1;36m8\u001b[0m/\u001b[1;36m10\u001b[0m\u001b[1m]\u001b[0m Retrieving fixtures for ITA-Serie A \u001b[1;36m2425\u001b[0m                    \u001b]8;id=336131;file://c:\\Users\\Vitor\\anaconda3\\Lib\\site-packages\\soccerdata\\whoscored.py\u001b\\\u001b[2mwhoscored.py\u001b[0m\u001b]8;;\u001b\\\u001b[2m:\u001b[0m\u001b]8;id=452839;file://c:\\Users\\Vitor\\anaconda3\\Lib\\site-packages\\soccerdata\\whoscored.py#405\u001b\\\u001b[2m405\u001b[0m\u001b]8;;\u001b\\\n"
      ]
     },
     "metadata": {},
     "output_type": "display_data"
    },
    {
     "data": {
      "text/html": [
       "<pre style=\"white-space:pre;overflow-x:auto;line-height:normal;font-family:Menlo,'DejaVu Sans Mono',consolas,'Courier New',monospace\"><span style=\"color: #7fbfbf; text-decoration-color: #7fbfbf\">                       </span><span style=\"color: #000080; text-decoration-color: #000080\">INFO    </span> <span style=\"font-weight: bold\">[</span><span style=\"color: #008080; text-decoration-color: #008080; font-weight: bold\">9</span>/<span style=\"color: #008080; text-decoration-color: #008080; font-weight: bold\">10</span><span style=\"font-weight: bold\">]</span> Retrieving fixtures for ITA-Serie A <span style=\"color: #008080; text-decoration-color: #008080; font-weight: bold\">2425</span>                    <a href=\"file://c:\\Users\\Vitor\\anaconda3\\Lib\\site-packages\\soccerdata\\whoscored.py\" target=\"_blank\"><span style=\"color: #7f7f7f; text-decoration-color: #7f7f7f\">whoscored.py</span></a><span style=\"color: #7f7f7f; text-decoration-color: #7f7f7f\">:</span><a href=\"file://c:\\Users\\Vitor\\anaconda3\\Lib\\site-packages\\soccerdata\\whoscored.py#405\" target=\"_blank\"><span style=\"color: #7f7f7f; text-decoration-color: #7f7f7f\">405</span></a>\n",
       "</pre>\n"
      ],
      "text/plain": [
       "\u001b[2;36m                      \u001b[0m\u001b[2;36m \u001b[0m\u001b[34mINFO    \u001b[0m \u001b[1m[\u001b[0m\u001b[1;36m9\u001b[0m/\u001b[1;36m10\u001b[0m\u001b[1m]\u001b[0m Retrieving fixtures for ITA-Serie A \u001b[1;36m2425\u001b[0m                    \u001b]8;id=727703;file://c:\\Users\\Vitor\\anaconda3\\Lib\\site-packages\\soccerdata\\whoscored.py\u001b\\\u001b[2mwhoscored.py\u001b[0m\u001b]8;;\u001b\\\u001b[2m:\u001b[0m\u001b]8;id=804491;file://c:\\Users\\Vitor\\anaconda3\\Lib\\site-packages\\soccerdata\\whoscored.py#405\u001b\\\u001b[2m405\u001b[0m\u001b]8;;\u001b\\\n"
      ]
     },
     "metadata": {},
     "output_type": "display_data"
    },
    {
     "data": {
      "text/html": [
       "<pre style=\"white-space:pre;overflow-x:auto;line-height:normal;font-family:Menlo,'DejaVu Sans Mono',consolas,'Courier New',monospace\"><span style=\"color: #7fbfbf; text-decoration-color: #7fbfbf\">                       </span><span style=\"color: #000080; text-decoration-color: #000080\">INFO    </span> <span style=\"font-weight: bold\">[</span><span style=\"color: #008080; text-decoration-color: #008080; font-weight: bold\">10</span>/<span style=\"color: #008080; text-decoration-color: #008080; font-weight: bold\">10</span><span style=\"font-weight: bold\">]</span> Retrieving fixtures for ITA-Serie A <span style=\"color: #008080; text-decoration-color: #008080; font-weight: bold\">2425</span>                   <a href=\"file://c:\\Users\\Vitor\\anaconda3\\Lib\\site-packages\\soccerdata\\whoscored.py\" target=\"_blank\"><span style=\"color: #7f7f7f; text-decoration-color: #7f7f7f\">whoscored.py</span></a><span style=\"color: #7f7f7f; text-decoration-color: #7f7f7f\">:</span><a href=\"file://c:\\Users\\Vitor\\anaconda3\\Lib\\site-packages\\soccerdata\\whoscored.py#405\" target=\"_blank\"><span style=\"color: #7f7f7f; text-decoration-color: #7f7f7f\">405</span></a>\n",
       "</pre>\n"
      ],
      "text/plain": [
       "\u001b[2;36m                      \u001b[0m\u001b[2;36m \u001b[0m\u001b[34mINFO    \u001b[0m \u001b[1m[\u001b[0m\u001b[1;36m10\u001b[0m/\u001b[1;36m10\u001b[0m\u001b[1m]\u001b[0m Retrieving fixtures for ITA-Serie A \u001b[1;36m2425\u001b[0m                   \u001b]8;id=904165;file://c:\\Users\\Vitor\\anaconda3\\Lib\\site-packages\\soccerdata\\whoscored.py\u001b\\\u001b[2mwhoscored.py\u001b[0m\u001b]8;;\u001b\\\u001b[2m:\u001b[0m\u001b]8;id=436425;file://c:\\Users\\Vitor\\anaconda3\\Lib\\site-packages\\soccerdata\\whoscored.py#405\u001b\\\u001b[2m405\u001b[0m\u001b]8;;\u001b\\\n"
      ]
     },
     "metadata": {},
     "output_type": "display_data"
    },
    {
     "data": {
      "application/vnd.microsoft.datawrangler.viewer.v0+json": {
       "columns": [
        {
         "name": "index",
         "rawType": "int64",
         "type": "integer"
        },
        {
         "name": "league",
         "rawType": "object",
         "type": "string"
        },
        {
         "name": "season",
         "rawType": "object",
         "type": "string"
        },
        {
         "name": "start_time",
         "rawType": "object",
         "type": "string"
        },
        {
         "name": "game_id",
         "rawType": "int64",
         "type": "integer"
        },
        {
         "name": "team_id",
         "rawType": "int64",
         "type": "integer"
        },
        {
         "name": "team_name",
         "rawType": "object",
         "type": "string"
        }
       ],
       "conversionMethod": "pd.DataFrame",
       "ref": "8f9097b0-2d2e-45ea-8daf-4cba8f3ee027",
       "rows": [
        [
         "0",
         "ITA-Serie A",
         "2425",
         "2024-08-17T19:45:00",
         "1834861",
         "272",
         "Empoli"
        ],
        [
         "1",
         "ITA-Serie A",
         "2425",
         "2024-08-17T17:30:00",
         "1834862",
         "278",
         "Genoa"
        ],
        [
         "2",
         "ITA-Serie A",
         "2425",
         "2024-08-17T19:45:00",
         "1834867",
         "80",
         "Milan"
        ],
        [
         "3",
         "ITA-Serie A",
         "2425",
         "2024-08-17T17:30:00",
         "1834868",
         "24341",
         "Parma"
        ],
        [
         "4",
         "ITA-Serie A",
         "2425",
         "2024-08-18T17:30:00",
         "1834859",
         "71",
         "Bologna"
        ],
        [
         "5",
         "ITA-Serie A",
         "2425",
         "2024-08-18T19:45:00",
         "1834860",
         "78",
         "Cagliari"
        ],
        [
         "6",
         "ITA-Serie A",
         "2425",
         "2024-08-18T17:30:00",
         "1834863",
         "76",
         "Hellas Verona"
        ],
        [
         "7",
         "ITA-Serie A",
         "2425",
         "2024-08-18T19:45:00",
         "1834865",
         "77",
         "Lazio"
        ],
        [
         "8",
         "ITA-Serie A",
         "2425",
         "2024-08-19T19:45:00",
         "1834864",
         "87",
         "Juventus"
        ],
        [
         "9",
         "ITA-Serie A",
         "2425",
         "2024-08-19T17:30:00",
         "1834866",
         "79",
         "Lecce"
        ],
        [
         "10",
         "ITA-Serie A",
         "2425",
         "2024-08-24T19:45:00",
         "1834873",
         "75",
         "Inter"
        ],
        [
         "11",
         "ITA-Serie A",
         "2425",
         "2024-08-24T19:45:00",
         "1834872",
         "269",
         "Monza"
        ],
        [
         "13",
         "ITA-Serie A",
         "2425",
         "2024-08-24T17:30:00",
         "1834878",
         "86",
         "Udinese"
        ],
        [
         "14",
         "ITA-Serie A",
         "2425",
         "2024-08-25T17:30:00",
         "1834870",
         "73",
         "Fiorentina"
        ],
        [
         "15",
         "ITA-Serie A",
         "2425",
         "2024-08-25T19:45:00",
         "1834874",
         "276",
         "Napoli"
        ],
        [
         "16",
         "ITA-Serie A",
         "2425",
         "2024-08-25T19:45:00",
         "1834875",
         "84",
         "Roma"
        ],
        [
         "17",
         "ITA-Serie A",
         "2425",
         "2024-08-25T17:30:00",
         "1834877",
         "72",
         "Torino"
        ],
        [
         "21",
         "ITA-Serie A",
         "2425",
         "2024-08-30T17:30:00",
         "1834888",
         "85",
         "Venezia"
        ],
        [
         "30",
         "ITA-Serie A",
         "2425",
         "2024-09-14T14:00:00",
         "1834894",
         "1290",
         "Como"
        ],
        [
         "33",
         "ITA-Serie A",
         "2425",
         "2024-09-15T14:00:00",
         "1834890",
         "300",
         "Atalanta"
        ]
       ],
       "shape": {
        "columns": 6,
        "rows": 20
       }
      },
      "text/html": [
       "<div>\n",
       "<style scoped>\n",
       "    .dataframe tbody tr th:only-of-type {\n",
       "        vertical-align: middle;\n",
       "    }\n",
       "\n",
       "    .dataframe tbody tr th {\n",
       "        vertical-align: top;\n",
       "    }\n",
       "\n",
       "    .dataframe thead th {\n",
       "        text-align: right;\n",
       "    }\n",
       "</style>\n",
       "<table border=\"1\" class=\"dataframe\">\n",
       "  <thead>\n",
       "    <tr style=\"text-align: right;\">\n",
       "      <th></th>\n",
       "      <th>league</th>\n",
       "      <th>season</th>\n",
       "      <th>start_time</th>\n",
       "      <th>game_id</th>\n",
       "      <th>team_id</th>\n",
       "      <th>team_name</th>\n",
       "    </tr>\n",
       "  </thead>\n",
       "  <tbody>\n",
       "    <tr>\n",
       "      <th>0</th>\n",
       "      <td>ITA-Serie A</td>\n",
       "      <td>2425</td>\n",
       "      <td>2024-08-17T19:45:00</td>\n",
       "      <td>1834861</td>\n",
       "      <td>272</td>\n",
       "      <td>Empoli</td>\n",
       "    </tr>\n",
       "    <tr>\n",
       "      <th>1</th>\n",
       "      <td>ITA-Serie A</td>\n",
       "      <td>2425</td>\n",
       "      <td>2024-08-17T17:30:00</td>\n",
       "      <td>1834862</td>\n",
       "      <td>278</td>\n",
       "      <td>Genoa</td>\n",
       "    </tr>\n",
       "    <tr>\n",
       "      <th>2</th>\n",
       "      <td>ITA-Serie A</td>\n",
       "      <td>2425</td>\n",
       "      <td>2024-08-17T19:45:00</td>\n",
       "      <td>1834867</td>\n",
       "      <td>80</td>\n",
       "      <td>Milan</td>\n",
       "    </tr>\n",
       "    <tr>\n",
       "      <th>3</th>\n",
       "      <td>ITA-Serie A</td>\n",
       "      <td>2425</td>\n",
       "      <td>2024-08-17T17:30:00</td>\n",
       "      <td>1834868</td>\n",
       "      <td>24341</td>\n",
       "      <td>Parma</td>\n",
       "    </tr>\n",
       "    <tr>\n",
       "      <th>4</th>\n",
       "      <td>ITA-Serie A</td>\n",
       "      <td>2425</td>\n",
       "      <td>2024-08-18T17:30:00</td>\n",
       "      <td>1834859</td>\n",
       "      <td>71</td>\n",
       "      <td>Bologna</td>\n",
       "    </tr>\n",
       "    <tr>\n",
       "      <th>5</th>\n",
       "      <td>ITA-Serie A</td>\n",
       "      <td>2425</td>\n",
       "      <td>2024-08-18T19:45:00</td>\n",
       "      <td>1834860</td>\n",
       "      <td>78</td>\n",
       "      <td>Cagliari</td>\n",
       "    </tr>\n",
       "    <tr>\n",
       "      <th>6</th>\n",
       "      <td>ITA-Serie A</td>\n",
       "      <td>2425</td>\n",
       "      <td>2024-08-18T17:30:00</td>\n",
       "      <td>1834863</td>\n",
       "      <td>76</td>\n",
       "      <td>Hellas Verona</td>\n",
       "    </tr>\n",
       "    <tr>\n",
       "      <th>7</th>\n",
       "      <td>ITA-Serie A</td>\n",
       "      <td>2425</td>\n",
       "      <td>2024-08-18T19:45:00</td>\n",
       "      <td>1834865</td>\n",
       "      <td>77</td>\n",
       "      <td>Lazio</td>\n",
       "    </tr>\n",
       "    <tr>\n",
       "      <th>8</th>\n",
       "      <td>ITA-Serie A</td>\n",
       "      <td>2425</td>\n",
       "      <td>2024-08-19T19:45:00</td>\n",
       "      <td>1834864</td>\n",
       "      <td>87</td>\n",
       "      <td>Juventus</td>\n",
       "    </tr>\n",
       "    <tr>\n",
       "      <th>9</th>\n",
       "      <td>ITA-Serie A</td>\n",
       "      <td>2425</td>\n",
       "      <td>2024-08-19T17:30:00</td>\n",
       "      <td>1834866</td>\n",
       "      <td>79</td>\n",
       "      <td>Lecce</td>\n",
       "    </tr>\n",
       "    <tr>\n",
       "      <th>10</th>\n",
       "      <td>ITA-Serie A</td>\n",
       "      <td>2425</td>\n",
       "      <td>2024-08-24T19:45:00</td>\n",
       "      <td>1834873</td>\n",
       "      <td>75</td>\n",
       "      <td>Inter</td>\n",
       "    </tr>\n",
       "    <tr>\n",
       "      <th>11</th>\n",
       "      <td>ITA-Serie A</td>\n",
       "      <td>2425</td>\n",
       "      <td>2024-08-24T19:45:00</td>\n",
       "      <td>1834872</td>\n",
       "      <td>269</td>\n",
       "      <td>Monza</td>\n",
       "    </tr>\n",
       "    <tr>\n",
       "      <th>13</th>\n",
       "      <td>ITA-Serie A</td>\n",
       "      <td>2425</td>\n",
       "      <td>2024-08-24T17:30:00</td>\n",
       "      <td>1834878</td>\n",
       "      <td>86</td>\n",
       "      <td>Udinese</td>\n",
       "    </tr>\n",
       "    <tr>\n",
       "      <th>14</th>\n",
       "      <td>ITA-Serie A</td>\n",
       "      <td>2425</td>\n",
       "      <td>2024-08-25T17:30:00</td>\n",
       "      <td>1834870</td>\n",
       "      <td>73</td>\n",
       "      <td>Fiorentina</td>\n",
       "    </tr>\n",
       "    <tr>\n",
       "      <th>15</th>\n",
       "      <td>ITA-Serie A</td>\n",
       "      <td>2425</td>\n",
       "      <td>2024-08-25T19:45:00</td>\n",
       "      <td>1834874</td>\n",
       "      <td>276</td>\n",
       "      <td>Napoli</td>\n",
       "    </tr>\n",
       "    <tr>\n",
       "      <th>16</th>\n",
       "      <td>ITA-Serie A</td>\n",
       "      <td>2425</td>\n",
       "      <td>2024-08-25T19:45:00</td>\n",
       "      <td>1834875</td>\n",
       "      <td>84</td>\n",
       "      <td>Roma</td>\n",
       "    </tr>\n",
       "    <tr>\n",
       "      <th>17</th>\n",
       "      <td>ITA-Serie A</td>\n",
       "      <td>2425</td>\n",
       "      <td>2024-08-25T17:30:00</td>\n",
       "      <td>1834877</td>\n",
       "      <td>72</td>\n",
       "      <td>Torino</td>\n",
       "    </tr>\n",
       "    <tr>\n",
       "      <th>21</th>\n",
       "      <td>ITA-Serie A</td>\n",
       "      <td>2425</td>\n",
       "      <td>2024-08-30T17:30:00</td>\n",
       "      <td>1834888</td>\n",
       "      <td>85</td>\n",
       "      <td>Venezia</td>\n",
       "    </tr>\n",
       "    <tr>\n",
       "      <th>30</th>\n",
       "      <td>ITA-Serie A</td>\n",
       "      <td>2425</td>\n",
       "      <td>2024-09-14T14:00:00</td>\n",
       "      <td>1834894</td>\n",
       "      <td>1290</td>\n",
       "      <td>Como</td>\n",
       "    </tr>\n",
       "    <tr>\n",
       "      <th>33</th>\n",
       "      <td>ITA-Serie A</td>\n",
       "      <td>2425</td>\n",
       "      <td>2024-09-15T14:00:00</td>\n",
       "      <td>1834890</td>\n",
       "      <td>300</td>\n",
       "      <td>Atalanta</td>\n",
       "    </tr>\n",
       "  </tbody>\n",
       "</table>\n",
       "</div>"
      ],
      "text/plain": [
       "         league season           start_time  game_id  team_id      team_name\n",
       "0   ITA-Serie A   2425  2024-08-17T19:45:00  1834861      272         Empoli\n",
       "1   ITA-Serie A   2425  2024-08-17T17:30:00  1834862      278          Genoa\n",
       "2   ITA-Serie A   2425  2024-08-17T19:45:00  1834867       80          Milan\n",
       "3   ITA-Serie A   2425  2024-08-17T17:30:00  1834868    24341          Parma\n",
       "4   ITA-Serie A   2425  2024-08-18T17:30:00  1834859       71        Bologna\n",
       "5   ITA-Serie A   2425  2024-08-18T19:45:00  1834860       78       Cagliari\n",
       "6   ITA-Serie A   2425  2024-08-18T17:30:00  1834863       76  Hellas Verona\n",
       "7   ITA-Serie A   2425  2024-08-18T19:45:00  1834865       77          Lazio\n",
       "8   ITA-Serie A   2425  2024-08-19T19:45:00  1834864       87       Juventus\n",
       "9   ITA-Serie A   2425  2024-08-19T17:30:00  1834866       79          Lecce\n",
       "10  ITA-Serie A   2425  2024-08-24T19:45:00  1834873       75          Inter\n",
       "11  ITA-Serie A   2425  2024-08-24T19:45:00  1834872      269          Monza\n",
       "13  ITA-Serie A   2425  2024-08-24T17:30:00  1834878       86        Udinese\n",
       "14  ITA-Serie A   2425  2024-08-25T17:30:00  1834870       73     Fiorentina\n",
       "15  ITA-Serie A   2425  2024-08-25T19:45:00  1834874      276         Napoli\n",
       "16  ITA-Serie A   2425  2024-08-25T19:45:00  1834875       84           Roma\n",
       "17  ITA-Serie A   2425  2024-08-25T17:30:00  1834877       72         Torino\n",
       "21  ITA-Serie A   2425  2024-08-30T17:30:00  1834888       85        Venezia\n",
       "30  ITA-Serie A   2425  2024-09-14T14:00:00  1834894     1290           Como\n",
       "33  ITA-Serie A   2425  2024-09-15T14:00:00  1834890      300       Atalanta"
      ]
     },
     "execution_count": 12,
     "metadata": {},
     "output_type": "execute_result"
    }
   ],
   "source": [
    "locale.setlocale(locale.LC_TIME, \"en_US.UTF-8\")\n",
    "ws_ITA_Serie_A = sd.WhoScored(\n",
    "    leagues=\"ITA-Serie A\", seasons=\"2024/2025\", no_cache=False, no_store=False\n",
    ")\n",
    "df_ws_ITA_Serie_A = ws_ITA_Serie_A.read_schedule(force_cache=True)\n",
    "df_ws_ITA_Serie_A = get_WhoScored_team_id_df(df_ws_ITA_Serie_A)\n",
    "df_ws_ITA_Serie_A"
   ]
  },
  {
   "cell_type": "markdown",
   "id": "6b017420",
   "metadata": {},
   "source": [
    "Now we bring all Whocored data together."
   ]
  },
  {
   "cell_type": "code",
   "execution_count": 13,
   "id": "9df0ef9b",
   "metadata": {},
   "outputs": [
    {
     "data": {
      "application/vnd.microsoft.datawrangler.viewer.v0+json": {
       "columns": [
        {
         "name": "index",
         "rawType": "int64",
         "type": "integer"
        },
        {
         "name": "whoscored_team_id",
         "rawType": "int64",
         "type": "integer"
        },
        {
         "name": "team_name",
         "rawType": "object",
         "type": "string"
        }
       ],
       "conversionMethod": "pd.DataFrame",
       "ref": "02b17f5e-f437-4f15-ab86-79a425a28ff4",
       "rows": [
        [
         "0",
         "32",
         "Manchester United"
        ],
        [
         "1",
         "13",
         "Arsenal"
        ],
        [
         "2",
         "31",
         "Everton"
        ],
        [
         "3",
         "165",
         "Ipswich Town"
        ],
        [
         "4",
         "23",
         "Newcastle United"
        ],
        [
         "5",
         "174",
         "Nottingham Forest"
        ],
        [
         "6",
         "29",
         "West Ham United"
        ],
        [
         "7",
         "189",
         "Brentford"
        ],
        [
         "8",
         "15",
         "Chelsea"
        ],
        [
         "9",
         "14",
         "Leicester City"
        ],
        [
         "10",
         "24",
         "Aston Villa"
        ],
        [
         "11",
         "211",
         "Brighton & Hove Albion"
        ],
        [
         "12",
         "162",
         "Crystal Palace"
        ],
        [
         "13",
         "170",
         "Fulham"
        ],
        [
         "14",
         "167",
         "Manchester City"
        ],
        [
         "15",
         "18",
         "Southampton"
        ],
        [
         "16",
         "30",
         "Tottenham Hotspur"
        ],
        [
         "17",
         "183",
         "AFC Bournemouth"
        ],
        [
         "18",
         "26",
         "Liverpool"
        ],
        [
         "19",
         "161",
         "Wolverhampton Wanderers"
        ],
        [
         "0",
         "53",
         "Athletic Club"
        ],
        [
         "1",
         "54",
         "Real Betis"
        ],
        [
         "2",
         "62",
         "Celta Vigo"
        ],
        [
         "3",
         "838",
         "Las Palmas"
        ],
        [
         "4",
         "131",
         "Osasuna"
        ],
        [
         "5",
         "55",
         "Valencia"
        ],
        [
         "6",
         "51",
         "Mallorca"
        ],
        [
         "7",
         "68",
         "Real Sociedad"
        ],
        [
         "8",
         "58",
         "Real Valladolid"
        ],
        [
         "9",
         "839",
         "Villarreal"
        ],
        [
         "11",
         "67",
         "Sevilla"
        ],
        [
         "12",
         "65",
         "Barcelona"
        ],
        [
         "13",
         "70",
         "Espanyol"
        ],
        [
         "14",
         "819",
         "Getafe"
        ],
        [
         "16",
         "63",
         "Atletico Madrid"
        ],
        [
         "17",
         "60",
         "Deportivo Alaves"
        ],
        [
         "18",
         "825",
         "Leganes"
        ],
        [
         "19",
         "52",
         "Real Madrid"
        ],
        [
         "22",
         "64",
         "Rayo Vallecano"
        ],
        [
         "27",
         "2783",
         "Girona"
        ],
        [
         "0",
         "217",
         "Le Havre"
        ],
        [
         "1",
         "2332",
         "Brest"
        ],
        [
         "2",
         "248",
         "Monaco"
        ],
        [
         "3",
         "950",
         "Reims"
        ],
        [
         "4",
         "614",
         "Angers"
        ],
        [
         "5",
         "308",
         "Auxerre"
        ],
        [
         "6",
         "311",
         "Montpellier"
        ],
        [
         "7",
         "313",
         "Rennes"
        ],
        [
         "8",
         "246",
         "Toulouse"
        ],
        [
         "9",
         "304",
         "Paris Saint-Germain"
        ]
       ],
       "shape": {
        "columns": 2,
        "rows": 132
       }
      },
      "text/html": [
       "<div>\n",
       "<style scoped>\n",
       "    .dataframe tbody tr th:only-of-type {\n",
       "        vertical-align: middle;\n",
       "    }\n",
       "\n",
       "    .dataframe tbody tr th {\n",
       "        vertical-align: top;\n",
       "    }\n",
       "\n",
       "    .dataframe thead th {\n",
       "        text-align: right;\n",
       "    }\n",
       "</style>\n",
       "<table border=\"1\" class=\"dataframe\">\n",
       "  <thead>\n",
       "    <tr style=\"text-align: right;\">\n",
       "      <th></th>\n",
       "      <th>whoscored_team_id</th>\n",
       "      <th>team_name</th>\n",
       "    </tr>\n",
       "  </thead>\n",
       "  <tbody>\n",
       "    <tr>\n",
       "      <th>0</th>\n",
       "      <td>32</td>\n",
       "      <td>Manchester United</td>\n",
       "    </tr>\n",
       "    <tr>\n",
       "      <th>1</th>\n",
       "      <td>13</td>\n",
       "      <td>Arsenal</td>\n",
       "    </tr>\n",
       "    <tr>\n",
       "      <th>2</th>\n",
       "      <td>31</td>\n",
       "      <td>Everton</td>\n",
       "    </tr>\n",
       "    <tr>\n",
       "      <th>3</th>\n",
       "      <td>165</td>\n",
       "      <td>Ipswich Town</td>\n",
       "    </tr>\n",
       "    <tr>\n",
       "      <th>4</th>\n",
       "      <td>23</td>\n",
       "      <td>Newcastle United</td>\n",
       "    </tr>\n",
       "    <tr>\n",
       "      <th>...</th>\n",
       "      <td>...</td>\n",
       "      <td>...</td>\n",
       "    </tr>\n",
       "    <tr>\n",
       "      <th>13</th>\n",
       "      <td>121</td>\n",
       "      <td>Rio Ave</td>\n",
       "    </tr>\n",
       "    <tr>\n",
       "      <th>14</th>\n",
       "      <td>122</td>\n",
       "      <td>Boavista</td>\n",
       "    </tr>\n",
       "    <tr>\n",
       "      <th>15</th>\n",
       "      <td>108</td>\n",
       "      <td>Moreirense</td>\n",
       "    </tr>\n",
       "    <tr>\n",
       "      <th>16</th>\n",
       "      <td>107</td>\n",
       "      <td>Vitoria de Guimaraes</td>\n",
       "    </tr>\n",
       "    <tr>\n",
       "      <th>17</th>\n",
       "      <td>28635</td>\n",
       "      <td>Estrela da Amadora</td>\n",
       "    </tr>\n",
       "  </tbody>\n",
       "</table>\n",
       "<p>132 rows × 2 columns</p>\n",
       "</div>"
      ],
      "text/plain": [
       "    whoscored_team_id             team_name\n",
       "0                  32     Manchester United\n",
       "1                  13               Arsenal\n",
       "2                  31               Everton\n",
       "3                 165          Ipswich Town\n",
       "4                  23      Newcastle United\n",
       "..                ...                   ...\n",
       "13                121               Rio Ave\n",
       "14                122              Boavista\n",
       "15                108            Moreirense\n",
       "16                107  Vitoria de Guimaraes\n",
       "17              28635    Estrela da Amadora\n",
       "\n",
       "[132 rows x 2 columns]"
      ]
     },
     "execution_count": 13,
     "metadata": {},
     "output_type": "execute_result"
    }
   ],
   "source": [
    "final_final_df=pd.concat([df_ws_ENG_Premier_League, df_ws_ESP_La_Liga, df_ws_FRA_Ligue_1, df_ws_GER_Bundesliga, df_ws_ITA_Serie_A, df_ws_NLD_Eredivisie, ws_Liga_Portugal])\n",
    "final_final_df= final_final_df.rename(columns={'team_id':'whoscored_team_id'})\n",
    "final_final_df=final_final_df[['whoscored_team_id', 'team_name']]\n",
    "final_final_df"
   ]
  },
  {
   "cell_type": "markdown",
   "id": "7fce9a6a",
   "metadata": {},
   "source": [
    "Before merging the FotMob and WhoScored data, it's important to ensure that the team names used in both DataFrames are the same. This step is crucial because different platforms may refer to the same team using slightly different names. For the merge to work correctly, the names must match exactly.\n",
    "\n",
    "The `standardize_team_names` function, which handles this task, is available in the `function_town.py` file located in the *Analysis Tools* folder. This file contains a dictionary used for mapping and standardizing team names. You can edit or expand this dictionary to suit your specific needs.\n",
    "\n",
    "We need to apply the function to both dfs."
   ]
  },
  {
   "cell_type": "code",
   "execution_count": 14,
   "id": "9389ef0e",
   "metadata": {},
   "outputs": [
    {
     "data": {
      "application/vnd.microsoft.datawrangler.viewer.v0+json": {
       "columns": [
        {
         "name": "index",
         "rawType": "int64",
         "type": "integer"
        },
        {
         "name": "whoscored_team_id",
         "rawType": "int64",
         "type": "integer"
        },
        {
         "name": "team_name",
         "rawType": "object",
         "type": "string"
        }
       ],
       "conversionMethod": "pd.DataFrame",
       "ref": "d9708053-05f4-4686-bd12-e6d02c94a913",
       "rows": [
        [
         "0",
         "32",
         "Manchester United"
        ],
        [
         "1",
         "13",
         "Arsenal"
        ],
        [
         "2",
         "31",
         "Everton"
        ],
        [
         "3",
         "165",
         "Ipswich Town"
        ],
        [
         "4",
         "23",
         "Newcastle United"
        ],
        [
         "5",
         "174",
         "Nottingham Forest"
        ],
        [
         "6",
         "29",
         "West Ham United"
        ],
        [
         "7",
         "189",
         "Brentford"
        ],
        [
         "8",
         "15",
         "Chelsea"
        ],
        [
         "9",
         "14",
         "Leicester City"
        ],
        [
         "10",
         "24",
         "Aston Villa"
        ],
        [
         "11",
         "211",
         "Brighton & Hove Albion"
        ],
        [
         "12",
         "162",
         "Crystal Palace"
        ],
        [
         "13",
         "170",
         "Fulham"
        ],
        [
         "14",
         "167",
         "Manchester City"
        ],
        [
         "15",
         "18",
         "Southampton"
        ],
        [
         "16",
         "30",
         "Tottenham Hotspur"
        ],
        [
         "17",
         "183",
         "AFC Bournemouth"
        ],
        [
         "18",
         "26",
         "Liverpool"
        ],
        [
         "19",
         "161",
         "Wolverhampton Wanderers"
        ],
        [
         "0",
         "53",
         "Athletic Club"
        ],
        [
         "1",
         "54",
         "Real Betis"
        ],
        [
         "2",
         "62",
         "Celta Vigo"
        ],
        [
         "3",
         "838",
         "Las Palmas"
        ],
        [
         "4",
         "131",
         "Osasuna"
        ],
        [
         "5",
         "55",
         "Valencia"
        ],
        [
         "6",
         "51",
         "Mallorca"
        ],
        [
         "7",
         "68",
         "Real Sociedad"
        ],
        [
         "8",
         "58",
         "Real Valladolid"
        ],
        [
         "9",
         "839",
         "Villarreal"
        ],
        [
         "11",
         "67",
         "Sevilla"
        ],
        [
         "12",
         "65",
         "Barcelona"
        ],
        [
         "13",
         "70",
         "Espanyol"
        ],
        [
         "14",
         "819",
         "Getafe"
        ],
        [
         "16",
         "63",
         "Atletico Madrid"
        ],
        [
         "17",
         "60",
         "Deportivo Alaves"
        ],
        [
         "18",
         "825",
         "Leganes"
        ],
        [
         "19",
         "52",
         "Real Madrid"
        ],
        [
         "22",
         "64",
         "Rayo Vallecano"
        ],
        [
         "27",
         "2783",
         "Girona"
        ],
        [
         "0",
         "217",
         "Le Havre"
        ],
        [
         "1",
         "2332",
         "Brest"
        ],
        [
         "2",
         "248",
         "Monaco"
        ],
        [
         "3",
         "950",
         "Reims"
        ],
        [
         "4",
         "614",
         "Angers"
        ],
        [
         "5",
         "308",
         "Auxerre"
        ],
        [
         "6",
         "311",
         "Montpellier"
        ],
        [
         "7",
         "313",
         "Rennes"
        ],
        [
         "8",
         "246",
         "Toulouse"
        ],
        [
         "9",
         "304",
         "Paris Saint-Germain"
        ]
       ],
       "shape": {
        "columns": 2,
        "rows": 132
       }
      },
      "text/html": [
       "<div>\n",
       "<style scoped>\n",
       "    .dataframe tbody tr th:only-of-type {\n",
       "        vertical-align: middle;\n",
       "    }\n",
       "\n",
       "    .dataframe tbody tr th {\n",
       "        vertical-align: top;\n",
       "    }\n",
       "\n",
       "    .dataframe thead th {\n",
       "        text-align: right;\n",
       "    }\n",
       "</style>\n",
       "<table border=\"1\" class=\"dataframe\">\n",
       "  <thead>\n",
       "    <tr style=\"text-align: right;\">\n",
       "      <th></th>\n",
       "      <th>whoscored_team_id</th>\n",
       "      <th>team_name</th>\n",
       "    </tr>\n",
       "  </thead>\n",
       "  <tbody>\n",
       "    <tr>\n",
       "      <th>0</th>\n",
       "      <td>32</td>\n",
       "      <td>Manchester United</td>\n",
       "    </tr>\n",
       "    <tr>\n",
       "      <th>1</th>\n",
       "      <td>13</td>\n",
       "      <td>Arsenal</td>\n",
       "    </tr>\n",
       "    <tr>\n",
       "      <th>2</th>\n",
       "      <td>31</td>\n",
       "      <td>Everton</td>\n",
       "    </tr>\n",
       "    <tr>\n",
       "      <th>3</th>\n",
       "      <td>165</td>\n",
       "      <td>Ipswich Town</td>\n",
       "    </tr>\n",
       "    <tr>\n",
       "      <th>4</th>\n",
       "      <td>23</td>\n",
       "      <td>Newcastle United</td>\n",
       "    </tr>\n",
       "    <tr>\n",
       "      <th>...</th>\n",
       "      <td>...</td>\n",
       "      <td>...</td>\n",
       "    </tr>\n",
       "    <tr>\n",
       "      <th>13</th>\n",
       "      <td>121</td>\n",
       "      <td>Rio Ave</td>\n",
       "    </tr>\n",
       "    <tr>\n",
       "      <th>14</th>\n",
       "      <td>122</td>\n",
       "      <td>Boavista</td>\n",
       "    </tr>\n",
       "    <tr>\n",
       "      <th>15</th>\n",
       "      <td>108</td>\n",
       "      <td>Moreirense</td>\n",
       "    </tr>\n",
       "    <tr>\n",
       "      <th>16</th>\n",
       "      <td>107</td>\n",
       "      <td>Vitoria de Guimaraes</td>\n",
       "    </tr>\n",
       "    <tr>\n",
       "      <th>17</th>\n",
       "      <td>28635</td>\n",
       "      <td>Estrela da Amadora</td>\n",
       "    </tr>\n",
       "  </tbody>\n",
       "</table>\n",
       "<p>132 rows × 2 columns</p>\n",
       "</div>"
      ],
      "text/plain": [
       "    whoscored_team_id             team_name\n",
       "0                  32     Manchester United\n",
       "1                  13               Arsenal\n",
       "2                  31               Everton\n",
       "3                 165          Ipswich Town\n",
       "4                  23      Newcastle United\n",
       "..                ...                   ...\n",
       "13                121               Rio Ave\n",
       "14                122              Boavista\n",
       "15                108            Moreirense\n",
       "16                107  Vitoria de Guimaraes\n",
       "17              28635    Estrela da Amadora\n",
       "\n",
       "[132 rows x 2 columns]"
      ]
     },
     "execution_count": 14,
     "metadata": {},
     "output_type": "execute_result"
    }
   ],
   "source": [
    "final_final_df = ft.standardize_team_names(final_final_df, column=\"team_name\")\n",
    "final_final_df"
   ]
  },
  {
   "cell_type": "code",
   "execution_count": 16,
   "id": "c4f41fc5",
   "metadata": {},
   "outputs": [
    {
     "data": {
      "application/vnd.microsoft.datawrangler.viewer.v0+json": {
       "columns": [
        {
         "name": "index",
         "rawType": "int64",
         "type": "integer"
        },
        {
         "name": "league_name",
         "rawType": "object",
         "type": "string"
        },
        {
         "name": "league_id",
         "rawType": "int64",
         "type": "integer"
        },
        {
         "name": "season_name",
         "rawType": "object",
         "type": "string"
        },
        {
         "name": "season_id",
         "rawType": "int64",
         "type": "integer"
        },
        {
         "name": "match_id",
         "rawType": "int64",
         "type": "integer"
        },
        {
         "name": "team_name",
         "rawType": "object",
         "type": "string"
        },
        {
         "name": "team_id",
         "rawType": "int64",
         "type": "integer"
        },
        {
         "name": "team_color",
         "rawType": "object",
         "type": "string"
        }
       ],
       "conversionMethod": "pd.DataFrame",
       "ref": "2c35e155-ab36-4d4f-a455-cd44b04c7552",
       "rows": [
        [
         "0",
         "Liga Portugal",
         "61",
         "2024/2025",
         "23826",
         "4539021",
         "Sporting CP",
         "9768",
         "#106840"
        ],
        [
         "1",
         "Liga Portugal",
         "61",
         "2024/2025",
         "23826",
         "4539018",
         "AVS Futebol SAD",
         "1889",
         "#AD1922"
        ],
        [
         "2",
         "Liga Portugal",
         "61",
         "2024/2025",
         "23826",
         "4539020",
         "Casa Pia AC",
         "212821",
         "#171717"
        ],
        [
         "3",
         "Liga Portugal",
         "61",
         "2024/2025",
         "23826",
         "4539022",
         "FC Porto",
         "9773",
         "#005898"
        ],
        [
         "4",
         "Liga Portugal",
         "61",
         "2024/2025",
         "23826",
         "4539015",
         "Braga",
         "10264",
         "#D9222A"
        ],
        [
         "5",
         "Liga Portugal",
         "61",
         "2024/2025",
         "23826",
         "4539023",
         "Estoril",
         "7842",
         "#E8D812"
        ],
        [
         "6",
         "Liga Portugal",
         "61",
         "2024/2025",
         "23826",
         "4539019",
         "Famalicao",
         "1634",
         "#232949"
        ],
        [
         "7",
         "Liga Portugal",
         "61",
         "2024/2025",
         "23826",
         "4539017",
         "Farense",
         "6004",
         "#000000"
        ],
        [
         "8",
         "Liga Portugal",
         "61",
         "2024/2025",
         "23826",
         "4539016",
         "Arouca",
         "158085",
         "#E5D302"
        ],
        [
         "9",
         "Premier League",
         "47",
         "2024/2025",
         "23685",
         "4506263",
         "Manchester United",
         "10260",
         "#C70101"
        ],
        [
         "10",
         "Premier League",
         "47",
         "2024/2025",
         "23685",
         "4506265",
         "Arsenal",
         "9825",
         "#bd0510"
        ],
        [
         "11",
         "Premier League",
         "47",
         "2024/2025",
         "23685",
         "4506266",
         "Everton",
         "8668",
         "#0051d6"
        ],
        [
         "12",
         "Premier League",
         "47",
         "2024/2025",
         "23685",
         "4506264",
         "Ipswich Town",
         "9902",
         "#004fc2"
        ],
        [
         "13",
         "Premier League",
         "47",
         "2024/2025",
         "23685",
         "4506267",
         "Newcastle United",
         "10261",
         "#141413"
        ],
        [
         "14",
         "Premier League",
         "47",
         "2024/2025",
         "23685",
         "4506268",
         "Nottingham Forest",
         "10203",
         "#C8102E"
        ],
        [
         "15",
         "Premier League",
         "47",
         "2024/2025",
         "23685",
         "4506269",
         "West Ham United",
         "8654",
         "#8B3249"
        ],
        [
         "16",
         "Premier League",
         "47",
         "2024/2025",
         "23685",
         "4506270",
         "Brentford",
         "9937",
         "#C00808"
        ],
        [
         "17",
         "Premier League",
         "47",
         "2024/2025",
         "23685",
         "4506271",
         "Chelsea",
         "8455",
         "#1E4492"
        ],
        [
         "18",
         "Premier League",
         "47",
         "2024/2025",
         "23685",
         "4506272",
         "Leicester City",
         "8197",
         "#0f55bd"
        ],
        [
         "19",
         "LaLiga",
         "87",
         "2024/2025",
         "23686",
         "4506745",
         "Athletic Club",
         "8315",
         "#E2001A"
        ],
        [
         "20",
         "LaLiga",
         "87",
         "2024/2025",
         "23686",
         "4506746",
         "Real Betis",
         "8603",
         "#009048"
        ],
        [
         "21",
         "LaLiga",
         "87",
         "2024/2025",
         "23686",
         "4506752",
         "Celta Vigo",
         "9910",
         "#6fb5e8"
        ],
        [
         "22",
         "LaLiga",
         "87",
         "2024/2025",
         "23686",
         "4506748",
         "Las Palmas",
         "8306",
         "#FFD700"
        ],
        [
         "23",
         "LaLiga",
         "87",
         "2024/2025",
         "23686",
         "4506753",
         "Osasuna",
         "8371",
         "#af1428"
        ],
        [
         "24",
         "LaLiga",
         "87",
         "2024/2025",
         "23686",
         "4506750",
         "Valencia",
         "10267",
         "#ff9238"
        ],
        [
         "25",
         "LaLiga",
         "87",
         "2024/2025",
         "23686",
         "4506747",
         "Mallorca",
         "8661",
         "#E20613"
        ],
        [
         "26",
         "LaLiga",
         "87",
         "2024/2025",
         "23686",
         "4506751",
         "Real Sociedad",
         "8560",
         "#0056B3"
        ],
        [
         "27",
         "LaLiga",
         "87",
         "2024/2025",
         "23686",
         "4506754",
         "Real Valladolid",
         "10281",
         "#6f3c9c"
        ],
        [
         "28",
         "LaLiga",
         "87",
         "2024/2025",
         "23686",
         "4506749",
         "Villarreal",
         "10205",
         "#FFE715"
        ],
        [
         "29",
         "Ligue 1",
         "53",
         "2024/2025",
         "23724",
         "4513014",
         "Le Havre",
         "9746",
         "#75b5de"
        ],
        [
         "30",
         "Ligue 1",
         "53",
         "2024/2025",
         "23724",
         "4513007",
         "Brest",
         "8521",
         "#ED1C24"
        ],
        [
         "31",
         "Ligue 1",
         "53",
         "2024/2025",
         "23724",
         "4513011",
         "Monaco",
         "9829",
         "#C80C13"
        ],
        [
         "32",
         "Ligue 1",
         "53",
         "2024/2025",
         "23724",
         "4513012",
         "Reims",
         "9837",
         "#FF4C4C"
        ],
        [
         "33",
         "Ligue 1",
         "53",
         "2024/2025",
         "23724",
         "4513010",
         "Angers",
         "8121",
         "#000000"
        ],
        [
         "34",
         "Ligue 1",
         "53",
         "2024/2025",
         "23724",
         "4513013",
         "Auxerre",
         "8583",
         "#055DC6"
        ],
        [
         "35",
         "Ligue 1",
         "53",
         "2024/2025",
         "23724",
         "4513008",
         "Montpellier",
         "10249",
         "#4967a6"
        ],
        [
         "36",
         "Ligue 1",
         "53",
         "2024/2025",
         "23724",
         "4513015",
         "Rennes",
         "9851",
         "#E13327"
        ],
        [
         "37",
         "Ligue 1",
         "53",
         "2024/2025",
         "23724",
         "4513009",
         "Toulouse",
         "9941",
         "#7b5f99"
        ],
        [
         "38",
         "Bundesliga",
         "54",
         "2024/2025",
         "23794",
         "4534540",
         "Borussia Mönchengladbach",
         "9788",
         "#FFFFFF"
        ],
        [
         "39",
         "Bundesliga",
         "54",
         "2024/2025",
         "23794",
         "4534545",
         "Augsburg",
         "8406",
         "#B93733"
        ],
        [
         "40",
         "Bundesliga",
         "54",
         "2024/2025",
         "23794",
         "4534541",
         "Borussia Dortmund",
         "9789",
         "#FFD900"
        ],
        [
         "41",
         "Bundesliga",
         "54",
         "2024/2025",
         "23794",
         "4534544",
         "Freiburg",
         "8358",
         "#BD1C2C"
        ],
        [
         "42",
         "Bundesliga",
         "54",
         "2024/2025",
         "23794",
         "4534543",
         "Hoffenheim",
         "8226",
         "#0057a3"
        ],
        [
         "43",
         "Bundesliga",
         "54",
         "2024/2025",
         "23794",
         "4534547",
         "Mainz 05",
         "9905",
         "#B8121C"
        ],
        [
         "44",
         "Bundesliga",
         "54",
         "2024/2025",
         "23794",
         "4534542",
         "RB Leipzig",
         "178475",
         "#FFFFFF"
        ],
        [
         "45",
         "Bundesliga",
         "54",
         "2024/2025",
         "23794",
         "4534548",
         "St. Pauli",
         "8152",
         "#804c37"
        ],
        [
         "46",
         "Bundesliga",
         "54",
         "2024/2025",
         "23794",
         "4534546",
         "Wolfsburg",
         "8721",
         "#51A600"
        ],
        [
         "47",
         "Serie A",
         "55",
         "2024/2025",
         "23819",
         "4535246",
         "Empoli",
         "8534",
         "#0767e5"
        ],
        [
         "48",
         "Serie A",
         "55",
         "2024/2025",
         "23819",
         "4535247",
         "Genoa",
         "10233",
         "#CB1111"
        ],
        [
         "49",
         "Serie A",
         "55",
         "2024/2025",
         "23819",
         "4535252",
         "Milan",
         "8564",
         "#CF2C27"
        ]
       ],
       "shape": {
        "columns": 8,
        "rows": 132
       }
      },
      "text/html": [
       "<div>\n",
       "<style scoped>\n",
       "    .dataframe tbody tr th:only-of-type {\n",
       "        vertical-align: middle;\n",
       "    }\n",
       "\n",
       "    .dataframe tbody tr th {\n",
       "        vertical-align: top;\n",
       "    }\n",
       "\n",
       "    .dataframe thead th {\n",
       "        text-align: right;\n",
       "    }\n",
       "</style>\n",
       "<table border=\"1\" class=\"dataframe\">\n",
       "  <thead>\n",
       "    <tr style=\"text-align: right;\">\n",
       "      <th></th>\n",
       "      <th>league_name</th>\n",
       "      <th>league_id</th>\n",
       "      <th>season_name</th>\n",
       "      <th>season_id</th>\n",
       "      <th>match_id</th>\n",
       "      <th>team_name</th>\n",
       "      <th>team_id</th>\n",
       "      <th>team_color</th>\n",
       "    </tr>\n",
       "  </thead>\n",
       "  <tbody>\n",
       "    <tr>\n",
       "      <th>0</th>\n",
       "      <td>Liga Portugal</td>\n",
       "      <td>61</td>\n",
       "      <td>2024/2025</td>\n",
       "      <td>23826</td>\n",
       "      <td>4539021</td>\n",
       "      <td>Sporting CP</td>\n",
       "      <td>9768</td>\n",
       "      <td>#106840</td>\n",
       "    </tr>\n",
       "    <tr>\n",
       "      <th>1</th>\n",
       "      <td>Liga Portugal</td>\n",
       "      <td>61</td>\n",
       "      <td>2024/2025</td>\n",
       "      <td>23826</td>\n",
       "      <td>4539018</td>\n",
       "      <td>AVS Futebol SAD</td>\n",
       "      <td>1889</td>\n",
       "      <td>#AD1922</td>\n",
       "    </tr>\n",
       "    <tr>\n",
       "      <th>2</th>\n",
       "      <td>Liga Portugal</td>\n",
       "      <td>61</td>\n",
       "      <td>2024/2025</td>\n",
       "      <td>23826</td>\n",
       "      <td>4539020</td>\n",
       "      <td>Casa Pia AC</td>\n",
       "      <td>212821</td>\n",
       "      <td>#171717</td>\n",
       "    </tr>\n",
       "    <tr>\n",
       "      <th>3</th>\n",
       "      <td>Liga Portugal</td>\n",
       "      <td>61</td>\n",
       "      <td>2024/2025</td>\n",
       "      <td>23826</td>\n",
       "      <td>4539022</td>\n",
       "      <td>FC Porto</td>\n",
       "      <td>9773</td>\n",
       "      <td>#005898</td>\n",
       "    </tr>\n",
       "    <tr>\n",
       "      <th>4</th>\n",
       "      <td>Liga Portugal</td>\n",
       "      <td>61</td>\n",
       "      <td>2024/2025</td>\n",
       "      <td>23826</td>\n",
       "      <td>4539015</td>\n",
       "      <td>Braga</td>\n",
       "      <td>10264</td>\n",
       "      <td>#D9222A</td>\n",
       "    </tr>\n",
       "    <tr>\n",
       "      <th>...</th>\n",
       "      <td>...</td>\n",
       "      <td>...</td>\n",
       "      <td>...</td>\n",
       "      <td>...</td>\n",
       "      <td>...</td>\n",
       "      <td>...</td>\n",
       "      <td>...</td>\n",
       "      <td>...</td>\n",
       "    </tr>\n",
       "    <tr>\n",
       "      <th>127</th>\n",
       "      <td>Eredivisie</td>\n",
       "      <td>892939</td>\n",
       "      <td>2024/2025</td>\n",
       "      <td>23691</td>\n",
       "      <td>4507643</td>\n",
       "      <td>RKC Waalwijk</td>\n",
       "      <td>10219</td>\n",
       "      <td>#FBE100</td>\n",
       "    </tr>\n",
       "    <tr>\n",
       "      <th>128</th>\n",
       "      <td>Eredivisie</td>\n",
       "      <td>892939</td>\n",
       "      <td>2024/2025</td>\n",
       "      <td>23691</td>\n",
       "      <td>4507647</td>\n",
       "      <td>SC Heerenveen</td>\n",
       "      <td>10228</td>\n",
       "      <td>#1053a4</td>\n",
       "    </tr>\n",
       "    <tr>\n",
       "      <th>129</th>\n",
       "      <td>Eredivisie</td>\n",
       "      <td>892939</td>\n",
       "      <td>2024/2025</td>\n",
       "      <td>23691</td>\n",
       "      <td>4507642</td>\n",
       "      <td>PEC Zwolle</td>\n",
       "      <td>6413</td>\n",
       "      <td>#0154A1</td>\n",
       "    </tr>\n",
       "    <tr>\n",
       "      <th>130</th>\n",
       "      <td>Eredivisie</td>\n",
       "      <td>892939</td>\n",
       "      <td>2024/2025</td>\n",
       "      <td>23691</td>\n",
       "      <td>4507646</td>\n",
       "      <td>Fortuna Sittard</td>\n",
       "      <td>6422</td>\n",
       "      <td>#FFE21C</td>\n",
       "    </tr>\n",
       "    <tr>\n",
       "      <th>131</th>\n",
       "      <td>Eredivisie</td>\n",
       "      <td>892939</td>\n",
       "      <td>2024/2025</td>\n",
       "      <td>23691</td>\n",
       "      <td>4507644</td>\n",
       "      <td>Heracles</td>\n",
       "      <td>9791</td>\n",
       "      <td>#000000</td>\n",
       "    </tr>\n",
       "  </tbody>\n",
       "</table>\n",
       "<p>132 rows × 8 columns</p>\n",
       "</div>"
      ],
      "text/plain": [
       "       league_name  league_id season_name  season_id  match_id  \\\n",
       "0    Liga Portugal         61   2024/2025      23826   4539021   \n",
       "1    Liga Portugal         61   2024/2025      23826   4539018   \n",
       "2    Liga Portugal         61   2024/2025      23826   4539020   \n",
       "3    Liga Portugal         61   2024/2025      23826   4539022   \n",
       "4    Liga Portugal         61   2024/2025      23826   4539015   \n",
       "..             ...        ...         ...        ...       ...   \n",
       "127     Eredivisie     892939   2024/2025      23691   4507643   \n",
       "128     Eredivisie     892939   2024/2025      23691   4507647   \n",
       "129     Eredivisie     892939   2024/2025      23691   4507642   \n",
       "130     Eredivisie     892939   2024/2025      23691   4507646   \n",
       "131     Eredivisie     892939   2024/2025      23691   4507644   \n",
       "\n",
       "           team_name  team_id team_color  \n",
       "0        Sporting CP     9768    #106840  \n",
       "1    AVS Futebol SAD     1889    #AD1922  \n",
       "2        Casa Pia AC   212821    #171717  \n",
       "3           FC Porto     9773    #005898  \n",
       "4              Braga    10264    #D9222A  \n",
       "..               ...      ...        ...  \n",
       "127     RKC Waalwijk    10219    #FBE100  \n",
       "128    SC Heerenveen    10228    #1053a4  \n",
       "129       PEC Zwolle     6413    #0154A1  \n",
       "130  Fortuna Sittard     6422    #FFE21C  \n",
       "131         Heracles     9791    #000000  \n",
       "\n",
       "[132 rows x 8 columns]"
      ]
     },
     "execution_count": 16,
     "metadata": {},
     "output_type": "execute_result"
    }
   ],
   "source": [
    "tmc=ft.standardize_team_names(tmc, column=\"team_name\")\n",
    "tmc"
   ]
  },
  {
   "cell_type": "markdown",
   "id": "76fab0ee",
   "metadata": {},
   "source": [
    "Now we bring all the data together into one df and save it as a csv (you may chose a different file type to save it)."
   ]
  },
  {
   "cell_type": "code",
   "execution_count": 20,
   "id": "8a307271",
   "metadata": {},
   "outputs": [
    {
     "data": {
      "application/vnd.microsoft.datawrangler.viewer.v0+json": {
       "columns": [
        {
         "name": "index",
         "rawType": "int64",
         "type": "integer"
        },
        {
         "name": "league_name",
         "rawType": "object",
         "type": "string"
        },
        {
         "name": "league_id",
         "rawType": "int64",
         "type": "integer"
        },
        {
         "name": "season_name",
         "rawType": "object",
         "type": "string"
        },
        {
         "name": "season_id",
         "rawType": "int64",
         "type": "integer"
        },
        {
         "name": "match_id",
         "rawType": "int64",
         "type": "integer"
        },
        {
         "name": "team_name",
         "rawType": "object",
         "type": "string"
        },
        {
         "name": "fotmob_team_id",
         "rawType": "int64",
         "type": "integer"
        },
        {
         "name": "team_color",
         "rawType": "object",
         "type": "string"
        },
        {
         "name": "team_id",
         "rawType": "int64",
         "type": "integer"
        }
       ],
       "conversionMethod": "pd.DataFrame",
       "ref": "82d738ea-9fd0-4441-9087-7bc3201278a1",
       "rows": [
        [
         "0",
         "Liga Portugal",
         "61",
         "2024/2025",
         "23826",
         "4539021",
         "Sporting CP",
         "9768",
         "#106840",
         "296"
        ],
        [
         "1",
         "Liga Portugal",
         "61",
         "2024/2025",
         "23826",
         "4539018",
         "AVS Futebol SAD",
         "1889",
         "#AD1922",
         "2343"
        ],
        [
         "2",
         "Liga Portugal",
         "61",
         "2024/2025",
         "23826",
         "4539020",
         "Casa Pia AC",
         "212821",
         "#171717",
         "9509"
        ],
        [
         "3",
         "Liga Portugal",
         "61",
         "2024/2025",
         "23826",
         "4539022",
         "FC Porto",
         "9773",
         "#005898",
         "297"
        ],
        [
         "4",
         "Liga Portugal",
         "61",
         "2024/2025",
         "23826",
         "4539015",
         "Braga",
         "10264",
         "#D9222A",
         "288"
        ],
        [
         "5",
         "Liga Portugal",
         "61",
         "2024/2025",
         "23826",
         "4539023",
         "Estoril",
         "7842",
         "#E8D812",
         "2188"
        ],
        [
         "6",
         "Liga Portugal",
         "61",
         "2024/2025",
         "23826",
         "4539019",
         "Famalicao",
         "1634",
         "#232949",
         "935"
        ],
        [
         "7",
         "Liga Portugal",
         "61",
         "2024/2025",
         "23826",
         "4539017",
         "Farense",
         "6004",
         "#000000",
         "263"
        ],
        [
         "8",
         "Liga Portugal",
         "61",
         "2024/2025",
         "23826",
         "4539016",
         "Arouca",
         "158085",
         "#E5D302",
         "5948"
        ],
        [
         "9",
         "Premier League",
         "47",
         "2024/2025",
         "23685",
         "4506263",
         "Manchester United",
         "10260",
         "#C70101",
         "32"
        ],
        [
         "10",
         "Premier League",
         "47",
         "2024/2025",
         "23685",
         "4506265",
         "Arsenal",
         "9825",
         "#bd0510",
         "13"
        ],
        [
         "11",
         "Premier League",
         "47",
         "2024/2025",
         "23685",
         "4506266",
         "Everton",
         "8668",
         "#0051d6",
         "31"
        ],
        [
         "12",
         "Premier League",
         "47",
         "2024/2025",
         "23685",
         "4506264",
         "Ipswich Town",
         "9902",
         "#004fc2",
         "165"
        ],
        [
         "13",
         "Premier League",
         "47",
         "2024/2025",
         "23685",
         "4506267",
         "Newcastle United",
         "10261",
         "#141413",
         "23"
        ],
        [
         "14",
         "Premier League",
         "47",
         "2024/2025",
         "23685",
         "4506268",
         "Nottingham Forest",
         "10203",
         "#C8102E",
         "174"
        ],
        [
         "15",
         "Premier League",
         "47",
         "2024/2025",
         "23685",
         "4506269",
         "West Ham United",
         "8654",
         "#8B3249",
         "29"
        ],
        [
         "16",
         "Premier League",
         "47",
         "2024/2025",
         "23685",
         "4506270",
         "Brentford",
         "9937",
         "#C00808",
         "189"
        ],
        [
         "17",
         "Premier League",
         "47",
         "2024/2025",
         "23685",
         "4506271",
         "Chelsea",
         "8455",
         "#1E4492",
         "15"
        ],
        [
         "18",
         "Premier League",
         "47",
         "2024/2025",
         "23685",
         "4506272",
         "Leicester City",
         "8197",
         "#0f55bd",
         "14"
        ],
        [
         "19",
         "LaLiga",
         "87",
         "2024/2025",
         "23686",
         "4506745",
         "Athletic Club",
         "8315",
         "#E2001A",
         "53"
        ],
        [
         "20",
         "LaLiga",
         "87",
         "2024/2025",
         "23686",
         "4506746",
         "Real Betis",
         "8603",
         "#009048",
         "54"
        ],
        [
         "21",
         "LaLiga",
         "87",
         "2024/2025",
         "23686",
         "4506752",
         "Celta Vigo",
         "9910",
         "#6fb5e8",
         "62"
        ],
        [
         "22",
         "LaLiga",
         "87",
         "2024/2025",
         "23686",
         "4506748",
         "Las Palmas",
         "8306",
         "#FFD700",
         "838"
        ],
        [
         "23",
         "LaLiga",
         "87",
         "2024/2025",
         "23686",
         "4506753",
         "Osasuna",
         "8371",
         "#af1428",
         "131"
        ],
        [
         "24",
         "LaLiga",
         "87",
         "2024/2025",
         "23686",
         "4506750",
         "Valencia",
         "10267",
         "#ff9238",
         "55"
        ],
        [
         "25",
         "LaLiga",
         "87",
         "2024/2025",
         "23686",
         "4506747",
         "Mallorca",
         "8661",
         "#E20613",
         "51"
        ],
        [
         "26",
         "LaLiga",
         "87",
         "2024/2025",
         "23686",
         "4506751",
         "Real Sociedad",
         "8560",
         "#0056B3",
         "68"
        ],
        [
         "27",
         "LaLiga",
         "87",
         "2024/2025",
         "23686",
         "4506754",
         "Real Valladolid",
         "10281",
         "#6f3c9c",
         "58"
        ],
        [
         "28",
         "LaLiga",
         "87",
         "2024/2025",
         "23686",
         "4506749",
         "Villarreal",
         "10205",
         "#FFE715",
         "839"
        ],
        [
         "29",
         "Ligue 1",
         "53",
         "2024/2025",
         "23724",
         "4513014",
         "Le Havre",
         "9746",
         "#75b5de",
         "217"
        ],
        [
         "30",
         "Ligue 1",
         "53",
         "2024/2025",
         "23724",
         "4513007",
         "Brest",
         "8521",
         "#ED1C24",
         "2332"
        ],
        [
         "31",
         "Ligue 1",
         "53",
         "2024/2025",
         "23724",
         "4513011",
         "Monaco",
         "9829",
         "#C80C13",
         "248"
        ],
        [
         "32",
         "Ligue 1",
         "53",
         "2024/2025",
         "23724",
         "4513012",
         "Reims",
         "9837",
         "#FF4C4C",
         "950"
        ],
        [
         "33",
         "Ligue 1",
         "53",
         "2024/2025",
         "23724",
         "4513010",
         "Angers",
         "8121",
         "#000000",
         "614"
        ],
        [
         "34",
         "Ligue 1",
         "53",
         "2024/2025",
         "23724",
         "4513013",
         "Auxerre",
         "8583",
         "#055DC6",
         "308"
        ],
        [
         "35",
         "Ligue 1",
         "53",
         "2024/2025",
         "23724",
         "4513008",
         "Montpellier",
         "10249",
         "#4967a6",
         "311"
        ],
        [
         "36",
         "Ligue 1",
         "53",
         "2024/2025",
         "23724",
         "4513015",
         "Rennes",
         "9851",
         "#E13327",
         "313"
        ],
        [
         "37",
         "Ligue 1",
         "53",
         "2024/2025",
         "23724",
         "4513009",
         "Toulouse",
         "9941",
         "#7b5f99",
         "246"
        ],
        [
         "38",
         "Bundesliga",
         "54",
         "2024/2025",
         "23794",
         "4534540",
         "Borussia Mönchengladbach",
         "9788",
         "#FFFFFF",
         "134"
        ],
        [
         "39",
         "Bundesliga",
         "54",
         "2024/2025",
         "23794",
         "4534545",
         "Augsburg",
         "8406",
         "#B93733",
         "1730"
        ],
        [
         "40",
         "Bundesliga",
         "54",
         "2024/2025",
         "23794",
         "4534541",
         "Borussia Dortmund",
         "9789",
         "#FFD900",
         "44"
        ],
        [
         "41",
         "Bundesliga",
         "54",
         "2024/2025",
         "23794",
         "4534544",
         "Freiburg",
         "8358",
         "#BD1C2C",
         "50"
        ],
        [
         "42",
         "Bundesliga",
         "54",
         "2024/2025",
         "23794",
         "4534543",
         "Hoffenheim",
         "8226",
         "#0057a3",
         "1211"
        ],
        [
         "43",
         "Bundesliga",
         "54",
         "2024/2025",
         "23794",
         "4534547",
         "Mainz 05",
         "9905",
         "#B8121C",
         "219"
        ],
        [
         "44",
         "Bundesliga",
         "54",
         "2024/2025",
         "23794",
         "4534542",
         "RB Leipzig",
         "178475",
         "#FFFFFF",
         "7614"
        ],
        [
         "45",
         "Bundesliga",
         "54",
         "2024/2025",
         "23794",
         "4534548",
         "St. Pauli",
         "8152",
         "#804c37",
         "283"
        ],
        [
         "46",
         "Bundesliga",
         "54",
         "2024/2025",
         "23794",
         "4534546",
         "Wolfsburg",
         "8721",
         "#51A600",
         "33"
        ],
        [
         "47",
         "Serie A",
         "55",
         "2024/2025",
         "23819",
         "4535246",
         "Empoli",
         "8534",
         "#0767e5",
         "272"
        ],
        [
         "48",
         "Serie A",
         "55",
         "2024/2025",
         "23819",
         "4535247",
         "Genoa",
         "10233",
         "#CB1111",
         "278"
        ],
        [
         "49",
         "Serie A",
         "55",
         "2024/2025",
         "23819",
         "4535252",
         "Milan",
         "8564",
         "#CF2C27",
         "80"
        ]
       ],
       "shape": {
        "columns": 9,
        "rows": 132
       }
      },
      "text/html": [
       "<div>\n",
       "<style scoped>\n",
       "    .dataframe tbody tr th:only-of-type {\n",
       "        vertical-align: middle;\n",
       "    }\n",
       "\n",
       "    .dataframe tbody tr th {\n",
       "        vertical-align: top;\n",
       "    }\n",
       "\n",
       "    .dataframe thead th {\n",
       "        text-align: right;\n",
       "    }\n",
       "</style>\n",
       "<table border=\"1\" class=\"dataframe\">\n",
       "  <thead>\n",
       "    <tr style=\"text-align: right;\">\n",
       "      <th></th>\n",
       "      <th>league_name</th>\n",
       "      <th>league_id</th>\n",
       "      <th>season_name</th>\n",
       "      <th>season_id</th>\n",
       "      <th>match_id</th>\n",
       "      <th>team_name</th>\n",
       "      <th>fotmob_team_id</th>\n",
       "      <th>team_color</th>\n",
       "      <th>team_id</th>\n",
       "    </tr>\n",
       "  </thead>\n",
       "  <tbody>\n",
       "    <tr>\n",
       "      <th>0</th>\n",
       "      <td>Liga Portugal</td>\n",
       "      <td>61</td>\n",
       "      <td>2024/2025</td>\n",
       "      <td>23826</td>\n",
       "      <td>4539021</td>\n",
       "      <td>Sporting CP</td>\n",
       "      <td>9768</td>\n",
       "      <td>#106840</td>\n",
       "      <td>296</td>\n",
       "    </tr>\n",
       "    <tr>\n",
       "      <th>1</th>\n",
       "      <td>Liga Portugal</td>\n",
       "      <td>61</td>\n",
       "      <td>2024/2025</td>\n",
       "      <td>23826</td>\n",
       "      <td>4539018</td>\n",
       "      <td>AVS Futebol SAD</td>\n",
       "      <td>1889</td>\n",
       "      <td>#AD1922</td>\n",
       "      <td>2343</td>\n",
       "    </tr>\n",
       "    <tr>\n",
       "      <th>2</th>\n",
       "      <td>Liga Portugal</td>\n",
       "      <td>61</td>\n",
       "      <td>2024/2025</td>\n",
       "      <td>23826</td>\n",
       "      <td>4539020</td>\n",
       "      <td>Casa Pia AC</td>\n",
       "      <td>212821</td>\n",
       "      <td>#171717</td>\n",
       "      <td>9509</td>\n",
       "    </tr>\n",
       "    <tr>\n",
       "      <th>3</th>\n",
       "      <td>Liga Portugal</td>\n",
       "      <td>61</td>\n",
       "      <td>2024/2025</td>\n",
       "      <td>23826</td>\n",
       "      <td>4539022</td>\n",
       "      <td>FC Porto</td>\n",
       "      <td>9773</td>\n",
       "      <td>#005898</td>\n",
       "      <td>297</td>\n",
       "    </tr>\n",
       "    <tr>\n",
       "      <th>4</th>\n",
       "      <td>Liga Portugal</td>\n",
       "      <td>61</td>\n",
       "      <td>2024/2025</td>\n",
       "      <td>23826</td>\n",
       "      <td>4539015</td>\n",
       "      <td>Braga</td>\n",
       "      <td>10264</td>\n",
       "      <td>#D9222A</td>\n",
       "      <td>288</td>\n",
       "    </tr>\n",
       "    <tr>\n",
       "      <th>...</th>\n",
       "      <td>...</td>\n",
       "      <td>...</td>\n",
       "      <td>...</td>\n",
       "      <td>...</td>\n",
       "      <td>...</td>\n",
       "      <td>...</td>\n",
       "      <td>...</td>\n",
       "      <td>...</td>\n",
       "      <td>...</td>\n",
       "    </tr>\n",
       "    <tr>\n",
       "      <th>127</th>\n",
       "      <td>Eredivisie</td>\n",
       "      <td>892939</td>\n",
       "      <td>2024/2025</td>\n",
       "      <td>23691</td>\n",
       "      <td>4507643</td>\n",
       "      <td>RKC Waalwijk</td>\n",
       "      <td>10219</td>\n",
       "      <td>#FBE100</td>\n",
       "      <td>114</td>\n",
       "    </tr>\n",
       "    <tr>\n",
       "      <th>128</th>\n",
       "      <td>Eredivisie</td>\n",
       "      <td>892939</td>\n",
       "      <td>2024/2025</td>\n",
       "      <td>23691</td>\n",
       "      <td>4507647</td>\n",
       "      <td>SC Heerenveen</td>\n",
       "      <td>10228</td>\n",
       "      <td>#1053a4</td>\n",
       "      <td>287</td>\n",
       "    </tr>\n",
       "    <tr>\n",
       "      <th>129</th>\n",
       "      <td>Eredivisie</td>\n",
       "      <td>892939</td>\n",
       "      <td>2024/2025</td>\n",
       "      <td>23691</td>\n",
       "      <td>4507642</td>\n",
       "      <td>PEC Zwolle</td>\n",
       "      <td>6413</td>\n",
       "      <td>#0154A1</td>\n",
       "      <td>868</td>\n",
       "    </tr>\n",
       "    <tr>\n",
       "      <th>130</th>\n",
       "      <td>Eredivisie</td>\n",
       "      <td>892939</td>\n",
       "      <td>2024/2025</td>\n",
       "      <td>23691</td>\n",
       "      <td>4507646</td>\n",
       "      <td>Fortuna Sittard</td>\n",
       "      <td>6422</td>\n",
       "      <td>#FFE21C</td>\n",
       "      <td>242</td>\n",
       "    </tr>\n",
       "    <tr>\n",
       "      <th>131</th>\n",
       "      <td>Eredivisie</td>\n",
       "      <td>892939</td>\n",
       "      <td>2024/2025</td>\n",
       "      <td>23691</td>\n",
       "      <td>4507644</td>\n",
       "      <td>Heracles</td>\n",
       "      <td>9791</td>\n",
       "      <td>#000000</td>\n",
       "      <td>870</td>\n",
       "    </tr>\n",
       "  </tbody>\n",
       "</table>\n",
       "<p>132 rows × 9 columns</p>\n",
       "</div>"
      ],
      "text/plain": [
       "       league_name  league_id season_name  season_id  match_id  \\\n",
       "0    Liga Portugal         61   2024/2025      23826   4539021   \n",
       "1    Liga Portugal         61   2024/2025      23826   4539018   \n",
       "2    Liga Portugal         61   2024/2025      23826   4539020   \n",
       "3    Liga Portugal         61   2024/2025      23826   4539022   \n",
       "4    Liga Portugal         61   2024/2025      23826   4539015   \n",
       "..             ...        ...         ...        ...       ...   \n",
       "127     Eredivisie     892939   2024/2025      23691   4507643   \n",
       "128     Eredivisie     892939   2024/2025      23691   4507647   \n",
       "129     Eredivisie     892939   2024/2025      23691   4507642   \n",
       "130     Eredivisie     892939   2024/2025      23691   4507646   \n",
       "131     Eredivisie     892939   2024/2025      23691   4507644   \n",
       "\n",
       "           team_name  fotmob_team_id team_color  team_id  \n",
       "0        Sporting CP            9768    #106840      296  \n",
       "1    AVS Futebol SAD            1889    #AD1922     2343  \n",
       "2        Casa Pia AC          212821    #171717     9509  \n",
       "3           FC Porto            9773    #005898      297  \n",
       "4              Braga           10264    #D9222A      288  \n",
       "..               ...             ...        ...      ...  \n",
       "127     RKC Waalwijk           10219    #FBE100      114  \n",
       "128    SC Heerenveen           10228    #1053a4      287  \n",
       "129       PEC Zwolle            6413    #0154A1      868  \n",
       "130  Fortuna Sittard            6422    #FFE21C      242  \n",
       "131         Heracles            9791    #000000      870  \n",
       "\n",
       "[132 rows x 9 columns]"
      ]
     },
     "execution_count": 20,
     "metadata": {},
     "output_type": "execute_result"
    }
   ],
   "source": [
    "final_final_final_df=pd.merge(\n",
    "    tmc,\n",
    "    final_final_df,\n",
    "    on='team_name',\n",
    "    how='left',\n",
    ")\n",
    "final_final_final_df\n",
    "final_final_final_df=final_final_final_df.rename(columns={'team_id': 'fotmob_team_id', \"whoscored_team_id\": 'team_id'})\n",
    "final_final_final_df"
   ]
  },
  {
   "cell_type": "code",
   "execution_count": null,
   "id": "7a58b715",
   "metadata": {},
   "outputs": [],
   "source": [
    "final_final_final_df.to_csv(r\"C:\\Users\\Vitor\\Desktop\\Football Data Analytics\\My_Projects\\Analysis Tools\\Mapping_team_name_and_colors.csv\", index=False) # change path as needed."
   ]
  }
 ],
 "metadata": {
  "kernelspec": {
   "display_name": "Python 3",
   "language": "python",
   "name": "python3"
  },
  "language_info": {
   "codemirror_mode": {
    "name": "ipython",
    "version": 3
   },
   "file_extension": ".py",
   "mimetype": "text/x-python",
   "name": "python",
   "nbconvert_exporter": "python",
   "pygments_lexer": "ipython3",
   "version": "3.11.7"
  }
 },
 "nbformat": 4,
 "nbformat_minor": 5
}
